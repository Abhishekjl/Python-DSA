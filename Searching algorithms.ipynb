{
 "cells": [
  {
   "cell_type": "code",
   "execution_count": 2,
   "metadata": {},
   "outputs": [],
   "source": [
    "def binarySearch(array, key):\n",
    "    start = 0\n",
    "    end = len(array)-1\n",
    "    while start<=end:\n",
    "        middle = (start+end)//2\n",
    "\n",
    "        if key == array[middle]:\n",
    "            return f'key found at {middle}'\n",
    "        if key < array[middle]:\n",
    "            end = middle-1\n",
    "        elif key> array[middle]:\n",
    "            start = middle + 1\n",
    "    \n",
    "    return \"Key not Found\""
   ]
  },
  {
   "cell_type": "code",
   "execution_count": 3,
   "metadata": {},
   "outputs": [
    {
     "data": {
      "text/plain": [
       "'key found at 3'"
      ]
     },
     "execution_count": 3,
     "metadata": {},
     "output_type": "execute_result"
    }
   ],
   "source": [
    "binarySearch([-1,78,-44,35,78],35)"
   ]
  },
  {
   "cell_type": "markdown",
   "metadata": {},
   "source": [
    "### Recursive Binary Search"
   ]
  },
  {
   "cell_type": "code",
   "execution_count": 24,
   "metadata": {},
   "outputs": [
    {
     "data": {
      "text/plain": [
       "4"
      ]
     },
     "execution_count": 24,
     "metadata": {},
     "output_type": "execute_result"
    }
   ],
   "source": [
    "def binarySearch(a,start, end , key):\n",
    "    \n",
    "    if start> end:\n",
    "        return -1\n",
    "    \n",
    "    mid = (start+end)//2\n",
    "    if a[mid] == key:\n",
    "        return mid\n",
    "    elif a[mid] > key:\n",
    "        return binarySearch(a,start, mid-1, key)\n",
    "    elif a[mid] < key:\n",
    "        return binarySearch(a,mid+1, end, key)\n",
    "    \n",
    "\n",
    "a = [-1,78,-44,35,78]\n",
    "binarySearch(a,0, len(a)-1,78)"
   ]
  },
  {
   "cell_type": "code",
   "execution_count": 50,
   "metadata": {},
   "outputs": [
    {
     "data": {
      "text/plain": [
       "4"
      ]
     },
     "execution_count": 50,
     "metadata": {},
     "output_type": "execute_result"
    }
   ],
   "source": [
    "# find the first occurence of sorted array element using binary search \n",
    "def firstSearch(a,start, end , key):\n",
    "    \n",
    "    if start> end:\n",
    "        return -1\n",
    "    \n",
    "    mid = (start+end)//2\n",
    "    \n",
    "    \n",
    "    if a[mid] > key:\n",
    "        return firstSearch(a,start, mid-1, key)\n",
    "    elif a[mid] < key:\n",
    "        return firstSearch(a,mid+1, end, key)\n",
    "    else:\n",
    "        if (mid == 0) or (a[mid-1] != a[mid]):\n",
    "            return mid\n",
    "        else:\n",
    "            return firstSearch(a,start,mid-1,key)\n",
    "   \n",
    "\n",
    "    ### iterative solution\n",
    "def firstSearch(array, key):\n",
    "    start = 0\n",
    "    end = len(array)-1\n",
    "    while start<=end:\n",
    "        middle = (start+end)//2\n",
    "        if key < array[middle]:\n",
    "            end = middle-1\n",
    "        elif key> array[middle]:\n",
    "            start = middle + 1\n",
    "            \n",
    "        else:\n",
    "            if (middle == 0) or (a[middle-1]!= a[middle]):\n",
    "                return middle\n",
    "            else:\n",
    "                end = middle - 1 \n",
    "    \n",
    "    return \"Key not Found\"    \n",
    "\n",
    "        \n",
    "a = [-44,-44,-44,-1,78,78,78]\n",
    "# firstSearch(a,0, len(a)-1,78)\n",
    "firstSearch(a, 78)"
   ]
  },
  {
   "cell_type": "code",
   "execution_count": 60,
   "metadata": {},
   "outputs": [
    {
     "data": {
      "text/plain": [
       "7"
      ]
     },
     "execution_count": 60,
     "metadata": {},
     "output_type": "execute_result"
    }
   ],
   "source": [
    "### index of the last occurence \n",
    "a = [-44,-44,-44,-1,78,78,78,78]\n",
    "\n",
    "def last_search(array, key):\n",
    "    start = 0\n",
    "    end = len(array)-1\n",
    "    while start<=end:\n",
    "        middle = (start+end)//2\n",
    "        if key < array[middle]:\n",
    "            end = middle-1\n",
    "        elif key> array[middle]:\n",
    "            start = middle + 1\n",
    "        else: # at this point we are standing at a[mid] == key\n",
    "            if (middle == len(array)-1) or (array[middle] != array[middle+1]):\n",
    "                return middle\n",
    "            else: \n",
    "                start = middle + 1\n",
    "last_search(a, 78)\n",
    "                \n",
    "### recursive last_occurence \n",
    "def lastSearch(a,start, end , key):\n",
    "    \n",
    "    if start> end:\n",
    "        return -1\n",
    "    \n",
    "    mid = (start+end)//2\n",
    "    \n",
    "    \n",
    "    if a[mid] > key:\n",
    "        return lastSearch(a,start, mid-1, key)\n",
    "    elif a[mid] < key:\n",
    "        return lastSearch(a,mid+1, end, key)\n",
    "    else:\n",
    "        if (mid == len(a)-1) or (a[mid] != a[mid+1]):\n",
    "            return mid\n",
    "        else:\n",
    "            return lastSearch(a,mid+1,end,key)\n",
    "\n",
    "lastSearch(a, 0, len(a)-1, 78)\n",
    "            \n",
    "    "
   ]
  },
  {
   "cell_type": "code",
   "execution_count": 66,
   "metadata": {},
   "outputs": [
    {
     "data": {
      "text/plain": [
       "{10: 1, 20: 3, 30: 2}"
      ]
     },
     "execution_count": 66,
     "metadata": {},
     "output_type": "execute_result"
    }
   ],
   "source": [
    "### count occurence in a sorted array\n",
    "a = [10,20,20,20,30,30]\n",
    "def count_(a):\n",
    "    score = {}\n",
    "    for i in a:\n",
    "        if i not in score:\n",
    "            score[i] = 1\n",
    "        elif i in score:\n",
    "            score[i]+=1\n",
    "    return score\n",
    "            \n",
    "count_(a)\n",
    "            "
   ]
  },
  {
   "cell_type": "markdown",
   "metadata": {},
   "source": [
    "#### finding the square root using binary search \n"
   ]
  },
  {
   "cell_type": "code",
   "execution_count": 69,
   "metadata": {},
   "outputs": [
    {
     "data": {
      "text/plain": [
       "3"
      ]
     },
     "execution_count": 69,
     "metadata": {},
     "output_type": "execute_result"
    }
   ],
   "source": [
    "a  = 10\n",
    "\n",
    "def find_squre(a):\n",
    "    i = 1\n",
    "    while i*i<= a: # this take O(n) time complexity\n",
    "        i += 1\n",
    "    return i-1\n",
    "\n",
    "find_squre(a)"
   ]
  },
  {
   "cell_type": "code",
   "execution_count": 74,
   "metadata": {},
   "outputs": [
    {
     "data": {
      "text/plain": [
       "5"
      ]
     },
     "execution_count": 74,
     "metadata": {},
     "output_type": "execute_result"
    }
   ],
   "source": [
    "### efficient approach \n",
    "a = 10\n",
    "def find_square(a):\n",
    "    low = 1\n",
    "    high = 10\n",
    "    ans = -1\n",
    "    while low< high:\n",
    "        mid = (low+high)//2\n",
    "        mid_square = mid*mid\n",
    "        if mid_square == a:\n",
    "            return mid\n",
    "        else:\n",
    "            if mid_square> a:\n",
    "                high = mid -1\n",
    "            else:\n",
    "                low = mid + 1\n",
    "                ans = mid\n",
    "    return ans\n",
    "find_square(30)\n",
    "                "
   ]
  },
  {
   "cell_type": "code",
   "execution_count": 106,
   "metadata": {},
   "outputs": [
    {
     "data": {
      "text/plain": [
       "29"
      ]
     },
     "execution_count": 106,
     "metadata": {},
     "output_type": "execute_result"
    }
   ],
   "source": [
    "### Searching in infinite array \n",
    "a = [x for x in range(0,400,5)]\n",
    "\n",
    "\n",
    "def binarySearch(a,key,start,end):\n",
    "    \n",
    "    if start> end:\n",
    "        return -1\n",
    "    \n",
    "    mid = (start+end)//2\n",
    "    if a[mid] == key:\n",
    "        return mid\n",
    "    elif a[mid] > key:\n",
    "        return binarySearch(a,key,start, mid-1)\n",
    "    elif a[mid] < key:\n",
    "        return binarySearch(a,key,mid+1, end )\n",
    "    \n",
    "\n",
    "\n",
    "def search_infinite(a,k):\n",
    "    if a[0] == k:\n",
    "        return 0\n",
    "    i = 1\n",
    "    while a[i] < k:\n",
    "        i = i*2\n",
    "        if a[i] == k:\n",
    "            return i\n",
    "        \n",
    "    return binarySearch(a,k, ((i//2)+1), i)\n",
    "            \n",
    "search_infinite(a, 145)            "
   ]
  },
  {
   "cell_type": "code",
   "execution_count": 112,
   "metadata": {},
   "outputs": [
    {
     "data": {
      "text/plain": [
       "5"
      ]
     },
     "execution_count": 112,
     "metadata": {},
     "output_type": "execute_result"
    }
   ],
   "source": [
    "### searching in sorted rotated array \n",
    "a = [100,200,500,1000,2000,10,20,15]\n",
    "\n",
    "def rotated_search(a,key):\n",
    "    low = 0\n",
    "    high = len(a)-1\n",
    "    while low<= high:\n",
    "        mid  = (low+high)//2\n",
    "        if a[mid] == key:\n",
    "            return mid\n",
    "        if a[low]<a[mid]: # left sorted\n",
    "            if (a[low] < key) and (key < a[mid]): # number present in the left part\n",
    "                high = mid- 1\n",
    "            else:\n",
    "                low = mid +1 \n",
    "        else:\n",
    "            # right must be sorted if not first \n",
    "            if (key>a[mid]) and (key< a[high]):\n",
    "                low = mid + 1\n",
    "            else:\n",
    "                high = mid -1\n",
    "                \n",
    "    return -1\n",
    "\n",
    "rotated_search(a,10)\n",
    "            "
   ]
  },
  {
   "cell_type": "code",
   "execution_count": null,
   "metadata": {},
   "outputs": [],
   "source": []
  }
 ],
 "metadata": {
  "kernelspec": {
   "display_name": "Python 3",
   "language": "python",
   "name": "python3"
  },
  "language_info": {
   "codemirror_mode": {
    "name": "ipython",
    "version": 3
   },
   "file_extension": ".py",
   "mimetype": "text/x-python",
   "name": "python",
   "nbconvert_exporter": "python",
   "pygments_lexer": "ipython3",
   "version": "3.8.5"
  }
 },
 "nbformat": 4,
 "nbformat_minor": 5
}
