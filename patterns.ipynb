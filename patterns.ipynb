{
 "cells": [
  {
   "cell_type": "code",
   "execution_count": 1,
   "metadata": {},
   "outputs": [],
   "source": [
    "#### print Z"
   ]
  },
  {
   "cell_type": "code",
   "execution_count": 11,
   "metadata": {},
   "outputs": [
    {
     "name": "stdout",
     "output_type": "stream",
     "text": [
      "******\n",
      "    * \n",
      "   *  \n",
      "  *   \n",
      " *    \n",
      "******\n"
     ]
    }
   ],
   "source": [
    "n = 6\n",
    "for i in range(n):\n",
    "    string = ''\n",
    "    for j in range(n):\n",
    "        if (i == 0 or i == n-1) and (i>=0 and j<=n) or (i+j == n-1):\n",
    "            string+='*'\n",
    "        else:\n",
    "            string+=' '\n",
    "    print(string)\n",
    "            \n",
    "            "
   ]
  },
  {
   "cell_type": "code",
   "execution_count": 15,
   "metadata": {},
   "outputs": [
    {
     "name": "stdout",
     "output_type": "stream",
     "text": [
      "*\n",
      "**\n",
      "***\n",
      "****\n",
      "*****\n",
      "******\n"
     ]
    }
   ],
   "source": [
    "### pattern 2\n",
    "n = 6 \n",
    "for row in range(n):\n",
    "    string = ''\n",
    "    for col in range(row+1):\n",
    "        string+='*'\n",
    "    print(string)\n",
    "        "
   ]
  },
  {
   "cell_type": "code",
   "execution_count": 18,
   "metadata": {},
   "outputs": [
    {
     "name": "stdout",
     "output_type": "stream",
     "text": [
      "******\n",
      "*****\n",
      "****\n",
      "***\n",
      "**\n",
      "*\n"
     ]
    }
   ],
   "source": [
    "n = 6\n",
    "for row in range(n):\n",
    "    string = ''\n",
    "    for col in range(n-row):\n",
    "        string+= '*'\n",
    "    print(string)\n",
    "        "
   ]
  },
  {
   "cell_type": "code",
   "execution_count": 25,
   "metadata": {},
   "outputs": [
    {
     "name": "stdout",
     "output_type": "stream",
     "text": [
      "     *\n",
      "    **\n",
      "   ***\n",
      "  ****\n",
      " *****\n",
      "******\n"
     ]
    }
   ],
   "source": [
    "n = 6\n",
    "for row in range(0,n):\n",
    "    string = ''\n",
    "    for col in range(0,n):\n",
    "        if (row+col >= n-1):\n",
    "            string+='*'\n",
    "        else:\n",
    "            string+= ' '\n",
    "    print(string)\n",
    "        "
   ]
  },
  {
   "cell_type": "code",
   "execution_count": 26,
   "metadata": {
    "scrolled": true
   },
   "outputs": [
    {
     "name": "stdout",
     "output_type": "stream",
     "text": [
      "******\n",
      " *****\n",
      "  ****\n",
      "   ***\n",
      "    **\n",
      "     *\n"
     ]
    }
   ],
   "source": [
    "n = 6\n",
    "for row in range(0,n):\n",
    "    string = ''\n",
    "    for col in range(0,n):\n",
    "        if (col>=row):\n",
    "            string+='*'\n",
    "        else:\n",
    "            string+= ' '\n",
    "    print(string)"
   ]
  },
  {
   "cell_type": "code",
   "execution_count": 4,
   "metadata": {
    "scrolled": true
   },
   "outputs": [
    {
     "name": "stdout",
     "output_type": "stream",
     "text": [
      "\t\t\t\t*\t\n",
      "\t\t\t*\t*\t\n",
      "\t\t*\t*\t*\t\n",
      "\t*\t*\t*\t*\t\n",
      "*\t*\t*\t*\t*\t\n"
     ]
    }
   ],
   "source": [
    "n = 5\n",
    "def pattern(n):\n",
    "    space=  n-1\n",
    "    star = 1\n",
    "    for i in reversed(range(n)):\n",
    "        for i in range(space):\n",
    "            print(\"\", end = \"\\t\")\n",
    "        for i in range(star):\n",
    "            print(\"*\", end = \"\\t\")\n",
    "        space -=1\n",
    "        star +=1\n",
    "        print(\"\")\n",
    "\n",
    "        \n",
    "pattern(5)"
   ]
  },
  {
   "cell_type": "code",
   "execution_count": 13,
   "metadata": {},
   "outputs": [
    {
     "name": "stdout",
     "output_type": "stream",
     "text": [
      "*\t*\t*\t*\t*\t\n",
      "\t*\t*\t*\t*\t\n",
      "\t\t*\t*\t*\t\n",
      "\t\t\t*\t*\t\n",
      "\t\t\t\t*\t\n"
     ]
    }
   ],
   "source": [
    "def pattern(n):\n",
    "    star = n\n",
    "    space = 0\n",
    "    \n",
    "    for i in range(n):\n",
    "        for i in range(space):\n",
    "            print(end = \"\\t\")\n",
    "            \n",
    "        for i in range(star):\n",
    "            print(\"*\", end = \"\\t\")\n",
    "\n",
    "        star = star - 1\n",
    "        space +=1\n",
    "        print(\"\")\n",
    "        \n",
    "        \n",
    "        \n",
    "pattern(5)\n",
    "    "
   ]
  },
  {
   "cell_type": "code",
   "execution_count": 45,
   "metadata": {},
   "outputs": [
    {
     "name": "stdout",
     "output_type": "stream",
     "text": [
      "   * \n",
      "  * * \n",
      " * * * \n",
      "  * * \n",
      "   * \n",
      "    \n"
     ]
    }
   ],
   "source": [
    "n = 3\n",
    "\n",
    "for i in range(n):\n",
    "    print(\" \"*(n-i-1),\"* \"*(i+1))\n",
    "for j in range(n-1,-1,-1):\n",
    "    print(\" \"*(n-j),\"* \"*(j))\n"
   ]
  },
  {
   "cell_type": "code",
   "execution_count": 62,
   "metadata": {},
   "outputs": [
    {
     "name": "stdout",
     "output_type": "stream",
     "text": [
      " =    \n",
      " =    \n",
      " =    \n",
      " =    \n",
      " =   =\n",
      " =   =\n",
      " =  ==\n",
      " = ===\n",
      "======\n"
     ]
    }
   ],
   "source": [
    "### creating a bar_chart\n",
    "n = [1,9,1,2,3,5]\n",
    "for floor in range(max(n),0,-1):\n",
    "    string = ''\n",
    "    for col in n:\n",
    "        if floor<=col:\n",
    "            string+='='\n",
    "        else:\n",
    "            string += ' '\n",
    "    print(string)\n",
    "\n",
    "    "
   ]
  },
  {
   "cell_type": "code",
   "execution_count": 69,
   "metadata": {},
   "outputs": [
    {
     "name": "stdout",
     "output_type": "stream",
     "text": [
      "[7, 6, 5, 4, 3, 2, 1]\n"
     ]
    }
   ],
   "source": [
    "### reverse of an array \n",
    "a = [1,2,3,4,5,6,7]\n",
    "n = len(a)\n",
    "for i in range(n):\n",
    "    mid = len(a)//2\n",
    "    if i <=mid-1:\n",
    "        a[i],a[n-i-1] = a[n-i-1],a[i]\n",
    "print(a)"
   ]
  },
  {
   "cell_type": "code",
   "execution_count": 97,
   "metadata": {},
   "outputs": [
    {
     "name": "stdout",
     "output_type": "stream",
     "text": [
      "22 15\n"
     ]
    }
   ],
   "source": [
    "a = [5,10,15,22,33,40,42,55] # sorted array \n",
    "\n",
    "n = 35\n",
    "## find the ceil and floor available in the array \n",
    "def search_(a,key):\n",
    "    floor = -1\n",
    "    ceil = -1\n",
    "    l = 0\n",
    "    h = len(a)-1\n",
    "    while l<=h:\n",
    "        mid  = (l+h)//2\n",
    "        if a[mid] == key:\n",
    "            print(key)\n",
    "            return\n",
    "        elif a[mid]<key:\n",
    "            l = mid+1\n",
    "            floor = a[mid]\n",
    "        else:\n",
    "            h = mid-1\n",
    "            ceil = a[mid]\n",
    "    print(ceil,floor)\n",
    "        \n",
    "        \n",
    "        \n",
    "search_(a,17)"
   ]
  },
  {
   "cell_type": "code",
   "execution_count": null,
   "metadata": {},
   "outputs": [],
   "source": [
    "answer"
   ]
  },
  {
   "cell_type": "code",
   "execution_count": 55,
   "metadata": {},
   "outputs": [
    {
     "name": "stdout",
     "output_type": "stream",
     "text": [
      "\t\t*\t\n",
      "\t*\t*\t*\t\n",
      "*\t*\t*\t*\t*\t\n",
      "\t*\t*\t*\t\n",
      "\t\t*\t\n"
     ]
    }
   ],
   "source": [
    "n  = 5\n",
    "def pattern(n):\n",
    "    star = 1\n",
    "    space = n//2\n",
    "    for i in range(1,n+1):\n",
    "        for p in range(1,space+1):\n",
    "            print(\"\",end = \"\\t\")\n",
    "        for j in range(1,star+1):\n",
    "            print(\"*\",end = \"\\t\")\n",
    "        if i <=n//2:\n",
    "            space-=1\n",
    "            star+=2\n",
    "        else:\n",
    "            space+=1\n",
    "            star-=2\n",
    "        print(\"\")\n",
    "        \n",
    "        \n",
    "\n",
    "pattern(n)"
   ]
  },
  {
   "cell_type": "code",
   "execution_count": 70,
   "metadata": {},
   "outputs": [
    {
     "name": "stdout",
     "output_type": "stream",
     "text": [
      "*\t*\t\t*\t*\t\n",
      "*\t\t\t\t*\t\n",
      "*\t*\t\t*\t*\t\n"
     ]
    }
   ],
   "source": [
    "n = 3\n",
    "\n",
    "def pattern(n):\n",
    "    star = n//2+1\n",
    "    space = 1\n",
    "    for i in range(n):\n",
    "        for st  in range(star):\n",
    "            print(\"*\", end = \"\\t\")\n",
    "        for sp in range(space):\n",
    "            print(\"\", end = \"\\t\")\n",
    "        for st in range(star):\n",
    "            print(\"*\", end = \"\\t\")\n",
    "        if i <= n//2-1:\n",
    "            star -= 1\n",
    "            space+=2\n",
    "        else:\n",
    "            star+=1\n",
    "            space-=2\n",
    "        print()\n",
    "    \n",
    "pattern(n)"
   ]
  },
  {
   "cell_type": "code",
   "execution_count": 78,
   "metadata": {},
   "outputs": [
    {
     "name": "stdout",
     "output_type": "stream",
     "text": [
      "\t\t\t\t*\t\n",
      "\t\t\t*\t\n",
      "\t\t*\t\n",
      "\t*\t\n",
      "*\t\n"
     ]
    }
   ],
   "source": [
    "def pattern(n):\n",
    "    for i in reversed(range(n)):\n",
    "        for j in range(i):\n",
    "            print(\"\",end = \"\\t\")\n",
    "        print(\"*\", end = \"\\t\")\n",
    "        print()\n",
    "\n",
    "        \n",
    "pattern(5)"
   ]
  },
  {
   "cell_type": "code",
   "execution_count": 86,
   "metadata": {},
   "outputs": [
    {
     "name": "stdout",
     "output_type": "stream",
     "text": [
      "\t\t\t\t*\t\n",
      "\t\t\t*\t\t\n",
      "\t\t*\t\t\t\n",
      "\t*\t\t\t\t\n",
      "*\t\t\t\t\t\n"
     ]
    }
   ],
   "source": [
    "def pattern(n):\n",
    "    for i in range(n):\n",
    "        for j in range(n):\n",
    "            if i+j+1 == n:\n",
    "                print(\"*\", end = \"\\t\")\n",
    "            else:\n",
    "                print(\"\",end = \"\\t\")\n",
    "        print()\n",
    "    \n",
    "pattern(5)"
   ]
  },
  {
   "cell_type": "code",
   "execution_count": 87,
   "metadata": {},
   "outputs": [
    {
     "name": "stdout",
     "output_type": "stream",
     "text": [
      "*\t\t\t\t*\t\n",
      "\t*\t\t*\t\t\n",
      "\t\t*\t\t\t\n",
      "\t*\t\t*\t\t\n",
      "*\t\t\t\t*\t\n"
     ]
    }
   ],
   "source": [
    "def pattern(n):\n",
    "    for i in range(n):\n",
    "        for j in range(n):\n",
    "            if (i == j) or (i+j+1 == n):\n",
    "                print(\"*\", end = \"\\t\")\n",
    "            else:\n",
    "                print(\"\",end = \"\\t\")\n",
    "        print()\n",
    "            \n",
    "            \n",
    "pattern(5)"
   ]
  },
  {
   "cell_type": "code",
   "execution_count": 95,
   "metadata": {},
   "outputs": [
    {
     "name": "stdout",
     "output_type": "stream",
     "text": [
      "\t\t*\t\n",
      "\t*\t\t*\t\n",
      "*\t\t\t\t*\t\n",
      "\t*\t\t*\t\n",
      "\t\t*\t\n"
     ]
    }
   ],
   "source": [
    "def pattern(n):\n",
    "    space_out = n//2\n",
    "    space_in = -1\n",
    "    for i in range(n):\n",
    "        if i!= 0 and i!=n-1:\n",
    "            for x in range(space_out):\n",
    "                print(\"\",end = \"\\t\")\n",
    "            print(\"*\",end= \"\\t\")\n",
    "            for x in range(space_in):\n",
    "                print(\"\",end = \"\\t\")\n",
    "            print(\"*\", end = \"\\t\")\n",
    "        else:\n",
    "            for x in range(space_out):\n",
    "                print(\"\",end = \"\\t\")\n",
    "            print(\"*\",end =\"\\t\")\n",
    "        if i<=n//2-1:\n",
    "            space_out-=1\n",
    "            space_in +=2\n",
    "        else:\n",
    "            space_out+=1\n",
    "            space_in-=2\n",
    "        print()\n",
    "                \n",
    "    \n",
    "pattern(5)"
   ]
  },
  {
   "cell_type": "code",
   "execution_count": 99,
   "metadata": {},
   "outputs": [
    {
     "name": "stdout",
     "output_type": "stream",
     "text": [
      "1\t\n",
      "2\t3\t\n",
      "4\t5\t6\t\n",
      "7\t8\t9\t10\t\n",
      "11\t12\t13\t14\t15\t\n"
     ]
    }
   ],
   "source": [
    "def pattern(n):\n",
    "    count = 0\n",
    "    for i in range(1,n+1):\n",
    "        for j in range(i):\n",
    "            count+=1\n",
    "            print(count,end = \"\\t\")\n",
    "        print()\n",
    "    \n",
    "    \n",
    "pattern(5)"
   ]
  },
  {
   "cell_type": "code",
   "execution_count": 110,
   "metadata": {},
   "outputs": [
    {
     "name": "stdout",
     "output_type": "stream",
     "text": [
      "0\t\n",
      "1\t1\t\n",
      "2\t3\t5\t\n",
      "8\t13\t21\t34\t\n",
      "55\t89\t144\t233\t377\t\n"
     ]
    }
   ],
   "source": [
    "def pattern(n):\n",
    "    a= 0\n",
    "    b= 1\n",
    "        \n",
    "    \n",
    "    for i in range(1,n+1):\n",
    "        for j in range(1,i+1):\n",
    "            print(a,end =\"\\t\")\n",
    "\n",
    "            c = a+b\n",
    "            a=b\n",
    "            b = c\n",
    "        print()\n",
    "            \n",
    "\n",
    "    \n",
    "pattern(5)"
   ]
  },
  {
   "cell_type": "code",
   "execution_count": 116,
   "metadata": {},
   "outputs": [
    {
     "name": "stdout",
     "output_type": "stream",
     "text": [
      "1\t\n",
      "1\t1\t\n",
      "1\t2\t1\t\n",
      "1\t3\t3\t1\t\n",
      "1\t4\t6\t4\t1\t\n",
      "1\t5\t10\t10\t5\t1\t\n"
     ]
    }
   ],
   "source": [
    "def pattern(n):\n",
    "    for i in range(0,n):\n",
    "        icj = 1\n",
    "        for j in range(i+1):\n",
    "            print(icj, end = \"\\t\")\n",
    "            icjp1 = icj*(i-j)//(1+j)\n",
    "            icj = icjp1\n",
    "            \n",
    "        print()\n",
    "    \n",
    "    \n",
    "pattern(6)"
   ]
  },
  {
   "cell_type": "code",
   "execution_count": 117,
   "metadata": {},
   "outputs": [
    {
     "name": "stdout",
     "output_type": "stream",
     "text": [
      "3 * 1 = 3\n",
      "3 * 2 = 6\n",
      "3 * 3 = 9\n",
      "3 * 4 = 12\n",
      "3 * 5 = 15\n",
      "3 * 6 = 18\n",
      "3 * 7 = 21\n",
      "3 * 8 = 24\n",
      "3 * 9 = 27\n",
      "3 * 10 = 30\n"
     ]
    }
   ],
   "source": [
    "def pattern(x):\n",
    "    for i in range(1, 11):\n",
    "        print(x,\"*\",i,\"=\",x*i)\n",
    "        \n",
    "pattern(3)\n"
   ]
  },
  {
   "cell_type": "code",
   "execution_count": 147,
   "metadata": {},
   "outputs": [
    {
     "name": "stdout",
     "output_type": "stream",
     "text": [
      "\t\t1\t\n",
      "\t2\t3\t2\t\n",
      "3\t4\t5\t4\t3\t\n",
      "\t2\t3\t2\t\n",
      "\t\t1\t\n"
     ]
    }
   ],
   "source": [
    "def pattern(n):\n",
    "    star = 1\n",
    "    space=  n//2\n",
    "    val = 1\n",
    "    for i in range(1, n+1):\n",
    "        cval = val-1\n",
    "        for sp in range(space):\n",
    "            print(\"\",end = \"\\t\")\n",
    "\n",
    "        for st in range(star):\n",
    "\n",
    "            if st <= star//2:\n",
    "                cval+=1\n",
    "            else:\n",
    "                cval-=1\n",
    "            print(cval,end = \"\\t\")\n",
    "\n",
    "            \n",
    "            \n",
    "        if i <=n//2:\n",
    "            space-=1\n",
    "            star +=2\n",
    "            val+=1\n",
    "        else:\n",
    "            space+=1\n",
    "            star-=2\n",
    "            val-=1\n",
    "        print()\n",
    "pattern(5)"
   ]
  },
  {
   "cell_type": "code",
   "execution_count": 163,
   "metadata": {},
   "outputs": [
    {
     "name": "stdout",
     "output_type": "stream",
     "text": [
      "1\t\t\t\t\t\t1\t\n",
      "1\t2\t\t\t\t2\t1\t\n",
      "1\t2\t3\t\t3\t2\t1\t\n",
      "1\t2\t3\t4\t3\t2\t1\t\n"
     ]
    }
   ],
   "source": [
    "def pattern(n):\n",
    "    star = 1\n",
    "    space = 2*n-3\n",
    "    for i in range(n):\n",
    "        val = 0\n",
    "        for st in range(star):\n",
    "            val+=1\n",
    "\n",
    "            print(val,end = \"\\t\")\n",
    "        for sp in range(space):\n",
    "            print(\"\",end = \"\\t\") \n",
    "        if space != -1:\n",
    "            for st in range(star):\n",
    "                print(val,end = \"\\t\")\n",
    "                val-=1\n",
    "        else:\n",
    "              for st in range(star-1):\n",
    "                val-=1\n",
    "                print(val,end = \"\\t\")\n",
    "\n",
    "        star +=1\n",
    "        space-=2\n",
    "        print()\n",
    "    \n",
    "pattern(4)"
   ]
  },
  {
   "cell_type": "code",
   "execution_count": 168,
   "metadata": {},
   "outputs": [
    {
     "name": "stdout",
     "output_type": "stream",
     "text": [
      "\t\t*\t\n",
      "\t\t*\t*\t\n",
      "*\t*\t*\t*\t*\t\n",
      "\t\t*\t*\t\n",
      "\t\t*\t\n"
     ]
    }
   ],
   "source": [
    "def pattern(n):\n",
    "    space = n//2\n",
    "    star = 1\n",
    "    for i in range(n):\n",
    "        if i!=n//2:\n",
    "            for sp in range(space):\n",
    "                print(\"\",end = \"\\t\")\n",
    "        else:\n",
    "            for sp in range(space):\n",
    "                print(\"*\",end = \"\\t\")\n",
    "        for st in range(star):\n",
    "            print(\"*\",end ='\\t')\n",
    "        if i<=n//2-1:\n",
    "            star+=1\n",
    "        else:\n",
    "            star-=1\n",
    "        print()\n",
    "        \n",
    "    \n",
    "pattern(5)"
   ]
  },
  {
   "cell_type": "code",
   "execution_count": 177,
   "metadata": {},
   "outputs": [
    {
     "name": "stdout",
     "output_type": "stream",
     "text": [
      "*\t*\t*\t*\t*\t*\t*\t\n",
      "\t*\t\t\t\t*\t\n",
      "\t\t*\t\t*\t\n",
      "\t\t\t*\t\n",
      "\t\t*\t*\t*\t\n",
      "\t*\t*\t*\t*\t*\t\n",
      "*\t*\t*\t*\t*\t*\t*\t\n"
     ]
    }
   ],
   "source": [
    "def pattern(n):\n",
    "    star  = n\n",
    "    space= 0\n",
    "    for i in range(n):\n",
    "        \n",
    "        for sp in range(space):\n",
    "            print(\"\",end = '\\t')\n",
    "            \n",
    "        for st in range(star):\n",
    "            if (i<n//2 and i>0) and (st>0 and st<star-1):\n",
    "                print(\"\", end = \"\\t\")\n",
    "            else:\n",
    "                print(\"*\", end = \"\\t\")\n",
    "        if i<=n//2-1:\n",
    "            star-=2\n",
    "            space+=1\n",
    "        else:\n",
    "            star+=2\n",
    "            space-=1\n",
    "        print()\n",
    "    \n",
    "    \n",
    "pattern(7)"
   ]
  },
  {
   "cell_type": "code",
   "execution_count": 217,
   "metadata": {},
   "outputs": [
    {
     "name": "stdout",
     "output_type": "stream",
     "text": [
      "*\t*\t*\t\t*\t\n",
      "\t\t*\t\t*\t\n",
      "*\t*\t*\t*\t*\t\n",
      "*\t\t*\t\t\t\n",
      "*\t\t*\t*\t*\t\n"
     ]
    }
   ],
   "source": [
    "### swastic pattern\n",
    "def pattern(n):\n",
    "    for i in range(1, n+1):\n",
    "        for j in range(1, n+1):\n",
    "            if i == 1:\n",
    "                if (j<=n//2+1 or j == n):\n",
    "                    print(\"*\", end =\"\\t\")\n",
    "                else:\n",
    "                    print(\"\",end = \"\\t\")\n",
    "            elif i<=n//2:\n",
    "                if j == (n//2)+1 or j == n:\n",
    "                    print(\"*\",end = \"\\t\")\n",
    "                else:\n",
    "                    print(\"\",end = \"\\t\")\n",
    "            elif i == n//2+1:\n",
    "                print(\"*\",end = \"\\t\")\n",
    "                \n",
    "            elif i == n:\n",
    "                if j == 1 or (j>=(n//2)+1):\n",
    "                    print(\"*\",end = \"\\t\")\n",
    "                else:\n",
    "                    print(\"\",end = \"\\t\")                \n",
    "                \n",
    "            elif i>n//2+1:\n",
    "                if j ==1 or j == n//2+1:\n",
    "                    print(\"*\",end = \"\\t\")\n",
    "                else:\n",
    "                    print(\"\",end = \"\\t\")\n",
    "        print()\n",
    "\n",
    "    \n",
    "pattern(5)"
   ]
  },
  {
   "cell_type": "code",
   "execution_count": 228,
   "metadata": {},
   "outputs": [
    {
     "name": "stdout",
     "output_type": "stream",
     "text": [
      "*\t\t\t\t*\t\n",
      "*\t\t\t\t*\t\n",
      "*\t\t*\t\t*\t\n",
      "*\t*\t\t*\t*\t\n",
      "*\t\t\t\t*\t\n"
     ]
    }
   ],
   "source": [
    "def pattern(n):\n",
    "    for i in range(1, n+1):\n",
    "        for j in range(1, n+1):\n",
    "            if j == 1 or j == n:\n",
    "                print(\"*\",end = \"\\t\")\n",
    "            \n",
    "            elif (i>=n//2+1) and ((i+j == n+1) or (i == j)):\n",
    "                print(\"*\",end = \"\\t\")\n",
    "            else:\n",
    "                print(\"\",end = \"\\t\")\n",
    "        print()\n",
    "    \n",
    "pattern(5)"
   ]
  },
  {
   "cell_type": "code",
   "execution_count": null,
   "metadata": {},
   "outputs": [],
   "source": []
  }
 ],
 "metadata": {
  "kernelspec": {
   "display_name": "Python 3",
   "language": "python",
   "name": "python3"
  },
  "language_info": {
   "codemirror_mode": {
    "name": "ipython",
    "version": 3
   },
   "file_extension": ".py",
   "mimetype": "text/x-python",
   "name": "python",
   "nbconvert_exporter": "python",
   "pygments_lexer": "ipython3",
   "version": "3.8.5"
  }
 },
 "nbformat": 4,
 "nbformat_minor": 4
}
