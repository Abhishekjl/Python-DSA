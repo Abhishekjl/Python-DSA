{
 "cells": [
  {
   "cell_type": "code",
   "execution_count": 2,
   "metadata": {},
   "outputs": [],
   "source": [
    "from collections import deque\n"
   ]
  },
  {
   "cell_type": "code",
   "execution_count": 3,
   "metadata": {},
   "outputs": [],
   "source": [
    "stack = deque()\n"
   ]
  },
  {
   "cell_type": "code",
   "execution_count": 4,
   "metadata": {},
   "outputs": [],
   "source": [
    "stack.append(10)\n",
    "stack.append(20)\n",
    "stack.append(30)\n",
    "stack.append(40)"
   ]
  },
  {
   "cell_type": "code",
   "execution_count": 5,
   "metadata": {},
   "outputs": [
    {
     "data": {
      "text/plain": [
       "deque([10, 20, 30, 40])"
      ]
     },
     "execution_count": 5,
     "metadata": {},
     "output_type": "execute_result"
    }
   ],
   "source": [
    "stack"
   ]
  },
  {
   "cell_type": "code",
   "execution_count": 6,
   "metadata": {},
   "outputs": [
    {
     "data": {
      "text/plain": [
       "40"
      ]
     },
     "execution_count": 6,
     "metadata": {},
     "output_type": "execute_result"
    }
   ],
   "source": [
    "stack.pop()"
   ]
  },
  {
   "cell_type": "code",
   "execution_count": 7,
   "metadata": {},
   "outputs": [
    {
     "data": {
      "text/plain": [
       "deque([10, 20, 30])"
      ]
     },
     "execution_count": 7,
     "metadata": {},
     "output_type": "execute_result"
    }
   ],
   "source": [
    "stack"
   ]
  },
  {
   "cell_type": "code",
   "execution_count": 8,
   "metadata": {},
   "outputs": [
    {
     "data": {
      "text/plain": [
       "1"
      ]
     },
     "execution_count": 8,
     "metadata": {},
     "output_type": "execute_result"
    }
   ],
   "source": [
    "stack.index(20)"
   ]
  },
  {
   "cell_type": "code",
   "execution_count": 9,
   "metadata": {},
   "outputs": [],
   "source": [
    "stack.append([10,20,30])"
   ]
  },
  {
   "cell_type": "code",
   "execution_count": 10,
   "metadata": {},
   "outputs": [
    {
     "data": {
      "text/plain": [
       "deque([10, 20, 30, [10, 20, 30]])"
      ]
     },
     "execution_count": 10,
     "metadata": {},
     "output_type": "execute_result"
    }
   ],
   "source": [
    "stack"
   ]
  },
  {
   "cell_type": "code",
   "execution_count": 11,
   "metadata": {},
   "outputs": [],
   "source": [
    "from sys import stdin"
   ]
  },
  {
   "cell_type": "code",
   "execution_count": 63,
   "metadata": {},
   "outputs": [],
   "source": [
    "open_list = [\"[\",\"{\",\"(\"]\n",
    "close_list = [\"]\",\"}\",\")\"]\n",
    "from collections import deque\n",
    "def check_brackets(exp):\n",
    "    stack = deque()\n",
    "    for ch in exp:\n",
    "\n",
    "        if ch in open_list:\n",
    "            stack.append(ch)\n",
    "     \n",
    "        \n",
    "        if ch in close_list :\n",
    "            if len(stack)>0:\n",
    "                if open_list.index(stack[-1]) == close_list.index(ch):\n",
    "                    stack.pop()\n",
    "                else:\n",
    "                    return False\n",
    "            else:\n",
    "                return False\n",
    "            \n",
    "            \n",
    "            \n",
    "    if len(stack)>0: # when opening bracket is more\n",
    "        return False\n",
    "    \n",
    "    return True\n",
    "    \n",
    "\n",
    "            "
   ]
  },
  {
   "cell_type": "code",
   "execution_count": 66,
   "metadata": {
    "scrolled": false
   },
   "outputs": [
    {
     "data": {
      "text/plain": [
       "False"
      ]
     },
     "execution_count": 66,
     "metadata": {},
     "output_type": "execute_result"
    }
   ],
   "source": [
    "check_brackets('[(a + b) + {(c + d) * (e / f)}{]')"
   ]
  },
  {
   "cell_type": "markdown",
   "metadata": {},
   "source": [
    "#### Duplicates bracket"
   ]
  },
  {
   "cell_type": "code",
   "execution_count": 77,
   "metadata": {},
   "outputs": [
    {
     "data": {
      "text/plain": [
       "True"
      ]
     },
     "execution_count": 77,
     "metadata": {},
     "output_type": "execute_result"
    }
   ],
   "source": [
    "# exp = '(a+b)+((c+d))'\n",
    "exp = '(((a+b))+(a+b)))'\n",
    "\n",
    "def duplicate_bracket(exp):\n",
    "    stack = []\n",
    "    for ch in exp:\n",
    "        if ch == ')':\n",
    "            if stack[-1] == '(':\n",
    "                return True\n",
    "            else:\n",
    "                while stack[-1] != '(':\n",
    "                    stack.pop()\n",
    "                stack.pop()\n",
    "        else:\n",
    "            stack.append(ch)\n",
    "            \n",
    "    return False\n",
    "        \n",
    "duplicate_bracket(exp)\n",
    "        "
   ]
  },
  {
   "cell_type": "markdown",
   "metadata": {},
   "source": [
    "### next greater element to the right"
   ]
  },
  {
   "cell_type": "code",
   "execution_count": 1,
   "metadata": {
    "scrolled": true
   },
   "outputs": [
    {
     "name": "stdout",
     "output_type": "stream",
     "text": [
      "[5, 9, 12, 12, 12, -1, 8, -1, -1]\n"
     ]
    }
   ],
   "source": [
    "a = [2,5,9,3,1,12,6,8,7]\n",
    "def nge(a):\n",
    "    stack = []\n",
    "    ans = [0]*len(a)\n",
    "    for i in reversed(range(len(a))):\n",
    "        # pop \n",
    "        while len(stack)>0 and (stack[-1] <= a[i]):\n",
    "            stack.pop()\n",
    "         \n",
    "        # get answer \n",
    "        if len(stack) == 0:\n",
    "            ans[i] = -1\n",
    "            \n",
    "        else: \n",
    "            ans[i] = stack[-1]\n",
    "        # push\n",
    "        stack.append(a[i])\n",
    "            \n",
    "    return ans\n",
    "\n",
    "print(nge(a))\n",
    "        \n",
    "        \n",
    "    "
   ]
  },
  {
   "cell_type": "code",
   "execution_count": null,
   "metadata": {},
   "outputs": [],
   "source": []
  },
  {
   "cell_type": "markdown",
   "metadata": {},
   "source": [
    "#### stock span problem"
   ]
  },
  {
   "cell_type": "code",
   "execution_count": 2,
   "metadata": {},
   "outputs": [
    {
     "data": {
      "text/plain": [
       "[1, 1, 1, 2, 1, 4, 6]"
      ]
     },
     "execution_count": 2,
     "metadata": {},
     "output_type": "execute_result"
    }
   ],
   "source": [
    "a = [100,80,60,70,60,75,85]\n",
    "\n",
    "def stock_span(a):\n",
    "    ans = [None]*len(a)\n",
    "    for i in (range(len(a))):\n",
    "        days = 1\n",
    "\n",
    "        for j in range(i,-1,-1):\n",
    "            if a[j] < a[i]:\n",
    "                days +=1\n",
    "        ans[i] = days\n",
    "    return ans\n",
    "            \n",
    "        \n",
    "        \n",
    "stock_span(a)"
   ]
  },
  {
   "cell_type": "markdown",
   "metadata": {},
   "source": [
    "#### using stack"
   ]
  },
  {
   "cell_type": "code",
   "execution_count": 3,
   "metadata": {},
   "outputs": [
    {
     "name": "stdout",
     "output_type": "stream",
     "text": [
      "deque([2]) [1, 1, 1, 1, 1, 1, 1, 1, 1]\n",
      "deque([5]) [1, 2, 1, 1, 1, 1, 1, 1, 1]\n",
      "deque([9]) [1, 2, 3, 1, 1, 1, 1, 1, 1]\n",
      "deque([9, 3]) [1, 2, 3, 1, 1, 1, 1, 1, 1]\n",
      "deque([9, 3, 1]) [1, 2, 3, 1, 1, 1, 1, 1, 1]\n",
      "deque([12]) [1, 2, 3, 1, 1, 6, 1, 1, 1]\n",
      "deque([12, 6]) [1, 2, 3, 1, 1, 6, 1, 1, 1]\n",
      "deque([12, 8]) [1, 2, 3, 1, 1, 6, 1, 2, 1]\n",
      "deque([12, 8, 7]) [1, 2, 3, 1, 1, 6, 1, 2, 1]\n"
     ]
    }
   ],
   "source": [
    "a = [100,80,60,70,60,75,85]\n",
    "a = [2,5,9,3,1,12,6,8,7]\n",
    "from collections import deque\n",
    "def stock_span(a):\n",
    "    ans = [1]*len(a)\n",
    "    stack = deque()\n",
    "    \n",
    "    for i in range(len(a)):\n",
    "        while len(stack)>0 and stack[-1] <= a[i]:\n",
    "            ans[i] =ans[i] + ans[a.index(stack[-1])]\n",
    "            stack.pop()\n",
    "            \n",
    "        stack.append(a[i])\n",
    "        print(stack, ans)\n",
    "\n",
    "stock_span(a)\n",
    "        \n",
    "    "
   ]
  },
  {
   "cell_type": "markdown",
   "metadata": {},
   "source": [
    "#### next smallest element to the right "
   ]
  },
  {
   "cell_type": "code",
   "execution_count": 121,
   "metadata": {},
   "outputs": [
    {
     "data": {
      "text/plain": [
       "[2, 7, 4, 3, 3, 7, 7]"
      ]
     },
     "execution_count": 121,
     "metadata": {},
     "output_type": "execute_result"
    }
   ],
   "source": [
    "a = [6,2,5,4,5,3,6]\n",
    "\n",
    "def nse(a): # O(n2)\n",
    "    ans=[-1]*len(a)\n",
    "    for i in range(len(a)):\n",
    "        min_num = a[i]\n",
    "        for j in range(i+1, len(a)):\n",
    "            min_num = min(min_num,a[j])\n",
    "        ans[i] = min_num\n",
    "    return ans\n",
    "nse(a)\n",
    "\n",
    "\n",
    "\n",
    "def nse_right(a):\n",
    "    ans = [-1]*len(a)\n",
    "    stack = []\n",
    "    for i in reversed(range(len(a))):\n",
    "        while len(stack) > 0 and stack[-1]>a[i]:\n",
    "            stack.pop()\n",
    "        \n",
    "        if len(stack) == 0:\n",
    "            ans[i] = len(a)\n",
    "        else:\n",
    "            ans[i] = stack[-1]\n",
    "            \n",
    "        \n",
    "        stack.append(a[i])\n",
    "        \n",
    "    return ans\n",
    "nse_right(a)"
   ]
  },
  {
   "cell_type": "code",
   "execution_count": 108,
   "metadata": {},
   "outputs": [
    {
     "data": {
      "text/plain": [
       "[-1, -1, 1, 1, 3, 1, 5]"
      ]
     },
     "execution_count": 108,
     "metadata": {},
     "output_type": "execute_result"
    }
   ],
   "source": [
    "a = [6,2,5,4,5,3,6]\n",
    "\n",
    "def nse_left(a):\n",
    "    ans = [0]*len(a)\n",
    "    stack = []\n",
    "    \n",
    "    for i in range(len(a)):\n",
    "        while len(stack)>0 and a[stack[-1]]>= a[i]:\n",
    "            stack.pop()\n",
    "\n",
    "\n",
    "        if len(stack) == 0:\n",
    "            ans[i] = -1\n",
    "        else:\n",
    "            ans[i] = stack[-1]\n",
    "\n",
    "\n",
    "        stack.append(i)\n",
    "    \n",
    "    return ans\n",
    "\n",
    "nse_left(a)\n",
    "        \n",
    "    "
   ]
  },
  {
   "cell_type": "code",
   "execution_count": 127,
   "metadata": {},
   "outputs": [
    {
     "data": {
      "text/plain": [
       "[1, 7, 3, 5, 5, 7, 7]"
      ]
     },
     "execution_count": 127,
     "metadata": {},
     "output_type": "execute_result"
    }
   ],
   "source": [
    "arr = [6,2,5,4,5,3,6]\n",
    "\n",
    "def nse_right(arr):\n",
    "    stackr = []\n",
    "    n = len(arr)\n",
    "    right_nse = [0]*n\n",
    "    \n",
    "    for i in reversed(range(len(arr))):\n",
    "        while len(stackr)>0 and arr[stackr[-1]]>= arr[i]:\n",
    "            stackr.pop()\n",
    "        \n",
    "        \n",
    "        \n",
    "        if len(stackr) == 0:\n",
    "            right_nse[i] = n\n",
    "        else:\n",
    "            right_nse[i] = stackr[-1]\n",
    "            \n",
    "        stackr.append(i)\n",
    "    return right_nse\n",
    "\n",
    "nse_right(arr)"
   ]
  },
  {
   "cell_type": "markdown",
   "metadata": {},
   "source": [
    "#### biggest histogram area\n"
   ]
  },
  {
   "cell_type": "code",
   "execution_count": 134,
   "metadata": {},
   "outputs": [
    {
     "data": {
      "text/plain": [
       "12"
      ]
     },
     "execution_count": 134,
     "metadata": {},
     "output_type": "execute_result"
    }
   ],
   "source": [
    "arr = [6,2,5,4,5,1,6]\n",
    "def max_histogram(arr):\n",
    "    n = len(arr)\n",
    "    right_boundary = [0]*n # nse of the right\n",
    "    left_boundary = [0]*n # nse of the left\n",
    "    stackr = []\n",
    "    stackl = []\n",
    "    for i in reversed(range(len(arr))):\n",
    "        while len(stackr)>0 and arr[stackr[-1]]>= arr[i]:\n",
    "            stackr.pop()\n",
    "        \n",
    "        \n",
    "        \n",
    "        if len(stackr) == 0:\n",
    "            right_boundary[i] = n\n",
    "        else:\n",
    "            right_boundary[i] = stackr[-1]\n",
    "            \n",
    "        stackr.append(i)\n",
    "        \n",
    "    for i in range(len(arr)):\n",
    "        while len(stackl)>0 and arr[stackl[-1]]>= arr[i]:\n",
    "            stackl.pop()\n",
    "\n",
    "\n",
    "        if len(stackl) == 0:\n",
    "            left_boundary[i] = -1\n",
    "        else:\n",
    "            left_boundary[i] = stackl[-1]\n",
    "\n",
    "\n",
    "        stackl.append(i)\n",
    "    \n",
    "    \n",
    "    max_area = 0\n",
    "    for i in range(len(arr)):\n",
    "        width = right_boundary[i] - left_boundary[i] -1\n",
    "        area = width * arr[i]\n",
    "        max_area = max(area,max_area)\n",
    "        \n",
    "    return max_area\n",
    "\n",
    "max_histogram(arr)"
   ]
  },
  {
   "cell_type": "markdown",
   "metadata": {},
   "source": [
    "#### Sliding windows maximum problem"
   ]
  },
  {
   "cell_type": "code",
   "execution_count": 147,
   "metadata": {},
   "outputs": [
    {
     "name": "stdout",
     "output_type": "stream",
     "text": [
      "[7, 6, 6, 8, 8, 8]\n"
     ]
    }
   ],
   "source": [
    "arr = [7, 5, 2, 6, 4, 3, 8, 1, 5]\n",
    "k = 4\n",
    "def slidingwindow(arr,k):\n",
    "    n = len(arr)\n",
    "\n",
    "    stack =[]\n",
    "    nge = [0]*n\n",
    "    for i in reversed(range(n)):\n",
    "        while len(stack)>0 and arr[stack[-1]]<arr[i]:\n",
    "            stack.pop()\n",
    "                    \n",
    "        if len(stack) == 0:\n",
    "            nge[i] = n\n",
    "        else:\n",
    "            nge[i] = stack[-1]\n",
    "        stack.append(i)\n",
    "        \n",
    "    ans = [0]*(n-k+1)\n",
    "    j = 0\n",
    "    for i in range(len(ans)):\n",
    "        \n",
    "        if j<i:\n",
    "            j = i\n",
    "        end_point = i+k\n",
    "        \n",
    "        while nge [j] <end_point:\n",
    "            j = nge[j]\n",
    "        ans[i] = arr[j]\n",
    "    print(ans)\n",
    "    \n",
    "slidingwindow(arr, 4)"
   ]
  },
  {
   "cell_type": "code",
   "execution_count": 145,
   "metadata": {},
   "outputs": [
    {
     "name": "stdout",
     "output_type": "stream",
     "text": [
      "7\n",
      "6\n",
      "6\n",
      "8\n",
      "8\n",
      "8\n"
     ]
    }
   ],
   "source": [
    "arr = [7, 5, 2, 6, 4, 3, 8, 1, 5]\n",
    "k = 4\n",
    "def slidingwindow(arr,k):\n",
    "    n = len(arr)\n",
    "    for i in range(n-k+1):\n",
    "        print(max(arr[i:i+k]))\n",
    "        \n",
    "\n",
    "slidingwindow(arr,4)"
   ]
  },
  {
   "cell_type": "code",
   "execution_count": 142,
   "metadata": {},
   "outputs": [
    {
     "data": {
      "text/plain": [
       "3"
      ]
     },
     "execution_count": 142,
     "metadata": {},
     "output_type": "execute_result"
    }
   ],
   "source": [
    "max([1,2,3])"
   ]
  },
  {
   "cell_type": "markdown",
   "metadata": {},
   "source": [
    "#### infix evaluation"
   ]
  },
  {
   "cell_type": "code",
   "execution_count": 183,
   "metadata": {},
   "outputs": [
    {
     "name": "stdout",
     "output_type": "stream",
     "text": [
      "9\n"
     ]
    }
   ],
   "source": [
    "exp  = '2+6*4/2'\n",
    "exp = '3/(6*8-4)+9'\n",
    "\n",
    "\n",
    "def solve(v1,v2,ops):\n",
    "    \n",
    "    if ops == '+':\n",
    "        return v1+v2\n",
    "    \n",
    "    if ops == '-':\n",
    "        return v1-v2\n",
    "    if ops == '*':\n",
    "        return v1*v2\n",
    "    if ops == '/':\n",
    "        return v1/v2\n",
    "    \n",
    "    \n",
    "    \n",
    "    \n",
    "def preced(ch):\n",
    "    \n",
    "    if ch in ['+','-']:\n",
    "        return 1\n",
    "    if ch in ['*','/']:\n",
    "        return 2\n",
    "    \n",
    "def infix_evaluation(exp):\n",
    "    stack_int = []\n",
    "    stack_op = []\n",
    "    \n",
    "    \n",
    "    \n",
    "    for ch in exp:\n",
    "        if ch == '(':\n",
    "            stack_op.append(ch)\n",
    "            \n",
    "        elif ch in ['+','-','*','/']:\n",
    "            while (len(stack_op)>0 and stack_op[-1]!= '(' and  preced(stack_op[-1]) >= preced(ch)):\n",
    "                operator = stack_op.pop()\n",
    "                v2 = stack_int.pop()\n",
    "                v1 = stack_int.pop()\n",
    "                value = solve(v1,v2,operator)\n",
    "                stack_int.append(int(value))\n",
    "            stack_op.append(ch)\n",
    "            \n",
    "            \n",
    "        elif ch == ')':\n",
    "            while (len(stack_op)>0 and stack_op[-1]!= '('):\n",
    "                operator = stack_op.pop()\n",
    "                v2 = stack_int.pop()\n",
    "                v1 = stack_int.pop()\n",
    "                value = solve(v1,v2,operator)\n",
    "                stack_int.append(value)  \n",
    "            if len(stack_op)>0:\n",
    "                stack_op.pop() # removing the last opening bracket\n",
    "                \n",
    "        ## adding number to the operanc\n",
    "        else:\n",
    "            stack_int.append(int(ch))\n",
    "            \n",
    "    while len(stack_op)>0:\n",
    "        operator = stack_op.pop()\n",
    "        v2 = stack_int.pop()\n",
    "        v1 = stack_int.pop()\n",
    "        value = solve(v1,v2,operator)\n",
    "        stack_int.append(value)  \n",
    "    print(stack_int.pop())\n",
    "infix_evaluation(exp)     "
   ]
  },
  {
   "cell_type": "code",
   "execution_count": 153,
   "metadata": {},
   "outputs": [
    {
     "data": {
      "text/plain": [
       "'*'"
      ]
     },
     "execution_count": 153,
     "metadata": {},
     "output_type": "execute_result"
    }
   ],
   "source": [
    "'*'[0]"
   ]
  },
  {
   "cell_type": "markdown",
   "metadata": {},
   "source": [
    "#### infix conversion"
   ]
  },
  {
   "cell_type": "code",
   "execution_count": 206,
   "metadata": {},
   "outputs": [
    {
     "name": "stdout",
     "output_type": "stream",
     "text": [
      "abc-d+*e/\n",
      "/*a+-bcde\n"
     ]
    }
   ],
   "source": [
    "exp = 'a*(b-c+d)/e'\n",
    "\n",
    "def preced(ch):\n",
    "    \n",
    "    if ch in ['+','-']:\n",
    "        return 1\n",
    "    if ch in ['*','/']:\n",
    "        return 2\n",
    "    \n",
    "\n",
    "def infix_conversion(exp):\n",
    "    \n",
    "    prefix = []\n",
    "    postfix = []\n",
    "    ops_stack = []\n",
    "    for ch in exp:\n",
    "        if ch == '(':\n",
    "            ops_stack.append(ch)\n",
    "            \n",
    "        elif ch in ['+','-','/','*']:\n",
    "            while (len(ops_stack)>0 and ops_stack[-1]!= '(' and  preced(ops_stack[-1]) >= preced(ch)):\n",
    "                operator = ops_stack.pop()\n",
    "                pre_v2 = prefix.pop()\n",
    "                pre_v1 = prefix.pop()\n",
    "                post_v2 = postfix.pop()\n",
    "                post_v1 = postfix.pop()\n",
    "                postfix.append(post_v1+post_v2+operator)\n",
    "                prefix.append(operator+pre_v1+pre_v2)\n",
    "            ops_stack.append(ch)\n",
    "                \n",
    "                \n",
    "        elif ch  == ')':\n",
    "            while (len(ops_stack)>0 and ops_stack[-1]!='('):\n",
    "                operator = ops_stack.pop()\n",
    "                pre_v2 = prefix.pop()\n",
    "                pre_v1 = prefix.pop()\n",
    "                post_v2 = postfix.pop()\n",
    "                post_v1 = postfix.pop()\n",
    "                postfix.append(post_v1+post_v2+operator)\n",
    "                prefix.append(operator+pre_v1+pre_v2)\n",
    "            if len(ops_stack)>0:\n",
    "                ops_stack.pop() # removing the opening bracket after getting closing bracket \n",
    "            \n",
    "        \n",
    "        else:\n",
    "            prefix.append(ch)\n",
    "            postfix.append(ch)\n",
    "            \n",
    "    while len(ops_stack)>0:\n",
    "                operator = ops_stack.pop()\n",
    "                pre_v2 = prefix.pop()\n",
    "                pre_v1 = prefix.pop()\n",
    "                post_v2 = postfix.pop()\n",
    "                post_v1 = postfix.pop()\n",
    "                postfix.append(post_v1+post_v2+operator)\n",
    "                prefix.append(operator+pre_v1+pre_v2)\n",
    "            \n",
    "        \n",
    "    print(postfix[0])\n",
    "    print(prefix[0])\n",
    "            \n",
    "            \n",
    "infix_conversion(exp)"
   ]
  },
  {
   "cell_type": "markdown",
   "metadata": {},
   "source": [
    "#### PostFix evaluation and conversion"
   ]
  },
  {
   "cell_type": "code",
   "execution_count": 211,
   "metadata": {},
   "outputs": [
    {
     "name": "stdout",
     "output_type": "stream",
     "text": [
      "['-+2/*6483'] ['((2+((6*4)/8))-3)'] [2]\n"
     ]
    }
   ],
   "source": [
    "exp  = '264*8/+3-'\n",
    "\n",
    "def solve(v1, v2, ch):\n",
    "    v1 = int(v1)\n",
    "    v2 = int(v2)\n",
    "    \n",
    "    if ch == '+':\n",
    "        return v1+v2\n",
    "    if ch == '-':\n",
    "        return v1-v2\n",
    "    if ch == '*':\n",
    "        return v1*v2\n",
    "    if ch == '/':\n",
    "        return v1/v2\n",
    "def postfix_conversion(exp):\n",
    "    \n",
    "    infix = []\n",
    "    prefix = []\n",
    "    ints = []\n",
    "    \n",
    "    for ch in exp:\n",
    "\n",
    "        \n",
    "        if ch in ['+','-','/','*']:\n",
    "            v2 = infix.pop()\n",
    "            v1 = infix.pop()\n",
    "            infix.append('('+v1+ch+v2+')')\n",
    "            \n",
    "            v2 = prefix.pop()\n",
    "            v1 = prefix.pop()\n",
    "            prefix.append(ch+v1+v2)\n",
    "            \n",
    "            v2 = ints.pop()\n",
    "            v1 = ints.pop()\n",
    "            ints.append(solve(v1,v2,ch))\n",
    "            \n",
    "            \n",
    "            \n",
    "            \n",
    "                \n",
    "        else:\n",
    "            infix.append(ch)\n",
    "            prefix.append(ch)\n",
    "            ints.append(int(ch))\n",
    "    print(prefix, infix, ints)\n",
    "postfix_conversion(exp)"
   ]
  },
  {
   "cell_type": "markdown",
   "metadata": {},
   "source": [
    "#### prefix evaluation and conversion"
   ]
  },
  {
   "cell_type": "code",
   "execution_count": 12,
   "metadata": {},
   "outputs": [
    {
     "name": "stdout",
     "output_type": "stream",
     "text": [
      "['264*8/+3-'] ['((2+((6*4)/8))-3)'] [2]\n"
     ]
    }
   ],
   "source": [
    "exp = '-+2/*6483'\n",
    "\n",
    "def solve(v1, v2, ch):\n",
    "    v1 = int(v1)\n",
    "    v2 = int(v2)\n",
    "    \n",
    "    if ch == '+':\n",
    "        return v1+v2\n",
    "    if ch == '-':\n",
    "        return v1-v2\n",
    "    if ch == '*':\n",
    "        return v1*v2\n",
    "    if ch == '/':\n",
    "        return v1/v2\n",
    "def prefix_conversion(exp):\n",
    "    \n",
    "    infix = []\n",
    "    postfix = []\n",
    "    ints = []\n",
    "    \n",
    "    for i in reversed(range(len(exp))):\n",
    "        ch = exp[i]\n",
    "\n",
    "        \n",
    "        if ch in ['+','-','/','*']:\n",
    "            v1 = infix.pop()\n",
    "            v2 = infix.pop()\n",
    "            infix.append('('+v1+ch+v2+')')\n",
    "            \n",
    "            v1 = postfix.pop()\n",
    "            v2 = postfix.pop()\n",
    "            postfix.append(v1+v2+ch)\n",
    "            \n",
    "            v1 = ints.pop()\n",
    "            v2 = ints.pop()\n",
    "            ints.append(solve(v1,v2,ch))\n",
    "            \n",
    "            \n",
    "            \n",
    "            \n",
    "                \n",
    "        else:\n",
    "            infix.append(ch)\n",
    "            postfix.append(ch)\n",
    "            ints.append(int(ch))\n",
    "    print(postfix, infix, ints)\n",
    "prefix_conversion(exp)\n",
    "    "
   ]
  },
  {
   "cell_type": "markdown",
   "metadata": {},
   "source": [
    "#### Celebrity Problem"
   ]
  },
  {
   "cell_type": "code",
   "execution_count": 31,
   "metadata": {},
   "outputs": [
    {
     "name": "stdout",
     "output_type": "stream",
     "text": [
      "2\n"
     ]
    }
   ],
   "source": [
    "arr = [[0,1,1,1],\n",
    "       [0,0,1,1],\n",
    "       [0,0,0,0],\n",
    "       [1,0,1,0]]\n",
    "\n",
    "def find_celebrity(arr):\n",
    "    n = len(arr)\n",
    "    stack = []\n",
    "    for i in range(n):\n",
    "        stack.append(i)\n",
    "    while len(stack)>1:\n",
    "        i = stack.pop()\n",
    "        j = stack.pop()\n",
    "            \n",
    "        if arr[i][j] == 1:\n",
    "            stack.append(j) # i knows j means i can't be celebrity\n",
    "        else:\n",
    "            stack.append(i) # j cant be celebrity\n",
    "                \n",
    "    #### possible celebrity is 2 now confirming that by taking another iteration\n",
    "    possible_clb = stack.pop()\n",
    "    for i in range(n):\n",
    "        if i != possible_clb:            \n",
    "            if (arr[possible_clb][i] == 1) or (arr[i][possible_clb] == 0):\n",
    "                print('none',end = '')\n",
    "                return\n",
    "    print(possible_clb)\n",
    "    return\n",
    "                \n",
    "    \n",
    "        \n",
    "find_celebrity(arr)"
   ]
  },
  {
   "cell_type": "code",
   "execution_count": 29,
   "metadata": {},
   "outputs": [
    {
     "name": "stdout",
     "output_type": "stream",
     "text": [
      "0\n"
     ]
    }
   ],
   "source": [
    "arr=[[0,0,0,0],\n",
    "    [1,0,1,1],\n",
    "    [1,1,0,1],\n",
    "    [1,1,1,0]]\n",
    "\n",
    "\n",
    "find_celebrity(arr)"
   ]
  },
  {
   "cell_type": "markdown",
   "metadata": {},
   "source": [
    "merging"
   ]
  },
  {
   "cell_type": "code",
   "execution_count": 72,
   "metadata": {
    "scrolled": true
   },
   "outputs": [
    {
     "name": "stdout",
     "output_type": "stream",
     "text": [
      "[1, 2, 3, 4, 5, 6, 7, 8, 9, 10, 11, 12, 13, 14, 89]\n"
     ]
    }
   ],
   "source": [
    "a1 = [1,2,3,4,5,6,7,8,89]\n",
    "a2 = [2,3,4,5,9,10,11,12,13,14]\n",
    "\n",
    "\n",
    "def merge(a1, a2):\n",
    "    i = 0\n",
    "    j = 0\n",
    "    ans = []\n",
    "    while i < len(a1) and j < len(a2):\n",
    "     \n",
    "\n",
    "\n",
    "            \n",
    "        if a1[i]<a2[j]:\n",
    "            ans.append(a1[i])\n",
    "            i+=1\n",
    "        \n",
    "        elif a1[i]==a2[j]:\n",
    "            ans.append(a1[i])\n",
    "            i+=1\n",
    "            j+=1  \n",
    "            \n",
    "        else:\n",
    "            ans.append(a2[j])\n",
    "            j+=1\n",
    "        \n",
    "        \n",
    "    while j<len(a2):\n",
    "        ans.append(a2[j])\n",
    "        j+=1\n",
    "        \n",
    "    while i<len(a1):\n",
    "        ans.append(a1[i])\n",
    "        i+=1\n",
    "        \n",
    "    print(ans)\n",
    "    \n",
    "    \n",
    "merge(a1,a2)\n",
    "            "
   ]
  },
  {
   "cell_type": "markdown",
   "metadata": {},
   "source": [
    "#### Merge ovelapping intervals "
   ]
  },
  {
   "cell_type": "code",
   "execution_count": 95,
   "metadata": {},
   "outputs": [
    {
     "name": "stdout",
     "output_type": "stream",
     "text": [
      "[[1, 12], [14, 19], [22, 30]]\n"
     ]
    }
   ],
   "source": [
    "a = [[22,28],\n",
    "    [1,8],\n",
    "    [25,27],\n",
    "    [14,19],\n",
    "    [27,30],\n",
    "    [5,12]]\n",
    "\n",
    "\n",
    "def merge_intervals(a):\n",
    "    a.sort(key = lambda x:x[0])\n",
    "\n",
    "    stack = []\n",
    "    for intr in a:\n",
    "        \n",
    "        if len(stack)>0 and stack[-1][1]>=intr[0]:\n",
    "            # overlapping condition\n",
    "            last = stack.pop()\n",
    "            stack.append([min(intr[0],last[0]), max(intr[1], last[1])])\n",
    "        else:\n",
    "            stack.append(intr)\n",
    "    print(stack)\n",
    "merge_intervals(a)"
   ]
  },
  {
   "cell_type": "markdown",
   "metadata": {},
   "source": [
    "### Smallest Number following patterns"
   ]
  },
  {
   "cell_type": "code",
   "execution_count": 105,
   "metadata": {},
   "outputs": [
    {
     "name": "stdout",
     "output_type": "stream",
     "text": [
      "321765498"
     ]
    }
   ],
   "source": [
    "exp = 'ddidddid'\n",
    "\n",
    "def pattern(exp):\n",
    "    num = 1\n",
    "    stack = []\n",
    "    \n",
    "    for ch in exp:\n",
    "        if ch == 'd':\n",
    "            stack.append(num)\n",
    "            num+=1\n",
    "        elif ch == 'i':\n",
    "            stack.append(num)\n",
    "            num+=1\n",
    "            while len(stack)>0:\n",
    "                print(stack.pop(),end = '')\n",
    "    stack.append(num)\n",
    "    while len(stack)>0:\n",
    "        print(stack.pop(),end = '')\n",
    "pattern(exp)"
   ]
  },
  {
   "cell_type": "markdown",
   "metadata": {},
   "source": [
    "#### Normal Stack (fixed size)"
   ]
  },
  {
   "cell_type": "code",
   "execution_count": 511,
   "metadata": {},
   "outputs": [],
   "source": [
    "class CustomStack:\n",
    "       \n",
    "    def __init__(self , cap):\n",
    "        self.cap = cap\n",
    "        self.tos = -1\n",
    "        self.arr = []\n",
    "        self.arr = [0] * cap\n",
    "       \n",
    "    def size(self):\n",
    "        # write your code here\n",
    "        return self.tos+1\n",
    "       \n",
    "\n",
    "    def push(self , data):\n",
    "        # write your code here\n",
    "        if self.tos +1 == self.cap:\n",
    "            print('Stack overflow')\n",
    "            return -1 \n",
    "        else:\n",
    "            self.tos+=1\n",
    "            self.arr[self.tos] = data\n",
    "       \n",
    "    def top(self):\n",
    "        if self.tos  != -1:\n",
    "            return self.arr[self.tos]\n",
    "        else:\n",
    "            print('Stack underflow')\n",
    "            return -1\n",
    "        # write ur code here\n",
    "\n",
    "   \n",
    "    def pop(self):\n",
    "        # write ur code here\n",
    "        if self.tos != -1:\n",
    "            v =  self.arr[self.tos]\n",
    "            self.arr[self.tos] = None\n",
    "            self.tos-=1\n",
    "            return v\n",
    "        else:\n",
    "            print('Stack underflow')\n",
    "        \n",
    "       \n",
    "       \n",
    "    def display(self):\n",
    "        i = self.tos\n",
    "        while i >= 0:\n",
    "            print(self.arr[i], end = ' ')\n",
    "            i -=1\n",
    "        print()\n",
    "            \n",
    "       \n",
    "\n",
    "\n",
    "\n"
   ]
  },
  {
   "cell_type": "code",
   "execution_count": 523,
   "metadata": {},
   "outputs": [],
   "source": [
    "stack = CustomStack(5)\n"
   ]
  },
  {
   "cell_type": "code",
   "execution_count": 524,
   "metadata": {},
   "outputs": [
    {
     "name": "stdout",
     "output_type": "stream",
     "text": [
      "10 \n",
      "20 10 \n",
      "30 20 10 \n",
      "40 30 20 10 \n",
      "50 40 30 20 10 \n"
     ]
    }
   ],
   "source": [
    "stack.push(10)\n",
    "stack.display()\n",
    "stack.push(20)\n",
    "stack.display()\n",
    "stack.push(30)\n",
    "stack.display()\n",
    "stack.push(40)\n",
    "stack.display()\n",
    "stack.push(50)\n",
    "stack.display()\n"
   ]
  },
  {
   "cell_type": "markdown",
   "metadata": {},
   "source": [
    "#### Minimum stack"
   ]
  },
  {
   "cell_type": "code",
   "execution_count": 595,
   "metadata": {},
   "outputs": [],
   "source": [
    "class MinStack:\n",
    "       \n",
    "    def __init__(self):\n",
    "        self.alldata = []\n",
    "        self.mindata = []\n",
    "       \n",
    "    def size(self):\n",
    "        # write your code here\n",
    "        return len(self.alldata)\n",
    "       \n",
    "\n",
    "    def push(self , data):\n",
    "        self.alldata.append(int(data))\n",
    "        \n",
    "        if len(self.mindata) == 0 or (self.mindata[-1] >= int(data)):\n",
    "            self.mindata.append(data)\n",
    "       \n",
    "    def top(self):\n",
    "        if self.alldata ==0:\n",
    "            print('Stack underflow')\n",
    "            return -1\n",
    "        else:\n",
    "            return self.alldata[-1]\n",
    "    \n",
    "    def minimum(self):\n",
    "        if len(self.mindata) == 0:\n",
    "            print('Stack underflow')\n",
    "            return -1\n",
    "        else:\n",
    "            return self.mindata[-1]\n",
    " \n",
    "   \n",
    "    def pop(self):\n",
    "        if len(self.alldata) == 0:\n",
    "            print('Stack underflow')\n",
    "            return -1\n",
    "        else:\n",
    "            rm = self.alldata.pop()\n",
    "            if rm == self.mindata[-1]:\n",
    "                self.mindata.pop()\n",
    "            return rm\n",
    "        \n",
    "       \n",
    "    \n",
    "       \n"
   ]
  },
  {
   "cell_type": "code",
   "execution_count": 596,
   "metadata": {},
   "outputs": [],
   "source": [
    "stack = CustomStack()"
   ]
  },
  {
   "cell_type": "code",
   "execution_count": 597,
   "metadata": {},
   "outputs": [],
   "source": [
    "stack.push(10)\n",
    "stack.push(30)\n",
    "stack.push(-1)\n",
    "stack.push(20)\n"
   ]
  },
  {
   "cell_type": "code",
   "execution_count": 598,
   "metadata": {},
   "outputs": [
    {
     "name": "stdout",
     "output_type": "stream",
     "text": [
      "[10, 30, -1, 20]\n"
     ]
    }
   ],
   "source": [
    "print(stack.alldata)"
   ]
  },
  {
   "cell_type": "code",
   "execution_count": 599,
   "metadata": {},
   "outputs": [
    {
     "name": "stdout",
     "output_type": "stream",
     "text": [
      "[10, -1]\n"
     ]
    }
   ],
   "source": [
    "print(stack.mindata)"
   ]
  },
  {
   "cell_type": "markdown",
   "metadata": {},
   "source": [
    "#### MinSTack Constant Space"
   ]
  },
  {
   "cell_type": "code",
   "execution_count": 686,
   "metadata": {},
   "outputs": [],
   "source": [
    "import sys\n",
    "class MinStack:\n",
    "       \n",
    "    def __init__(self):\n",
    "        self.alldata = []\n",
    "        self.minval = sys.maxsize\n",
    "       \n",
    "    def size(self):\n",
    "        # write your code here\n",
    "        return len(self.alldata)\n",
    "       \n",
    "\n",
    "    def push(self , data):\n",
    "        if self.size() == 0:\n",
    "            self.minval = int(data)\n",
    "            self.alldata.append(int(data))\n",
    "\n",
    "        elif data<self.minval:\n",
    "            # encryption (val+val-minval)\n",
    "            self.alldata.append((data+data-self.minval))\n",
    "            self.minval = data\n",
    "        else:\n",
    "            ### no encryption\n",
    "            self.alldata.append(int(data))\n",
    "       \n",
    "    def top(self):\n",
    "        if self.size() == 0:\n",
    "            print('Stack underflow')\n",
    "            return -1\n",
    "        elif self.alldata[-1]< self.minval:\n",
    "            return self.minval\n",
    "        else:\n",
    "            return self.alldata[-1]\n",
    "    \n",
    "    def minimum(self):\n",
    "        return self.minval\n",
    " \n",
    "   \n",
    "    def pop(self):\n",
    "        if self.size() != 0:\n",
    "            if self.alldata[-1]>self.minval:\n",
    "                return self.alldata.pop()\n",
    "\n",
    "            elif self.alldata[-1]< self.minval:\n",
    "                v = self.minval\n",
    "                fake = self.alldata.pop()\n",
    "                self.minval = 2*v - fake\n",
    "                return v\n",
    "            elif self.alldata[-1] == self.minval:\n",
    "                self.minval = sys.maxsize\n",
    "                return self.alldata.pop()\n",
    "                \n",
    "                \n",
    "            \n",
    "        else:\n",
    "            print('Stack underflow')\n",
    "            return -1\n",
    "       \n",
    "    \n",
    "       \n"
   ]
  },
  {
   "cell_type": "code",
   "execution_count": 697,
   "metadata": {},
   "outputs": [],
   "source": [
    "stack = MinStack()\n",
    "stack.push(10)\n",
    "stack.push(30)\n",
    "stack.push(-50)\n",
    "stack.push(20)\n",
    "stack.push(-10)"
   ]
  },
  {
   "cell_type": "code",
   "execution_count": 715,
   "metadata": {},
   "outputs": [
    {
     "data": {
      "text/plain": [
       "9223372036854775807"
      ]
     },
     "execution_count": 715,
     "metadata": {},
     "output_type": "execute_result"
    }
   ],
   "source": [
    "stack.minimum()"
   ]
  },
  {
   "cell_type": "code",
   "execution_count": 714,
   "metadata": {},
   "outputs": [
    {
     "name": "stdout",
     "output_type": "stream",
     "text": [
      "Stack underflow\n"
     ]
    },
    {
     "data": {
      "text/plain": [
       "-1"
      ]
     },
     "execution_count": 714,
     "metadata": {},
     "output_type": "execute_result"
    }
   ],
   "source": [
    "stack.top()"
   ]
  },
  {
   "cell_type": "code",
   "execution_count": 713,
   "metadata": {},
   "outputs": [
    {
     "data": {
      "text/plain": [
       "10"
      ]
     },
     "execution_count": 713,
     "metadata": {},
     "output_type": "execute_result"
    }
   ],
   "source": [
    "stack.pop()"
   ]
  },
  {
   "cell_type": "markdown",
   "metadata": {},
   "source": [
    "## Single array two stack "
   ]
  },
  {
   "cell_type": "code",
   "execution_count": 758,
   "metadata": {},
   "outputs": [],
   "source": [
    "class twostack:\n",
    "    def __init__(self,cap):\n",
    "        self.cap = cap\n",
    "        self.alldata = [None]*cap\n",
    "        self.tos1 = -1\n",
    "        self.tos2 = cap\n",
    "        \n",
    "    \n",
    "    def size1(self):\n",
    "        return self.tos1+1\n",
    "        \n",
    "    def size2(self):\n",
    "        return self.tos2+1\n",
    "        \n",
    "    def push1(self, data):\n",
    "        if self.tos1+1<self.tos2:\n",
    "            self.tos1+=1\n",
    "            self.alldata[self.tos1] = data\n",
    "        else:\n",
    "            return 'Stack overflow'\n",
    "        \n",
    "    def push2(self,data):\n",
    "        if self.tos2 > self.tos1+1:\n",
    "            self.tos2-=1\n",
    "            self.alldata[self.tos2] = data\n",
    "        else:\n",
    "            return 'Stack overflow'\n",
    "    def pop1(self):\n",
    "        \n",
    "        rm = self.alldata[self.tos1]\n",
    "        self.alldata[self.tos1] = None\n",
    "        self.tos1 -=1\n",
    "        return rm\n",
    "    \n",
    "    def pop2(self):\n",
    "        rm = self.alldata[self.tos2]\n",
    "        self.alldata[self.tos2] = None\n",
    "        self.tos2 +=1\n",
    "        return rm\n",
    "        \n",
    "    def top1(self):\n",
    "        if self.tos1 != -1:\n",
    "            return self.alldata[self.tos1]\n",
    "        else:\n",
    "            return 'Stack underflow'\n",
    "    \n",
    "    def top2(self):\n",
    "        if self.tos2 != self.cap:\n",
    "            return self.alldata[self.tos2]\n",
    "        else:\n",
    "            return 'Stack underflow'\n",
    "        \n",
    "        "
   ]
  },
  {
   "cell_type": "code",
   "execution_count": 770,
   "metadata": {},
   "outputs": [],
   "source": [
    "stack = twostack(5)"
   ]
  },
  {
   "cell_type": "code",
   "execution_count": 771,
   "metadata": {},
   "outputs": [
    {
     "data": {
      "text/plain": [
       "'Stack overflow'"
      ]
     },
     "execution_count": 771,
     "metadata": {},
     "output_type": "execute_result"
    }
   ],
   "source": [
    "\n",
    "stack.push1(5)\n",
    "stack.push1(10)\n",
    "stack.push2(5)\n",
    "stack.push2(10)\n",
    "stack.push1(15)\n",
    "stack.push2(2)"
   ]
  },
  {
   "cell_type": "code",
   "execution_count": null,
   "metadata": {},
   "outputs": [],
   "source": []
  },
  {
   "cell_type": "code",
   "execution_count": 796,
   "metadata": {},
   "outputs": [
    {
     "data": {
      "text/plain": [
       "[None, None, None, None, None]"
      ]
     },
     "execution_count": 796,
     "metadata": {},
     "output_type": "execute_result"
    }
   ],
   "source": [
    "stack.alldata"
   ]
  },
  {
   "cell_type": "code",
   "execution_count": 795,
   "metadata": {},
   "outputs": [
    {
     "data": {
      "text/plain": [
       "'Stack underflow'"
      ]
     },
     "execution_count": 795,
     "metadata": {},
     "output_type": "execute_result"
    }
   ],
   "source": [
    "stack.top1()"
   ]
  },
  {
   "cell_type": "code",
   "execution_count": 780,
   "metadata": {},
   "outputs": [
    {
     "data": {
      "text/plain": [
       "'Stack underflow'"
      ]
     },
     "execution_count": 780,
     "metadata": {},
     "output_type": "execute_result"
    }
   ],
   "source": [
    "stack.top2()"
   ]
  },
  {
   "cell_type": "code",
   "execution_count": 794,
   "metadata": {},
   "outputs": [
    {
     "data": {
      "text/plain": [
       "5"
      ]
     },
     "execution_count": 794,
     "metadata": {},
     "output_type": "execute_result"
    }
   ],
   "source": [
    "stack.pop1()"
   ]
  },
  {
   "cell_type": "code",
   "execution_count": null,
   "metadata": {},
   "outputs": [],
   "source": []
  }
 ],
 "metadata": {
  "kernelspec": {
   "display_name": "Python 3",
   "language": "python",
   "name": "python3"
  },
  "language_info": {
   "codemirror_mode": {
    "name": "ipython",
    "version": 3
   },
   "file_extension": ".py",
   "mimetype": "text/x-python",
   "name": "python",
   "nbconvert_exporter": "python",
   "pygments_lexer": "ipython3",
   "version": "3.8.5"
  }
 },
 "nbformat": 4,
 "nbformat_minor": 4
}
