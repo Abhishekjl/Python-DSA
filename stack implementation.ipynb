{
 "cells": [
  {
   "cell_type": "code",
   "execution_count": 42,
   "metadata": {},
   "outputs": [],
   "source": [
    "class stack:\n",
    "    def __init__(self):\n",
    "        self.list = []\n",
    "    \n",
    "    def __str__(self):\n",
    "        self.list.reverse()\n",
    "        values = [str(x) for x in self.list]\n",
    "        return '\\n'.join(values)\n",
    "    \n",
    "    def is_empty(self):\n",
    "        if self.list == []:\n",
    "            return True\n",
    "        else:\n",
    "            False\n",
    "    \n",
    "    def push(self, value):\n",
    "        self.list.append(value)\n",
    "    \n",
    "    def peek(self):\n",
    "        if not self.is_empty():\n",
    "            return self.list[-1]\n",
    "        \n",
    "    def delete(self):\n",
    "        self.list = None\n",
    "        \n",
    "\n",
    "        \n",
    "st1 = stack()"
   ]
  },
  {
   "cell_type": "code",
   "execution_count": 46,
   "metadata": {
    "scrolled": true
   },
   "outputs": [
    {
     "data": {
      "text/plain": [
       "66"
      ]
     },
     "execution_count": 46,
     "metadata": {},
     "output_type": "execute_result"
    }
   ],
   "source": [
    "st1.peek()"
   ]
  },
  {
   "cell_type": "code",
   "execution_count": 47,
   "metadata": {},
   "outputs": [],
   "source": [
    "st1.push(16)\n",
    "st1.push(26)\n",
    "st1.push(66)"
   ]
  },
  {
   "cell_type": "code",
   "execution_count": 48,
   "metadata": {},
   "outputs": [
    {
     "name": "stdout",
     "output_type": "stream",
     "text": [
      "66\n",
      "26\n",
      "16\n",
      "66\n",
      "26\n",
      "16\n"
     ]
    }
   ],
   "source": [
    "print(st1)"
   ]
  },
  {
   "cell_type": "markdown",
   "metadata": {},
   "source": [
    "### stack with max size limit"
   ]
  },
  {
   "cell_type": "code",
   "execution_count": 39,
   "metadata": {},
   "outputs": [],
   "source": [
    "class stack:\n",
    "    def __init__(self, maxSize):\n",
    "        self.list = [] # time complexity =  O(1)\n",
    "        self.maxSize = maxSize\n",
    "    def __str__(self):\n",
    "        values = self.list.reverse()\n",
    "        values = [str(x) for x in self.list]\n",
    "        return '\\n'.join(values)\n",
    "    \n",
    "    ### isemtply method\n",
    "    def isempty(self):\n",
    "        if len(self.list) == 0:\n",
    "            return True\n",
    "        else:\n",
    "            return False\n",
    "        \n",
    "        # check if stack is full or not\n",
    "        \n",
    "    def isFull(self):\n",
    "        if len(self.list) == self.maxSize:\n",
    "            return True\n",
    "        else:\n",
    "            return False\n",
    "        \n",
    "        \n",
    "    ## push method\n",
    "    def push(self, data):\n",
    "        if self.isFull():\n",
    "            return \"stack is full\"\n",
    "        else:\n",
    "            self.list.append(data)\n",
    "            return \"data has added successfully\"\n",
    "    \n",
    "    # pop method\n",
    "    def pop(self):\n",
    "        if self.isempty():\n",
    "            return \"stack is empty\"\n",
    "        else:\n",
    "            return self.list.pop()\n",
    "        \n",
    "        \n",
    "    # peek method\n",
    "    def peek(self):\n",
    "        if self.isempty():\n",
    "            return \"stack is empty\"\n",
    "        else:\n",
    "            return self.list[len(self.list)-1]\n",
    "     \n",
    "    ### deleting stack\n",
    "    \n",
    "    def delete(self):\n",
    "        self.list = None # python garbage collector will automatically delete this \n",
    "    \n",
    "    "
   ]
  },
  {
   "cell_type": "code",
   "execution_count": 41,
   "metadata": {},
   "outputs": [
    {
     "name": "stdout",
     "output_type": "stream",
     "text": [
      "\n"
     ]
    }
   ],
   "source": [
    "stack = stack(maxSize = 5)\n",
    "print(stack)"
   ]
  },
  {
   "cell_type": "code",
   "execution_count": 42,
   "metadata": {},
   "outputs": [
    {
     "data": {
      "text/plain": [
       "'data has added successfully'"
      ]
     },
     "execution_count": 42,
     "metadata": {},
     "output_type": "execute_result"
    }
   ],
   "source": [
    "stack.push(8)\n",
    "stack.push(7)\n",
    "stack.push(5)\n",
    "stack.push(4)\n",
    "stack.push(3)\n"
   ]
  },
  {
   "cell_type": "code",
   "execution_count": 43,
   "metadata": {
    "scrolled": true
   },
   "outputs": [
    {
     "name": "stdout",
     "output_type": "stream",
     "text": [
      "3\n",
      "4\n",
      "5\n",
      "7\n",
      "8\n"
     ]
    }
   ],
   "source": [
    "print(stack)"
   ]
  },
  {
   "cell_type": "code",
   "execution_count": 44,
   "metadata": {
    "scrolled": true
   },
   "outputs": [
    {
     "data": {
      "text/plain": [
       "8"
      ]
     },
     "execution_count": 44,
     "metadata": {},
     "output_type": "execute_result"
    }
   ],
   "source": [
    "stack.peek()"
   ]
  },
  {
   "cell_type": "code",
   "execution_count": 45,
   "metadata": {},
   "outputs": [
    {
     "data": {
      "text/plain": [
       "'stack is full'"
      ]
     },
     "execution_count": 45,
     "metadata": {},
     "output_type": "execute_result"
    }
   ],
   "source": [
    "stack.push(5)"
   ]
  },
  {
   "cell_type": "markdown",
   "metadata": {},
   "source": [
    "### Stack using linked list "
   ]
  },
  {
   "cell_type": "code",
   "execution_count": 77,
   "metadata": {},
   "outputs": [],
   "source": [
    "class Node:\n",
    "    def __init__(self, data):\n",
    "        self.data = data\n",
    "        self.next = None\n",
    "        \n",
    "class LinkedList:\n",
    "    def __init__(self):\n",
    "        self.head = None\n",
    "        \n",
    "    def __iter__(self):\n",
    "        currentNode = self.head\n",
    "        while currentNode:\n",
    "            yield currentNode\n",
    "            currentNode = currentNode.next\n",
    "        \n",
    "class Stack:\n",
    "    def __init__(self):\n",
    "        self.LinkedList = LinkedList()\n",
    "        \n",
    "    def __str__(self):\n",
    "        values = [str(x.data) for x in self.LinkedList]\n",
    "        return '\\n'.join(values)\n",
    "    \n",
    "    def isempty(self):\n",
    "        if self.LinkedList.head == None:\n",
    "            return True\n",
    "        else:\n",
    "            return False\n",
    "    \n",
    "    def push(self, value):\n",
    "        newNode = Node(value)\n",
    "        if self.isempty():\n",
    "            self.LinkedList.head = newNode\n",
    "        else:\n",
    "            newNode.next = self.LinkedList.head\n",
    "            self.LinkedList.head=  newNode\n",
    "      \n",
    "    def pop(self):\n",
    "        if self.isempty():\n",
    "            return \"stack is empty\"\n",
    "        \n",
    "        else:\n",
    "            nodeValue = self.LinkedList.head\n",
    "            \n",
    "            self.LinkedList.head = nodeValue.next\n",
    "            return nodeValue.data\n",
    "        \n",
    "    def peek(self):\n",
    "        if self.isempty():\n",
    "            return 'Stack is empty'\n",
    "        else:\n",
    "            nodeValue = self.LinkedList.head.data\n",
    "            return nodeValue\n",
    "        \n",
    "        \n",
    "        \n",
    "    def delete(self):\n",
    "        self.LinkedList.head = None   # the head referencing node cant be deleted here "
   ]
  },
  {
   "cell_type": "code",
   "execution_count": 78,
   "metadata": {},
   "outputs": [],
   "source": [
    "customstack = Stack()"
   ]
  },
  {
   "cell_type": "code",
   "execution_count": 79,
   "metadata": {},
   "outputs": [],
   "source": [
    "customstack.push(5)\n",
    "customstack.push(8)\n",
    "customstack.push(0)"
   ]
  },
  {
   "cell_type": "code",
   "execution_count": 80,
   "metadata": {},
   "outputs": [
    {
     "name": "stdout",
     "output_type": "stream",
     "text": [
      "0\n",
      "8\n",
      "5\n"
     ]
    }
   ],
   "source": [
    "print(customstack)\n"
   ]
  },
  {
   "cell_type": "code",
   "execution_count": 81,
   "metadata": {},
   "outputs": [
    {
     "name": "stdout",
     "output_type": "stream",
     "text": [
      "False\n"
     ]
    }
   ],
   "source": [
    "print(customstack.isempty())"
   ]
  },
  {
   "cell_type": "code",
   "execution_count": 82,
   "metadata": {},
   "outputs": [
    {
     "data": {
      "text/plain": [
       "0"
      ]
     },
     "execution_count": 82,
     "metadata": {},
     "output_type": "execute_result"
    }
   ],
   "source": [
    "customstack.pop()"
   ]
  },
  {
   "cell_type": "code",
   "execution_count": 83,
   "metadata": {},
   "outputs": [
    {
     "name": "stdout",
     "output_type": "stream",
     "text": [
      "8\n",
      "5\n"
     ]
    }
   ],
   "source": [
    "print(customstack)"
   ]
  },
  {
   "cell_type": "code",
   "execution_count": 84,
   "metadata": {},
   "outputs": [
    {
     "data": {
      "text/plain": [
       "8"
      ]
     },
     "execution_count": 84,
     "metadata": {},
     "output_type": "execute_result"
    }
   ],
   "source": [
    "\n",
    "customstack.peek()"
   ]
  },
  {
   "cell_type": "code",
   "execution_count": 85,
   "metadata": {},
   "outputs": [],
   "source": [
    "customstack.delete()"
   ]
  },
  {
   "cell_type": "code",
   "execution_count": 88,
   "metadata": {},
   "outputs": [
    {
     "name": "stdout",
     "output_type": "stream",
     "text": [
      "Stack is empty\n"
     ]
    }
   ],
   "source": [
    "\n",
    "print(customstack.peek())"
   ]
  },
  {
   "cell_type": "code",
   "execution_count": 18,
   "metadata": {},
   "outputs": [],
   "source": [
    "a = [1,1,2,2,0,1,2,2,1,0,1,0,1]\n",
    "\n",
    "def sort_dnf(a):\n",
    "    i = 0\n",
    "    j = 0\n",
    "    k = len(a)-1\n",
    "    while i<len(a) and k>i:\n",
    "\n",
    "        if a[i] == 0:\n",
    "            a[i],a[j] = a[j],a[i]\n",
    "            i+=1\n",
    "            j+=1\n",
    "            \n",
    "        \n",
    "        elif a[i] == 1:\n",
    "            i+=1\n",
    "            \n",
    "        \n",
    "        elif a[i] == 2:\n",
    "            a[i],a[k] = a[k],a[i]\n",
    "            k-=1\n",
    "            \n",
    "    return a\n",
    "            \n"
   ]
  },
  {
   "cell_type": "code",
   "execution_count": 19,
   "metadata": {},
   "outputs": [
    {
     "data": {
      "text/plain": [
       "[0, 0, 0, 1, 1, 1, 1, 1, 1, 2, 2, 2, 2]"
      ]
     },
     "execution_count": 19,
     "metadata": {},
     "output_type": "execute_result"
    }
   ],
   "source": [
    "sort_dnf(a)"
   ]
  },
  {
   "cell_type": "code",
   "execution_count": null,
   "metadata": {},
   "outputs": [],
   "source": []
  }
 ],
 "metadata": {
  "kernelspec": {
   "display_name": "Python 3",
   "language": "python",
   "name": "python3"
  },
  "language_info": {
   "codemirror_mode": {
    "name": "ipython",
    "version": 3
   },
   "file_extension": ".py",
   "mimetype": "text/x-python",
   "name": "python",
   "nbconvert_exporter": "python",
   "pygments_lexer": "ipython3",
   "version": "3.8.5"
  }
 },
 "nbformat": 4,
 "nbformat_minor": 5
}
