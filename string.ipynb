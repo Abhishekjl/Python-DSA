{
 "cells": [
  {
   "cell_type": "code",
   "execution_count": 23,
   "metadata": {},
   "outputs": [
    {
     "name": "stdout",
     "output_type": "stream",
     "text": [
      "1\n"
     ]
    }
   ],
   "source": [
    "#### beautiful question problem\n",
    "\n",
    "k = 3\n",
    "a = [4,2,6,1,10]\n",
    "\n",
    "a = [4,2]\n",
    "k = 3\n",
    "def workBook(a,k):\n",
    "    ledger = []\n",
    "    count = 0\n",
    "    page_num = 1-1\n",
    "    for i in a:\n",
    "        prob_i = 1\n",
    "        prob_f = i\n",
    "        while prob_i<=prob_f:\n",
    "            if i>=k:\n",
    "                ledger.append([x for x in range(prob_i, k+prob_i)])\n",
    "                i = i-k\n",
    "                prob_i = prob_i+k\n",
    "            else:\n",
    "                ledger.append([x for x in range(prob_i,1+prob_f)])\n",
    "                break\n",
    "    for i in range(len(ledger)):\n",
    "        page_num = i+1\n",
    "        for prb in ledger[i]:\n",
    "            if prb == page_num:\n",
    "                count+=1\n",
    "    print(count)\n",
    "        \n",
    "        \n",
    "#     return ledger\n",
    "\n",
    "workBook(a,k)\n",
    "        \n",
    "        \n",
    "            \n",
    "        "
   ]
  },
  {
   "cell_type": "markdown",
   "metadata": {},
   "source": [
    "#### flatland question"
   ]
  },
  {
   "cell_type": "code",
   "execution_count": 52,
   "metadata": {
    "scrolled": true
   },
   "outputs": [
    {
     "name": "stdout",
     "output_type": "stream",
     "text": [
      "0\n"
     ]
    }
   ],
   "source": [
    "c = [0,1,2,3,4,5]\n",
    "n = 6\n",
    "import math\n",
    "def flatlandSpaceStations(n, c):\n",
    "    final_dist = []\n",
    "    \n",
    "    for i in range(n):\n",
    "        min_dist = []\n",
    "        for s in c:\n",
    "            dist = i-s\n",
    "            if dist<0:\n",
    "                dist*=-1\n",
    "            min_dist.append(dist)\n",
    "        final_dist.append(min(min_dist))\n",
    "    print(max(final_dist))\n",
    "        \n",
    "\n",
    "    \n",
    "flatlandSpaceStations(n,c)\n",
    "    "
   ]
  },
  {
   "cell_type": "code",
   "execution_count": 19,
   "metadata": {},
   "outputs": [
    {
     "data": {
      "text/plain": [
       "2"
      ]
     },
     "execution_count": 19,
     "metadata": {},
     "output_type": "execute_result"
    }
   ],
   "source": [
    "c = [0,4]\n",
    "n = 6\n",
    "import math\n",
    "def flatlandSpaceStations(n, c):\n",
    "    ans = 0\n",
    "    c.sort()\n",
    "    begin_distance = c[0]-0\n",
    "    ans = max(ans,begin_distance)\n",
    "    \n",
    "    ## chain 2  find the middle element \n",
    "    for i in range(len(c)-1):\n",
    "        length = c[i+1]-c[i]-1\n",
    "        if length%2 == 0:\n",
    "            mid = length /2\n",
    "            ans = max(ans,mid)\n",
    "        else:\n",
    "            mid = (length+1)/2\n",
    "            ans = max(ans,mid)\n",
    "            \n",
    "    ans = max(ans,(n-1-c[-1]))\n",
    "            \n",
    "    return int(ans)\n",
    "            \n",
    "flatlandSpaceStations(n,c)"
   ]
  },
  {
   "cell_type": "code",
   "execution_count": 9,
   "metadata": {},
   "outputs": [
    {
     "data": {
      "text/plain": [
       "[1]"
      ]
     },
     "execution_count": 9,
     "metadata": {},
     "output_type": "execute_result"
    }
   ],
   "source": [
    "[x for x in range(1, 1+1)]"
   ]
  },
  {
   "cell_type": "markdown",
   "metadata": {},
   "source": [
    "#### printing all the pelindrome string"
   ]
  },
  {
   "cell_type": "code",
   "execution_count": 78,
   "metadata": {},
   "outputs": [
    {
     "name": "stdout",
     "output_type": "stream",
     "text": [
      "207\n"
     ]
    }
   ],
   "source": [
    "p = 20\n",
    "d = 3\n",
    "m =6 \n",
    "s = 50\n",
    "\n",
    "p = 73\n",
    "d = 72\n",
    "m = 44\n",
    "s = 9163\n",
    "def howmanygames(p,d,m, s):\n",
    "    count = 0\n",
    "    while s>=p:\n",
    "#         print(s,p)\n",
    "        s = s-p\n",
    "\n",
    "        count+=1\n",
    "        \n",
    "        if p>m and p-d!=0 and p-d>m:\n",
    "            p = p-d\n",
    "\n",
    "        else:\n",
    "            p = m\n",
    "\n",
    "    print(count)\n",
    "howmanygames(p,d,m,s)"
   ]
  },
  {
   "cell_type": "markdown",
   "metadata": {},
   "source": [
    "#### changing time into words"
   ]
  },
  {
   "cell_type": "code",
   "execution_count": 109,
   "metadata": {},
   "outputs": [
    {
     "data": {
      "text/plain": [
       "\"five o'clock\""
      ]
     },
     "execution_count": 109,
     "metadata": {},
     "output_type": "execute_result"
    }
   ],
   "source": [
    "def timeInWords(h, m):\n",
    "    res = ''\n",
    "    numbers = ['','one','two','three','four','five','six','seven','eight','nine','ten','eleven','twelve', 'thirteen','fourteen','fifteen','sixteen','seventeen','eighteen','nineteen','twenty']\n",
    "    minute = 'minute'\n",
    "    \n",
    "    \n",
    "    if m!=1:\n",
    "        minute+='s'\n",
    "    if m == 0:\n",
    "        res =  numbers[h]+\" o'clock\"\n",
    "            \n",
    "    elif m==15:\n",
    "        res = \"quarter past \" + numbers[h]\n",
    "        \n",
    "    elif m == 45:\n",
    "        res = \"quarter to \" + numbers[h+1]\n",
    "\n",
    "    elif m == 30:\n",
    "        res = \"half past \"+numbers[h]\n",
    "        \n",
    "    elif m <=20:\n",
    "        res = numbers[m]+\" \"+minute+ \" \"+ \"past \"+numbers[h]\n",
    "        \n",
    "    elif m>20 and m<30:\n",
    "        res = numbers[-1]+\" \"+ numbers[m%10]+\" \"+ minute+\" \"+\"past \"+numbers[h]\n",
    "    elif m>40:\n",
    "        res = numbers[60 - m] + ' ' + minute + ' to ' + numbers[h + 1]\n",
    "        \n",
    "    elif m>30:\n",
    "        res = numbers[-1] + ' ' +numbers[10-m%10] + \" \" +minute + ' to ' + numbers[h + 1]\n",
    "        \n",
    "    \n",
    "#     if m>20 and m<30:\n",
    "    return res\n",
    "   \n",
    "timeInWords(5,0)"
   ]
  },
  {
   "cell_type": "code",
   "execution_count": 117,
   "metadata": {},
   "outputs": [
    {
     "name": "stdout",
     "output_type": "stream",
     "text": [
      "6\n"
     ]
    }
   ],
   "source": [
    "#### chocolates feast\n",
    "n = 15\n",
    "c = 3\n",
    "m = 2\n",
    "def chocolateFeast(n, c, m):\n",
    "    choco = n//c\n",
    "    wrapper = choco\n",
    "    \n",
    "    while wrapper >= m:\n",
    "        \n",
    "        new_choco = wrapper//m\n",
    "        wrapper = wrapper -  new_choco*m\n",
    "        choco+=new_choco\n",
    "        wrapper += new_choco\n",
    "    print(choco)\n",
    "#     print(wrapper)\n",
    "    \n",
    "    \n",
    "chocolateFeast(10,2,5)"
   ]
  },
  {
   "cell_type": "code",
   "execution_count": 96,
   "metadata": {},
   "outputs": [
    {
     "data": {
      "text/plain": [
       "8"
      ]
     },
     "execution_count": 96,
     "metadata": {},
     "output_type": "execute_result"
    }
   ],
   "source": [
    "28%10"
   ]
  },
  {
   "cell_type": "code",
   "execution_count": 24,
   "metadata": {},
   "outputs": [
    {
     "data": {
      "text/plain": [
       "'fedcbabdc'"
      ]
     },
     "execution_count": 24,
     "metadata": {},
     "output_type": "execute_result"
    }
   ],
   "source": [
    "### bigger is greater\n",
    "s = 'fedcbabcd'\n",
    "\n",
    "def biggerIsGreater(w):\n",
    "    a = []\n",
    "    for ch in w:\n",
    "        a.append(ch)\n",
    "    \n",
    "    for i in reversed(range(len(a))):\n",
    "        if a[i]>a[i-1]:\n",
    "            ##3 swapping \n",
    "            break\n",
    "\n",
    "    ### now split the array into two section \n",
    "    ### now we need to sort the arrray from i to the end\n",
    "    left_sbtr = a[i:]\n",
    "    left_sbtr.sort()\n",
    "    pivot = i\n",
    "    for j in range(len(left_sbtr)):\n",
    "        a[i] = left_sbtr[j]\n",
    "        i+=1\n",
    "    for j in range(pivot, len(a)):\n",
    "        if a[j]>a[pivot-1]:\n",
    "            a[pivot-1],a[j] = a[j],a[pivot-1]\n",
    "            break\n",
    "    ans = (''.join(a))\n",
    "    if w < ans:\n",
    "        return 'no answer'\n",
    "    else:\n",
    "        return ans\n",
    "    \n",
    "biggerIsGreater(s)"
   ]
  },
  {
   "cell_type": "markdown",
   "metadata": {},
   "source": [
    "### encryption problem"
   ]
  },
  {
   "cell_type": "code",
   "execution_count": 40,
   "metadata": {
    "scrolled": true
   },
   "outputs": [
    {
     "data": {
      "text/plain": [
       "'fto ehg ee dd'"
      ]
     },
     "execution_count": 40,
     "metadata": {},
     "output_type": "execute_result"
    }
   ],
   "source": [
    "string = 'feedthedog'\n",
    "import math\n",
    "\n",
    "def encryption(string):\n",
    "    s = string.strip()\n",
    "    n = len(s)\n",
    "    l = math.sqrt(n)\n",
    "    col = math.ceil(l)\n",
    "    row = math.floor(l)\n",
    "    if row*col<n:\n",
    "        row+=1\n",
    "    cipher = []\n",
    "    while s:\n",
    "        cipher.append(s[:col])\n",
    "        s = s[col:]\n",
    "    ans = []\n",
    "    \n",
    "    for j in range(col):\n",
    "        temp = []\n",
    "        try:\n",
    "            for i in range(row):\n",
    "                temp.append(cipher[i][j])\n",
    "        except:\n",
    "            pass\n",
    "        ans.append(''.join(temp))\n",
    "            \n",
    "    return ' '.join(ans)\n",
    "        \n",
    "    \n",
    "    \n",
    "encryption(string)"
   ]
  },
  {
   "cell_type": "code",
   "execution_count": 2,
   "metadata": {},
   "outputs": [
    {
     "name": "stdout",
     "output_type": "stream",
     "text": [
      "\n",
      "a\n",
      "\n",
      "b\n",
      "\n",
      "c\n",
      "cc\n",
      "\n",
      "c\n"
     ]
    }
   ],
   "source": [
    "string = 'abcc'\n",
    "\n",
    "def ispelindrome(string):\n",
    "    if len(string) == 1:\n",
    "        return True\n",
    "    low = 0\n",
    "    high = len(string)-1\n",
    " \n",
    "    \n",
    "    while low<=high:\n",
    "        if string[low]!=string[high]:\n",
    "            return False\n",
    "        low+=1\n",
    "        high -=1\n",
    "    return True\n",
    "        \n",
    "\n",
    "\n",
    "\n",
    "def pelindrome_string(string):\n",
    "    for char in range(len(string)):\n",
    "        for j in range(char,len(string)+1):\n",
    "            st = string[char:j]\n",
    "#             print(st)\n",
    "            \n",
    "            if ispelindrome(st):\n",
    "                print(st)\n",
    "         \n",
    "                        \n",
    "                \n",
    "pelindrome_string(string)"
   ]
  },
  {
   "cell_type": "code",
   "execution_count": 17,
   "metadata": {
    "scrolled": true
   },
   "outputs": [
    {
     "data": {
      "text/plain": [
       "True"
      ]
     },
     "execution_count": 17,
     "metadata": {},
     "output_type": "execute_result"
    }
   ],
   "source": [
    "ispelindrome('a')"
   ]
  },
  {
   "cell_type": "markdown",
   "metadata": {},
   "source": [
    "### STring Compression"
   ]
  },
  {
   "cell_type": "code",
   "execution_count": 70,
   "metadata": {},
   "outputs": [],
   "source": [
    "st = 'wwwaabccadd'\n",
    "compres1 = 'wabcad'\n",
    "compres2 = 'w3a2bc2ad2'"
   ]
  },
  {
   "cell_type": "code",
   "execution_count": 72,
   "metadata": {},
   "outputs": [
    {
     "name": "stdout",
     "output_type": "stream",
     "text": [
      "wabcad\n",
      "w3a2bc2ad2\n"
     ]
    }
   ],
   "source": [
    "def string_compression(st):\n",
    "    compressed = ''\n",
    "    compressed_2 = ''\n",
    "    i = 0\n",
    "    while i < len(st):\n",
    "\n",
    "\n",
    "        try:\n",
    "            if st[i]  != compressed[-1]:\n",
    "                compressed+=st[i]\n",
    "                compressed_2+=st[i]\n",
    "        except IndexError:\n",
    "            compressed+=st[i]\n",
    "            compressed_2+=st[i]\n",
    "            \n",
    "        if st[i] in compressed:\n",
    "            j = i\n",
    "            count = 0\n",
    "            while (j<=len(st)-1) and (st[j] == st[i]):\n",
    "                count+=1\n",
    "                j+=1\n",
    "            if count!=1:    \n",
    "                compressed_2+=str(count)\n",
    "            i = j \n",
    "\n",
    "    print(compressed)\n",
    "    print(compressed_2)\n",
    "\n",
    "string_compression(st)"
   ]
  },
  {
   "cell_type": "code",
   "execution_count": 40,
   "metadata": {},
   "outputs": [
    {
     "data": {
      "text/plain": [
       "'PEPcodInG'"
      ]
     },
     "execution_count": 40,
     "metadata": {},
     "output_type": "execute_result"
    }
   ],
   "source": [
    "### toggling the string\n",
    "st = 'pepCODiNg'\n",
    "\n",
    "def toggle(string):\n",
    "    st_new = ''\n",
    "    for ch in string:\n",
    "        if  (ch >= 'A' and ch <= 'Z'):\n",
    "            st_new += ch.lower()\n",
    "        if (ch >= 'a' and ch <= 'z'):\n",
    "            st_new += ch.upper()\n",
    "    return st_new\n",
    "            \n",
    "toggle(st)"
   ]
  },
  {
   "cell_type": "code",
   "execution_count": 41,
   "metadata": {},
   "outputs": [
    {
     "data": {
      "text/plain": [
       "81"
      ]
     },
     "execution_count": 41,
     "metadata": {},
     "output_type": "execute_result"
    }
   ],
   "source": [
    "ord('Q')"
   ]
  },
  {
   "cell_type": "code",
   "execution_count": 45,
   "metadata": {},
   "outputs": [
    {
     "name": "stdout",
     "output_type": "stream",
     "text": [
      "['a', 'b', 'c']\n",
      "['a', 'c', 'b']\n",
      "['b', 'a', 'c']\n",
      "['b', 'c', 'a']\n",
      "['c', 'b', 'a']\n",
      "['c', 'a', 'b']\n"
     ]
    }
   ],
   "source": [
    "###permutation priniting\n",
    "\n",
    "string = ['a','b','c']\n",
    "def permutation(a,start = 0):\n",
    "    if len(a[start:]) == 1:\n",
    "        print(a)\n",
    "        return a\n",
    "        \n",
    "    \n",
    "    for i in range(start,len(string)):\n",
    "        a[start],a[i]= a[i],a[start]\n",
    "        permutation(string,start+1)\n",
    "        a[i],a[start] = a[start],a[i]\n",
    "        \n",
    "permutation(string)"
   ]
  },
  {
   "cell_type": "code",
   "execution_count": 74,
   "metadata": {},
   "outputs": [
    {
     "name": "stdout",
     "output_type": "stream",
     "text": [
      "abc\n",
      "acb\n",
      "bac\n",
      "bca\n",
      "cab\n",
      "cba\n"
     ]
    }
   ],
   "source": [
    "string = ['a','b','c']\n",
    "\n",
    "def print_permutation(string, asf = \"\"):\n",
    "    if len(string) == 0:\n",
    "        print(asf)\n",
    "        return \n",
    "    \n",
    "    for i in range(len(string)):\n",
    "        ch = string[i]\n",
    "        roch = string[:i]+string[i+1:]\n",
    "        print_permutation(roch, asf+ch)\n",
    "        \n",
    "print_permutation(string)"
   ]
  },
  {
   "cell_type": "code",
   "execution_count": 58,
   "metadata": {},
   "outputs": [
    {
     "data": {
      "text/plain": [
       "False"
      ]
     },
     "execution_count": 58,
     "metadata": {},
     "output_type": "execute_result"
    }
   ],
   "source": [
    "### def is prime\n",
    "import math\n",
    "from math import sqrt\n",
    "def isPrime(n):\n",
    "    if (n == 2) or (n ==3):\n",
    "        return True\n",
    "    if n == 1:\n",
    "        return False\n",
    "    for i in range(2,int(math.sqrt(n))):\n",
    "        if n%i == 0:\n",
    "            return False\n",
    "    return True\n",
    "\n",
    "isPrime(27)"
   ]
  },
  {
   "cell_type": "code",
   "execution_count": 59,
   "metadata": {},
   "outputs": [],
   "source": [
    "#### printing all the permutations"
   ]
  },
  {
   "cell_type": "markdown",
   "metadata": {},
   "source": [
    "### printing the subsequences "
   ]
  },
  {
   "cell_type": "code",
   "execution_count": 91,
   "metadata": {
    "scrolled": false
   },
   "outputs": [
    {
     "name": "stdout",
     "output_type": "stream",
     "text": [
      "\n",
      "c\n",
      "b\n",
      "bc\n",
      "a\n",
      "ac\n",
      "ab\n",
      "abc\n"
     ]
    }
   ],
   "source": [
    "s = 'abc'\n",
    "\n",
    "def subsequence(string,curr = '',i = 0):\n",
    "    if i == len(string):\n",
    "        print(curr)\n",
    "        return\n",
    "    \n",
    "    subsequence(string, curr,i+1)\n",
    "    subsequence(string,curr+string[i],i+1)\n",
    "    \n",
    "subsequence(s)\n",
    "    \n",
    "    "
   ]
  },
  {
   "cell_type": "code",
   "execution_count": 92,
   "metadata": {},
   "outputs": [
    {
     "name": "stdout",
     "output_type": "stream",
     "text": [
      "a\n",
      "ab\n",
      "abc\n",
      "b\n",
      "bc\n",
      "c\n"
     ]
    }
   ],
   "source": [
    "s = 'abc'\n",
    "for i in range(len(s)):\n",
    "    for j in range(i,len(s)):\n",
    "        print(s[i:j+1])"
   ]
  },
  {
   "cell_type": "code",
   "execution_count": 93,
   "metadata": {},
   "outputs": [],
   "source": [
    "#### sorting"
   ]
  },
  {
   "cell_type": "code",
   "execution_count": 94,
   "metadata": {},
   "outputs": [],
   "source": [
    "v = 'acb'"
   ]
  },
  {
   "cell_type": "code",
   "execution_count": 95,
   "metadata": {},
   "outputs": [
    {
     "data": {
      "text/plain": [
       "'abc'"
      ]
     },
     "execution_count": 95,
     "metadata": {},
     "output_type": "execute_result"
    }
   ],
   "source": [
    "''.join(sorted(v))"
   ]
  },
  {
   "cell_type": "markdown",
   "metadata": {},
   "source": [
    "### Pattern Matching"
   ]
  },
  {
   "cell_type": "code",
   "execution_count": 96,
   "metadata": {},
   "outputs": [
    {
     "name": "stdout",
     "output_type": "stream",
     "text": [
      "1 3\n",
      "6 8\n"
     ]
    }
   ],
   "source": [
    "s = 'abcdefbcd'\n",
    "pattern = 'bcd'\n",
    "\n",
    "def match_pattern(s, pattern):\n",
    "    m = len(pattern)\n",
    "    n = len(s)\n",
    "    for i in range(n-m+1):\n",
    "         if (s[i:i+m]) == pattern:\n",
    "                print(i,i+m-1)\n",
    "match_pattern(s,pattern)"
   ]
  },
  {
   "cell_type": "markdown",
   "metadata": {},
   "source": [
    "#### finding the leftmost reapeating character"
   ]
  },
  {
   "cell_type": "code",
   "execution_count": 51,
   "metadata": {},
   "outputs": [
    {
     "data": {
      "text/plain": [
       "('b', 2)"
      ]
     },
     "execution_count": 51,
     "metadata": {},
     "output_type": "execute_result"
    }
   ],
   "source": [
    "a = 'abbcdgefghiijj'\n",
    "\n",
    "def left_most(a):\n",
    "    visited = []\n",
    "    for i in range(len(a)):\n",
    "        if a[i] in visited:\n",
    "            continue\n",
    "        else:\n",
    "            visited.append(a[i])\n",
    "            count = 1\n",
    "            for j in range(i+1,len(a)):\n",
    "                if a[i] == a[j]:\n",
    "                    count +=1\n",
    "#             print(a[i], count)\n",
    "            if count>1:\n",
    "                return (a[i], count)\n",
    "\n",
    "        \n",
    "        \n",
    "\n",
    "left_most(a)"
   ]
  },
  {
   "cell_type": "code",
   "execution_count": 78,
   "metadata": {},
   "outputs": [
    {
     "name": "stdout",
     "output_type": "stream",
     "text": [
      "('b', 2)\n"
     ]
    }
   ],
   "source": [
    "a = 'abbcdgefghiijj'\n",
    "from collections import Counter\n",
    "has = Counter(a)\n",
    "for i in (range(len(a))):\n",
    "    if has[a[i]]>1:\n",
    "        print((a[i], has[a[i]]))\n",
    "        break"
   ]
  },
  {
   "cell_type": "code",
   "execution_count": 80,
   "metadata": {},
   "outputs": [
    {
     "data": {
      "text/plain": [
       "['1', 'H', 'a', 'b', 'e', 'h', 'i', 'k', 's']"
      ]
     },
     "execution_count": 80,
     "metadata": {},
     "output_type": "execute_result"
    }
   ],
   "source": [
    "sorted('abh1isHek')"
   ]
  },
  {
   "cell_type": "code",
   "execution_count": 89,
   "metadata": {},
   "outputs": [
    {
     "data": {
      "text/plain": [
       "90"
      ]
     },
     "execution_count": 89,
     "metadata": {},
     "output_type": "execute_result"
    }
   ],
   "source": [
    "ord('Z')"
   ]
  },
  {
   "cell_type": "code",
   "execution_count": null,
   "metadata": {},
   "outputs": [],
   "source": [
    "st = 'abc'\n"
   ]
  },
  {
   "cell_type": "code",
   "execution_count": 115,
   "metadata": {},
   "outputs": [
    {
     "name": "stdout",
     "output_type": "stream",
     "text": [
      "G\n",
      "E\n",
      "E\n",
      "GE\n",
      "GE\n",
      "EE\n",
      "GEE\n"
     ]
    }
   ],
   "source": [
    "import itertools\n",
    "st = 'GEE'\n",
    "\n",
    "def sub_sequence(st):\n",
    "    combs = []\n",
    "    for i in range(1, len(st)+1):\n",
    "        combs.append(list(itertools.combinations(st, i)))\n",
    "#     print(combs)\n",
    "    for i in combs:\n",
    "        for j in i:\n",
    "            print(''.join(list(j)))\n",
    "sub_sequence(st)"
   ]
  },
  {
   "cell_type": "code",
   "execution_count": 53,
   "metadata": {},
   "outputs": [],
   "source": [
    "a = 'cdefabababaefg'\n",
    "\n",
    "def ispelindrome(a, start, end):\n",
    "    if len(a) == 1:\n",
    "        return True\n",
    "    \n",
    "    while start<=end:\n",
    "        if a[start] != a[end]:\n",
    "            return False\n",
    "        \n",
    "        \n",
    "        start +=1\n",
    "        end -= 1\n",
    "    return True\n",
    "            \n",
    "    "
   ]
  },
  {
   "cell_type": "code",
   "execution_count": 54,
   "metadata": {
    "scrolled": true
   },
   "outputs": [
    {
     "data": {
      "text/plain": [
       "False"
      ]
     },
     "execution_count": 54,
     "metadata": {},
     "output_type": "execute_result"
    }
   ],
   "source": [
    "ispelindrome('abcbac',0,5)"
   ]
  },
  {
   "cell_type": "markdown",
   "metadata": {},
   "source": [
    "## substring calculation On^3"
   ]
  },
  {
   "cell_type": "markdown",
   "metadata": {},
   "source": [
    "#### finding the longest distinct substring"
   ]
  },
  {
   "cell_type": "code",
   "execution_count": 98,
   "metadata": {},
   "outputs": [
    {
     "data": {
      "text/plain": [
       "4"
      ]
     },
     "execution_count": 98,
     "metadata": {},
     "output_type": "execute_result"
    }
   ],
   "source": [
    "a = 'aaaabcf'\n",
    "\n",
    "def isdistint(s):\n",
    "    visited = []\n",
    "    for i in range(len(s)):\n",
    "        if s[i]  not in visited:\n",
    "            visited.append(s[i])\n",
    "        elif s[i] in visited:\n",
    "            return False\n",
    "    return True\n",
    "\n",
    "    \n",
    "    \n",
    "def finding_longest(a):\n",
    "    ans = []\n",
    "    for i in range(len(a)):\n",
    "        for j in range(i, len(a)):\n",
    "            s = (a[i:j+1])\n",
    "            if isdistint(s):\n",
    "                ans.append(len(s))\n",
    "    return max(ans)\n",
    "finding_longest(a)"
   ]
  },
  {
   "cell_type": "markdown",
   "metadata": {},
   "source": [
    "#### finding the longest pelindrome as substring"
   ]
  },
  {
   "cell_type": "code",
   "execution_count": 56,
   "metadata": {},
   "outputs": [
    {
     "name": "stdout",
     "output_type": "stream",
     "text": [
      "(3, 7, 5)\n"
     ]
    }
   ],
   "source": [
    "a = 'abcababaedf'\n",
    "\n",
    "\n",
    "def ispelindrome(string):\n",
    "    if len(string) == 1:\n",
    "        return True\n",
    "    low = 0\n",
    "    high = len(string)-1\n",
    " \n",
    "    \n",
    "    while low<=high:\n",
    "        if string[low]!=string[high]:\n",
    "            return False\n",
    "        low+=1\n",
    "        high -=1\n",
    "    return True\n",
    "\n",
    "\n",
    "\n",
    "def longest_pelindrome(a):\n",
    "    ans = (0,0,0)\n",
    "    for i in range(len(a)):\n",
    "        for j in range(i, len(a)):\n",
    "            s = (a[i:j+1])\n",
    "            if ispelindrome(s):\n",
    "                if len(s)>ans[2]:\n",
    "                    ans = (i,j,len(s))\n",
    "                \n",
    "\n",
    "    print(ans)\n",
    "            \n",
    "longest_pelindrome(a)"
   ]
  },
  {
   "cell_type": "markdown",
   "metadata": {},
   "source": [
    "#### check if a string is subsequence of other "
   ]
  },
  {
   "cell_type": "code",
   "execution_count": 68,
   "metadata": {},
   "outputs": [
    {
     "data": {
      "text/plain": [
       "True"
      ]
     },
     "execution_count": 68,
     "metadata": {},
     "output_type": "execute_result"
    }
   ],
   "source": [
    "s1 = 'GEEKSFORGEEKS'\n",
    "s2 = 'GRGES'\n",
    "\n",
    "def issubsequence(s1,s2):\n",
    "    n = len(s1)\n",
    "    m = len(s2)\n",
    "    if n<m:\n",
    "        return False\n",
    "    j = 0\n",
    "    for i in range(len(s1)):\n",
    "        if j<m:\n",
    "            if s1[i] == s2[j]:\n",
    "                j+=1\n",
    "    return j==m\n",
    "\n",
    "issubsequence(s1,s2)\n"
   ]
  },
  {
   "cell_type": "code",
   "execution_count": null,
   "metadata": {},
   "outputs": [],
   "source": [
    "### recursive solution\n",
    "\n",
    "s1 = 'GEEKSFORGEEKS'\n",
    "s2 = 'GRGES'\n",
    "n = len(s1)\n",
    "m = len(s2)\n",
    "def issubsequence(s1,s2,n,m):\n",
    "    if m==0:\n",
    "        return True\n",
    "    if n == 0:\n",
    "        return False\n",
    "    \n",
    "    if s1[n-1] == s2[m-1]:\n",
    "        issubsequence(s1,s2,n-1,m-1)\n",
    "    else:\n",
    "        issubsequence(s1,s2,n-1,m)\n",
    "        \n",
    "\n",
    "    \n",
    "    if s1[]"
   ]
  },
  {
   "cell_type": "markdown",
   "metadata": {},
   "source": [
    "#### reverse word in a string"
   ]
  },
  {
   "cell_type": "code",
   "execution_count": 76,
   "metadata": {},
   "outputs": [
    {
     "data": {
      "text/plain": [
       "'to gfg to welcome'"
      ]
     },
     "execution_count": 76,
     "metadata": {},
     "output_type": "execute_result"
    }
   ],
   "source": [
    "st = 'welcome to gfg to'\n",
    "\n",
    "\n",
    "def reverse_word(st):\n",
    "    a = st.split()\n",
    "    n = len(a)-1\n",
    "    start = 0\n",
    "    end = n\n",
    "    while start<=end:\n",
    "        a[start],a[end] = a[end],a[start]\n",
    "        start+=1\n",
    "        end-=1\n",
    "    \n",
    "    return (' '.join(a))\n",
    "\n",
    "reverse_word(st)"
   ]
  },
  {
   "cell_type": "markdown",
   "metadata": {},
   "source": [
    "#### check if two string is rotation "
   ]
  },
  {
   "cell_type": "code",
   "execution_count": 88,
   "metadata": {},
   "outputs": [
    {
     "data": {
      "text/plain": [
       "True"
      ]
     },
     "execution_count": 88,
     "metadata": {},
     "output_type": "execute_result"
    }
   ],
   "source": [
    "s1 = 'abcd'\n",
    "s2 = 'cdab'\n",
    "\n",
    "def find(s, pattern):\n",
    "    n = len(s)\n",
    "    m = len(pattern)\n",
    "    if n<m:\n",
    "        return False\n",
    "    for i in range(n-m+1):\n",
    "        if s[i:i+m] == pattern:\n",
    "            return True\n",
    "\n",
    "\n",
    "def isrotation(s1,s2):\n",
    "    if len(s1)!=len(s2):\n",
    "        return False\n",
    "    else:\n",
    "        s = s1+s2\n",
    "        if find(s,pattern):\n",
    "            return True\n",
    "\n",
    "isrotation(s1,s2)\n",
    "        "
   ]
  },
  {
   "cell_type": "markdown",
   "metadata": {},
   "source": [
    "#### Lexicographical Rank"
   ]
  },
  {
   "cell_type": "code",
   "execution_count": null,
   "metadata": {},
   "outputs": [],
   "source": []
  },
  {
   "cell_type": "code",
   "execution_count": null,
   "metadata": {},
   "outputs": [],
   "source": []
  }
 ],
 "metadata": {
  "kernelspec": {
   "display_name": "Python 3",
   "language": "python",
   "name": "python3"
  },
  "language_info": {
   "codemirror_mode": {
    "name": "ipython",
    "version": 3
   },
   "file_extension": ".py",
   "mimetype": "text/x-python",
   "name": "python",
   "nbconvert_exporter": "python",
   "pygments_lexer": "ipython3",
   "version": "3.8.5"
  }
 },
 "nbformat": 4,
 "nbformat_minor": 4
}
