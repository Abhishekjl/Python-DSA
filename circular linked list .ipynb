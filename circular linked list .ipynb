{
 "cells": [
  {
   "cell_type": "code",
   "execution_count": null,
   "metadata": {},
   "outputs": [],
   "source": []
  },
  {
   "cell_type": "code",
   "execution_count": 7,
   "metadata": {},
   "outputs": [],
   "source": [
    "class Node:\n",
    "    def __init__(self, data):\n",
    "        self.data = data\n",
    "        self.next = None\n",
    "        \n",
    "class CircularLlist():\n",
    "    def __init__(self):\n",
    "        self.head = None\n",
    "        self.tail = None\n",
    "    \n",
    "    def __iter__(self):   # this method is made for iteration\n",
    "        temp = self.head\n",
    "        while temp:\n",
    "            yield temp\n",
    "            if temp.next == self.head:\n",
    "                break\n",
    "            temp = temp.next  \n",
    "    def insert(self, data):\n",
    "        newNode = Node(data)\n",
    "        temp = self.head\n",
    "        newNode.next = self.head # inserting at the end\n",
    "        if self.head is not None: # means linked list is not empty \n",
    "            while temp.next != self.head:\n",
    "                temp = temp.next\n",
    "            temp.next = newNode\n",
    "            self.tail = temp\n",
    "        else:\n",
    "            newNode.next = newNode # for the first node\n",
    "            self.head = newNode\n",
    "            self.tail = newNode\n",
    "        tail = newNode    \n",
    "    \n",
    "    def search(self, key):\n",
    "        if self.head is not None:\n",
    "            temp = self.head\n",
    "            index = 0\n",
    "            while temp.next != self.head:\n",
    "                if temp.data == key:\n",
    "                    return index\n",
    "                temp = temp.next\n",
    "                index += 1"
   ]
  },
  {
   "cell_type": "code",
   "execution_count": 10,
   "metadata": {},
   "outputs": [],
   "source": [
    "clist = CircularLlist()\n",
    "clist.insert(12)\n",
    "clist.insert(56)\n",
    "clist.insert(15)\n",
    "clist.insert(45)\n",
    "\n"
   ]
  },
  {
   "cell_type": "code",
   "execution_count": 11,
   "metadata": {},
   "outputs": [
    {
     "name": "stdout",
     "output_type": "stream",
     "text": [
      "[12, 56, 15, 45]\n"
     ]
    }
   ],
   "source": [
    "print([node.data for node in clist])"
   ]
  },
  {
   "cell_type": "code",
   "execution_count": 12,
   "metadata": {
    "scrolled": true
   },
   "outputs": [
    {
     "name": "stdout",
     "output_type": "stream",
     "text": [
      "12\n",
      "56\n",
      "15\n"
     ]
    }
   ],
   "source": [
    "clist.printlist()"
   ]
  },
  {
   "cell_type": "code",
   "execution_count": 14,
   "metadata": {},
   "outputs": [
    {
     "data": {
      "text/plain": [
       "0"
      ]
     },
     "execution_count": 14,
     "metadata": {},
     "output_type": "execute_result"
    }
   ],
   "source": [
    "clist.search(12)"
   ]
  },
  {
   "cell_type": "code",
   "execution_count": 6,
   "metadata": {},
   "outputs": [],
   "source": [
    "c = CircularLlist()\n",
    "c.head = Node(12)\n",
    "c.head.next = Node(45)\n",
    "c.head.next.next = c.head"
   ]
  },
  {
   "cell_type": "code",
   "execution_count": 7,
   "metadata": {},
   "outputs": [
    {
     "name": "stdout",
     "output_type": "stream",
     "text": [
      "12\n",
      "45\n"
     ]
    }
   ],
   "source": [
    "\n",
    "c.printlist()"
   ]
  },
  {
   "cell_type": "code",
   "execution_count": 8,
   "metadata": {},
   "outputs": [],
   "source": [
    "c = CircularLlist()\n",
    "first = Node(9)\n",
    "second = Node(3)\n",
    "third = Node(4)\n",
    "c.head = first\n",
    "first.next = second\n",
    "second.next = third\n",
    "third.next = c.head"
   ]
  },
  {
   "cell_type": "code",
   "execution_count": 9,
   "metadata": {},
   "outputs": [
    {
     "name": "stdout",
     "output_type": "stream",
     "text": [
      "9\n",
      "3\n",
      "4\n"
     ]
    }
   ],
   "source": [
    "c.printlist()"
   ]
  },
  {
   "cell_type": "code",
   "execution_count": null,
   "metadata": {},
   "outputs": [],
   "source": [
    " def insert(self, data):\n",
    "        newNode = Node(data)\n",
    "        temp = self.head\n",
    "        newNode.next = self.head # inserting at the end\n",
    "        if self.head is not None: # means linked list is not empty \n",
    "            while temp.next != self.head:\n",
    "                temp = temp.next\n",
    "            temp.next = newNode\n",
    "        else:\n",
    "            newNode.next = newNode # for the first node\n",
    "            self.head = newNode    \n",
    "        \n",
    "    def search(self, key):\n",
    "        if self.head is not None:\n",
    "            temp = self.head\n",
    "            index = 0\n",
    "            while temp.next != self.head:\n",
    "                if temp.data == key:\n",
    "                    return index\n",
    "                temp = temp.next\n",
    "                index += 1\n",
    "    def delete(self, location):\n",
    "        if self.head is None:\n",
    "            print('Linked list doesn\"t exist')\n",
    "        else:\n",
    "            if location == 0:\n",
    "                if self.head.next == None:\n",
    "                    self.head= None\n",
    "                else: # when we have more than 1 elements \n",
    "                    self.head = self.head.next\n",
    "            elif(location == llist.len()):\n",
    "                tempNode = self.head\n",
    "                while(tempNode.next.next != None): # getting one node earlier \n",
    "                    tempNode = tempNode.next\n",
    "                tempNode.next  = None\n",
    "                \n",
    "            else:\n",
    "                tempNode = self.head\n",
    "                index = 0\n",
    "                while index<location-1: # stopping one step early \n",
    "                    tempNode = tempNode.next\n",
    "                    index += 1\n",
    "                nextNode = tempNode.next\n",
    "                tempNode.next = nextNode.next\n",
    "            \n",
    "    \n",
    "    def printlist(self):\n",
    "        temp = self.head\n",
    "        if temp is not None:\n",
    "            while True:\n",
    "                print(temp.data)\n",
    "                temp = temp.next\n",
    "                if temp == self.head:\n",
    "                    break"
   ]
  }
 ],
 "metadata": {
  "kernelspec": {
   "display_name": "Python 3",
   "language": "python",
   "name": "python3"
  },
  "language_info": {
   "codemirror_mode": {
    "name": "ipython",
    "version": 3
   },
   "file_extension": ".py",
   "mimetype": "text/x-python",
   "name": "python",
   "nbconvert_exporter": "python",
   "pygments_lexer": "ipython3",
   "version": "3.7.1"
  }
 },
 "nbformat": 4,
 "nbformat_minor": 4
}
