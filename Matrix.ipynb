{
 "cells": [
  {
   "cell_type": "code",
   "execution_count": 6,
   "metadata": {},
   "outputs": [
    {
     "name": "stdout",
     "output_type": "stream",
     "text": [
      "[0, 1, 2, 3, 4]\n",
      "[0, 1, 2, 3, 4]\n",
      "[0, 1, 2, 3, 4]\n",
      "[0, 1, 2, 3, 4]\n",
      "[0, 1, 2, 3, 4]\n"
     ]
    }
   ],
   "source": [
    "n = 5\n",
    "matrix = []\n",
    "for i in range(n):\n",
    "    list2 = []\n",
    "    for j in range(n):\n",
    "        list2.append(j)\n",
    "    matrix.append(list2)\n",
    "\n",
    "for i in range(len(matrix)):\n",
    "    print(matrix[i])"
   ]
  },
  {
   "cell_type": "markdown",
   "metadata": {},
   "source": [
    "### matrix multiplications "
   ]
  },
  {
   "cell_type": "code",
   "execution_count": 27,
   "metadata": {},
   "outputs": [
    {
     "name": "stdout",
     "output_type": "stream",
     "text": [
      "[16, 19, 22]\n",
      "[43, 52, 61]\n"
     ]
    }
   ],
   "source": [
    "m1=  [[1,2,3],[4,5,6]]\n",
    "m2 = [[3,4,5],[5,6,7],[1,1,1]]\n",
    "\n",
    "def multiplication(m1,m2):\n",
    "    m1_rows = len(m1)\n",
    "    m1_cols = len(m1[0])\n",
    "    m2_rows = len(m2)\n",
    "    m2_cols = len(m2[0])\n",
    "    if (m1_cols == m2_rows):\n",
    "        ans = []\n",
    "        # shape of answer will be m1_rows, m2_cols\n",
    "        for i in range(m1_rows):\n",
    "            ins = []\n",
    "            for j in range(m2_cols):\n",
    "                ins.append(0)\n",
    "            ans.append(ins)\n",
    "\n",
    "    \n",
    "    ## multiplication part\n",
    "    for i in range(len(ans)):\n",
    "        for j in range(len(ans[0])):\n",
    "            s = 0\n",
    "            for k in range(m1_cols):\n",
    "                s = s + m1[i][k]*m2[k][j]\n",
    "            ans[i][j] = s\n",
    "    \n",
    "    for i in range(len(ans)):\n",
    "        print(ans[i])\n",
    "    \n",
    "    \n",
    "multiplication(m1,m2)\n"
   ]
  },
  {
   "cell_type": "code",
   "execution_count": 32,
   "metadata": {},
   "outputs": [
    {
     "name": "stdout",
     "output_type": "stream",
     "text": [
      "3\n",
      "5\n",
      "7\n",
      "9\n",
      "6\n",
      "4\n",
      "5\n",
      "7\n",
      "1\n"
     ]
    }
   ],
   "source": [
    "### state of wakanda\n",
    "a = [[3,4,5],[5,6,7],[7,9,1]]\n",
    "\n",
    "for col in range(len(a[0])):\n",
    "    for row in range(len(a)):\n",
    "        if col%2 == 0:\n",
    "            print(a[row][col])\n",
    "        else:\n",
    "            print(a[len(a[0])-1-row][col])\n"
   ]
  },
  {
   "cell_type": "code",
   "execution_count": 56,
   "metadata": {
    "scrolled": true
   },
   "outputs": [
    {
     "name": "stdout",
     "output_type": "stream",
     "text": [
      "11\n",
      "21\n",
      "31\n",
      "32\n",
      "33\n",
      "34\n",
      "35\n",
      "25\n",
      "15\n",
      "14\n",
      "13\n",
      "12\n",
      "22\n",
      "23\n",
      "24\n"
     ]
    }
   ],
   "source": [
    "### spiral display\n",
    "## first traverse outer box and then handle corner cases\n",
    "### need 4 loops to traverse the left,bottom , right, top\n",
    "a = [[11,12,13,14,15],[21,22,23,24,25],[31,32,33,34,35]]\n",
    "\n",
    "def square_traverse(a):\n",
    "    r, c = len(a),len(a[0])\n",
    "    min_row = 0\n",
    "    max_row = r -1\n",
    "    min_col = 0\n",
    "    max_col = c-1\n",
    "    count = 0\n",
    "    while count<r*c: # start with zero \n",
    "        \n",
    "        ## left wall\n",
    "        i = min_row\n",
    "        j = min_col\n",
    "        while (i<=max_row)and (count<r*c):\n",
    "            print(a[i][j])\n",
    "            i+=1\n",
    "            count+=1\n",
    "        min_col+=1\n",
    "        \n",
    "        ## bottom wall\n",
    "        i = max_row\n",
    "        j = min_col\n",
    "        while (j<=max_col) and (count<r*c):\n",
    "            print(a[i][j])\n",
    "            j+=1\n",
    "            count+=1\n",
    "        max_row -=1\n",
    "        ### left wall\n",
    "        # columns fixed , row moviing \n",
    "        j = max_col\n",
    "        i = max_row\n",
    "        while (i>=min_row) and (count<r*c):\n",
    "            print(a[i][j])\n",
    "            i-=1\n",
    "            count+=1\n",
    "        max_col -=1\n",
    "        ### top wall\n",
    "        ### row fixed , columns not fixed\n",
    "        i = min_row\n",
    "        j= max_col\n",
    "        while (j>=min_col) and (count<r*c):\n",
    "            print(a[i][j])\n",
    "            j-=1\n",
    "            count+=1\n",
    "        min_row+=1\n",
    "        \n",
    "        \n",
    "        \n",
    "\n",
    "square_traverse(a)\n"
   ]
  },
  {
   "cell_type": "markdown",
   "metadata": {},
   "source": [
    "### rat and maze problem\n",
    "\n"
   ]
  },
  {
   "cell_type": "code",
   "execution_count": 57,
   "metadata": {},
   "outputs": [
    {
     "name": "stdout",
     "output_type": "stream",
     "text": [
      "  North(dir =3)\n",
      "                |\n",
      "                |\n",
      "WEST(dir=3)-----.-----East(dir = 0)\n",
      "                |\n",
      "                |\n",
      "                |\n",
      "          South(dir = 1)           \n"
     ]
    }
   ],
   "source": [
    "approach = \"\"\"  North(dir =3)\n",
    "                |\n",
    "                |\n",
    "WEST(dir=3)-----.-----East(dir = 0)\n",
    "                |\n",
    "                |\n",
    "                |\n",
    "          South(dir = 1)           \"\"\"\n",
    "print(approach)"
   ]
  },
  {
   "cell_type": "code",
   "execution_count": 63,
   "metadata": {},
   "outputs": [
    {
     "name": "stdout",
     "output_type": "stream",
     "text": [
      "2 0\n"
     ]
    }
   ],
   "source": [
    "### if rat encounter 0 , east direction\n",
    "\n",
    "a = [[0,0,1,0],[1,0,0,1],[0,0,0,1],[1,0,1,0]]\n",
    "\n",
    "### entry point\n",
    "row = len(a)-1\n",
    "col = len(a[0])-1\n",
    "tne = (row+1)*(col+1)\n",
    "count = 0\n",
    "i = 0\n",
    "j = 0\n",
    "direct = 0  # this will hold the direction\n",
    "\n",
    "while count<tne: ### stooping loop if rat never comes out of maze \n",
    "    ## dr == 0 -> East \n",
    "    ## dr == 1 -> North\n",
    "    ### dr == 2 -> west\n",
    "    ### dr == 3 -> south\n",
    "    direct = (direct + a[i][j])%4\n",
    "    count+=1\n",
    "    ## east direction \n",
    "    if direct == 0:\n",
    "        j+=1\n",
    "        if (j>col):\n",
    "            j-=1\n",
    "            break\n",
    "    ## south direction\n",
    "    elif direct == 1:\n",
    "        i+=1\n",
    "        if i > row:\n",
    "            i-=1\n",
    "            break\n",
    "    ### west direction\n",
    "    elif direct ==2:\n",
    "        j-=1\n",
    "        if j <0:\n",
    "            j+=1\n",
    "            break\n",
    "    ## north direction\n",
    "    elif direct ==3:\n",
    "        i-=1\n",
    "        if i<0:\n",
    "            i+=1\n",
    "            break\n",
    "print(i,j)\n",
    "    \n",
    "\n"
   ]
  },
  {
   "cell_type": "markdown",
   "metadata": {},
   "source": [
    "### Rotate Matrix by 90 Degree( clockwise)"
   ]
  },
  {
   "cell_type": "code",
   "execution_count": 78,
   "metadata": {},
   "outputs": [],
   "source": [
    "a = [[11,12,13,14],[21,22,23,24],[31,32,33,34],[41,42,43,44]]\n",
    "\n",
    "def transpose(a):\n",
    "    for i in range(len(a)):\n",
    "        for j in range(i,len(a)):\n",
    "            temp = a[i][j]\n",
    "            a[i][j] = a[j][i]\n",
    "            a[j][i] = temp\n",
    "            \n",
    "def colswap(arr):\n",
    "    for i in range(0, len(arr)):\n",
    "        left = 0\n",
    "        right = len(arr)-1\n",
    "        while left < right:\n",
    "            arr[i][left],arr[i][right] = arr[i][right],arr[i][left]\n",
    "            left+=1\n",
    "            right-=1\n",
    "    \n",
    "\n",
    "transpose(a)\n",
    "colswap(a)"
   ]
  },
  {
   "cell_type": "code",
   "execution_count": 79,
   "metadata": {},
   "outputs": [
    {
     "name": "stdout",
     "output_type": "stream",
     "text": [
      "[[41, 31, 21, 11], [42, 32, 22, 12], [43, 33, 23, 13], [44, 34, 24, 14]]\n"
     ]
    }
   ],
   "source": [
    "print(a)"
   ]
  },
  {
   "cell_type": "markdown",
   "metadata": {},
   "source": [
    "### traverse diagonally upper triangular "
   ]
  },
  {
   "cell_type": "code",
   "execution_count": 90,
   "metadata": {},
   "outputs": [
    {
     "name": "stdout",
     "output_type": "stream",
     "text": [
      "11\n",
      "22\n",
      "33\n",
      "44\n",
      "12\n",
      "23\n",
      "34\n",
      "13\n",
      "24\n",
      "14\n"
     ]
    }
   ],
   "source": [
    "a = [[11,12,13,14],[21,22,23,24],[31,32,33,34],[41,42,43,44]]\n",
    "row= 0\n",
    "for col in range(len(a[0])):\n",
    "    for row in range(len(a[0])-col):\n",
    "        print(a[row][col])\n",
    "        col+=1\n"
   ]
  },
  {
   "cell_type": "markdown",
   "metadata": {},
   "source": [
    "### Binary search is the sorted matrix"
   ]
  },
  {
   "cell_type": "code",
   "execution_count": 108,
   "metadata": {},
   "outputs": [
    {
     "name": "stdout",
     "output_type": "stream",
     "text": [
      "3 4\n"
     ]
    }
   ],
   "source": [
    "a = [[11,15,17,18,20],[25,29,30,35,45],[48,60,62,68,70],[65,70,71,72,73]]\n",
    "\n",
    "def search_binary(arr,x):\n",
    "    i = 0\n",
    "    j = len(arr[0])-1\n",
    "    n = len(arr)\n",
    "    while i<n and j>=0:\n",
    "        if x == arr[i][j]:\n",
    "            print(i,j)\n",
    "            return\n",
    "        elif x>arr[i][j]:\n",
    "            i+=1\n",
    "        elif x<arr[i][j]:\n",
    "            j-=1\n",
    "    print('Not found')\n",
    "    \n",
    "search_binary(a,73)\n",
    "            "
   ]
  },
  {
   "cell_type": "code",
   "execution_count": null,
   "metadata": {},
   "outputs": [],
   "source": []
  }
 ],
 "metadata": {
  "kernelspec": {
   "display_name": "Python 3",
   "language": "python",
   "name": "python3"
  },
  "language_info": {
   "codemirror_mode": {
    "name": "ipython",
    "version": 3
   },
   "file_extension": ".py",
   "mimetype": "text/x-python",
   "name": "python",
   "nbconvert_exporter": "python",
   "pygments_lexer": "ipython3",
   "version": "3.8.5"
  }
 },
 "nbformat": 4,
 "nbformat_minor": 4
}
