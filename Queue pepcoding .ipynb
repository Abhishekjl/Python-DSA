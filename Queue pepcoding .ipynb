{
 "cells": [
  {
   "cell_type": "code",
   "execution_count": 1,
   "metadata": {},
   "outputs": [],
   "source": [
    "import threading, queue"
   ]
  },
  {
   "cell_type": "code",
   "execution_count": 50,
   "metadata": {},
   "outputs": [],
   "source": [
    "que = queue.Queue()"
   ]
  },
  {
   "cell_type": "code",
   "execution_count": 51,
   "metadata": {},
   "outputs": [],
   "source": [
    "que.put(10)\n",
    "que.put(20)\n",
    "que.put(30)"
   ]
  },
  {
   "cell_type": "code",
   "execution_count": 54,
   "metadata": {},
   "outputs": [],
   "source": [
    "### FIFO"
   ]
  },
  {
   "cell_type": "code",
   "execution_count": 52,
   "metadata": {},
   "outputs": [
    {
     "name": "stdout",
     "output_type": "stream",
     "text": [
      "10 20 30 "
     ]
    }
   ],
   "source": [
    "def get_(que):\n",
    "    while que.qsize()>0:\n",
    "        print(que.get(), end = ' ') # it shows and remove the value\n",
    "get_(que)"
   ]
  },
  {
   "cell_type": "code",
   "execution_count": 53,
   "metadata": {},
   "outputs": [
    {
     "name": "stdout",
     "output_type": "stream",
     "text": [
      "0\n"
     ]
    }
   ],
   "source": [
    "print(que.qsize())"
   ]
  },
  {
   "cell_type": "markdown",
   "metadata": {},
   "source": [
    "### QUEUE to STack ( adapter -push efficient )"
   ]
  },
  {
   "cell_type": "code",
   "execution_count": 101,
   "metadata": {},
   "outputs": [],
   "source": [
    "import queue\n",
    "class que_to_stack:\n",
    "    def __init__(self):\n",
    "        self.mainQ = queue.Queue()\n",
    "        self.helperQ = queue.Queue()\n",
    "        \n",
    "    def size(self):\n",
    "        return self.mainQ.qsize()\n",
    "    def push(self, data):\n",
    "        self.mainQ.put(data)\n",
    "    def top(self):\n",
    "        if self.size()>0:\n",
    "            while self.mainQ.qsize()>1:\n",
    "                val = self.mainQ.get()\n",
    "                self.helperQ.put(val)\n",
    "            removed = self.mainQ.get()\n",
    "\n",
    "            while self.helperQ.qsize()>0:\n",
    "                val = self.helperQ.get()\n",
    "                self.mainQ.put(val)\n",
    "            self.mainQ.put(removed)\n",
    "\n",
    "            return removed\n",
    "        else:\n",
    "            print('Stack underflow')\n",
    "            return -1\n",
    "        \n",
    "    def pop(self):  # time complexity O(n)\n",
    "        if self.size()>0:\n",
    "            while self.mainQ.qsize()>1:\n",
    "                val = self.mainQ.get()\n",
    "                self.helperQ.put(val)\n",
    "            removed = self.mainQ.get()\n",
    "\n",
    "            while self.helperQ.qsize()>0:\n",
    "                val = self.helperQ.get()\n",
    "                self.mainQ.put(val)\n",
    "            return removed\n",
    "        else:\n",
    "            print('Stack underflow')\n",
    "            return -1"
   ]
  },
  {
   "cell_type": "code",
   "execution_count": 133,
   "metadata": {},
   "outputs": [],
   "source": [
    "stack = que_to_stack()"
   ]
  },
  {
   "cell_type": "code",
   "execution_count": 134,
   "metadata": {},
   "outputs": [],
   "source": [
    "stack.push(20)\n",
    "stack.push(30)\n",
    "stack.push(40)"
   ]
  },
  {
   "cell_type": "markdown",
   "metadata": {},
   "source": [
    "### queue to stack (pop efficient)"
   ]
  },
  {
   "cell_type": "code",
   "execution_count": 179,
   "metadata": {},
   "outputs": [],
   "source": [
    "import queue\n",
    "class que_to_stack:\n",
    "    def __init__(self):\n",
    "        self.mainQ = queue.Queue()\n",
    "        self.helperQ = queue.Queue()\n",
    "        \n",
    "    def size(self):\n",
    "        return self.mainQ.qsize()\n",
    "    def push(self, data):\n",
    "        if self.mainQ.qsize()== 0:\n",
    "            self.mainQ.put(data)\n",
    "            return \n",
    "        else:\n",
    "            while self.mainQ.qsize()>0:\n",
    "                val = self.mainQ.get()\n",
    "                self.helperQ.put(val)\n",
    "            self.mainQ.put(data)\n",
    "            while self.helperQ.qsize()>0:\n",
    "                val = self.helperQ.get()\n",
    "                self.mainQ.put(val)\n",
    "            \n",
    "                \n",
    "        \n",
    "    def top(self):\n",
    "        if self.mainQ.qsize()>0:\n",
    "            v = self.mainQ.get()\n",
    "            self.push(v)\n",
    "            return v\n",
    "        else:\n",
    "            print('Stack underflow')\n",
    "            return -1\n",
    "       \n",
    "        \n",
    "    def pop(self):  # time complexity O(n)\n",
    "        if self.mainQ.qsize()>0:\n",
    "            return self.mainQ.get()\n",
    "       \n",
    "        else:\n",
    "            print('Stack underflow')\n",
    "            return -1"
   ]
  },
  {
   "cell_type": "code",
   "execution_count": 180,
   "metadata": {},
   "outputs": [],
   "source": [
    "stack  = que_to_stack()"
   ]
  },
  {
   "cell_type": "code",
   "execution_count": 192,
   "metadata": {},
   "outputs": [],
   "source": [
    "stack.push(20)\n",
    "stack.push(30)\n",
    "stack.push(40)"
   ]
  },
  {
   "cell_type": "code",
   "execution_count": 193,
   "metadata": {},
   "outputs": [
    {
     "data": {
      "text/plain": [
       "<__main__.que_to_stack at 0x285aad5acd0>"
      ]
     },
     "execution_count": 193,
     "metadata": {},
     "output_type": "execute_result"
    }
   ],
   "source": [
    "stack"
   ]
  },
  {
   "cell_type": "code",
   "execution_count": 200,
   "metadata": {},
   "outputs": [
    {
     "name": "stdout",
     "output_type": "stream",
     "text": [
      "Stack underflow\n"
     ]
    },
    {
     "data": {
      "text/plain": [
       "-1"
      ]
     },
     "execution_count": 200,
     "metadata": {},
     "output_type": "execute_result"
    }
   ],
   "source": [
    "stack.top()"
   ]
  },
  {
   "cell_type": "code",
   "execution_count": 201,
   "metadata": {},
   "outputs": [
    {
     "name": "stdout",
     "output_type": "stream",
     "text": [
      "Stack underflow\n"
     ]
    },
    {
     "data": {
      "text/plain": [
       "-1"
      ]
     },
     "execution_count": 201,
     "metadata": {},
     "output_type": "execute_result"
    }
   ],
   "source": [
    "stack.pop()"
   ]
  },
  {
   "cell_type": "code",
   "execution_count": 189,
   "metadata": {},
   "outputs": [
    {
     "name": "stdout",
     "output_type": "stream",
     "text": [
      "Stack underflow\n"
     ]
    },
    {
     "data": {
      "text/plain": [
       "-1"
      ]
     },
     "execution_count": 189,
     "metadata": {},
     "output_type": "execute_result"
    }
   ],
   "source": [
    "stack.top()"
   ]
  },
  {
   "cell_type": "code",
   "execution_count": null,
   "metadata": {},
   "outputs": [],
   "source": []
  }
 ],
 "metadata": {
  "kernelspec": {
   "display_name": "Python 3",
   "language": "python",
   "name": "python3"
  },
  "language_info": {
   "codemirror_mode": {
    "name": "ipython",
    "version": 3
   },
   "file_extension": ".py",
   "mimetype": "text/x-python",
   "name": "python",
   "nbconvert_exporter": "python",
   "pygments_lexer": "ipython3",
   "version": "3.8.5"
  }
 },
 "nbformat": 4,
 "nbformat_minor": 4
}
