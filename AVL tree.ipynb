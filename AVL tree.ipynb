{
 "cells": [
  {
   "cell_type": "code",
   "execution_count": 8,
   "metadata": {},
   "outputs": [],
   "source": [
    "class AVLNode:\n",
    "    def __init__(self, data):\n",
    "        self.data = data\n",
    "        self.right = None\n",
    "        self.left = None\n",
    "        self.height = 1\n",
    "        \n",
    "    def preordertraversal(self):\n",
    "        if not self:\n",
    "            return\n",
    "        print(self.data)\n",
    "        try:\n",
    "            self.left.preordertraversal()\n",
    "        except:\n",
    "            pass\n",
    "        try:\n",
    "            self.right.preordertraversal()\n",
    "        except:\n",
    "            pass\n",
    "        \n",
    "    def levelordertraversal(self):\n",
    "        from collections import deque\n",
    "        if  not self:\n",
    "            return\n",
    "        else:\n",
    "            customqueue = deque(maxlen=4)\n",
    "            customqueue.append(self)\n",
    "            while len(customqueue) != 0:\n",
    "                root = customqueue.popleft()\n",
    "                print(root.data)\n",
    "                if root.left is not None:\n",
    "                    customqueue.append(root.left)\n",
    "                if root.right is not None:\n",
    "                    customqueue.append(root.right)\n",
    "    \n",
    "    \n",
    "    def search(self, nodevalue):\n",
    "        if self.data == nodevalue:\n",
    "            print(\"value found\")\n",
    "        elif nodevalue < self.data:\n",
    "            self.left.search(nodevalue)\n",
    "        else:\n",
    "            self.right.search(nodevalue)\n",
    "    # insertion of nodes in avl \n",
    "    \n",
    "\n"
   ]
  },
  {
   "cell_type": "code",
   "execution_count": 11,
   "metadata": {},
   "outputs": [],
   "source": [
    "# insertion \n",
    "def getHeight(rootNode):\n",
    "    if not rootNode:\n",
    "        return 0\n",
    "    return rootNode.height\n",
    "\n",
    "def rightRotate(disbalancedNode):\n",
    "    newRoot = disbalancedNode.left\n",
    "    disbalancedNode.left = disbalancedNode.left.right\n",
    "    newRoot.right = disbalancedNode\n",
    "    disbalancedNode.height = 1 + max(getHeight(disbalancedNode.left),getHeight(disbalancedNode.right))\n",
    "    newRoot.height =  1 + max(getHeight(newRoot.left), getHeight(newRoot.right))\n",
    "    return newRoot\n",
    "\n",
    "def leftRotate(disbalancedNode):\n",
    "    newRoot = disbalancedNode.right\n",
    "    disbalancedNode.right = disbalancedNode.right.left\n",
    "    newRoot.left = disbalancedNode\n",
    "    disbalancedNode.height = 1+max(getHeight(disbalancedNode.left), getHeight(disbalancedNode.right))\n",
    "    newRoot.height = ! + max(getHeight(disbalancedNode.left), getHeight(disbalancedNode.right))\n",
    "    return newRoot\n",
    "\n",
    "def getBalance(rootNode):\n",
    "    if not rootNode:\n",
    "        return 0\n",
    "    return getHeight(rootNode.left) - getHeight(rootNode.right)\n",
    "\n",
    "def insertNode(rootNode, nodevalue):\n",
    "    if not rootNode:\n",
    "        return AVLNode(nodevalue)\n",
    "    elif nodevalue < rootNode.data:\n",
    "        rootNode.left = insertNode(rootNode.left, nodevalue)\n",
    "    else:\n",
    "        rootNode.right = insertNode(rootNode.right, nodevalue)\n",
    "        \n",
    "    rootNode.height = 1 + max(getHeight(rootNode.left), getHeight(rootNode.right))\n",
    "    balance = getBalance(rootNode)\n",
    "    if balance> 1 and nodevalue < rootNode.left.data:\n",
    "        return rightRotate(rootNode)\n",
    "    if balance > 1 and nodevalue> rootNode.left.data:\n",
    "        rootNode.left = leftRotate(rootNode.left)\n",
    "        return rightRotate(rootNode)\n",
    "    \n",
    "    if balance< -1 and nodevalue> rootNode.right.data:\n",
    "        return leftRotate(rootNode)\n",
    "    \n",
    "    if balance < -1 and nodevalue < rootNode.right.data:\n",
    "        rootNode.right = rightRotate(rootNode.right)\n",
    "        return leftRotate(rootNode)\n",
    "    return rootNode"
   ]
  },
  {
   "cell_type": "code",
   "execution_count": 16,
   "metadata": {},
   "outputs": [],
   "source": [
    "\n",
    "newAVL = AVLNode(5)"
   ]
  },
  {
   "cell_type": "code",
   "execution_count": 17,
   "metadata": {},
   "outputs": [
    {
     "name": "stdout",
     "output_type": "stream",
     "text": [
      "5\n"
     ]
    }
   ],
   "source": [
    "newAVL.levelordertraversal()"
   ]
  },
  {
   "cell_type": "code",
   "execution_count": 18,
   "metadata": {},
   "outputs": [],
   "source": [
    "newAVL = insertNode(newAVL,10)\n",
    "newAVL = insertNode(newAVL,15)\n",
    "newAVL = insertNode(newAVL,20)"
   ]
  },
  {
   "cell_type": "code",
   "execution_count": 19,
   "metadata": {},
   "outputs": [
    {
     "name": "stdout",
     "output_type": "stream",
     "text": [
      "10\n",
      "5\n",
      "15\n",
      "20\n"
     ]
    }
   ],
   "source": [
    "newAVL.levelordertraversal()"
   ]
  },
  {
   "cell_type": "code",
   "execution_count": null,
   "metadata": {},
   "outputs": [],
   "source": []
  }
 ],
 "metadata": {
  "kernelspec": {
   "display_name": "Python 3",
   "language": "python",
   "name": "python3"
  },
  "language_info": {
   "codemirror_mode": {
    "name": "ipython",
    "version": 3
   },
   "file_extension": ".py",
   "mimetype": "text/x-python",
   "name": "python",
   "nbconvert_exporter": "python",
   "pygments_lexer": "ipython3",
   "version": "3.8.5"
  }
 },
 "nbformat": 4,
 "nbformat_minor": 4
}
