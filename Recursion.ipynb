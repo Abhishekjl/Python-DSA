{
 "cells": [
  {
   "cell_type": "code",
   "execution_count": 18,
   "metadata": {},
   "outputs": [],
   "source": [
    "# printing n natural numbers using recursion N-1\n",
    "def PrintN21(n):\n",
    "    if n == 0:\n",
    "        return \n",
    "    print(n)\n",
    "    PrintN(n-1)   # this is faster  (tail recursion)\n",
    "    \n",
    "def Print12N(n):\n",
    "    \n",
    "    if n == 0 :                                                                                                                                                                                                                                                                                                                                                                                                                                                                                                                                                                                                                                                                                                                                                                                                                                                                                                                                                                                                                                                                                                                                                                                                                                                                                                                                                                                                                                                                                                                                                                                                                                                                                                                                                                                                                                                                                                                                                                                                                                                                                                                                                                                                                                                                                                                                                                                                                                                                                                                                                                                                                                                                                                                                                                                                                                                                                                                                                                                                                                                                                                                                                                                                                                                                                                                                                                                                                                                                                                                                                                                                                                                                                                                                                                                                                                                                                                                                                                                                                                                                                                                                                                                                                                                                                                                                                                                                                                                                                                                                                                                                                                                                                                                                                                                                                                                                                                                                                                                                                                                                                                                                                                                                                                                                                                                                                                                                                                                                                                                                                                                                                                                                                                                                                                                                                                                                                                                                                                                                                                                                                                                                                                                                                                                                                                                                                                                                                                                                                                                                                                                                                                                                                                                                                                                                                                                                                                                                                                                                                                                                                                                                                                                                                                                                                                                                                                                                                                                                                                                                                                                                                                                                                                                                                                                                                                                                                                                                                                                                                                                                                                                                                                                                                                                                                                                                                                                                                                                                                                                                                                                                                                                                                                                                                                                                                                                                                                                                                                                                                                                                                                                                                                                                                                                                                                                                        \n",
    "        return \n",
    "    Print12N(n-1)  # this is slower  ( non tail recursive)\n",
    "    print(n)"
   ]
  },
  {
   "cell_type": "code",
   "execution_count": 19,
   "metadata": {
    "scrolled": false
   },
   "outputs": [
    {
     "name": "stdout",
     "output_type": "stream",
     "text": [
      "5\n",
      "4\n",
      "3\n",
      "2\n",
      "1\n"
     ]
    }
   ],
   "source": [
    "PrintN21(5)"
   ]
  },
  {
   "cell_type": "code",
   "execution_count": 20,
   "metadata": {
    "scrolled": true
   },
   "outputs": [
    {
     "name": "stdout",
     "output_type": "stream",
     "text": [
      "1\n",
      "2\n",
      "3\n",
      "4\n",
      "5\n"
     ]
    }
   ],
   "source": [
    "Print12N(5)"
   ]
  },
  {
   "cell_type": "code",
   "execution_count": 21,
   "metadata": {},
   "outputs": [],
   "source": [
    "### converting non-tail recursive to tail recursion\n",
    "def Print12N(n,k=1):\n",
    "    \n",
    "    if n == 0 :\n",
    "        return \n",
    "    print(k)\n",
    "    Print12N(n-1,k+1)  # this is slower \n"
   ]
  },
  {
   "cell_type": "code",
   "execution_count": 23,
   "metadata": {},
   "outputs": [
    {
     "name": "stdout",
     "output_type": "stream",
     "text": [
      "1\n",
      "2\n",
      "3\n",
      "4\n",
      "5\n"
     ]
    }
   ],
   "source": [
    "Print12N(5)"
   ]
  },
  {
   "cell_type": "code",
   "execution_count": null,
   "metadata": {},
   "outputs": [],
   "source": []
  },
  {
   "cell_type": "code",
   "execution_count": 1,
   "metadata": {},
   "outputs": [
    {
     "name": "stdout",
     "output_type": "stream",
     "text": [
      "120\n"
     ]
    }
   ],
   "source": [
    "# creating factorial program\n",
    "\n",
    "def fact(n):\n",
    "    if n == 0: # if we pass n = negative then n will never be zero\n",
    "        return 1\n",
    "    if n<0:\n",
    "        print('factorial of negative number not defined')\n",
    "        return None    \n",
    "    else:\n",
    "        small_answer = n*fact(n-1)\n",
    "        return small_answer\n",
    "\n",
    "\n",
    "print(fact(5))            \n"
   ]
  },
  {
   "cell_type": "code",
   "execution_count": 2,
   "metadata": {
    "scrolled": true
   },
   "outputs": [
    {
     "data": {
      "text/plain": [
       "120"
      ]
     },
     "execution_count": 2,
     "metadata": {},
     "output_type": "execute_result"
    }
   ],
   "source": [
    "## tail recursive function for factorial \n",
    "def fact(n, k = 1):\n",
    "    if (n == 0) or (n==1):\n",
    "        return k\n",
    "    return fact(n-1,n*k)\n",
    "fact(5)"
   ]
  },
  {
   "cell_type": "code",
   "execution_count": 19,
   "metadata": {},
   "outputs": [
    {
     "data": {
      "text/plain": [
       "True"
      ]
     },
     "execution_count": 19,
     "metadata": {},
     "output_type": "execute_result"
    }
   ],
   "source": [
    " ### checking pelindrome using recursion\n",
    "# first and last character must be same \n",
    "def checkPelindrome(x, start = 0):\n",
    "    end = len(x)-start-1\n",
    "    if start>=end:\n",
    "        return True # this will only happen for 1 or 0 element \n",
    "    return x[start] == x[end] and checkPelindrome(x, start+1)\n",
    "checkPelindrome(\"121\")"
   ]
  },
  {
   "cell_type": "code",
   "execution_count": 3,
   "metadata": {},
   "outputs": [
    {
     "data": {
      "text/plain": [
       "2"
      ]
     },
     "execution_count": 3,
     "metadata": {},
     "output_type": "execute_result"
    }
   ],
   "source": [
    "### sum of digits using recursion\n",
    "# x = 234 = 9\n",
    "def digisum(x):\n",
    "    if x == 0:\n",
    "        return 0\n",
    "    last_digit = x%10\n",
    "    return digisum(x//10)+last_digit\n",
    "digisum(1001)"
   ]
  },
  {
   "cell_type": "code",
   "execution_count": 29,
   "metadata": {},
   "outputs": [
    {
     "name": "stdout",
     "output_type": "stream",
     "text": [
      "[0, 1, 1, 2, 3, 5, 8, 13, 21, 34]\n"
     ]
    }
   ],
   "source": [
    "# creating fibonacci series\n",
    "def fibo(n):\n",
    "    if n == 0: # base case\n",
    "        return 0 \n",
    "    if n == 1:\n",
    "        return 1    \n",
    "\n",
    "    # recursive case\n",
    "    small_output1 = fibo(n-1)\n",
    "    small_output2 = fibo(n-2)\n",
    "\n",
    "    # calculation \n",
    "\n",
    "    return small_output1+small_output2\n",
    "\n",
    "\n",
    "print([fibo(i) for i in range(10)])"
   ]
  },
  {
   "cell_type": "code",
   "execution_count": 3,
   "metadata": {},
   "outputs": [
    {
     "data": {
      "text/plain": [
       "861"
      ]
     },
     "execution_count": 3,
     "metadata": {},
     "output_type": "execute_result"
    }
   ],
   "source": [
    "### sum of natural number using recursion\n",
    "# n = 3 => 3+2+1\n",
    "def sumn(n):\n",
    "    if n == 1:\n",
    "        return 1\n",
    "    return n + sumn(n-1)\n",
    "\n",
    "sumn(41)"
   ]
  },
  {
   "cell_type": "code",
   "execution_count": 4,
   "metadata": {},
   "outputs": [],
   "source": [
    "# power \n",
    "#X^n = X*X*X or X*X^n-1\n",
    "\n",
    "\n",
    "def  power(x,n):\n",
    "    if n==0: # base   \n",
    "        return 1\n",
    "    else:\n",
    "        answer = x*power(x,n-1)\n",
    "        return answer"
   ]
  },
  {
   "cell_type": "code",
   "execution_count": 7,
   "metadata": {},
   "outputs": [
    {
     "data": {
      "text/plain": [
       "100000000"
      ]
     },
     "execution_count": 7,
     "metadata": {},
     "output_type": "execute_result"
    }
   ],
   "source": [
    "\n",
    "power(100,4)"
   ]
  },
  {
   "cell_type": "code",
   "execution_count": 4,
   "metadata": {},
   "outputs": [],
   "source": [
    "# calculating  the geometric sum \n",
    "# 1/2^0 + 1/2^1 + 1/2^3 ---------------------------1/2^n\n",
    "\n",
    "def geometric_sum(n):\n",
    "    if n == 0:\n",
    "        return 1\n",
    "    small_answer = geometric_sum(n-1) + 1/2**n\n",
    "    return small_answer"
   ]
  },
  {
   "cell_type": "code",
   "execution_count": 7,
   "metadata": {},
   "outputs": [
    {
     "data": {
      "text/plain": [
       "1.875"
      ]
     },
     "execution_count": 7,
     "metadata": {},
     "output_type": "execute_result"
    }
   ],
   "source": [
    "geometric_sum(3)"
   ]
  },
  {
   "cell_type": "code",
   "execution_count": 39,
   "metadata": {},
   "outputs": [],
   "source": [
    "# check sorted using recursion\n",
    "\n",
    "def is_sorted(a):\n",
    "    n = len(a)\n",
    "    if (n == 0 or n == 1):\n",
    "        return True\n",
    "    if (a[0]>a[1]):\n",
    "        return False\n",
    "    is_sorted_small_ans = is_sorted(a[0+1:n])\n",
    "    return is_sorted_small_ans"
   ]
  },
  {
   "cell_type": "code",
   "execution_count": 42,
   "metadata": {},
   "outputs": [
    {
     "name": "stdout",
     "output_type": "stream",
     "text": [
      "False\n"
     ]
    }
   ],
   "source": [
    "a = [1,2,3,10,5]\n",
    "print(is_sorted(a))"
   ]
  },
  {
   "cell_type": "code",
   "execution_count": 3,
   "metadata": {},
   "outputs": [],
   "source": [
    "# sum of array using recursion\n",
    "def sum(array):\n",
    "    n = len(array)\n",
    "    if n == 0:\n",
    "        return 0\n",
    "    return array[0]+sum(array[0+1:n])"
   ]
  },
  {
   "cell_type": "code",
   "execution_count": 4,
   "metadata": {},
   "outputs": [
    {
     "data": {
      "text/plain": [
       "10"
      ]
     },
     "execution_count": 4,
     "metadata": {},
     "output_type": "execute_result"
    }
   ],
   "source": [
    "sum([1,2,3,4])"
   ]
  },
  {
   "cell_type": "code",
   "execution_count": 8,
   "metadata": {},
   "outputs": [],
   "source": [
    "# recursively print array\n",
    "def print_array(array):\n",
    "    n = len(array)\n",
    "    if n ==0 :\n",
    "        return \n",
    "    print(array[0])\n",
    "    print_array(array[0+1:n])\n",
    "    \n",
    "def reverse_print(array):\n",
    "    n = len(array)\n",
    "    if n == 0:\n",
    "        return\n",
    "    reverse_print(array[0+1:n])\n",
    "    print(array[0])"
   ]
  },
  {
   "cell_type": "code",
   "execution_count": 7,
   "metadata": {},
   "outputs": [
    {
     "name": "stdout",
     "output_type": "stream",
     "text": [
      "a\n",
      "b\n",
      "c\n"
     ]
    }
   ],
   "source": [
    "print_array('abc')"
   ]
  },
  {
   "cell_type": "code",
   "execution_count": 10,
   "metadata": {},
   "outputs": [
    {
     "name": "stdout",
     "output_type": "stream",
     "text": [
      " \n",
      "5\n",
      "3\n",
      "2\n",
      "1\n",
      "c\n",
      "b\n",
      "a\n"
     ]
    }
   ],
   "source": [
    "reverse_print('abc1235 ')"
   ]
  },
  {
   "cell_type": "code",
   "execution_count": 7,
   "metadata": {},
   "outputs": [],
   "source": [
    "# sum of digits \n",
    "def sum_of_digits(n):\n",
    "    assert n>=0 and (type(n) == int),'number must be postitive'\n",
    "    if n == 0:\n",
    "        return 0\n",
    "    else:\n",
    "        return int(n%10)+ sum_of_digits(int(n/10))"
   ]
  },
  {
   "cell_type": "code",
   "execution_count": 9,
   "metadata": {},
   "outputs": [
    {
     "data": {
      "text/plain": [
       "29"
      ]
     },
     "execution_count": 9,
     "metadata": {},
     "output_type": "execute_result"
    }
   ],
   "source": [
    "sum_of_digits(18983)"
   ]
  },
  {
   "cell_type": "code",
   "execution_count": 1,
   "metadata": {},
   "outputs": [],
   "source": [
    "# calculate the power using recursion\n",
    "def power(base, exp):\n",
    "    assert exp>=0 and(type(exp) == int), \"exponent must be an integer\"\n",
    "    if exp == 0:\n",
    "        return 1\n",
    "    if exp == 1:\n",
    "        return base\n",
    "    else:\n",
    "        return(base*power(base,exp - 1))"
   ]
  },
  {
   "cell_type": "code",
   "execution_count": 3,
   "metadata": {},
   "outputs": [
    {
     "data": {
      "text/plain": [
       "-2"
      ]
     },
     "execution_count": 3,
     "metadata": {},
     "output_type": "execute_result"
    }
   ],
   "source": [
    "\n",
    "power(-2,1)"
   ]
  },
  {
   "cell_type": "code",
   "execution_count": 9,
   "metadata": {},
   "outputs": [],
   "source": [
    "# finding the greatest common divisor( GCD) using recursion\n",
    "# gcd(8,12) IS 4\n",
    "def gcd(a,b):\n",
    "    assert (type(a) == int) and (type(b) == int),\"number must be integer\"\n",
    "    if a<0:\n",
    "        a = a*-1\n",
    "    if b<  0:\n",
    "        b = b*-1\n",
    "    if b == 0:\n",
    "        return a\n",
    "    else:\n",
    "        return gcd(b,a%b)"
   ]
  },
  {
   "cell_type": "code",
   "execution_count": 11,
   "metadata": {},
   "outputs": [
    {
     "data": {
      "text/plain": [
       "6"
      ]
     },
     "execution_count": 11,
     "metadata": {},
     "output_type": "execute_result"
    }
   ],
   "source": [
    "gcd(48,-18)"
   ]
  },
  {
   "cell_type": "code",
   "execution_count": 20,
   "metadata": {},
   "outputs": [],
   "source": [
    "# convert a number from decimal to binary using recursion\n",
    "def decimal_to_binary(n):\n",
    "    \n",
    "    if n == 0:\n",
    "        return 0\n",
    "    else:\n",
    "        return n%2 + 10*decimal_to_binary(int(n/2))"
   ]
  },
  {
   "cell_type": "code",
   "execution_count": 21,
   "metadata": {},
   "outputs": [
    {
     "data": {
      "text/plain": [
       "1101"
      ]
     },
     "execution_count": 21,
     "metadata": {},
     "output_type": "execute_result"
    }
   ],
   "source": [
    "decimal_to_binary(13)"
   ]
  },
  {
   "cell_type": "code",
   "execution_count": 19,
   "metadata": {},
   "outputs": [
    {
     "data": {
      "text/plain": [
       "2"
      ]
     },
     "execution_count": 19,
     "metadata": {},
     "output_type": "execute_result"
    }
   ],
   "source": [
    "int(5/2)"
   ]
  },
  {
   "cell_type": "markdown",
   "metadata": {},
   "source": [
    "#### Max pieces Rope Cutting Problem"
   ]
  },
  {
   "cell_type": "code",
   "execution_count": 25,
   "metadata": {},
   "outputs": [],
   "source": [
    "def ropecuts(n, a, b,c):\n",
    "    if n == 0:\n",
    "        return 0\n",
    "    if n <0:\n",
    "        return -1\n",
    "    res = max((ropecuts(n-a,a,b,c)), \n",
    "              (ropecuts(n-b, a,b,c)),(ropecuts(n-c,a,b,c)))\n",
    "    if res == -1:\n",
    "        return -1\n",
    "    return res +1"
   ]
  },
  {
   "cell_type": "code",
   "execution_count": 26,
   "metadata": {},
   "outputs": [
    {
     "data": {
      "text/plain": [
       "2"
      ]
     },
     "execution_count": 26,
     "metadata": {},
     "output_type": "execute_result"
    }
   ],
   "source": [
    "ropecuts(23,11,9,12)"
   ]
  },
  {
   "cell_type": "code",
   "execution_count": 27,
   "metadata": {},
   "outputs": [
    {
     "data": {
      "text/plain": [
       "5"
      ]
     },
     "execution_count": 27,
     "metadata": {},
     "output_type": "execute_result"
    }
   ],
   "source": [
    "ropecuts(5,1,2,3)"
   ]
  },
  {
   "cell_type": "code",
   "execution_count": 29,
   "metadata": {},
   "outputs": [
    {
     "data": {
      "text/plain": [
       "-1"
      ]
     },
     "execution_count": 29,
     "metadata": {},
     "output_type": "execute_result"
    }
   ],
   "source": [
    "ropecuts(5,6,6,7)"
   ]
  },
  {
   "cell_type": "code",
   "execution_count": 36,
   "metadata": {},
   "outputs": [
    {
     "name": "stdout",
     "output_type": "stream",
     "text": [
      "None\n",
      "['', 'c', 'b', 'bc', 'a', 'ac', 'ab', 'abc']\n"
     ]
    }
   ],
   "source": [
    "### Generating Subsets\n",
    "subset_list = []\n",
    "def subset(x,curr = \"\", i = 0):\n",
    "    if len(x) == i:\n",
    "#         print(curr)\n",
    "        subset_list.append(curr)\n",
    "        return \n",
    "    subset(x,curr,i+1)\n",
    "    subset(x,curr+x[i],i+1)\n",
    "\n",
    "print(subset('abc'))\n",
    "print(subset_list)"
   ]
  },
  {
   "cell_type": "code",
   "execution_count": 42,
   "metadata": {},
   "outputs": [
    {
     "name": "stdout",
     "output_type": "stream",
     "text": [
      "[22, 79, 21]\n"
     ]
    }
   ],
   "source": [
    "### hackerrank sinchan problem\n",
    "# 22*79-21 if divisible by 101\n",
    "\n",
    "def div_test(a,b,c):\n",
    "    if a%101 == 0:\n",
    "        return \n",
    "    \n",
    "    \n",
    "    \n"
   ]
  },
  {
   "cell_type": "code",
   "execution_count": 14,
   "metadata": {},
   "outputs": [],
   "source": [
    "\n",
    "\n",
    "\n",
    "### generating permutaition\n",
    "def permute( s, i = 0):\n",
    "    if (i == len(s)-1):\n",
    "        print(''.join(s))\n",
    "        return\n",
    "    for j in range(i, len(s)):\n",
    "        s[i],s[j]=s[j],s[i]\n",
    "        permute(s,i+1)\n",
    "        s[i],s[j] = s[j],s[i]\n",
    "        "
   ]
  },
  {
   "cell_type": "code",
   "execution_count": 15,
   "metadata": {},
   "outputs": [
    {
     "name": "stdout",
     "output_type": "stream",
     "text": [
      "abc\n",
      "acb\n",
      "bac\n",
      "bca\n",
      "cba\n",
      "cab\n"
     ]
    }
   ],
   "source": [
    "\n",
    "permute(['a','b','c'])"
   ]
  },
  {
   "cell_type": "code",
   "execution_count": 18,
   "metadata": {},
   "outputs": [],
   "source": [
    "### nos of ways to climb a stair if the steps are given \n",
    "\n",
    "\n",
    "def countways(n, a,b,c):\n",
    "    if n == 0 or n == 1:\n",
    "        return 1\n",
    "    if n<0:\n",
    "        return 0\n",
    "    return countways(n-a,a,b,c)+countways(n-b,a,b,c)+countways(n-c,a,b,c)"
   ]
  },
  {
   "cell_type": "code",
   "execution_count": 26,
   "metadata": {},
   "outputs": [
    {
     "data": {
      "text/plain": [
       "13"
      ]
     },
     "execution_count": 26,
     "metadata": {},
     "output_type": "execute_result"
    }
   ],
   "source": [
    "countways(5,1,2,3)"
   ]
  },
  {
   "cell_type": "code",
   "execution_count": 107,
   "metadata": {},
   "outputs": [],
   "source": [
    "### Printing recursively\n",
    "\n",
    "def printx(s):\n",
    "    if len(s) == 1:\n",
    "        print(s)\n",
    "        return\n",
    "    print(s[0])\n",
    "  \n",
    "    printx(s[1:])\n",
    "    \n",
    "    \n",
    "def reversex(s):\n",
    "    if len(s) == 1:\n",
    "        print(s)\n",
    "        return \n",
    "    print(s[-1])\n",
    "    reversex(s[:-1])"
   ]
  },
  {
   "cell_type": "code",
   "execution_count": 108,
   "metadata": {},
   "outputs": [
    {
     "name": "stdout",
     "output_type": "stream",
     "text": [
      "a\n",
      "b\n",
      "c\n",
      "d\n"
     ]
    }
   ],
   "source": [
    "(printx('abcd'))"
   ]
  },
  {
   "cell_type": "code",
   "execution_count": 109,
   "metadata": {},
   "outputs": [
    {
     "name": "stdout",
     "output_type": "stream",
     "text": [
      "d\n",
      "c\n",
      "b\n",
      "a\n"
     ]
    }
   ],
   "source": [
    "reversex('abcd')"
   ]
  },
  {
   "cell_type": "code",
   "execution_count": 87,
   "metadata": {},
   "outputs": [
    {
     "data": {
      "text/plain": [
       "''"
      ]
     },
     "execution_count": 87,
     "metadata": {},
     "output_type": "execute_result"
    }
   ],
   "source": [
    "s = 'a'\n",
    "s[1:]"
   ]
  },
  {
   "cell_type": "code",
   "execution_count": 112,
   "metadata": {},
   "outputs": [],
   "source": [
    "#### finding the length of array using recursion\n",
    "\n",
    "def length(s):\n",
    "    if s[1:] == '':\n",
    "        return 1\n",
    "    small_length = length(s[1:])\n",
    "    return 1+small_length"
   ]
  },
  {
   "cell_type": "code",
   "execution_count": 114,
   "metadata": {},
   "outputs": [
    {
     "data": {
      "text/plain": [
       "5"
      ]
     },
     "execution_count": 114,
     "metadata": {},
     "output_type": "execute_result"
    }
   ],
   "source": [
    "length('123ty')"
   ]
  },
  {
   "cell_type": "code",
   "execution_count": 1,
   "metadata": {},
   "outputs": [],
   "source": [
    "#### keypad combination\n"
   ]
  },
  {
   "cell_type": "code",
   "execution_count": 4,
   "metadata": {},
   "outputs": [],
   "source": [
    "### get stairpaths\n",
    "\n",
    "def stairpath(n, a,b,c):\n",
    "    if n<0:\n",
    "        return 0\n",
    "    if n == 1 or n == 0:\n",
    "        return 1\n",
    "    \n",
    "    \n",
    "    return stairpath(n-a,a,b,c)+stairpath(n-b,a,b,c)+stairpath(n-c,a,b,c)"
   ]
  },
  {
   "cell_type": "code",
   "execution_count": 5,
   "metadata": {},
   "outputs": [
    {
     "data": {
      "text/plain": [
       "13"
      ]
     },
     "execution_count": 5,
     "metadata": {},
     "output_type": "execute_result"
    }
   ],
   "source": [
    "stairpath(5,1,2,3)"
   ]
  },
  {
   "cell_type": "code",
   "execution_count": 8,
   "metadata": {},
   "outputs": [
    {
     "name": "stdout",
     "output_type": "stream",
     "text": [
      "4\n"
     ]
    }
   ],
   "source": [
    "a = [1,2,3,4,1,5,6,7]\n",
    "### find the last index of 1\n",
    "n = 1\n",
    "for i in range(len(a)-1, -1,-1):\n",
    "    if a[i] == n:\n",
    "        print(i)\n",
    "        break"
   ]
  },
  {
   "cell_type": "code",
   "execution_count": 1,
   "metadata": {},
   "outputs": [],
   "source": [
    "#### printing the permutations\n",
    "s  = ['a','b','c']\n",
    "\n",
    "def permutation(s,start=0):\n",
    "    if len(s[start:]) == 1:\n",
    "        print(s)\n",
    "        return\n",
    "    for i in range(start,len(s)):\n",
    "        s[i],s[start] = s[start],s[i]\n",
    "        permutation(s,start+1)\n",
    "        s[start],s[i] = s[i],s[start]\n",
    "        "
   ]
  },
  {
   "cell_type": "code",
   "execution_count": 2,
   "metadata": {},
   "outputs": [
    {
     "name": "stdout",
     "output_type": "stream",
     "text": [
      "['a', 'b', 'c']\n",
      "['a', 'c', 'b']\n",
      "['b', 'a', 'c']\n",
      "['b', 'c', 'a']\n",
      "['c', 'b', 'a']\n",
      "['c', 'a', 'b']\n"
     ]
    }
   ],
   "source": [
    "permutation(s)"
   ]
  },
  {
   "cell_type": "markdown",
   "metadata": {},
   "source": [
    "#### printing maze path"
   ]
  },
  {
   "cell_type": "code",
   "execution_count": 35,
   "metadata": {},
   "outputs": [],
   "source": [
    "### when only horizontal and vertical motion is allowed"
   ]
  },
  {
   "cell_type": "code",
   "execution_count": 50,
   "metadata": {},
   "outputs": [
    {
     "data": {
      "text/plain": [
       "6"
      ]
     },
     "execution_count": 50,
     "metadata": {},
     "output_type": "execute_result"
    }
   ],
   "source": [
    "def print_maze(n,i = 0,j=0):\n",
    "#     print(i,j)\n",
    "    \n",
    "    if i > n-1 or j > n-1:\n",
    "        return 0\n",
    "    if (i == n-1) and (j == n-1):\n",
    "        return 1\n",
    "    return print_maze(n,i,j+1) + print_maze(n, i+1, j) \n",
    "\n",
    "print_maze(3)"
   ]
  },
  {
   "cell_type": "code",
   "execution_count": 37,
   "metadata": {},
   "outputs": [],
   "source": [
    "### when diagonal motion is additionally allowed"
   ]
  },
  {
   "cell_type": "code",
   "execution_count": 6,
   "metadata": {},
   "outputs": [
    {
     "data": {
      "text/plain": [
       "63"
      ]
     },
     "execution_count": 6,
     "metadata": {},
     "output_type": "execute_result"
    }
   ],
   "source": [
    "def print_maze(n,i = 0,j=0):\n",
    "#     print(i,j)\n",
    "    \n",
    "    if i > n-1 or j > n-1:\n",
    "        return 0\n",
    "    if (i == n-1) and (j == n-1):\n",
    "        return 1\n",
    "    return print_maze(n,i,j+1) + print_maze(n, i+1, j) + print_maze(n, i+1, j+1)\n",
    "\n",
    "print_maze(4)"
   ]
  },
  {
   "cell_type": "code",
   "execution_count": 13,
   "metadata": {},
   "outputs": [
    {
     "data": {
      "text/plain": [
       "13"
      ]
     },
     "execution_count": 13,
     "metadata": {},
     "output_type": "execute_result"
    }
   ],
   "source": [
    "#### printing maze with jumps\n",
    "def print_maze(n,i = 0,j=0):\n",
    "#     print(i,j)\n",
    "    \n",
    "    if i > n-1 or j > n-1:\n",
    "        return 0\n",
    "    if (i == n-1) and (j == n-1):\n",
    "        return 1\n",
    "    for k in range(1,n):\n",
    "        \n",
    "         return print_maze(n,i,j+k) + print_maze(n, i+k, j) + print_maze(n, i+k, j+1)\n",
    "\n",
    "print_maze(3)"
   ]
  },
  {
   "cell_type": "code",
   "execution_count": 12,
   "metadata": {},
   "outputs": [
    {
     "data": {
      "text/plain": [
       "[1, 1, 1, 1, 3, 1, 5, 1, 1, 3, 1, 1, 1, 5, 1, 1, 3, 13]"
      ]
     },
     "execution_count": 12,
     "metadata": {},
     "output_type": "execute_result"
    }
   ],
   "source": [
    "ans"
   ]
  },
  {
   "cell_type": "code",
   "execution_count": 11,
   "metadata": {},
   "outputs": [],
   "source": [
    "def get_maze_path(sr,sc,dr,dc, asf = ''):\n",
    "    if sr>dr or sc> dc:\n",
    "        return \n",
    "    if sr == dr and sc==dc:\n",
    "        print(asf)\n",
    "        return 1\n",
    "    for jump in range(1, dc+1):\n",
    "        if sc+jump<=dc:\n",
    "            get_maze_path(sr,sc+jump, dr, dc, asf = asf+'h'+str(jump)) # horizontal move\n",
    "    \n",
    "    for jump in range(1, dr+1):\n",
    "        if sr+jump <= dr:\n",
    "            get_maze_path(sr+jump,sc, dr, dc ,asf = asf+'v'+str(jump))  # vertical move toward down\n",
    "    for jump in range(1, dc+1):\n",
    "        if sc+jump <= dc and sr+jump <= dr:\n",
    "            get_maze_path(sr+jump, sc+jump, dr,dc, asf = asf+ 'd'+str(jump))\n",
    "            \n",
    "\n",
    "        \n",
    "    "
   ]
  },
  {
   "cell_type": "code",
   "execution_count": 12,
   "metadata": {},
   "outputs": [
    {
     "name": "stdout",
     "output_type": "stream",
     "text": [
      "h1h1v1v1\n",
      "h1h1v2\n",
      "h1v1h1v1\n",
      "h1v1v1h1\n",
      "h1v1d1\n",
      "h1v2h1\n",
      "h1d1v1\n",
      "h2v1v1\n",
      "h2v2\n",
      "v1h1h1v1\n",
      "v1h1v1h1\n",
      "v1h1d1\n",
      "v1h2v1\n",
      "v1v1h1h1\n",
      "v1v1h2\n",
      "v1d1h1\n",
      "v2h1h1\n",
      "v2h2\n",
      "d1h1v1\n",
      "d1v1h1\n",
      "d1d1\n",
      "d2\n"
     ]
    }
   ],
   "source": [
    "get_maze_path(0,0,2,2)         \n"
   ]
  },
  {
   "cell_type": "markdown",
   "metadata": {},
   "source": [
    "##### subsequences and subset can solved by Recursion"
   ]
  },
  {
   "cell_type": "code",
   "execution_count": 5,
   "metadata": {},
   "outputs": [],
   "source": [
    "a = [5,10,20,30,40,50,60]\n",
    "\n",
    "def find_subset(arr, idx, asf, sos,tar):\n",
    "    if idx == len(arr):\n",
    "        if (sos == tar):\n",
    "            print(asf)\n",
    "            return\n",
    "        else:\n",
    "            return\n",
    "    if sos >  tar:\n",
    "        return\n",
    "    \n",
    "    find_subset(arr, idx+1,asf,sos, tar)\n",
    "    find_subset(arr,idx+1,asf+str(a[idx])+',',sos+a[idx],tar)\n"
   ]
  },
  {
   "cell_type": "code",
   "execution_count": 6,
   "metadata": {},
   "outputs": [
    {
     "name": "stdout",
     "output_type": "stream",
     "text": [
      "60,\n",
      "20,40,\n",
      "10,50,\n",
      "10,20,30,\n"
     ]
    }
   ],
   "source": [
    "find_subset(a, 0,'',0,60)"
   ]
  },
  {
   "cell_type": "code",
   "execution_count": 42,
   "metadata": {},
   "outputs": [
    {
     "data": {
      "text/plain": [
       "23"
      ]
     },
     "execution_count": 42,
     "metadata": {},
     "output_type": "execute_result"
    }
   ],
   "source": [
    "int('23')"
   ]
  },
  {
   "cell_type": "markdown",
   "metadata": {},
   "source": [
    "#### finding the minimum number of jumps question"
   ]
  },
  {
   "cell_type": "code",
   "execution_count": 4,
   "metadata": {},
   "outputs": [
    {
     "data": {
      "text/plain": [
       "2"
      ]
     },
     "execution_count": 4,
     "metadata": {},
     "output_type": "execute_result"
    }
   ],
   "source": [
    "a = [2,3,4,5]\n",
    "\n",
    "def find_min_jumps(a, low ,hi):\n",
    "    if low>=hi:\n",
    "        return 0\n",
    "    \n",
    "    current = a[low]\n",
    "    \n",
    "    min_Jumps = 99999999\n",
    "    \n",
    "    for i in range(1,current+1):\n",
    "        min_Jumps = min(min_Jumps,1+find_min_jumps(a,low+i,hi))\n",
    "    return min_Jumps    \n",
    "\n",
    "find_min_jumps(a,0,3)"
   ]
  },
  {
   "cell_type": "markdown",
   "metadata": {},
   "source": [
    "#### cutting rope problem"
   ]
  },
  {
   "cell_type": "code",
   "execution_count": 21,
   "metadata": {
    "scrolled": true
   },
   "outputs": [
    {
     "data": {
      "text/plain": [
       "2"
      ]
     },
     "execution_count": 21,
     "metadata": {},
     "output_type": "execute_result"
    }
   ],
   "source": [
    "n = 23\n",
    "a = 11\n",
    "b = 9\n",
    "c = 12\n",
    "def ropecuts(n,a,b,c):\n",
    "    \n",
    "    if n<0:\n",
    "        return -1\n",
    "    if n == 0:\n",
    "        return 0\n",
    "    \n",
    "    \n",
    "    res = max((ropecuts(n-a,a,b,c)), \n",
    "              (ropecuts(n-b, a,b,c)),(ropecuts(n-c,a,b,c)))\n",
    "    if res <0:\n",
    "        return -1\n",
    "    return res+1\n",
    "\n",
    "ropecuts(n,a,b,c)"
   ]
  },
  {
   "cell_type": "markdown",
   "metadata": {},
   "source": [
    "You are given N ropes. A cut operation is performed on ropes such that all of them are reduced by the length of the smallest rope. Display the number of ropes left after every cut operation until the length of each rope is zero.\n",
    "\n"
   ]
  },
  {
   "cell_type": "code",
   "execution_count": 96,
   "metadata": {},
   "outputs": [
    {
     "data": {
      "text/plain": [
       "[4, 3, 2]"
      ]
     },
     "execution_count": 96,
     "metadata": {},
     "output_type": "execute_result"
    }
   ],
   "source": [
    "    a = [5, 1, 1, 2, 3, 5]\n",
    "\n",
    "    def RopeCutting( a, n):\n",
    "        a.sort()\n",
    "        res = []\n",
    "        zero = 0\n",
    "        while zero<n:\n",
    "            count = 0\n",
    "            cut = a[zero]\n",
    "            for i in range(n):\n",
    "                a[i] -= cut\n",
    "                \n",
    "                if a[i]==0:\n",
    "                    zero+=1\n",
    "                elif a[i]>0:\n",
    "                    count+=1\n",
    "            if count>0:\n",
    "                res.append(count)\n",
    "        return res\n",
    "         \n",
    "                    \n",
    "    RopeCutting(a,6)"
   ]
  },
  {
   "cell_type": "code",
   "execution_count": 39,
   "metadata": {},
   "outputs": [],
   "source": [
    "\n",
    "k = [1,1,2,3,5,5]"
   ]
  },
  {
   "cell_type": "code",
   "execution_count": 42,
   "metadata": {},
   "outputs": [],
   "source": [
    "k[3] = None"
   ]
  },
  {
   "cell_type": "code",
   "execution_count": 43,
   "metadata": {},
   "outputs": [
    {
     "data": {
      "text/plain": [
       "[1, 1, 2, None, 5, 5]"
      ]
     },
     "execution_count": 43,
     "metadata": {},
     "output_type": "execute_result"
    }
   ],
   "source": [
    "k"
   ]
  },
  {
   "cell_type": "code",
   "execution_count": null,
   "metadata": {},
   "outputs": [],
   "source": []
  }
 ],
 "metadata": {
  "kernelspec": {
   "display_name": "Python 3",
   "language": "python",
   "name": "python3"
  },
  "language_info": {
   "codemirror_mode": {
    "name": "ipython",
    "version": 3
   },
   "file_extension": ".py",
   "mimetype": "text/x-python",
   "name": "python",
   "nbconvert_exporter": "python",
   "pygments_lexer": "ipython3",
   "version": "3.8.5"
  }
 },
 "nbformat": 4,
 "nbformat_minor": 5
}
