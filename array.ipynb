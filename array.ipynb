{
 "cells": [
  {
   "cell_type": "code",
   "execution_count": 12,
   "metadata": {},
   "outputs": [
    {
     "name": "stdout",
     "output_type": "stream",
     "text": [
      "7\n",
      "2,4,5,7,9,3,"
     ]
    }
   ],
   "source": [
    "import re\n",
    "s = '*/24#5%7&9*3@'\n",
    "digits = re.findall(r'[0-9]',s)\n",
    "for i in range(len(digits)):\n",
    "    digits[i] = int(digits[i])\n",
    "    \n",
    "non_digit_n = len(s)-len(digits)\n",
    "print(non_digit_n)\n",
    "for i in digits:\n",
    "    if i%2 == 0:\n",
    "        print(i,end = ',')\n",
    "for i in digits:\n",
    "    if i%2 != 0:\n",
    "        print(i, end = ',')"
   ]
  },
  {
   "cell_type": "code",
   "execution_count": 1,
   "metadata": {},
   "outputs": [],
   "source": [
    "from array import *"
   ]
  },
  {
   "cell_type": "code",
   "execution_count": 3,
   "metadata": {},
   "outputs": [],
   "source": [
    "my_array = array('i',[1,2,3,4,5,6])"
   ]
  },
  {
   "cell_type": "code",
   "execution_count": 4,
   "metadata": {},
   "outputs": [
    {
     "name": "stdout",
     "output_type": "stream",
     "text": [
      "1\n",
      "2\n",
      "3\n",
      "4\n",
      "5\n",
      "6\n"
     ]
    }
   ],
   "source": [
    "for i in my_array:\n",
    "    print(i)"
   ]
  },
  {
   "cell_type": "code",
   "execution_count": 5,
   "metadata": {},
   "outputs": [],
   "source": [
    "my_array.append(7) # append method add up at last"
   ]
  },
  {
   "cell_type": "code",
   "execution_count": 6,
   "metadata": {},
   "outputs": [
    {
     "data": {
      "text/plain": [
       "array('i', [1, 2, 3, 4, 5, 6, 7])"
      ]
     },
     "execution_count": 6,
     "metadata": {},
     "output_type": "execute_result"
    }
   ],
   "source": [
    "my_array"
   ]
  },
  {
   "cell_type": "code",
   "execution_count": 7,
   "metadata": {},
   "outputs": [
    {
     "data": {
      "text/plain": [
       "array('i', [0, 1, 2, 3, 4, 5, 6, 7])"
      ]
     },
     "execution_count": 7,
     "metadata": {},
     "output_type": "execute_result"
    }
   ],
   "source": [
    "my_array.insert(0,0)\n",
    "my_array # here time complexity is n"
   ]
  },
  {
   "cell_type": "code",
   "execution_count": 8,
   "metadata": {},
   "outputs": [
    {
     "data": {
      "text/plain": [
       "array('i', [0, 1, 2, 3, 4, 5, 6, 7])"
      ]
     },
     "execution_count": 8,
     "metadata": {},
     "output_type": "execute_result"
    }
   ],
   "source": [
    "my_array"
   ]
  },
  {
   "cell_type": "code",
   "execution_count": 9,
   "metadata": {},
   "outputs": [],
   "source": [
    "my_array2 = array('i',[9,5,3,2])\n",
    "my_array.extend(my_array2)"
   ]
  },
  {
   "cell_type": "code",
   "execution_count": 10,
   "metadata": {},
   "outputs": [
    {
     "data": {
      "text/plain": [
       "array('i', [0, 1, 2, 3, 4, 5, 6, 7, 9, 5, 3, 2])"
      ]
     },
     "execution_count": 10,
     "metadata": {},
     "output_type": "execute_result"
    }
   ],
   "source": [
    "my_array"
   ]
  },
  {
   "cell_type": "code",
   "execution_count": 11,
   "metadata": {},
   "outputs": [
    {
     "data": {
      "text/plain": [
       "(1269066664176, 12)"
      ]
     },
     "execution_count": 11,
     "metadata": {},
     "output_type": "execute_result"
    }
   ],
   "source": [
    "my_array.buffer_info()"
   ]
  },
  {
   "cell_type": "code",
   "execution_count": 13,
   "metadata": {},
   "outputs": [
    {
     "data": {
      "text/plain": [
       "2"
      ]
     },
     "execution_count": 13,
     "metadata": {},
     "output_type": "execute_result"
    }
   ],
   "source": [
    "my_array.count(5) # 5 has appeared 2 times"
   ]
  },
  {
   "cell_type": "code",
   "execution_count": 33,
   "metadata": {},
   "outputs": [
    {
     "data": {
      "text/plain": [
       "array([[ 1,  2,  3],\n",
       "       [ 3,  4,  6],\n",
       "       [ 4,  3,  5],\n",
       "       [-1,  0, 30]])"
      ]
     },
     "execution_count": 33,
     "metadata": {},
     "output_type": "execute_result"
    }
   ],
   "source": [
    "# array traversal in two dimension\n",
    "import numpy as np\n",
    "twod_array = np.array([[1,2,3],[3,4,6],[4,3,5],[-1,0,30]])\n",
    "twod_array"
   ]
  },
  {
   "cell_type": "code",
   "execution_count": 42,
   "metadata": {},
   "outputs": [],
   "source": [
    "def find_element(key):\n",
    "    for i in range(twod_array.shape[0]):\n",
    "        for j in range(twod_array.shape[1]):\n",
    "            if twod_array[i][j] == key:\n",
    "                return f\"key found at {(i,j)}\"\n",
    "    return 'key not found'"
   ]
  },
  {
   "cell_type": "code",
   "execution_count": 43,
   "metadata": {},
   "outputs": [
    {
     "data": {
      "text/plain": [
       "'key found at (3, 2)'"
      ]
     },
     "execution_count": 43,
     "metadata": {},
     "output_type": "execute_result"
    }
   ],
   "source": [
    "find_element(30)"
   ]
  },
  {
   "cell_type": "code",
   "execution_count": 34,
   "metadata": {},
   "outputs": [
    {
     "data": {
      "text/plain": [
       "(4, 3)"
      ]
     },
     "execution_count": 34,
     "metadata": {},
     "output_type": "execute_result"
    }
   ],
   "source": [
    "twod_array.shape"
   ]
  },
  {
   "cell_type": "code",
   "execution_count": 44,
   "metadata": {},
   "outputs": [],
   "source": [
    "# deletionof rows\n",
    "new_array = np.delete(twod_array, 0, axis = 0)"
   ]
  },
  {
   "cell_type": "code",
   "execution_count": 45,
   "metadata": {},
   "outputs": [
    {
     "data": {
      "text/plain": [
       "array([[ 3,  4,  6],\n",
       "       [ 4,  3,  5],\n",
       "       [-1,  0, 30]])"
      ]
     },
     "execution_count": 45,
     "metadata": {},
     "output_type": "execute_result"
    }
   ],
   "source": [
    "new_array"
   ]
  },
  {
   "cell_type": "code",
   "execution_count": 46,
   "metadata": {},
   "outputs": [],
   "source": [
    "new_array = np.delete(new_array, -1, axis = 1)"
   ]
  },
  {
   "cell_type": "code",
   "execution_count": 47,
   "metadata": {},
   "outputs": [
    {
     "data": {
      "text/plain": [
       "array([[ 3,  4],\n",
       "       [ 4,  3],\n",
       "       [-1,  0]])"
      ]
     },
     "execution_count": 47,
     "metadata": {},
     "output_type": "execute_result"
    }
   ],
   "source": [
    "new_array"
   ]
  },
  {
   "cell_type": "code",
   "execution_count": 1,
   "metadata": {},
   "outputs": [],
   "source": [
    "# finding pair  of number having sum = n\n",
    "def findpair(nums, target):\n",
    "    result = []\n",
    "    for i in range(len(nums)):\n",
    "        for j in range(i+1,len(nums)):\n",
    "            if nums[i]+nums[j] == target:\n",
    "               result.append((i,j))\n",
    "    return result        "
   ]
  },
  {
   "cell_type": "code",
   "execution_count": 2,
   "metadata": {},
   "outputs": [
    {
     "data": {
      "text/plain": [
       "[(2, 5), (3, 4)]"
      ]
     },
     "execution_count": 2,
     "metadata": {},
     "output_type": "execute_result"
    }
   ],
   "source": [
    "findpair([1,2,3,4,5,6],9)"
   ]
  },
  {
   "cell_type": "code",
   "execution_count": 5,
   "metadata": {},
   "outputs": [
    {
     "name": "stdout",
     "output_type": "stream",
     "text": [
      "2 7\n",
      "3 6\n",
      "4 5\n"
     ]
    }
   ],
   "source": [
    "def findpair(nums, target):\n",
    "    i = 0\n",
    "    j = len(nums)-1\n",
    "    while i<=j:\n",
    "        if nums[i]+nums[j]>target:\n",
    "            j = j-1\n",
    "        elif nums[i]+nums[j]<target:\n",
    "            i = i+1\n",
    "        else:\n",
    "            print(nums[i],nums[j])\n",
    "            i+=1\n",
    "            \n",
    "findpair([1,2,3,4,5,6,7],9)            \n",
    "        \n",
    "        "
   ]
  },
  {
   "cell_type": "code",
   "execution_count": 6,
   "metadata": {},
   "outputs": [],
   "source": [
    "# check if array has unique value \n",
    "myList = [1,20,30,44,5,56,57,19,10,31,12,13,14,35,16,27,58,19,21]\n",
    "def isUnique(list):\n",
    "    a = []\n",
    "    for i in list:\n",
    "        if i not in a :\n",
    "            a.append(i)\n",
    "        else:\n",
    "            print(f\"contains duplicate {i}\")"
   ]
  },
  {
   "cell_type": "code",
   "execution_count": 7,
   "metadata": {},
   "outputs": [
    {
     "name": "stdout",
     "output_type": "stream",
     "text": [
      "contains duplicate 19\n"
     ]
    }
   ],
   "source": [
    "isUnique(myList)"
   ]
  },
  {
   "cell_type": "code",
   "execution_count": 16,
   "metadata": {},
   "outputs": [],
   "source": [
    "# check for permutation\n",
    "def check_permutation(list1, list2):\n",
    "    if len(list1) != len(list2):\n",
    "        return False\n",
    "    list1.sort()\n",
    "    list2.sort()\n",
    "    if list1 == list2:\n",
    "        return True\n",
    "    else :\n",
    "        return False"
   ]
  },
  {
   "cell_type": "code",
   "execution_count": 17,
   "metadata": {},
   "outputs": [
    {
     "data": {
      "text/plain": [
       "True"
      ]
     },
     "execution_count": 17,
     "metadata": {},
     "output_type": "execute_result"
    }
   ],
   "source": [
    "check_permutation([1,3,4],[1,4,3])"
   ]
  },
  {
   "cell_type": "code",
   "execution_count": 19,
   "metadata": {},
   "outputs": [
    {
     "data": {
      "text/plain": [
       "True"
      ]
     },
     "execution_count": 19,
     "metadata": {},
     "output_type": "execute_result"
    }
   ],
   "source": [
    "check_permutation(['a','b','c'],['c','a','b'])"
   ]
  },
  {
   "cell_type": "code",
   "execution_count": 40,
   "metadata": {
    "scrolled": true
   },
   "outputs": [
    {
     "data": {
      "text/plain": [
       "array([[1, 2, 3],\n",
       "       [4, 5, 6],\n",
       "       [7, 8, 9]])"
      ]
     },
     "execution_count": 40,
     "metadata": {},
     "output_type": "execute_result"
    }
   ],
   "source": [
    "# leet code \n",
    "# Rotate matrix by 90 degree\n",
    "import numpy as np\n",
    "myArray = np.array([[1,2,3],[4,5,6],[7,8,9]])\n",
    "\n",
    "myArray"
   ]
  },
  {
   "cell_type": "code",
   "execution_count": 31,
   "metadata": {},
   "outputs": [
    {
     "data": {
      "text/plain": [
       "array([1, 2, 3])"
      ]
     },
     "execution_count": 31,
     "metadata": {},
     "output_type": "execute_result"
    }
   ],
   "source": [
    "myArray[0]"
   ]
  },
  {
   "cell_type": "code",
   "execution_count": 41,
   "metadata": {
    "scrolled": true
   },
   "outputs": [
    {
     "data": {
      "text/plain": [
       "array([[1, 4, 7],\n",
       "       [2, 5, 8],\n",
       "       [3, 6, 9]])"
      ]
     },
     "execution_count": 41,
     "metadata": {},
     "output_type": "execute_result"
    }
   ],
   "source": [
    "np.transpose(myArray)"
   ]
  },
  {
   "cell_type": "code",
   "execution_count": 38,
   "metadata": {},
   "outputs": [
    {
     "name": "stdout",
     "output_type": "stream",
     "text": [
      "[[1, 2, 3, 1], [4, 5, 6, 2], [7, 8, 9, 3]]\n"
     ]
    }
   ],
   "source": [
    "def transpose(matrix):\n",
    "    for row in range(len(matrix)):\n",
    "        for col in range(row+1, len(matrix[0])):\n",
    "            matrix[row][col],matrix[col][row] = matrix[col][row],matrix[row][col]\n",
    "            print(row,col)\n",
    "    print(matrix)\n",
    "  \n",
    "\n",
    "def transpose(matrix):\n",
    "    trns =[]\n",
    "    for col in range(len(matrix[0])):\n",
    "        col_values = []\n",
    "        for row in range(len(matrix)):\n",
    "            col_values.append(matrix[row][col])\n",
    "        trns.append(col_values)\n",
    "    print(trns)\n",
    "\n",
    "transpose(myArray)\n",
    "            "
   ]
  },
  {
   "cell_type": "code",
   "execution_count": 42,
   "metadata": {},
   "outputs": [],
   "source": [
    "# clockwise rotation\n",
    "def rotate_matrix(array):\n",
    "    matrix = array.copy()\n",
    "    for i in range(len(matrix)):\n",
    "        for j in range(0,i):\n",
    "            matrix[i][j], matrix[j][i] = matrix[j][i], matrix[i][j]\n",
    "    for i in range(len(matrix)):\n",
    "        matrix[i] = matrix[i][::-1]\n",
    "    return matrix    \n",
    "        "
   ]
  },
  {
   "cell_type": "code",
   "execution_count": 43,
   "metadata": {
    "scrolled": false
   },
   "outputs": [
    {
     "data": {
      "text/plain": [
       "array([[7, 4, 1],\n",
       "       [8, 5, 2],\n",
       "       [9, 6, 3]])"
      ]
     },
     "execution_count": 43,
     "metadata": {},
     "output_type": "execute_result"
    }
   ],
   "source": [
    "rotate_matrix(myArray)"
   ]
  },
  {
   "cell_type": "code",
   "execution_count": 153,
   "metadata": {},
   "outputs": [
    {
     "data": {
      "text/plain": [
       "array([[1, 2, 3],\n",
       "       [4, 5, 6],\n",
       "       [7, 8, 9]])"
      ]
     },
     "execution_count": 153,
     "metadata": {},
     "output_type": "execute_result"
    }
   ],
   "source": [
    "myArray"
   ]
  },
  {
   "cell_type": "code",
   "execution_count": 167,
   "metadata": {},
   "outputs": [],
   "source": [
    "# anticlockwise rotation\n",
    "def antirotate_matrix(Array):\n",
    "    matrix = Array.copy()\n",
    "    for i in range(len(matrix)):\n",
    "        matrix[i] = matrix[i][::-1]\n",
    "    for i in range(len(matrix)):\n",
    "        for j in range(0,i):\n",
    "            matrix[i][j], matrix[j][i] = matrix[j][i], matrix[i][j] # taking transpose\n",
    "    \n",
    "    return matrix    \n"
   ]
  },
  {
   "cell_type": "code",
   "execution_count": 168,
   "metadata": {},
   "outputs": [
    {
     "data": {
      "text/plain": [
       "array([[3, 6, 9],\n",
       "       [2, 5, 8],\n",
       "       [1, 4, 7]])"
      ]
     },
     "execution_count": 168,
     "metadata": {},
     "output_type": "execute_result"
    }
   ],
   "source": [
    "antirotate_matrix(myArray)"
   ]
  },
  {
   "cell_type": "code",
   "execution_count": 131,
   "metadata": {},
   "outputs": [],
   "source": [
    "# During first iteration – \n",
    "# a[i][j] = Element at first index (leftmost corner top)= 1.\n",
    "# a[j][n-1-i]= Rightmost corner top Element = 3.\n",
    "# a[n-1-i][n-1-j] = Rightmost corner bottom element = 9.\n",
    "# a[n-1-j][i] = Leftmost corner bottom element = 7.\n",
    "# Move these elements in the clockwise direction. \n",
    "# During second iteration – \n",
    "# a[i][j] = 2.\n",
    "# a[j][n-1-j] = 6.\n",
    "# a[n-1-i][n-1-j] = 8.\n",
    "# a[n-1-j][i] = 4. \n",
    "# Similarly, move these elements in the clockwise direction. "
   ]
  },
  {
   "cell_type": "code",
   "execution_count": 28,
   "metadata": {},
   "outputs": [
    {
     "data": {
      "text/plain": [
       "3"
      ]
     },
     "execution_count": 28,
     "metadata": {},
     "output_type": "execute_result"
    }
   ],
   "source": [
    "len(myArray)"
   ]
  },
  {
   "cell_type": "code",
   "execution_count": 54,
   "metadata": {},
   "outputs": [
    {
     "name": "stdout",
     "output_type": "stream",
     "text": [
      "[10, 5, 8, 9, 0, 0, 0, 0]\n"
     ]
    }
   ],
   "source": [
    "#### shifting all zeros of an array to the right \n",
    "a = [10,5,0,0,8,0,9,0]\n",
    "\n",
    "# def shift_zero(a): # time complexity (O(n^2))\n",
    "#     for i in range(len(a)):\n",
    "#         if a[i] ==0: # 2 in this case\n",
    "#             for j in range(i+1, len(a)):\n",
    "#                 if a[j] !=0:\n",
    "#                     a[i],a[j] = a[j],a[i]\n",
    "#     print(a)\n",
    "    \n",
    "def shift_zero(a):\n",
    "    low = 0\n",
    "    i=0\n",
    "    while i<len(a):\n",
    "        if a[i] >0:\n",
    "            a[low],a[i] = a[i],a[low]\n",
    "            low+=1\n",
    "            i+=1\n",
    "        else:\n",
    "            i+=1\n",
    "    print(a)\n",
    "shift_zero(a)            \n",
    "\n",
    "# shift_zero(a) # time complexity (O(n^2))\n",
    "\n",
    "\n",
    "\n",
    "# more efficient way to do this \n",
    "# def shift_zero_efficient(a): # time complexity O(n)\n",
    "#     count = 0\n",
    "#     for i in range(len(a)):\n",
    "\n",
    "#         if a[i]!=0:\n",
    "#             a[i], a[count] = a[count], a[i]\n",
    "#             count = count+1\n",
    "#     print(a)\n",
    "\n",
    "\n",
    "\n"
   ]
  },
  {
   "cell_type": "code",
   "execution_count": 12,
   "metadata": {},
   "outputs": [
    {
     "name": "stdout",
     "output_type": "stream",
     "text": [
      "[10, 5, 8, 9, 0, 0, 0, 0]\n"
     ]
    }
   ],
   "source": [
    "shift_zero_efficient(a)"
   ]
  },
  {
   "cell_type": "markdown",
   "metadata": {},
   "source": [
    "#### Rotation of An Array "
   ]
  },
  {
   "cell_type": "code",
   "execution_count": 16,
   "metadata": {},
   "outputs": [
    {
     "name": "stdout",
     "output_type": "stream",
     "text": [
      "[2, 3, 4, 5, 6, 1]\n"
     ]
    }
   ],
   "source": [
    "a = [ 1,2,3,4,5,6]\n",
    "def left_rotation(a):\n",
    "    temp = a[0]\n",
    "    for i in range(len(a)):\n",
    "        if i == len(a)-1:\n",
    "            a[i] = temp\n",
    "        else:\n",
    "            a[i] = a[i+1]\n",
    "\n",
    "    print(a)\n",
    "\n",
    "left_rotation(a)"
   ]
  },
  {
   "cell_type": "code",
   "execution_count": 55,
   "metadata": {},
   "outputs": [
    {
     "name": "stdout",
     "output_type": "stream",
     "text": [
      "2 leader\n",
      "5 leader\n",
      "6 leader\n",
      "3 not leader\n",
      "4 not leader\n",
      "10 leader\n",
      "7 not leader\n"
     ]
    }
   ],
   "source": [
    "#### Finding the leaders\n",
    "#### if an array is in ascending order only one leader , descending order all are leaders\n",
    "# leader is there is nothing bigger in the right side \n",
    "a = [7,10,4,3,6,5,2]\n",
    "\n",
    "# def leader(a):\n",
    "#     for i in range(len(a)):\n",
    "#         bool = True # yes all leader\n",
    "\n",
    "#         for j in range(i+1,len(a)):\n",
    "#             if a[j]>=a[i]:\n",
    "#                 bool = False\n",
    "#                 break\n",
    "    \n",
    "#         if (bool == False):\n",
    "#             print(\"not leader\",a[i])\n",
    "#         if bool == True:\n",
    "#             print(\"leader\",a[i])\n",
    "# leader(a)\n",
    "                \n",
    "\n",
    "# effiencient way to find leaders\n",
    "def leader(a):\n",
    "    curr_leader = a[-1]\n",
    "    print(curr_leader, 'leader')\n",
    "    n = len(a)\n",
    "    for i in range(n-2, -1,-1):\n",
    "        if a[i] > curr_leader:\n",
    "            print(a[i],'leader')\n",
    "            curr_leader = a[i]\n",
    "        else:\n",
    "            print(a[i],'not leader')\n",
    "            \n",
    "            \n",
    "\n",
    "leader(a)"
   ]
  },
  {
   "cell_type": "code",
   "execution_count": 39,
   "metadata": {},
   "outputs": [
    {
     "data": {
      "text/plain": [
       "3"
      ]
     },
     "execution_count": 39,
     "metadata": {},
     "output_type": "execute_result"
    }
   ],
   "source": [
    "### finding the maximum difference of two number in an array\n",
    "# max( arr[j] - arr[i] ) such that j> i\n",
    "a = [7,10,4,3,6,5,2]\n",
    "\n",
    "# def max_diff(a): # n^2 time complexity \n",
    "#     max = a[1]-a[0]\n",
    "#     for i in range(len(a)):\n",
    "#         for j in range(i, len(a)):\n",
    "#             res = (a[j]- a[i])\n",
    "#             if res > max:\n",
    "#                 max = res\n",
    "#     return max\n",
    "# max_diff(a) \n",
    "\n",
    "def max_diff(a):\n",
    "    res = a[1]-a[0]\n",
    "    min_val = a[0]    \n",
    "    for i in range(len(a)):\n",
    "        if a[i] - min_val > res:\n",
    "            res = a[i]- min_val\n",
    "        if a[i]< min_val:\n",
    "            min_val = a[i]\n",
    "\n",
    "    return res\n",
    "\n",
    "max_diff(a)\n",
    "\n",
    "    "
   ]
  },
  {
   "cell_type": "code",
   "execution_count": 4,
   "metadata": {},
   "outputs": [
    {
     "data": {
      "text/plain": [
       "-1"
      ]
     },
     "execution_count": 4,
     "metadata": {},
     "output_type": "execute_result"
    }
   ],
   "source": [
    "### finding the second largest element \n",
    "# a = [ 5,20,12,40,10]\n",
    "a = [10,10,10]\n",
    "\n",
    "def get_largest(a):\n",
    "    max = -1\n",
    "    for i in a:\n",
    "        if i> max:\n",
    "            max = i\n",
    "        else:\n",
    "            pass\n",
    "    return max\n",
    "\n",
    "# get_largest(a)\n",
    "\n",
    "def find_second_largest(a):\n",
    "    res = -1\n",
    "    max = get_largest(a)\n",
    "    for i in a:\n",
    "        if i != max:\n",
    "            if i> res:\n",
    "                res = i\n",
    "            else:\n",
    "                pass\n",
    "    return res\n",
    "find_second_largest(a)\n",
    "\n",
    "\n",
    "\n",
    "\n",
    "####k efficient approach\n"
   ]
  },
  {
   "cell_type": "code",
   "execution_count": 62,
   "metadata": {},
   "outputs": [
    {
     "name": "stdout",
     "output_type": "stream",
     "text": [
      "10 3\n",
      "20 1\n",
      "30 1\n",
      "40 2\n",
      "50 1\n"
     ]
    }
   ],
   "source": [
    "## finding the frequency of element in a sorted array\n",
    "\n",
    "a = [10,10,10,20,30,40,40,50]\n",
    "# a = [10,20,20,30]\n",
    "\n",
    "def freq_find(a):\n",
    "    i = 1\n",
    "    freq = 1\n",
    "    while i <= len(a):\n",
    "        while i< len(a) and (a[i]== a[i-1]):\n",
    "            freq = freq +1\n",
    "            i = i+1\n",
    "        print(a[i-1], freq)\n",
    "        i = i + 1\n",
    "        freq = 1\n",
    "\n",
    "\n",
    "freq_find(a)\n",
    "\n"
   ]
  },
  {
   "cell_type": "code",
   "execution_count": 63,
   "metadata": {},
   "outputs": [
    {
     "data": {
      "text/plain": [
       "3"
      ]
     },
     "execution_count": 63,
     "metadata": {},
     "output_type": "execute_result"
    }
   ],
   "source": [
    "### finding maximum alternative even odd substring\n",
    "a  = [5,10,20,6,3,8]\n",
    "\n",
    "def max_evenodd(a):\n",
    "    res = 1\n",
    "    for i in range(1,len(a)):\n",
    "        curr = 1\n",
    "        for j in range(i+1, len(a)):\n",
    "            if ((a[j]%2 == 0) and (a[j-1]%2 !=0)) or ((a[j]%2!= 0) and (a[j-1]%2 == 0)):\n",
    "                curr += 1\n",
    "            else:\n",
    "                break\n",
    "\n",
    "        res = max(res, curr)   \n",
    "    return res\n",
    "\n",
    "max_evenodd(a) \n"
   ]
  },
  {
   "cell_type": "code",
   "execution_count": 3,
   "metadata": {},
   "outputs": [
    {
     "data": {
      "text/plain": [
       "3"
      ]
     },
     "execution_count": 3,
     "metadata": {},
     "output_type": "execute_result"
    }
   ],
   "source": [
    "### efficient approach\n",
    "def even_odd(a):\n",
    "    res = 1\n",
    "    curr = 1\n",
    "    for i in range(1, len(a)):\n",
    "        if ((a[i]%2 == 0) and (a[i-1]%2 !=0)) or ((a[i]%2!= 0) and (a[i-1]%2 == 0)):\n",
    "            curr+=1\n",
    "            res = max(res,curr)\n",
    "        else:\n",
    "            curr = 1\n",
    "    return res\n",
    "\n",
    "even_odd(a)\n",
    "\n",
    "\n",
    "\n"
   ]
  },
  {
   "cell_type": "code",
   "execution_count": null,
   "metadata": {},
   "outputs": [],
   "source": []
  },
  {
   "cell_type": "markdown",
   "metadata": {},
   "source": [
    "### kadane algorithm"
   ]
  },
  {
   "cell_type": "code",
   "execution_count": 64,
   "metadata": {},
   "outputs": [
    {
     "name": "stdout",
     "output_type": "stream",
     "text": [
      "1\n",
      "-1\n",
      "3\n",
      "2\n",
      "4\n",
      "2\n"
     ]
    },
    {
     "data": {
      "text/plain": [
       "4"
      ]
     },
     "execution_count": 64,
     "metadata": {},
     "output_type": "execute_result"
    }
   ],
   "source": [
    "### find the sum of maximum sub array\n",
    "a = [-5,1,-2,3,-1,2,-2]\n",
    "\n",
    "def max_sum(a):\n",
    "    res = a[0]\n",
    "    maxending = a[0]\n",
    "    for i in range(1,len(a)):\n",
    "        maxending = max(maxending + a[i], a[i])\n",
    "        print(maxending)\n",
    "        res = max(res, maxending)\n",
    "    return res\n",
    "\n",
    "max_sum(a)"
   ]
  },
  {
   "cell_type": "markdown",
   "metadata": {},
   "source": [
    "### Circular sub array\n",
    "connecting last element to the first array\n",
    "here combination of kadane's algorithms\n"
   ]
  },
  {
   "cell_type": "code",
   "execution_count": 25,
   "metadata": {},
   "outputs": [
    {
     "data": {
      "text/plain": [
       "3"
      ]
     },
     "execution_count": 25,
     "metadata": {},
     "output_type": "execute_result"
    }
   ],
   "source": [
    "a = [-8,-4,3,-5,-4]\n",
    "\n",
    "def normalmaxsum(a):\n",
    "    res  = a[0]\n",
    "    maxending = a[0]\n",
    "    for i in range(1, len(a)):\n",
    "        maxending = max(a[i], maxending+a[i])\n",
    "        res = max(res,maxending)\n",
    "    return res\n",
    "\n",
    "def circular_sum(a):\n",
    "    # total sum - min(using kadane algorithm)\n",
    "    max_normal = normalmaxsum(a)\n",
    "    if max_normal < 0: # it means everything is negative in the array\n",
    "        return max_normal\n",
    "    total_sum = sum(a)\n",
    "    # here we dont need to modify kadane for minimum sum if we just change the sign\n",
    "    min = -normalmaxsum([-x for x in a])\n",
    "    max_circular = total_sum - min\n",
    "    return max(max_circular, max_normal)\n",
    "\n",
    "\n",
    "\n",
    "circular_sum(a)\n",
    "\n"
   ]
  },
  {
   "cell_type": "markdown",
   "metadata": {},
   "source": [
    "### Majority of an array \n",
    "majority means if the frequency of element is greater than n/2 \n"
   ]
  },
  {
   "cell_type": "code",
   "execution_count": 44,
   "metadata": {},
   "outputs": [
    {
     "data": {
      "text/plain": [
       "-1"
      ]
     },
     "execution_count": 44,
     "metadata": {},
     "output_type": "execute_result"
    }
   ],
   "source": [
    "a = [11,11,-2,-5,11,0]\n",
    "\n",
    "def majority(a):\n",
    "    for i in range(len(a)):\n",
    "        count = 1\n",
    "        for j in range(i+1, len(a)):\n",
    "            if a[i] == a[j]:\n",
    "                count = count + 1\n",
    "        # print(count)\n",
    "        if count> len(a)/2:\n",
    "            return a[i]\n",
    "        else:\n",
    "            return -1\n",
    "\n",
    "### more efficient way to find the majority \n",
    "def majority(a):\n",
    "    res = 0\n",
    "    count = 1\n",
    "    for i in range(1, len(a)):\n",
    "        if a[i] == a[res]:\n",
    "            count +=1 \n",
    "        else:\n",
    "            count -= 1\n",
    "\n",
    "        if count == 0:\n",
    "            res = 0\n",
    "            count = 1\n",
    "\n",
    "    #### verifying if the index is majority \n",
    "    n = 0\n",
    "    for i in range(0, len(a)):\n",
    "       if a[i] == a[res]:\n",
    "           n = n + 1\n",
    "    if n> len(a)/2:\n",
    "        return a[res],n\n",
    "    else:\n",
    "        return -1\n",
    "\n",
    "majority(a)\n",
    "\n",
    "\n",
    "\n",
    "# majority(a)\n",
    "\n",
    "\n",
    "\n",
    "\n"
   ]
  },
  {
   "cell_type": "markdown",
   "metadata": {},
   "source": [
    "#### finding the minimum cosecutive flips to make binary array same \n"
   ]
  },
  {
   "cell_type": "code",
   "execution_count": 52,
   "metadata": {},
   "outputs": [
    {
     "name": "stdout",
     "output_type": "stream",
     "text": [
      "-1\n",
      "from 2  to\n",
      "3\n",
      "from 8  to\n",
      "8\n"
     ]
    }
   ],
   "source": [
    "a = [1,1,0,0,1,1,1,1,0]\n",
    "\n",
    "def finding_groups(a):\n",
    "    # first count the group of 0, and 1\n",
    "    st = []\n",
    "    count_1 = 0\n",
    "    for i in range(0, len(a)):\n",
    "        if a[i] == 1:\n",
    "            st.append(1)\n",
    "        else:\n",
    "            if len(st) > 0:\n",
    "                count_1 += 1\n",
    "                while len(st) > 0 :\n",
    "                    del st[-1]\n",
    "    if len(st):\n",
    "        count_1 += 1\n",
    "    return count_1\n",
    "\n",
    "def min_flips(a):\n",
    "     ## flipping the second group always gives the minimum of equal number of flips \n",
    "    for i in range(0, len(a)):\n",
    "        if a[i] != a[i-1]:\n",
    "            # check if its beginning of end by comparing with zero\n",
    "            if a[i] != a[0]:\n",
    "                # its an beginning of  a group\n",
    "                print(\"from\", i ,\" to\")\n",
    "            else:\n",
    "                # ending of the group \n",
    "                print((i-1))\n",
    "\n",
    "    if a[-1] != a[0]:\n",
    "        print(i)\n",
    "\n",
    "min_flips(a) \n"
   ]
  },
  {
   "cell_type": "markdown",
   "metadata": {},
   "source": [
    "### Rain water trap problem"
   ]
  },
  {
   "cell_type": "code",
   "execution_count": 67,
   "metadata": {},
   "outputs": [
    {
     "name": "stdout",
     "output_type": "stream",
     "text": [
      "[3, 3, 3, 3, 7]\n"
     ]
    }
   ],
   "source": [
    "a = [3,1,2, 3,7]\n",
    "\n",
    "\n",
    "def trap_water(a):\n",
    "    res = 0\n",
    "    for i in range(1, len(a)):  # time complexity Q(n^2)\n",
    "        lmax = a[i]\n",
    "        for j in range(0, i):\n",
    "            lmax = max(lmax, a[j])\n",
    "        rmax = a[i]\n",
    "        for j in range(i, len(a)):\n",
    "            rmax = max(rmax, a[j])\n",
    "        res = res + min(rmax, lmax) - a[i]\n",
    "    return res\n",
    "\n",
    "def trap_water(a): # more efficient method \n",
    "    res = 0\n",
    "    lmax = [0]*len(a)\n",
    "    rmax = [0]*len(a)\n",
    "\n",
    "    lmax[0] = a[0]\n",
    "    for i in range(1,len(a)):\n",
    "        lmax[i] = max(a[i], lmax[i-1])\n",
    "    rmax[-1] = a[-1]\n",
    "    for i in range(len(a)-2, -1,-1):\n",
    "        rmax[i] = max(a[i], rmax[i+1])\n",
    "    \n",
    "    for i in range(1,len(a)-1):\n",
    "        res =res+  min(lmax[i], rmax[i])- a[i]\n",
    "    return res\n",
    "\n",
    "\n",
    "\n",
    "\n",
    "\n",
    "trap_water(a)\n"
   ]
  },
  {
   "cell_type": "markdown",
   "metadata": {},
   "source": [
    "#### Window Sliding Technique"
   ]
  },
  {
   "cell_type": "code",
   "execution_count": 12,
   "metadata": {},
   "outputs": [
    {
     "name": "stdout",
     "output_type": "stream",
     "text": [
      "[0, 1, 1, 2, 3, 5, 8, 13, 21, 34]\n"
     ]
    }
   ],
   "source": [
    "# finding the n-bonacci number using sliding window s\n",
    "# if n = 3 then (0,0,1)\n",
    "# if n = 2 then (0,1)\n",
    "\n",
    "\n",
    "def nbonnaci(n, m):\n",
    "    numbers = [0]*m\n",
    "    numbers[n-1] = 1\n",
    "    sum_last_3 = 1\n",
    "    for i in range(n,m):\n",
    "        numbers[i] = sum_last_3\n",
    "        sum_last_3 = sum_last_3 +  numbers[i] - numbers[i-n]\n",
    "\n",
    "    print(numbers)\n",
    "\n",
    "\n",
    "\n",
    "nbonnaci(2,10)"
   ]
  },
  {
   "cell_type": "code",
   "execution_count": 18,
   "metadata": {},
   "outputs": [
    {
     "data": {
      "text/plain": [
       "(4, True)"
      ]
     },
     "execution_count": 18,
     "metadata": {},
     "output_type": "execute_result"
    }
   ],
   "source": [
    "#### given an array and find if it has an equilibrium point\n",
    "a = [3,4,8,-9,20,6]\n",
    "\n",
    "def isequi(a): # O(n^2) time complexity\n",
    "    for i in range(len(a)):\n",
    "        sum_r = 0\n",
    "        sum_l = 0\n",
    "        for j in range(i+1, len(a)):\n",
    "            sum_r += a[j]\n",
    "        \n",
    "        for k in range(0,i):\n",
    "            sum_l += a[k]\n",
    "        \n",
    "        if sum_r == sum_l:\n",
    "            return (i,True)\n",
    "        \n",
    "\n",
    "# efficient approach \n",
    "\n",
    "def isequi(a):\n",
    "    total_sum = sum(a)\n",
    "    l_sum = 0\n",
    "    for i in range(0, len(a)):\n",
    "        if l_sum == total_sum - a[i]:\n",
    "            return (i,True)\n",
    "\n",
    "        l_sum += a[i]\n",
    "        total_sum -= a[i]\n",
    "\n",
    "\n",
    "\n",
    "\n",
    "isequi(a)\n"
   ]
  },
  {
   "cell_type": "code",
   "execution_count": 23,
   "metadata": {},
   "outputs": [
    {
     "data": {
      "text/plain": [
       "11"
      ]
     },
     "execution_count": 23,
     "metadata": {},
     "output_type": "execute_result"
    }
   ],
   "source": [
    "### STock price max profit \n",
    "a = [1,5,3,8,12]\n",
    "a = [30,20,10]\n",
    "a = [1,5,3,1,2,8]\n",
    "\n",
    "def profit(a):\n",
    "    profit_sum = 0\n",
    "    for i in range(1,len(a)):\n",
    "        if a[i] > a[i-1]:\n",
    "            profit_sum += a[i] - a[i-1]\n",
    "    return profit_sum\n",
    "\n",
    "profit(a)"
   ]
  },
  {
   "cell_type": "code",
   "execution_count": null,
   "metadata": {},
   "outputs": [],
   "source": []
  }
 ],
 "metadata": {
  "kernelspec": {
   "display_name": "Python 3",
   "language": "python",
   "name": "python3"
  },
  "language_info": {
   "codemirror_mode": {
    "name": "ipython",
    "version": 3
   },
   "file_extension": ".py",
   "mimetype": "text/x-python",
   "name": "python",
   "nbconvert_exporter": "python",
   "pygments_lexer": "ipython3",
   "version": "3.8.5"
  }
 },
 "nbformat": 4,
 "nbformat_minor": 5
}
