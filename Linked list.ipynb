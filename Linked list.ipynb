{
 "cells": [
  {
   "cell_type": "markdown",
   "metadata": {},
   "source": [
    "### doubly linked list \n"
   ]
  },
  {
   "cell_type": "code",
   "execution_count": 425,
   "metadata": {},
   "outputs": [],
   "source": [
    "class Node:\n",
    "    def __init__(self, data = None):\n",
    "        self.data = data\n",
    "        self.next = None\n",
    "        self.prev = None\n",
    "\n",
    "class DoublyLinkedList:\n",
    "    def __init__(self):\n",
    "        self.head = None\n",
    "#         self.tail = None\n",
    "    def __iter__(self):\n",
    "        temp = self.head \n",
    "        while temp:\n",
    "            yield temp\n",
    "            temp = temp.next\n",
    "            \n",
    "    # creation of nodes and inserting value\n",
    "    def push(self,value, location = -1):\n",
    "        newNode = Node(value)\n",
    "        if self.head == None:\n",
    "            self.head = newNode\n",
    "        else:\n",
    "            if location == 0:\n",
    "                newNode.next = self.head\n",
    "                self.head.prev = newNode\n",
    "                self.head = newNode\n",
    "            elif location == -1:\n",
    "                # adding at the end of linked list\n",
    "                temp = self.head\n",
    "                while temp.next is not None:\n",
    "                    temp  = temp.next\n",
    "                # her temp is the last node\n",
    "                temp.next = newNode\n",
    "                newNode.prev = temp\n",
    "#                 print(newNode.data)\n",
    "#                 print(newNode.prev.data)\n",
    "            \n",
    "            else:\n",
    "                temp = self.head\n",
    "                index = 0\n",
    "                while index<location:\n",
    "                    temp = temp.next\n",
    "                    index=  index +1 \n",
    "                newNode.next   =  temp.next\n",
    "                temp.next.prev = newNode\n",
    "                newNode.prev = temp\n",
    "                temp.next = newNode\n",
    "             \n",
    "                \n",
    "        \n",
    "    def search(self, element):\n",
    "        if self.head == None:\n",
    "            return \"List not exist\"\n",
    "        else:\n",
    "            node = self.head\n",
    "            index = 0\n",
    "            while node != None:\n",
    "                if node.data == element:\n",
    "#                     print f\"element found at index-{index}\"\n",
    "                    return index\n",
    "                node = node.next\n",
    "                index += 1\n",
    "        return index\n",
    "    def len(self):\n",
    "        temp = self.head\n",
    "        length = 1\n",
    "        while temp.next != None:\n",
    "            length +=1\n",
    "            temp = temp.next\n",
    "        return length    \n",
    "            \n",
    "\n",
    "    def delete(self, location):\n",
    "        if self.head is None:\n",
    "            print('Linked list doesn\"t exist')\n",
    "        else:\n",
    "            if location == 0:\n",
    "                if self.head.next == None: # only one element in doubly linekkd list \n",
    "                    self.head= None\n",
    "                else:\n",
    "                    self.head = self.head.next\n",
    "            elif((location == self.len()-1) or ( location == -1)): # last node deletion\n",
    "                temp = self.head\n",
    "                while temp.next is not None:\n",
    "                    temp = temp.next\n",
    "                prevnode = temp.prev\n",
    "                prevnode.next = None\n",
    "            \n",
    "                \n",
    "            else:\n",
    "                temp = self.head\n",
    "                index = 0\n",
    "                while index<location: # stopping one step early \n",
    "                    temp = temp.next\n",
    "                    index += 1\n",
    "                temp.prev.next = temp.next\n",
    "                temp.next.prev = temp.prev\n",
    "#           \n",
    "        \n",
    "        \n",
    "        \n",
    "    \n",
    "    \n",
    "    def del_from_element(self, key):\n",
    "        index = self.search(key)\n",
    "        self.delete(index)"
   ]
  },
  {
   "cell_type": "code",
   "execution_count": 426,
   "metadata": {},
   "outputs": [],
   "source": [
    "dlist = DoublyLinkedList()\n",
    "\n"
   ]
  },
  {
   "cell_type": "code",
   "execution_count": 427,
   "metadata": {},
   "outputs": [],
   "source": [
    "dlist.push(5)\n",
    "dlist.push(10,0)\n",
    "dlist.push(11,0)"
   ]
  },
  {
   "cell_type": "code",
   "execution_count": 428,
   "metadata": {},
   "outputs": [],
   "source": [
    "dlist.push(7,0)"
   ]
  },
  {
   "cell_type": "code",
   "execution_count": 429,
   "metadata": {},
   "outputs": [],
   "source": [
    "dlist.push(2,1)"
   ]
  },
  {
   "cell_type": "code",
   "execution_count": 430,
   "metadata": {},
   "outputs": [
    {
     "name": "stdout",
     "output_type": "stream",
     "text": [
      "[7, 11, 2, 10, 5]\n"
     ]
    }
   ],
   "source": [
    "print([node.data for node in dlist])"
   ]
  },
  {
   "cell_type": "code",
   "execution_count": 431,
   "metadata": {
    "scrolled": true
   },
   "outputs": [
    {
     "data": {
      "text/plain": [
       "0"
      ]
     },
     "execution_count": 431,
     "metadata": {},
     "output_type": "execute_result"
    }
   ],
   "source": [
    "dlist.search(7)"
   ]
  },
  {
   "cell_type": "code",
   "execution_count": 432,
   "metadata": {},
   "outputs": [
    {
     "data": {
      "text/plain": [
       "5"
      ]
     },
     "execution_count": 432,
     "metadata": {},
     "output_type": "execute_result"
    }
   ],
   "source": [
    "dlist.len()"
   ]
  },
  {
   "cell_type": "markdown",
   "metadata": {},
   "source": [
    "### Reverse a LinkedList"
   ]
  },
  {
   "cell_type": "code",
   "execution_count": 701,
   "metadata": {},
   "outputs": [],
   "source": [
    "class Node:\n",
    "    def __init__(self, value):\n",
    "        self.data = value\n",
    "        self.next = None\n",
    "    \n",
    "class LinkedList:\n",
    "    def __init__(self):\n",
    "        self.head = None\n",
    "        self.tail = None\n",
    "        \n",
    "    \n",
    "    def print_list(self):\n",
    "        temp = self.head\n",
    "        while temp:\n",
    "            print(temp.data,end = ' ')\n",
    "            temp = temp.next\n",
    "  \n",
    "    \n",
    "    def search_list(self, key):\n",
    "        if self.head == None:\n",
    "            return 'Empty Linked List'\n",
    "        else:\n",
    "            i = 0\n",
    "            temp = self.head\n",
    "            while temp:\n",
    "                if temp.data == key:\n",
    "                    return i\n",
    "                temp = temp.next\n",
    "                i+=1\n",
    "            \n",
    "    def len_list(self):\n",
    "        i = 0\n",
    "        temp = self.head\n",
    "        while temp :\n",
    "            i+=1\n",
    "            temp = temp.next\n",
    "        return i\n",
    "    def insert(self, value,location = -1):\n",
    "        newNode = Node(value)\n",
    "        if self.head == None:\n",
    "            self.head = self.tail = newNode\n",
    "        \n",
    "        else:\n",
    "            if location == 0:\n",
    "                v = self.head\n",
    "                newNode.next = self.head\n",
    "                self.head = newNode\n",
    "            \n",
    "            elif location == -1:\n",
    "                temp = self.head\n",
    "                while temp.next: \n",
    "                    temp = temp.next\n",
    "                temp.next = newNode\n",
    "                self.tail = newNode\n",
    "            else:\n",
    "                temp = self.head\n",
    "                index = 0\n",
    "                while index<location-1:\n",
    "                    index+=1\n",
    "                    temp = temp.next\n",
    "                v = temp.next    \n",
    "                temp.next = newNode\n",
    "                newNode.next = v\n",
    "                \n",
    "                \n",
    "    def getNodeAt(self, idx):\n",
    "        temp = self.head\n",
    "        i = 0\n",
    "        while i < idx:\n",
    "            temp = temp.next\n",
    "            i += 1\n",
    "        return temp\n",
    "    \n",
    "    \n",
    "                    \n",
    "    def delete(self, index):\n",
    "        temp = self.head\n",
    "        if index == 0:\n",
    "            v = self.head.data\n",
    "            self.head = self.head.next\n",
    "            return v\n",
    "        if index == -1 or index == self.len_list()-1:\n",
    "            v = self.getNodeAt(self.len_list()-1).data\n",
    "            self.getNodeAt(self.len_list()-2).next = None\n",
    "            self.tail = self.getNodeAt(self.len_list()-2)\n",
    "            return v\n",
    "\n",
    "        else:    \n",
    "            v = self.getNodeAt(index).data\n",
    "            head = self.getNodeAt(index-1)\n",
    "            head.next = head.next.next\n",
    "            return v\n",
    "        \n",
    "\n",
    "      \n",
    "    \n",
    "\n",
    "    "
   ]
  },
  {
   "cell_type": "code",
   "execution_count": 707,
   "metadata": {},
   "outputs": [
    {
     "name": "stdout",
     "output_type": "stream",
     "text": [
      "20 1 2 3 4 20 "
     ]
    }
   ],
   "source": [
    "llist = LinkedList()        # this gives us a head with null value\n",
    "llist.head = Node(1)\n",
    "\n",
    "# address of node 1 is llist.head\n",
    "second = Node(2)\n",
    "third = Node(3)\n",
    "fourth = Node(4)\n",
    "llist.head.next = second\n",
    "second.next= third \n",
    "third.next = fourth\n",
    "llist.insert(20,-1)\n",
    "llist.insert(20,0)\n",
    "llist.print_list()"
   ]
  },
  {
   "cell_type": "code",
   "execution_count": 704,
   "metadata": {
    "scrolled": false
   },
   "outputs": [
    {
     "data": {
      "text/plain": [
       "4"
      ]
     },
     "execution_count": 704,
     "metadata": {},
     "output_type": "execute_result"
    }
   ],
   "source": [
    "llist.getNodeAt(4).data"
   ]
  },
  {
   "cell_type": "markdown",
   "metadata": {},
   "source": [
    "### Reverse linked list data iterative ( change data , dont change node address)"
   ]
  },
  {
   "cell_type": "code",
   "execution_count": 705,
   "metadata": {},
   "outputs": [
    {
     "name": "stdout",
     "output_type": "stream",
     "text": [
      "20 4 3 2 1 20 "
     ]
    }
   ],
   "source": [
    "def reverse_linkedlist(llist):\n",
    "    size = llist.len_list()\n",
    "    low = 0\n",
    "    high  = size-1\n",
    "    while low <= high:\n",
    "        d1 = llist.getNodeAt(low).data\n",
    "        d2 = llist.getNodeAt(high).data\n",
    "        llist.getNodeAt(low).data = d2\n",
    "        llist.getNodeAt(high).data = d1\n",
    "        low+=1\n",
    "        high-=1\n",
    "        \n",
    "    return llist\n",
    "        \n",
    "    \n",
    "\n",
    "\n",
    "reversed_list = reverse_linkedlist(llist)\n",
    "reversed_list.print_list()"
   ]
  },
  {
   "cell_type": "markdown",
   "metadata": {},
   "source": [
    "### reverse linked list by changing the connections"
   ]
  },
  {
   "cell_type": "code",
   "execution_count": 708,
   "metadata": {},
   "outputs": [
    {
     "name": "stdout",
     "output_type": "stream",
     "text": [
      "20 4 3 2 1 20 "
     ]
    }
   ],
   "source": [
    "def reverse_linkedlist(llist):\n",
    "    prev = None\n",
    "    curr = llist.head\n",
    "    while curr:\n",
    "        next_ = curr.next\n",
    "        curr.next = prev\n",
    "        prev = curr\n",
    "        curr = next_\n",
    "    \n",
    "    head = llist.head\n",
    "    llist.head = llist.tail\n",
    "    llist.tail = head\n",
    "    return llist\n",
    "\n",
    "reversed_list = reverse_linkedlist(llist)\n",
    "reversed_list.print_list()"
   ]
  },
  {
   "cell_type": "markdown",
   "metadata": {},
   "source": [
    "### LinkedList Stack adpater "
   ]
  },
  {
   "cell_type": "code",
   "execution_count": 350,
   "metadata": {},
   "outputs": [],
   "source": [
    "class LinkedList_Stack:\n",
    "    def __init__(self):\n",
    "        self.llist = LinkedList()\n",
    "    \n",
    "    def push(self,value):\n",
    "        self.llist.insert(value, 0)\n",
    "        \n",
    "    def print_stack(self):\n",
    "        return(self.llist.print_list())\n",
    "    \n",
    "    def pop(self):\n",
    "        try:\n",
    "            return self.llist.delete(0)\n",
    "        except:\n",
    "            print('Stack Underflow')\n",
    "        \n",
    "    def top(self):\n",
    "        try:\n",
    "            return self.llist.head.data\n",
    "        except:\n",
    "            print('Stack Underflow')\n",
    "    def size(self):\n",
    "        return self.llist.len_list()\n",
    "        "
   ]
  },
  {
   "cell_type": "code",
   "execution_count": 351,
   "metadata": {},
   "outputs": [],
   "source": [
    "stack = LinkedList_Stack()"
   ]
  },
  {
   "cell_type": "code",
   "execution_count": 352,
   "metadata": {},
   "outputs": [],
   "source": [
    "stack.push(10)\n",
    "stack.push(20)\n",
    "stack.push(30)"
   ]
  },
  {
   "cell_type": "code",
   "execution_count": 353,
   "metadata": {
    "scrolled": true
   },
   "outputs": [
    {
     "name": "stdout",
     "output_type": "stream",
     "text": [
      "30 20 10 "
     ]
    }
   ],
   "source": [
    "stack.print_stack()"
   ]
  },
  {
   "cell_type": "code",
   "execution_count": 354,
   "metadata": {},
   "outputs": [
    {
     "data": {
      "text/plain": [
       "30"
      ]
     },
     "execution_count": 354,
     "metadata": {},
     "output_type": "execute_result"
    }
   ],
   "source": [
    "stack.pop()"
   ]
  },
  {
   "cell_type": "code",
   "execution_count": 355,
   "metadata": {},
   "outputs": [
    {
     "data": {
      "text/plain": [
       "20"
      ]
     },
     "execution_count": 355,
     "metadata": {},
     "output_type": "execute_result"
    }
   ],
   "source": [
    "stack.top()"
   ]
  },
  {
   "cell_type": "code",
   "execution_count": 356,
   "metadata": {},
   "outputs": [
    {
     "data": {
      "text/plain": [
       "2"
      ]
     },
     "execution_count": 356,
     "metadata": {},
     "output_type": "execute_result"
    }
   ],
   "source": [
    "stack.size()"
   ]
  },
  {
   "cell_type": "markdown",
   "metadata": {},
   "source": [
    "### Linked List to queue\n",
    "\n",
    "addition at tail and get from the head "
   ]
  },
  {
   "cell_type": "code",
   "execution_count": 357,
   "metadata": {},
   "outputs": [],
   "source": [
    "class LinkedList_Queue:\n",
    "    def __init__(self):\n",
    "        self.llist = LinkedList()\n",
    "    \n",
    "    def put(self,value):\n",
    "        self.llist.insert(value, -1)\n",
    "        \n",
    "    def print_queue(self):\n",
    "        return(self.llist.print_list())\n",
    "    \n",
    "    def get(self):\n",
    "        try:\n",
    "            return self.llist.delete(0)\n",
    "        except:\n",
    "            print('Underflow')\n",
    "\n",
    "    def size(self):\n",
    "        return self.llist.len_list()\n",
    "        "
   ]
  },
  {
   "cell_type": "code",
   "execution_count": 358,
   "metadata": {},
   "outputs": [],
   "source": [
    "queue  = LinkedList_Queue()\n",
    "\n",
    "queue.put(10)\n",
    "queue.put(20)\n",
    "queue.put(30)\n",
    "queue.put(40)\n"
   ]
  },
  {
   "cell_type": "code",
   "execution_count": 359,
   "metadata": {},
   "outputs": [
    {
     "name": "stdout",
     "output_type": "stream",
     "text": [
      "10 20 30 40 "
     ]
    }
   ],
   "source": [
    "queue.print_queue()"
   ]
  },
  {
   "cell_type": "code",
   "execution_count": 360,
   "metadata": {},
   "outputs": [
    {
     "data": {
      "text/plain": [
       "10"
      ]
     },
     "execution_count": 360,
     "metadata": {},
     "output_type": "execute_result"
    }
   ],
   "source": [
    "queue.get()"
   ]
  },
  {
   "cell_type": "code",
   "execution_count": 361,
   "metadata": {},
   "outputs": [
    {
     "data": {
      "text/plain": [
       "3"
      ]
     },
     "execution_count": 361,
     "metadata": {},
     "output_type": "execute_result"
    }
   ],
   "source": [
    "queue.size()"
   ]
  },
  {
   "cell_type": "markdown",
   "metadata": {},
   "source": [
    "### Kth Node from end\n",
    "\n",
    "(index from the last ) \n",
    "\n",
    "without using size function, iterative solution (in single traverse)"
   ]
  },
  {
   "cell_type": "code",
   "execution_count": 362,
   "metadata": {},
   "outputs": [],
   "source": [
    "llist = LinkedList()        # this gives us a head with null value\n",
    "llist.head = Node(1)\n",
    "\n",
    "# address of node 1 is llist.head\n",
    "second = Node(2)\n",
    "third = Node(3)\n",
    "fourth = Node(4)\n",
    "llist.head.next = second\n",
    "second.next= third \n",
    "third.next = fourth\n",
    "llist.insert(20,-1)\n",
    "llist.insert(20,0)"
   ]
  },
  {
   "cell_type": "code",
   "execution_count": 363,
   "metadata": {},
   "outputs": [
    {
     "name": "stdout",
     "output_type": "stream",
     "text": [
      "20 1 2 3 4 20 "
     ]
    }
   ],
   "source": [
    "llist.print_list()"
   ]
  },
  {
   "cell_type": "code",
   "execution_count": 364,
   "metadata": {},
   "outputs": [],
   "source": [
    "llist.head.next.next.next.next.next.next"
   ]
  },
  {
   "cell_type": "code",
   "execution_count": 365,
   "metadata": {
    "scrolled": true
   },
   "outputs": [
    {
     "data": {
      "text/plain": [
       "<__main__.Node at 0x21fff7efd90>"
      ]
     },
     "execution_count": 365,
     "metadata": {},
     "output_type": "execute_result"
    }
   ],
   "source": [
    "llist.getNodeAt(5)"
   ]
  },
  {
   "cell_type": "markdown",
   "metadata": {},
   "source": [
    "## Kth from the last"
   ]
  },
  {
   "cell_type": "code",
   "execution_count": 366,
   "metadata": {},
   "outputs": [
    {
     "data": {
      "text/plain": [
       "20"
      ]
     },
     "execution_count": 366,
     "metadata": {},
     "output_type": "execute_result"
    }
   ],
   "source": [
    "def kth_from_last(linked_list, k):\n",
    "    s = linked_list.head\n",
    "    f = linked_list.head\n",
    "    for i in range(k):\n",
    "        f = f.next\n",
    "        \n",
    "    while f.next:\n",
    "        f = f.next\n",
    "        s = s.next\n",
    "        \n",
    "    return(s.data)\n",
    "\n",
    "kth_from_last(llist, 5)"
   ]
  },
  {
   "cell_type": "markdown",
   "metadata": {},
   "source": [
    "### Middle node of the linked list \n",
    "\n",
    "without using size property, by using iteration"
   ]
  },
  {
   "cell_type": "code",
   "execution_count": 367,
   "metadata": {},
   "outputs": [
    {
     "data": {
      "text/plain": [
       "2"
      ]
     },
     "execution_count": 367,
     "metadata": {},
     "output_type": "execute_result"
    }
   ],
   "source": [
    "def middle_LinkedList(linkedlist):\n",
    "    s = linkedlist.head\n",
    "    f = linkedlist.head\n",
    "    \n",
    "    # slow move one and fast move by 2 \n",
    "    \n",
    "    while f.next!= None and f.next.next!= None:\n",
    "        s = s.next\n",
    "        f = f.next.next\n",
    "    return s.data\n",
    "\n",
    "middle_LinkedList(llist)"
   ]
  },
  {
   "cell_type": "markdown",
   "metadata": {},
   "source": [
    "#### merge two sorted linked list"
   ]
  },
  {
   "cell_type": "code",
   "execution_count": 387,
   "metadata": {},
   "outputs": [],
   "source": [
    "list1 = LinkedList()\n",
    "list1.insert(10)\n",
    "list1.insert(20)\n",
    "list1.insert(30)\n",
    "list1.insert(40)\n",
    "list1.insert(50)\n",
    "\n",
    "list2 = LinkedList()\n",
    "list2.insert(7)\n",
    "list2.insert(9)\n",
    "list2.insert(20)\n",
    "list2.insert(35)\n",
    "\n"
   ]
  },
  {
   "cell_type": "code",
   "execution_count": 448,
   "metadata": {},
   "outputs": [
    {
     "data": {
      "text/plain": [
       "<__main__.LinkedList at 0x21f80f67490>"
      ]
     },
     "execution_count": 448,
     "metadata": {},
     "output_type": "execute_result"
    }
   ],
   "source": [
    "def merge_linked_list(list1, list2):\n",
    "    final_list = LinkedList()\n",
    "    low1 = list1.head\n",
    "    low2 = list2.head\n",
    "    while ( low1 != None ) and (low2 != None):\n",
    "        if low1.data <= low2.data:\n",
    "            final_list.insert(low1.data)\n",
    "            low1 = low1.next\n",
    "        \n",
    "        elif low1.data>low2.data:\n",
    "            final_list.insert(low2.data)\n",
    "            low2 = low2.next\n",
    "\n",
    "    while low1 is not None:\n",
    "        final_list.insert(low1.data)\n",
    "        low1 = low1.next\n",
    "    while low2 is not None:\n",
    "        final_list.insert(low2.data)\n",
    "        low2 = low2.next\n",
    "    return final_list\n",
    "\n",
    "merge_linked_list(list1,list2)"
   ]
  },
  {
   "cell_type": "markdown",
   "metadata": {},
   "source": [
    "### Merge sort in Linked List"
   ]
  },
  {
   "cell_type": "code",
   "execution_count": 449,
   "metadata": {},
   "outputs": [
    {
     "name": "stdout",
     "output_type": "stream",
     "text": [
      "10 30 20 50 40 7 9 20 35 "
     ]
    }
   ],
   "source": [
    "list1 = LinkedList()\n",
    "list1.insert(10)\n",
    "list1.insert(30)\n",
    "list1.insert(20)\n",
    "list1.insert(50)\n",
    "list1.insert(40)\n",
    "list1.insert(7)\n",
    "list1.insert(9)\n",
    "list1.insert(20)\n",
    "list1.insert(35)\n",
    "list1.print_list()"
   ]
  },
  {
   "cell_type": "code",
   "execution_count": 450,
   "metadata": {},
   "outputs": [],
   "source": [
    "list1.tail.next"
   ]
  },
  {
   "cell_type": "code",
   "execution_count": 451,
   "metadata": {},
   "outputs": [
    {
     "name": "stdout",
     "output_type": "stream",
     "text": [
      "7 9 10 20 20 30 35 40 50 "
     ]
    }
   ],
   "source": [
    "def mid_node(head, tail):\n",
    "    f = head\n",
    "    s = head\n",
    "    while f != tail and f.next != tail :\n",
    "        f = f.next.next\n",
    "\n",
    "        s = s.next\n",
    "\n",
    "    return s\n",
    "# mid_node(list1, list1.head.next, list1.tail)\n",
    "def sort_linkedlist(linkedlist, head, tail):\n",
    "    if head == tail:\n",
    "        newNode = LinkedList()\n",
    "        newNode.insert(head.data)\n",
    "        return newNode\n",
    "    ### find middle node\n",
    "    midNode = mid_node(head,tail) \n",
    "    ### call the merge function to both part\n",
    "    first_part = sort_linkedlist(linkedlist,head, midNode)\n",
    "    second_part = sort_linkedlist(linkedlist, midNode.next, tail)\n",
    "    final = merge_linked_list(first_part, second_part)\n",
    "    return final\n",
    "    \n",
    "    \n",
    "    \n",
    "    \n",
    "\n",
    "sorted_list = sort_linkedlist(list1, list1.head,list1.tail)\n",
    "sorted_list.print_list()"
   ]
  },
  {
   "cell_type": "markdown",
   "metadata": {},
   "source": [
    "### Removing Duplicates in sorted Linked List\n",
    "\n",
    "Constant time and linear time complexity "
   ]
  },
  {
   "cell_type": "code",
   "execution_count": 625,
   "metadata": {},
   "outputs": [
    {
     "name": "stdout",
     "output_type": "stream",
     "text": [
      "10 30 20 20 50 50 40 7 9 20 35 "
     ]
    }
   ],
   "source": [
    "list1 = LinkedList()\n",
    "list1.insert(10)\n",
    "list1.insert(30)\n",
    "list1.insert(20)\n",
    "list1.insert(20)\n",
    "list1.insert(50)\n",
    "list1.insert(50)\n",
    "list1.insert(40)\n",
    "list1.insert(7)\n",
    "list1.insert(9)\n",
    "list1.insert(20)\n",
    "list1.insert(35)\n",
    "list1.print_list()"
   ]
  },
  {
   "cell_type": "code",
   "execution_count": 591,
   "metadata": {},
   "outputs": [
    {
     "name": "stdout",
     "output_type": "stream",
     "text": [
      "7 9 10 20 20 20 30 35 40 50 50 "
     ]
    }
   ],
   "source": [
    "sorted_list = sort_linkedlist(list1, list1.head, list1.tail)\n",
    "sorted_list.print_list()"
   ]
  },
  {
   "cell_type": "code",
   "execution_count": 592,
   "metadata": {
    "scrolled": true
   },
   "outputs": [
    {
     "data": {
      "text/plain": [
       "11"
      ]
     },
     "execution_count": 592,
     "metadata": {},
     "output_type": "execute_result"
    }
   ],
   "source": [
    "sorted_list.len_list()"
   ]
  },
  {
   "cell_type": "code",
   "execution_count": 539,
   "metadata": {},
   "outputs": [],
   "source": [
    "# list1.getNodeAt(0).data"
   ]
  },
  {
   "cell_type": "code",
   "execution_count": 540,
   "metadata": {},
   "outputs": [],
   "source": [
    "# list1.delete(0)"
   ]
  },
  {
   "cell_type": "code",
   "execution_count": 604,
   "metadata": {},
   "outputs": [
    {
     "name": "stdout",
     "output_type": "stream",
     "text": [
      "7 9 10 20 30 35 40 50 "
     ]
    }
   ],
   "source": [
    "def remove_duplicated(llist):\n",
    "    i = 1\n",
    "    while i<llist.len_list():\n",
    "        datap = llist.getNodeAt(i-1).data\n",
    "        datan = llist.getNodeAt(i).data\n",
    "        if datap == datan:\n",
    "            llist.delete(i)\n",
    "        else:\n",
    "            i+=1\n",
    "            \n",
    "        \n",
    "    return llist\n",
    "res = remove_duplicated(sorted_list)\n",
    "res.print_list()\n",
    "    "
   ]
  },
  {
   "cell_type": "code",
   "execution_count": 460,
   "metadata": {},
   "outputs": [
    {
     "data": {
      "text/plain": [
       "0"
      ]
     },
     "execution_count": 460,
     "metadata": {},
     "output_type": "execute_result"
    }
   ],
   "source": [
    "res = LinkedList()\n",
    "res.len_list()"
   ]
  },
  {
   "cell_type": "code",
   "execution_count": 564,
   "metadata": {},
   "outputs": [
    {
     "data": {
      "text/plain": [
       "8"
      ]
     },
     "execution_count": 564,
     "metadata": {},
     "output_type": "execute_result"
    }
   ],
   "source": [
    "res.len_list()"
   ]
  },
  {
   "cell_type": "markdown",
   "metadata": {},
   "source": [
    "### odd even segregation in linked list \n",
    "\n",
    "without changing the order "
   ]
  },
  {
   "cell_type": "code",
   "execution_count": 605,
   "metadata": {},
   "outputs": [
    {
     "name": "stdout",
     "output_type": "stream",
     "text": [
      "10 30 20 20 50 50 40 9 7 35 "
     ]
    }
   ],
   "source": [
    "# list1.print_list()\n",
    "        \n",
    "def odd_even_seggregate(llist):\n",
    "    odd_list = LinkedList()\n",
    "    i =0\n",
    "    j = llist.len_list()-1\n",
    "    while i<j:\n",
    "        key = llist.getNodeAt(i).data\n",
    "        if key %2 == 0:\n",
    "            pass\n",
    "        else:\n",
    "            v = llist.delete(i)\n",
    "            odd_list.insert(v)\n",
    "        i+=1\n",
    "    llist.tail.next = odd_list.head\n",
    "    return llist\n",
    "seggregated = odd_even_seggregate(list1)\n",
    "seggregated.print_list()"
   ]
  },
  {
   "cell_type": "markdown",
   "metadata": {},
   "source": [
    "### K Reverse in linked list and array \n",
    "\n",
    "k = 3 then reverse each 3 continuous subarray "
   ]
  },
  {
   "cell_type": "code",
   "execution_count": 619,
   "metadata": {},
   "outputs": [
    {
     "name": "stdout",
     "output_type": "stream",
     "text": [
      "[4, 3, 2, 1, 8, 7, 6, 5, 9, 10, 11]\n"
     ]
    }
   ],
   "source": [
    "array = [1,2,3,4,5,6,7,8,9,10,11]\n",
    "\n",
    "def k_reverse(a, k):\n",
    "    n = len(a)\n",
    "    for i in range(0,n-k+1,k):\n",
    "        low = i\n",
    "        high = i+k-1\n",
    "        while low<=high:\n",
    "            a[low],a[high] = a[high],a[low]\n",
    "            low+=1\n",
    "            high-=1\n",
    "    print(a)\n",
    "        \n",
    "k_reverse(array,4)"
   ]
  },
  {
   "cell_type": "code",
   "execution_count": 828,
   "metadata": {},
   "outputs": [
    {
     "name": "stdout",
     "output_type": "stream",
     "text": [
      "10 30 20 20 50 50 40 7 9 20 35 "
     ]
    }
   ],
   "source": [
    "list1 = LinkedList()\n",
    "list1.insert(10)\n",
    "list1.insert(30)\n",
    "list1.insert(20)\n",
    "list1.insert(20)\n",
    "list1.insert(50)\n",
    "list1.insert(50)\n",
    "list1.insert(40)\n",
    "list1.insert(7)\n",
    "list1.insert(9)\n",
    "list1.insert(20)\n",
    "list1.insert(35)\n",
    "list1.print_list()"
   ]
  },
  {
   "cell_type": "code",
   "execution_count": 725,
   "metadata": {},
   "outputs": [
    {
     "data": {
      "text/plain": [
       "35"
      ]
     },
     "execution_count": 725,
     "metadata": {},
     "output_type": "execute_result"
    }
   ],
   "source": [
    "list1.tail.data"
   ]
  },
  {
   "cell_type": "code",
   "execution_count": 700,
   "metadata": {},
   "outputs": [
    {
     "name": "stdout",
     "output_type": "stream",
     "text": [
      "20 20 30 10 7 40 50 50 9 20 35 "
     ]
    }
   ],
   "source": [
    "\n",
    "def k_reverse_linkedList(llist,k):\n",
    "    prev = None\n",
    "    curr = LinkedList()\n",
    "    size = llist.len_list()\n",
    "    for i in range(0,size-k+1, k):\n",
    "        low = i\n",
    "        high = i+k-1\n",
    "        while low<=high:\n",
    "            val = llist.delete(0)\n",
    "            curr.insert(val,0)\n",
    "            low+=1\n",
    "        if prev == None:\n",
    "            prev = curr\n",
    "            curr = LinkedList()\n",
    "        else:\n",
    "            prev.tail.next = curr.head\n",
    "            prev.tail = curr.tail\n",
    "            curr = LinkedList()\n",
    "    prev.tail.next = llist.head\n",
    "    prev.tail  = llist.tail\n",
    "    return prev.print_list()\n",
    "k_reverse_linkedList(list1,4)"
   ]
  },
  {
   "cell_type": "markdown",
   "metadata": {},
   "source": [
    "### Display a Linkedlist from end using recursion"
   ]
  },
  {
   "cell_type": "code",
   "execution_count": 726,
   "metadata": {},
   "outputs": [
    {
     "name": "stdout",
     "output_type": "stream",
     "text": [
      "10 30 20 20 50 50 40 7 9 20 35 "
     ]
    }
   ],
   "source": [
    "list1.print_list()"
   ]
  },
  {
   "cell_type": "code",
   "execution_count": 731,
   "metadata": {},
   "outputs": [
    {
     "name": "stdout",
     "output_type": "stream",
     "text": [
      "35 20 9 7 40 50 50 20 20 30 10 "
     ]
    }
   ],
   "source": [
    "def print_reverse(llist,head):\n",
    "    if head == None:\n",
    "        return \n",
    "    print_reverse(llist,head.next)\n",
    "    print(head.data,end = ' ')\n",
    "    \n",
    "    \n",
    "print_reverse(list1,list1.head)"
   ]
  },
  {
   "cell_type": "markdown",
   "metadata": {},
   "source": [
    "### Is linked list is a pellindrome \n",
    "\n",
    "with space O(1) and O(n) time complexity\n"
   ]
  },
  {
   "cell_type": "code",
   "execution_count": 925,
   "metadata": {},
   "outputs": [],
   "source": [
    "class advancedLinkedList(LinkedList):\n",
    "    \n",
    "    def init (self):\n",
    "        self.pleft = None\n",
    "        \n",
    "    def isHelper(self,right):\n",
    "        if right == None:\n",
    "            return True\n",
    "        res = self.isHelper(right.next)\n",
    "        if res == False:\n",
    "            return False\n",
    "        \n",
    "        elif(right.data != self.pleft.data):\n",
    "            return False\n",
    "        else:\n",
    "            self.pleft = self.pleft.next\n",
    "            return True\n",
    "        \n",
    "    def isPellindrome(self):\n",
    "        self.pleft = self.head\n",
    "        res = self.isHelper(self.head)\n",
    "        return res\n",
    "\n"
   ]
  },
  {
   "cell_type": "code",
   "execution_count": 926,
   "metadata": {},
   "outputs": [
    {
     "name": "stdout",
     "output_type": "stream",
     "text": [
      "10 30 20 20 50 50 40 7 9 20 35 "
     ]
    }
   ],
   "source": [
    "list1 = advancedLinkedList()\n",
    "list1.insert(10)\n",
    "list1.insert(30)\n",
    "list1.insert(20)\n",
    "list1.insert(20)\n",
    "list1.insert(50)\n",
    "list1.insert(50)\n",
    "list1.insert(40)\n",
    "list1.insert(7)\n",
    "list1.insert(9)\n",
    "list1.insert(20)\n",
    "list1.insert(35)\n",
    "list1.print_list()    \n"
   ]
  },
  {
   "cell_type": "code",
   "execution_count": 927,
   "metadata": {
    "scrolled": true
   },
   "outputs": [
    {
     "data": {
      "text/plain": [
       "False"
      ]
     },
     "execution_count": 927,
     "metadata": {},
     "output_type": "execute_result"
    }
   ],
   "source": [
    "list1.isPellindrome()"
   ]
  },
  {
   "cell_type": "markdown",
   "metadata": {},
   "source": [
    "### Printing Data Recurisively"
   ]
  },
  {
   "cell_type": "code",
   "execution_count": 802,
   "metadata": {},
   "outputs": [
    {
     "name": "stdout",
     "output_type": "stream",
     "text": [
      "1 2 3 4 5 6 6 5 4 3 2 1 "
     ]
    }
   ],
   "source": [
    "a = [1,2,3,4,5,6]\n",
    "def print_recursive(a,i,h):\n",
    "    if i>h:\n",
    "        return\n",
    "    print(a[i],end = ' ')\n",
    "    print_recursive(a,i+1,h)\n",
    "    print(a[i],end = ' ')\n",
    "\n",
    "    \n",
    "print_recursive(a,0,5)\n",
    "    "
   ]
  },
  {
   "cell_type": "markdown",
   "metadata": {},
   "source": [
    "### Fold a Linked List\n",
    "\n",
    "llist = 1,2,3,4,5,6\n",
    "\n",
    "ans = 1,6,2,5,3,4"
   ]
  },
  {
   "cell_type": "code",
   "execution_count": null,
   "metadata": {},
   "outputs": [],
   "source": []
  },
  {
   "cell_type": "code",
   "execution_count": null,
   "metadata": {},
   "outputs": [],
   "source": []
  }
 ],
 "metadata": {
  "kernelspec": {
   "display_name": "Python 3",
   "language": "python",
   "name": "python3"
  },
  "language_info": {
   "codemirror_mode": {
    "name": "ipython",
    "version": 3
   },
   "file_extension": ".py",
   "mimetype": "text/x-python",
   "name": "python",
   "nbconvert_exporter": "python",
   "pygments_lexer": "ipython3",
   "version": "3.8.5"
  }
 },
 "nbformat": 4,
 "nbformat_minor": 4
}
