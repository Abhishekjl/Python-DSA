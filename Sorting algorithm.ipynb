{
 "cells": [
  {
   "cell_type": "markdown",
   "metadata": {},
   "source": [
    "#### Bubble Sort \n",
    "Time complexity O(N^2)\n",
    "Space complexity O(1)\n"
   ]
  },
  {
   "cell_type": "code",
   "execution_count": 3,
   "metadata": {},
   "outputs": [
    {
     "name": "stdout",
     "output_type": "stream",
     "text": [
      "[1, 2, 3, 1, 19, -1, 45]\n",
      "[1, 2, 1, 3, -1, 19, 45]\n",
      "[1, 1, 2, -1, 3, 19, 45]\n",
      "[1, 1, -1, 2, 3, 19, 45]\n",
      "[1, -1, 1, 2, 3, 19, 45]\n",
      "[-1, 1, 1, 2, 3, 19, 45]\n"
     ]
    }
   ],
   "source": [
    "def bubblesort(a):\n",
    "    for i in range(len(a)):\n",
    "        shuffle = False\n",
    "        for i in range(len(a)-1):\n",
    "            if a[i]>a[i+1]:\n",
    "                a[i+1],a[i] = a[i],a[i+1]\n",
    "                shuffle = True\n",
    "        if shuffle == False:\n",
    "            break\n",
    "                \n",
    "        print(a)\n",
    "    \n",
    "\n",
    "bubblesort([1,3,2,19,1,45,-1])"
   ]
  },
  {
   "cell_type": "code",
   "execution_count": 17,
   "metadata": {},
   "outputs": [],
   "source": [
    "def bubblesort(customlist):\n",
    "    for i in range(0, len(customlist)):\n",
    "        shuffle = False\n",
    "    \n",
    "        for j in range(0, len(customlist)-1-i):\n",
    "            if customlist[j]>customlist[j+1]:\n",
    "                customlist[j], customlist[j+1] = customlist[j+1], customlist[j]\n",
    "                shuffle = True\n",
    "        if shuffle == False:\n",
    "            return customlist\n",
    "    "
   ]
  },
  {
   "cell_type": "code",
   "execution_count": 18,
   "metadata": {},
   "outputs": [
    {
     "data": {
      "text/plain": [
       "[-1, 1, 1, 2, 3, 19, 45]"
      ]
     },
     "execution_count": 18,
     "metadata": {},
     "output_type": "execute_result"
    }
   ],
   "source": [
    "bubblesort([1,3,2,19,1,45,-1])"
   ]
  },
  {
   "cell_type": "markdown",
   "metadata": {},
   "source": [
    "### Insertion sort\n",
    "finding minimum and maximum element and move it to sorted path\n",
    "\n",
    "Time complexity O(N^2)\n",
    "\n",
    "Space complexity O(1)"
   ]
  },
  {
   "cell_type": "code",
   "execution_count": 200,
   "metadata": {},
   "outputs": [
    {
     "name": "stdout",
     "output_type": "stream",
     "text": [
      "[-1, -1, 0, 1, 1, 2, 3, 19, 45, 45, 78]\n"
     ]
    }
   ],
   "source": [
    "arr = [0,-1,78,45,1,3,2,19,1,45,-1]\n",
    "def insertionsort(a):\n",
    "    for i in range(1, len(a)):\n",
    "        j = i-1\n",
    "        key = a[i]\n",
    "        \n",
    "        while key <= a[j] and j>=0:\n",
    "\n",
    "            \n",
    "            a[j+1] = a[j]\n",
    "            j-=1\n",
    "        a[j+1] = key\n",
    "    print(a)\n",
    "\n",
    "insertionsort(arr)\n"
   ]
  },
  {
   "cell_type": "code",
   "execution_count": 24,
   "metadata": {},
   "outputs": [
    {
     "name": "stdout",
     "output_type": "stream",
     "text": [
      "[-1, -1, 0, 1, 1, 2, 3, 19, 45, 45, 78]\n"
     ]
    }
   ],
   "source": [
    "arr = [0,-1,78,45,1,3,2,19,1,45,-1]\n",
    "def insertionsort(a):\n",
    "    for i in range(1, len(a)):\n",
    "        j = i-1\n",
    "        key = a[i]\n",
    "        while key<=a[j] and j>=0:\n",
    "            a[j+1] = a[j]\n",
    "            j-=1\n",
    "            a[j+1] = key\n",
    "    print(a)\n",
    "\n",
    "    \n",
    "insertionsort(arr)"
   ]
  },
  {
   "cell_type": "markdown",
   "metadata": {},
   "source": [
    "#### Selection sort\n",
    "\n",
    "time complexity O(N^2)\n",
    "\n",
    "spacecomplexity O(1)"
   ]
  },
  {
   "cell_type": "code",
   "execution_count": 186,
   "metadata": {
    "scrolled": true
   },
   "outputs": [
    {
     "name": "stdout",
     "output_type": "stream",
     "text": [
      "[-45, -1, 2, 45, 435, 2345, 40000]\n"
     ]
    }
   ],
   "source": [
    "a = [-1,45,-45,435,2,2345,40000]\n",
    "def selectionsort(a):\n",
    "    low = 0\n",
    "    high = len(a)-1\n",
    "    for i in range(len(a)):\n",
    "        max_value = 0\n",
    "        for i in range(low,high+1):\n",
    "            if a[i]> a[max_value]:\n",
    "                max_value = i\n",
    "        ###K swapping \n",
    "        a[max_value] , a[high] = a[high], a[max_value]\n",
    "        high -=1\n",
    "    print(a)\n",
    "        \n",
    "        \n",
    "selectionsort(a)\n",
    "        \n",
    "\n",
    "        "
   ]
  },
  {
   "cell_type": "code",
   "execution_count": 18,
   "metadata": {},
   "outputs": [
    {
     "name": "stdout",
     "output_type": "stream",
     "text": [
      "[-45, -1, 2, 45, 435, 2345, 40000]\n"
     ]
    }
   ],
   "source": [
    "import sys\n",
    "a = [-1,45,-45,435,2,2345,40000]\n",
    "\n",
    "def selectionsort(a):\n",
    "    low = 0\n",
    "    for i in range(len(a)):\n",
    "        min_ = i\n",
    "        for j in range(i,len(a)):\n",
    "            if a[j]<a[min_]:\n",
    "                min_ = j\n",
    "        a[low],a[min_] = a[min_],a[low]\n",
    "        low+=1\n",
    "    print(a)\n",
    "            \n",
    "    \n",
    "selectionsort(a)"
   ]
  },
  {
   "cell_type": "markdown",
   "metadata": {},
   "source": [
    "### Merge Sort  ( Divide and conquer ) algorithm\n",
    "\n",
    "Time complexity O(NlonN)\n",
    "Space Complexity O(N) \n",
    "Faster"
   ]
  },
  {
   "cell_type": "code",
   "execution_count": 99,
   "metadata": {},
   "outputs": [],
   "source": [
    "### merging two array \n",
    "def merge2list(list1, list2):\n",
    "    \n",
    "    # list1, list2 are sorted arrays\n",
    "    i = 0\n",
    "    j = 0\n",
    "    k = 0\n",
    "    n = len(list1)\n",
    "    m = len(list2)\n",
    "    sort_list = [None]*(n+m)\n",
    "    while (i<n and j<m):\n",
    "        if list1[i] < list2[j]:\n",
    "            sort_list[k] = list1[i]\n",
    "            i += 1\n",
    "            k += 1\n",
    "        else:\n",
    "            sort_list[k] = list2[j]\n",
    "            k+=1\n",
    "            j+=1\n",
    "    while i< n:\n",
    "        sort_list[k] = list1[i]\n",
    "        k+=1\n",
    "        i+=1\n",
    "    while j< m:\n",
    "        sort_list[k] = list2[j]\n",
    "        k+=1 \n",
    "        j+=1 \n",
    "    return sort_list"
   ]
  },
  {
   "cell_type": "code",
   "execution_count": 100,
   "metadata": {
    "scrolled": false
   },
   "outputs": [
    {
     "data": {
      "text/plain": [
       "[1, 2, 3, 4, 5, 7, 8]"
      ]
     },
     "execution_count": 100,
     "metadata": {},
     "output_type": "execute_result"
    }
   ],
   "source": [
    "merge2list([2,3,5],[1,4,7,8])"
   ]
  },
  {
   "cell_type": "code",
   "execution_count": null,
   "metadata": {},
   "outputs": [],
   "source": [
    "def mergefunction(arr, list1, list2):\n",
    "    \n",
    "    "
   ]
  },
  {
   "cell_type": "code",
   "execution_count": 111,
   "metadata": {},
   "outputs": [],
   "source": [
    "def mergesort(arr):\n",
    "    if len(arr)>1:\n",
    "        mid = len(arr)//2\n",
    "        l = arr[:mid]\n",
    "        r = arr[mid:]\n",
    "        mergesort(l)\n",
    "        mergesort(r)\n",
    "        ###########after sorting merge both#######################\n",
    "        i = j = k = 0\n",
    "        while (i<len(l)) and (j < len(r)):\n",
    "            if l[i]<r[j]:\n",
    "                arr[k] = l[i]\n",
    "                i +=1\n",
    "                k+=1\n",
    "            else:\n",
    "                arr[k] = r[j]\n",
    "                j+=1 \n",
    "                k+=1\n",
    "        ## now the remaining elements\n",
    "        while i <len(l):\n",
    "            arr[k] = l[i]\n",
    "            k+=1\n",
    "            i+=1\n",
    "        while j < len(r):\n",
    "            arr[k] = r[j]\n",
    "            j+=1\n",
    "            k+=1\n",
    "    return arr\n",
    "        "
   ]
  },
  {
   "cell_type": "code",
   "execution_count": 112,
   "metadata": {},
   "outputs": [
    {
     "data": {
      "text/plain": [
       "[-1, 1, 3, 4]"
      ]
     },
     "execution_count": 112,
     "metadata": {},
     "output_type": "execute_result"
    }
   ],
   "source": [
    "mergesort([1,-1,4,3])"
   ]
  },
  {
   "cell_type": "code",
   "execution_count": 3,
   "metadata": {},
   "outputs": [
    {
     "data": {
      "text/plain": [
       "[-1, 1, 2, 3, 3, 4, 5, 6, 7, 9]"
      ]
     },
     "execution_count": 3,
     "metadata": {},
     "output_type": "execute_result"
    }
   ],
   "source": [
    "def mergearray(arr1,arr2):\n",
    "    n = len(arr1)+len(arr2)\n",
    "    arr = [0]*n\n",
    "    i = j= k = 0\n",
    "    while i<len(arr1) and j<len(arr2):\n",
    "        if arr1[i]<arr2[j]:\n",
    "            arr[k] = arr1[i]\n",
    "            i+=1\n",
    "            k+=1\n",
    "            \n",
    "        elif arr1[i] == arr2[j]:\n",
    "            arr[k] = arr1[i]\n",
    "            i+=1\n",
    "            k+=1\n",
    "            arr[k] = arr2[j]\n",
    "            j+=1\n",
    "            k+=1\n",
    "        else:\n",
    "            arr[k] = arr2[j]\n",
    "            j+=1\n",
    "            k+=1\n",
    "    while i<len(arr1):\n",
    "        arr[k] = arr1[i]\n",
    "        i+=1\n",
    "        k+=1\n",
    "    while j<len(arr2):\n",
    "        arr[k] = arr2[j]\n",
    "        j+=1\n",
    "        k+=1\n",
    "        \n",
    "    return arr\n",
    "\n",
    "\n",
    "\n",
    "# mergearray([-1,3,7,9],[1,2,3,4,5,6])\n",
    "\n",
    "def mergesort(a):\n",
    "    if len(a)==1:\n",
    "        return a\n",
    "    mid = len(a)//2\n",
    "    left = a[:mid]\n",
    "    right  = a[mid:]\n",
    "    left_sorted = mergesort(left)\n",
    "    right_sorted = mergesort(right)\n",
    "    fsa = mergearray(left_sorted,right_sorted)\n",
    "    return fsa\n",
    " \n",
    "mergesort([-1,3,7,9,1,2,3,4,5,6])\n"
   ]
  },
  {
   "cell_type": "code",
   "execution_count": null,
   "metadata": {},
   "outputs": [],
   "source": []
  },
  {
   "cell_type": "markdown",
   "metadata": {},
   "source": [
    "### intersection common elements of two sorted arrays\n"
   ]
  },
  {
   "cell_type": "code",
   "execution_count": 126,
   "metadata": {},
   "outputs": [
    {
     "name": "stdout",
     "output_type": "stream",
     "text": [
      "5\n",
      "10\n",
      "15\n",
      "30\n"
     ]
    }
   ],
   "source": [
    "a = [3,5,10,10,10,15,15,30]\n",
    "b = [5,10,10,15,30]\n",
    "\n",
    "for i in range(0, len(a)):\n",
    "    if i>0 and a[i]== a[i-1]:\n",
    "        i+=1\n",
    "        continue\n",
    "    for j in range(0, len(b)):\n",
    "        if a[i]==b[j]:\n",
    "            print(a[i])\n",
    "            break\n",
    "        "
   ]
  },
  {
   "cell_type": "code",
   "execution_count": 27,
   "metadata": {},
   "outputs": [
    {
     "name": "stdout",
     "output_type": "stream",
     "text": [
      "3\n",
      "4\n",
      "7\n",
      "7\n",
      "8\n",
      "10\n",
      "12\n"
     ]
    }
   ],
   "source": [
    "a = [3,5,7,10]\n",
    "b = [4,5,8,12]\n",
    "\n",
    "i = 0\n",
    "j = 0\n",
    "while i<len(a) and j<len(b):\n",
    "    if a[i]<b[j]:\n",
    "        print(a[i])\n",
    "        i+=1\n",
    "    elif a[i] == b[j]:\n",
    "        i+=1\n",
    "        j+=1\n",
    "        print(a[i])\n",
    "    else:\n",
    "        print(b[j])\n",
    "        j+=1\n",
    "        \n",
    "while i<len(a):\n",
    "    print(a[i])\n",
    "    i+=1\n",
    "    \n",
    "while j<len(b):\n",
    "    print(b[j])\n",
    "    j+=1\n",
    "        "
   ]
  },
  {
   "cell_type": "markdown",
   "metadata": {},
   "source": [
    "#### finding the union of two sorted array "
   ]
  },
  {
   "cell_type": "code",
   "execution_count": 127,
   "metadata": {},
   "outputs": [
    {
     "name": "stdout",
     "output_type": "stream",
     "text": [
      "3\n",
      "5\n",
      "10\n",
      "15\n",
      "30\n"
     ]
    }
   ],
   "source": [
    "a = [3,5,10,10,10,15,15,30]\n",
    "b = [5,10,10,15,30]\n",
    "\n",
    "\n",
    "for i in range(0, len(a)):\n",
    "    if i>0 and a[i]== a[i-1]:\n",
    "        i+=1\n",
    "        continue\n",
    "    for j in range(0, len(b)):\n",
    "        if (a[i]==b[j]) or (a[i] not in b):\n",
    "            print(a[i])\n",
    "            break\n"
   ]
  },
  {
   "cell_type": "markdown",
   "metadata": {},
   "source": [
    "#### partition of the table at a given index ! \n",
    "partition---> Stable (Naive) \n",
    "\n",
    "\n",
    "          ---> Unstable (Lomuto , heare)"
   ]
  },
  {
   "cell_type": "code",
   "execution_count": 128,
   "metadata": {},
   "outputs": [],
   "source": [
    "arr = [5,3,12,8,5]\n",
    "\n",
    "def partition(arr, l, h , p ):\n",
    "    temp = [None]*(h-l+1)\n",
    "    index = 0\n",
    "    for i in range(l, h+1):\n",
    "        if (arr[i]< arr[p]):\n",
    "            temp[index] = arr[i]\n",
    "            index +=1\n",
    "    for i in range(l, h+1):\n",
    "        if arr[i] == arr[p]:\n",
    "            temp[index] = arr[i]\n",
    "            index+=1\n",
    "    res = l+index -1\n",
    "    for i in range(l, h+1):\n",
    "        if arr[i]> arr[p]:\n",
    "            temp[index] = arr[i]\n",
    "            index +=1\n",
    "    \n",
    "    # copy the temp arrray to the original array\n",
    "    \n",
    "    for i in range(l, h+1):\n",
    "        arr[i] = temp[i-l]\n",
    "    print(arr)\n",
    "    return res"
   ]
  },
  {
   "cell_type": "code",
   "execution_count": 129,
   "metadata": {},
   "outputs": [
    {
     "name": "stdout",
     "output_type": "stream",
     "text": [
      "[3, 5, 5, 12, 8]\n"
     ]
    },
    {
     "data": {
      "text/plain": [
       "2"
      ]
     },
     "execution_count": 129,
     "metadata": {},
     "output_type": "execute_result"
    }
   ],
   "source": [
    "partition(arr, l = 0, h = len(arr)-1, p = 0)"
   ]
  },
  {
   "cell_type": "markdown",
   "metadata": {},
   "source": [
    "### partition\n"
   ]
  },
  {
   "cell_type": "code",
   "execution_count": 51,
   "metadata": {},
   "outputs": [],
   "source": [
    "def partition(arr, left, right):\n",
    "    \n",
    "    pivot_index = left\n",
    "    pivot = arr[left]\n",
    "    \n",
    "    while left<right:\n",
    "        while left<len(array) and arr[left] <= pivot:\n",
    "            left+=1\n",
    "        \n",
    "        while arr[right]>pivot:\n",
    "            right-=1\n",
    "        \n",
    "        if left<right:\n",
    "            arr[left],arr[right] = arr[right],arr[left]\n",
    "    \n",
    "    arr[pivot_index],arr[right] = arr[right],arr[pivot_index]\n",
    "    print(arr)\n",
    "    return right\n",
    "\n",
    "\n",
    "def quicksort(arr, left,right):\n",
    "    if left == right:\n",
    "        return arr\n",
    "    if left<right:\n",
    "        partition_pos = partition(arr,left,right)\n",
    "        quicksort(arr, left,partition_pos-1)\n",
    "        quicksort(arr,partition_pos+1,right)\n",
    "        \n",
    "\n",
    "\n",
    "            \n",
    "    "
   ]
  },
  {
   "cell_type": "code",
   "execution_count": null,
   "metadata": {},
   "outputs": [],
   "source": []
  },
  {
   "cell_type": "code",
   "execution_count": 52,
   "metadata": {
    "scrolled": true
   },
   "outputs": [
    {
     "name": "stdout",
     "output_type": "stream",
     "text": [
      "[6, 5, 9, 3, 10, 15, 12, 16]\n",
      "[3, 5, 6, 9, 10, 15, 12, 16]\n",
      "[3, 5, 6, 9, 10, 15, 12, 16]\n",
      "[3, 5, 6, 9, 10, 12, 15, 16]\n",
      "[3, 5, 6, 9, 10, 12, 15, 16]\n"
     ]
    }
   ],
   "source": [
    "array= [10, 16,12,15,6,3,9,5]\n",
    "\n",
    "quicksort(array,0,len(array)-1)\n",
    "print(array)\n"
   ]
  },
  {
   "cell_type": "code",
   "execution_count": 53,
   "metadata": {
    "scrolled": true
   },
   "outputs": [
    {
     "name": "stdout",
     "output_type": "stream",
     "text": [
      "[6, 5, 9, 3, 10, 15, 12, 16]\n"
     ]
    },
    {
     "data": {
      "text/plain": [
       "4"
      ]
     },
     "execution_count": 53,
     "metadata": {},
     "output_type": "execute_result"
    }
   ],
   "source": [
    "array= [10, 16,12,15,6,3,9,5]\n",
    "\n",
    "partition(array, 0, 7)"
   ]
  },
  {
   "cell_type": "code",
   "execution_count": 42,
   "metadata": {},
   "outputs": [
    {
     "data": {
      "text/plain": [
       "[3, 5, 6, 9, 10, 12, 15, 16]"
      ]
     },
     "execution_count": 42,
     "metadata": {},
     "output_type": "execute_result"
    }
   ],
   "source": [
    "array"
   ]
  },
  {
   "cell_type": "code",
   "execution_count": 14,
   "metadata": {},
   "outputs": [
    {
     "name": "stdout",
     "output_type": "stream",
     "text": [
      "[3, 5, 6, 9, 10, 12, 15, 16]\n"
     ]
    }
   ],
   "source": [
    "if __name__ == '__main__':\n",
    "    arr = [10, 16,12,15,6,3,9,5]\n",
    "    \n",
    "    quicksort(arr,0,len(arr)-1)\n",
    "    print(arr)\n",
    "    "
   ]
  },
  {
   "cell_type": "code",
   "execution_count": 23,
   "metadata": {},
   "outputs": [
    {
     "name": "stdout",
     "output_type": "stream",
     "text": [
      "[2, 4, 18] [7, 15, 19, 23, 45]\n",
      "0\n",
      "1\n",
      "2\n",
      "[2, 4, 18, 7, 15, 19, 23, 45]\n"
     ]
    }
   ],
   "source": [
    "### sort array with different elements type\n",
    "a = [15,7,4,2,18,19,45,23]\n",
    "# answer [ 2,4,18,7,15]\n",
    "temp1 = []\n",
    "temp2 = []\n",
    "for i in range(len(a)):\n",
    "    if a[i]%2 == 0:\n",
    "        temp1.append(a[i])\n",
    "for j in range(len(a)):\n",
    "    if a[j]%2!= 0:\n",
    "        temp2.append(a[j])\n",
    "\n",
    "temp1.sort()\n",
    "temp2.sort()\n",
    "print(temp1,temp2)\n",
    "for i in range(len(temp1)):\n",
    "    a[i] = temp1[i]\n",
    "    print(i)\n",
    "for j in range(len(temp2)):\n",
    "    a[i+j+1] = temp2[j]\n",
    "print(a)\n",
    "temp1 = None\n",
    "temp2  = None\n",
    "    "
   ]
  },
  {
   "cell_type": "markdown",
   "metadata": {},
   "source": [
    "#### maximum guest meetings \n"
   ]
  },
  {
   "cell_type": "code",
   "execution_count": 26,
   "metadata": {},
   "outputs": [
    {
     "data": {
      "text/plain": [
       "3"
      ]
     },
     "execution_count": 26,
     "metadata": {},
     "output_type": "execute_result"
    }
   ],
   "source": [
    "arr = [900,940,950,1100,1500,1800]\n",
    "dep = [910,1200,1120,1130,1900,2000]\n",
    "\n",
    "def max_meetings(arr, dep):\n",
    "    arr.sort()\n",
    "    n = len(arr)\n",
    "    dep.sort()\n",
    "    i = 1\n",
    "    curr = 1\n",
    "    res = 1\n",
    "    j = 0\n",
    "    while i<n and j<n:\n",
    "        if arr[i]<dep[j]:\n",
    "            curr+=1\n",
    "            i+=1\n",
    "        elif arr[i]>dep[j]:\n",
    "            curr-=1\n",
    "            j+=1\n",
    "        res = max(curr, res)\n",
    "    return res\n",
    "\n",
    "max_meetings(arr,dep)   \n",
    "            "
   ]
  },
  {
   "cell_type": "code",
   "execution_count": 29,
   "metadata": {},
   "outputs": [
    {
     "data": {
      "text/plain": [
       "3"
      ]
     },
     "execution_count": 29,
     "metadata": {},
     "output_type": "execute_result"
    }
   ],
   "source": [
    "def max_meetings(arr,dep):\n",
    "    timeline = arr+dep\n",
    "    timeline.sort()\n",
    "    curr = 0\n",
    "    res = 1\n",
    "    for i in range(len(timeline)):\n",
    "        if timeline[i] in arr:\n",
    "            curr+=1\n",
    "        elif timeline[i] in dep:\n",
    "            curr-=1\n",
    "        res = max(res,curr)\n",
    "    return res\n",
    "max_meetings(arr,dep)"
   ]
  },
  {
   "cell_type": "markdown",
   "metadata": {},
   "source": [
    "### minimum swap required for sorting \n",
    "### Cycle sort"
   ]
  },
  {
   "cell_type": "code",
   "execution_count": 47,
   "metadata": {},
   "outputs": [
    {
     "name": "stdout",
     "output_type": "stream",
     "text": [
      "[20, 40, 50, 10, 30]\n",
      "[20, 40, 50, 10, 30]\n",
      "[20, 40, 50, 10, 30]\n",
      "[20, 40, 50, 10, 30]\n"
     ]
    }
   ],
   "source": [
    "a = [20,40,50,10,30]\n",
    "def cyclesort(a):\n",
    "    for start in range(0, len(a)-1):\n",
    "        pos = start\n",
    "        \n",
    "        item = a[start]\n",
    "        ## count the number is smaller than item\n",
    "        for i in range(start+1,len(a)):\n",
    "            if arr[i]< item:\n",
    "                pos+=1\n",
    "        ### its time to swap the first element \n",
    "        a[pos],a[start] = a[start],a[pos]\n",
    "        while pos!=start:\n",
    "            pos = start\n",
    "            for i in range(start+1,len(a)):\n",
    "                if a[i]<item:\n",
    "                    pos+=1\n",
    "            a[pos],a[start] = a[start],a[pos]\n",
    "        print(a)\n",
    "\n",
    "\n",
    "            \n",
    "            \n",
    "            \n",
    "cyclesort(a)\n",
    "        "
   ]
  },
  {
   "cell_type": "code",
   "execution_count": 4,
   "metadata": {},
   "outputs": [
    {
     "data": {
      "text/plain": [
       "[5, 10, 20, 30, 40, 60]"
      ]
     },
     "execution_count": 4,
     "metadata": {},
     "output_type": "execute_result"
    }
   ],
   "source": [
    "### insertion sort \n",
    "a = [20,5,40,60,10,30]\n",
    "\n",
    "def insertion_sort(a):\n",
    "    for i in range(1, len(a)):\n",
    "        j = i-1\n",
    "        key = a[i]\n",
    "        while j>=0 and a[j]>key:\n",
    "            ### now swap \n",
    "            a[j],a[j+1] = a[j+1],a[j]\n",
    "            j = j-1\n",
    "        a[j+1] = key\n",
    "    return a\n",
    "                \n",
    "insertion_sort(a)"
   ]
  },
  {
   "cell_type": "code",
   "execution_count": 7,
   "metadata": {},
   "outputs": [
    {
     "name": "stdout",
     "output_type": "stream",
     "text": [
      "[5, 9, 8, 2, 1]\n",
      "[5, 8, 9, 2, 1]\n",
      "[2, 5, 8, 9, 1]\n",
      "[1, 2, 5, 8, 9]\n"
     ]
    }
   ],
   "source": [
    "a = [5,9,8,2,1]\n",
    "\n",
    "def insertion_sort(a):\n",
    "    \n",
    "    for i in range(1,len(a)):\n",
    "        key =  a[i]\n",
    "        \n",
    "        for j in range(i-1, -1, -1):\n",
    "            if a[j]>a[j+1]:\n",
    "                a[j],a[j+1] = a[j+1],a[j]\n",
    "        print(a)\n",
    "        \n",
    "insertion_sort(a)"
   ]
  },
  {
   "cell_type": "markdown",
   "metadata": {},
   "source": [
    "### partitioning in an array \n",
    "lomuto partition\n",
    "\n",
    "pivot is last element "
   ]
  },
  {
   "cell_type": "code",
   "execution_count": 165,
   "metadata": {},
   "outputs": [
    {
     "name": "stdout",
     "output_type": "stream",
     "text": [
      "1\n"
     ]
    }
   ],
   "source": [
    "a = [7,1,3,2,6,8,9,3]\n",
    "\n",
    "def partition(a,low, high):\n",
    "    pivot = a[high]\n",
    "    i = low-1\n",
    "    for j in range(low,high-1+1): # one step less\n",
    "        if a[j]<pivot:\n",
    "            i+=1\n",
    "            a[i],a[j] = a[j],a[i]\n",
    "    print(i)        \n",
    "    a[i+1],a[high] = a[high],a[i+1]\n",
    "\n",
    "partition(a,0,7)\n",
    "            \n",
    "            \n",
    "            "
   ]
  },
  {
   "cell_type": "code",
   "execution_count": null,
   "metadata": {},
   "outputs": [],
   "source": []
  },
  {
   "cell_type": "code",
   "execution_count": 212,
   "metadata": {
    "scrolled": true
   },
   "outputs": [
    {
     "name": "stdout",
     "output_type": "stream",
     "text": [
      "[5, -1, 16, 12, 6, 3, 9, 10]\n",
      "[5, -1, 16, 12, 6, 3, 9, 10]\n",
      "[5, -1, 9, 12, 6, 3, 16, 10]\n",
      "[5, -1, 9, 3, 6, 12, 16, 10]\n",
      "[5, -1, 9, 3, 6, 12, 16, 10]\n"
     ]
    }
   ],
   "source": [
    "# array= [1,4,8,10,20,3]\n",
    "array= [10, -1,16,12,6,3,9,5]\n",
    "\n",
    "\n",
    "def partition(a, low, hi):\n",
    "    pvt = a[hi]\n",
    "    i = low\n",
    "    j = hi\n",
    "    while i<=j:\n",
    "        if a[i]>pvt:\n",
    "            a[i],a[j] = a[j] ,a[i]\n",
    "            j-=1\n",
    "        i+=1\n",
    "        print(a)\n",
    "    \n",
    "partition(array, 0, 7)\n",
    "            \n",
    "    \n",
    "\n",
    "# def partition(a, low, hi):\n",
    "#     i = low\n",
    "#     j = low\n",
    "#     pivot = a[hi]\n",
    "#     while i<=hi:\n",
    "#         if a[i]<=pivot:\n",
    "#             a[i],a[j] = a[j],a[i]\n",
    "#             j+=1\n",
    "#         i+=1\n",
    "#     return hi\n",
    "# partition(array,0,3)\n",
    "# print(array)"
   ]
  },
  {
   "cell_type": "code",
   "execution_count": null,
   "metadata": {},
   "outputs": [],
   "source": []
  },
  {
   "cell_type": "code",
   "execution_count": 3,
   "metadata": {},
   "outputs": [
    {
     "data": {
      "text/plain": [
       "[-1, 3, 5, 6, 9, 10, 12, 15, 16]"
      ]
     },
     "execution_count": 3,
     "metadata": {},
     "output_type": "execute_result"
    }
   ],
   "source": [
    "array= [10, -1,16,12,15,6,3,9,5]\n",
    "\n",
    "def quick_sort(a, low, hi):\n",
    "    if low>=hi:\n",
    "        return \n",
    "    pvt_idx = partition(a,low, hi)\n",
    "    quick_sort(a, low, pvt_idx-1)\n",
    "    quick_sort(a, pvt_idx, hi)\n",
    "    return a\n",
    "quick_sort(array, 0, 8)"
   ]
  },
  {
   "cell_type": "markdown",
   "metadata": {},
   "source": [
    "#### find the kth smallest element  without sorting"
   ]
  },
  {
   "cell_type": "code",
   "execution_count": 8,
   "metadata": {},
   "outputs": [
    {
     "data": {
      "text/plain": [
       "7"
      ]
     },
     "execution_count": 8,
     "metadata": {},
     "output_type": "execute_result"
    }
   ],
   "source": [
    "a = [7,10,4,3,15,20]\n",
    "# finding the 3rd smallest element means 2nd element\n",
    "# number's index must be less than 3 for the 3rd smallest \n",
    "# kth means k-1th element \n",
    "def find_kth_smallest(a,low,hi,k):\n",
    "    while low<=hi:\n",
    "        \n",
    "        p_idx = partition(a, low, hi)\n",
    "        if p_idx == k-1:\n",
    "            return a[p_idx]\n",
    "        elif p_idx>k-1:\n",
    "            hi = p_idx-1\n",
    "        elif p_idx<k-1:\n",
    "            low = p_idx+1\n",
    "    \n",
    "find_kth_smallest(a,0,5,4)    \n",
    "    "
   ]
  },
  {
   "cell_type": "markdown",
   "metadata": {},
   "source": [
    "#### chocolate distribution problem"
   ]
  },
  {
   "cell_type": "code",
   "execution_count": 216,
   "metadata": {},
   "outputs": [
    {
     "name": "stdout",
     "output_type": "stream",
     "text": [
      "2\n"
     ]
    }
   ],
   "source": [
    "a = [7,3,2,4,9,12,56]\n",
    "\n",
    "def min_diff(a, m):\n",
    "    n = len(a)\n",
    "    if m>n:\n",
    "        return -1\n",
    "    a.sort()\n",
    "    res = a[m-1] - a[0]\n",
    "    for i in range(1,n-m+1):\n",
    "        ans = a[i+m-1] - a[i]\n",
    "        res = min(ans, res)\n",
    "    print(res)\n",
    "min_diff(a,3)"
   ]
  },
  {
   "cell_type": "code",
   "execution_count": 198,
   "metadata": {},
   "outputs": [
    {
     "data": {
      "text/plain": [
       "[2, 3, 4, 7, 9, 12, 56]"
      ]
     },
     "execution_count": 198,
     "metadata": {},
     "output_type": "execute_result"
    }
   ],
   "source": [
    "\n",
    "a.sort()\n",
    "a"
   ]
  },
  {
   "cell_type": "markdown",
   "metadata": {},
   "source": [
    "### finding the minimum of two numbers"
   ]
  },
  {
   "cell_type": "code",
   "execution_count": 2,
   "metadata": {},
   "outputs": [
    {
     "data": {
      "text/plain": [
       "2"
      ]
     },
     "execution_count": 2,
     "metadata": {},
     "output_type": "execute_result"
    }
   ],
   "source": [
    "import sys\n",
    "a = [3,10,12,20]\n",
    "\n",
    "def find_min(a):\n",
    "    a.sort()\n",
    "    res = sys.maxsize\n",
    "    for i in range(len(a)-1):\n",
    "        diff = a[i+1] - a[i]\n",
    "        res = min(diff,res)\n",
    "    return res\n",
    "\n",
    "find_min(a)"
   ]
  },
  {
   "cell_type": "markdown",
   "metadata": {},
   "source": [
    "#### sorting an array in 2 section"
   ]
  },
  {
   "cell_type": "code",
   "execution_count": 3,
   "metadata": {},
   "outputs": [
    {
     "name": "stdout",
     "output_type": "stream",
     "text": [
      "[-12, -10, 15, 18]\n"
     ]
    }
   ],
   "source": [
    "a = [-12,18,-10,15]\n",
    "\n",
    "def partition(a, low, hi):\n",
    "    i = 0\n",
    "    j = 0\n",
    "    pivot = a[hi]\n",
    "    for i in range(len(a)):\n",
    "        if a[i]<=pivot:\n",
    "            a[i],a[j] = a[j],a[i]\n",
    "            j+=1\n",
    "    print(a)\n",
    "    \n",
    "partition(a,0,len(a)-1)"
   ]
  },
  {
   "cell_type": "markdown",
   "metadata": {},
   "source": [
    "### Sorting into three ways partition around pivot"
   ]
  },
  {
   "cell_type": "code",
   "execution_count": 14,
   "metadata": {},
   "outputs": [
    {
     "name": "stdout",
     "output_type": "stream",
     "text": [
      "[-1, 0, 1, 2, 1, 1, 1, 2, 3, 4, 9, 8, 10, 34, 22]\n"
     ]
    }
   ],
   "source": [
    "a = [-1,0,1,2,1,1,1,2,3,4,9,8,10,34,22]\n",
    "\n",
    "def sort_3way(a,k1,k2):\n",
    "    low = 0\n",
    "    high = len(a)-1\n",
    "    \n",
    "    for i in range(len(a)):\n",
    "        if a[i]<=k1:\n",
    "            a[i],a[low]=a[low],a[i]\n",
    "            low+=1\n",
    "    for i in range(len(a)):\n",
    "        \n",
    "        if a[i]>k2:\n",
    "            a[i],a[high]=a[high],a[i]\n",
    "            high -=1\n",
    "    print(a)\n",
    "\n",
    "sort_3way(a,2,9)\n",
    "            \n"
   ]
  },
  {
   "cell_type": "markdown",
   "metadata": {},
   "source": [
    "#### split the subarray according to the given sum"
   ]
  },
  {
   "cell_type": "code",
   "execution_count": 1,
   "metadata": {},
   "outputs": [
    {
     "data": {
      "text/plain": [
       "3"
      ]
     },
     "execution_count": 1,
     "metadata": {},
     "output_type": "execute_result"
    }
   ],
   "source": [
    "a = [ 1 , 2 , 3 , 4 , 5 , 5  ]\n",
    "### here array must be sorted\n",
    "def split(a):\n",
    "    left_sum = 0\n",
    "    for i in range(len(a)):\n",
    "        left_sum += a[i]\n",
    "        right_sum = 0\n",
    "        for j in range(i+1, len(a)):\n",
    "            right_sum += a[j]\n",
    "        \n",
    "        if right_sum == left_sum:\n",
    "            return i\n",
    "    return -1\n",
    "\n",
    "split(a)\n",
    "            "
   ]
  },
  {
   "cell_type": "markdown",
   "metadata": {},
   "source": [
    "#### counting the number of triangles"
   ]
  },
  {
   "cell_type": "code",
   "execution_count": 73,
   "metadata": {},
   "outputs": [
    {
     "data": {
      "text/plain": [
       "10"
      ]
     },
     "execution_count": 73,
     "metadata": {},
     "output_type": "execute_result"
    }
   ],
   "source": [
    "a = [6,4,9,8,6]\n",
    "def count_triangle(a):\n",
    "    a.sort()\n",
    "    count = 0\n",
    "    for i in range(0, len(a)-2):\n",
    "        k = i+2\n",
    "        for j in range(i+1, len(a)):\n",
    "            while k<len(a) and a[k]<(a[i]+a[j]):\n",
    "                k+=1\n",
    "                \n",
    "            count += k-j-1\n",
    "            \n",
    "\n",
    "    return count\n",
    "#             if(k>j):\n",
    "#                 count += k - j - 1    \n",
    "count_triangle(a)"
   ]
  },
  {
   "cell_type": "code",
   "execution_count": 76,
   "metadata": {},
   "outputs": [
    {
     "data": {
      "text/plain": [
       "10"
      ]
     },
     "execution_count": 76,
     "metadata": {},
     "output_type": "execute_result"
    }
   ],
   "source": [
    "a = [6,4,9,8,6]\n",
    "\n",
    "def count_triangle(a):\n",
    "    a.sort()\n",
    "    count = 0\n",
    "    for i in range(0, n-2):\n",
    "        for j in range(i+1, len(a)):\n",
    "            k = j+1\n",
    "            while k< len(a) and  a[k]<(a[i]+a[j]):\n",
    "                count+=1\n",
    "                k+=1\n",
    "            \n",
    "               \n",
    "                \n",
    "            \n",
    "\n",
    "    return count\n",
    "#             if(k>j):\n",
    "#                 count += k - j - 1    \n",
    "count_triangle(a)"
   ]
  },
  {
   "cell_type": "code",
   "execution_count": 87,
   "metadata": {},
   "outputs": [
    {
     "data": {
      "text/plain": [
       "89"
      ]
     },
     "execution_count": 87,
     "metadata": {},
     "output_type": "execute_result"
    }
   ],
   "source": [
    "#### finding the median of array sorted\n",
    "a = [90, 100 ,78, 89, 67]\n",
    "\n",
    "def median_find(a):\n",
    "    a.sort()\n",
    "    if len(a)%2!=0:\n",
    "        mid = len(a)//2\n",
    "        return a[mid]\n",
    "    else:\n",
    "        return (a[k]+a[k-1])/2\n",
    "median_find(a)"
   ]
  },
  {
   "cell_type": "code",
   "execution_count": 50,
   "metadata": {},
   "outputs": [
    {
     "name": "stdout",
     "output_type": "stream",
     "text": [
      "[7, 10, 4, 3, 15, 20]\n",
      "0 5 20\n",
      "[7, 10, 4, 3, 15, 20]\n",
      "0 4 15\n",
      "[3, 10, 4, 7, 15, 20]\n",
      "0 3 3\n",
      "[3, 4, 7, 10, 15, 20]\n",
      "1 3 7\n"
     ]
    },
    {
     "data": {
      "text/plain": [
       "(2, 7)"
      ]
     },
     "execution_count": 50,
     "metadata": {},
     "output_type": "execute_result"
    }
   ],
   "source": [
    "a = [7,10,4,3,15,20]\n",
    "# finding the 3rd smallest element \n",
    "def partition(a, l,r):\n",
    "    pivot = a[r]\n",
    "    i = l\n",
    "    j = l\n",
    "    while i<=r:\n",
    "        if a[i]<=pivot:\n",
    "            a[i],a[j] = a[j],a[i]\n",
    "            j+=1\n",
    "        i+=1\n",
    "    print(a)\n",
    "    return j-1\n",
    "\n",
    "def smallest(a,l,r,k):\n",
    "    \n",
    "    while l<=r:\n",
    "        pvt_idx = partition(a,l,r)\n",
    "        print(l,r,a[pvt_idx])\n",
    "\n",
    "        if pvt_idx == k-1:\n",
    "            return (pvt_idx,a[pvt_idx])\n",
    "        if pvt_idx>k-1:\n",
    "            r = pvt_idx-1\n",
    "        if pvt_idx<k-1:\n",
    "            l = pvt_idx+1\n",
    "            \n",
    "smallest(a,0,5,3)\n",
    "        "
   ]
  },
  {
   "cell_type": "code",
   "execution_count": 51,
   "metadata": {},
   "outputs": [
    {
     "name": "stdout",
     "output_type": "stream",
     "text": [
      "[3, 4, 10, 7, 15, 20]\n"
     ]
    },
    {
     "data": {
      "text/plain": [
       "1"
      ]
     },
     "execution_count": 51,
     "metadata": {},
     "output_type": "execute_result"
    }
   ],
   "source": [
    "a = [3, 10, 4, 7, 15, 20]\n",
    "\n",
    "partition(a,0,2)"
   ]
  },
  {
   "cell_type": "code",
   "execution_count": 52,
   "metadata": {},
   "outputs": [
    {
     "name": "stdout",
     "output_type": "stream",
     "text": [
      "[3, 4, 10, 7, 15, 20]\n",
      "[3, 4, 10, 7, 15, 20]\n",
      "[3, 4, 7, 10, 15, 20]\n",
      "[3, 4, 7, 10, 15, 20]\n",
      "[3, 4, 7, 10, 15, 20]\n",
      "[3, 4, 7, 10, 15, 20]\n",
      "[3, 4, 7, 10, 15, 20]\n",
      "[3, 4, 7, 10, 15, 20]\n",
      "[3, 4, 7, 10, 15, 20]\n",
      "[3, 4, 7, 10, 15, 20]\n"
     ]
    }
   ],
   "source": [
    "def quicksort(a,l,r):\n",
    "    if l==r:\n",
    "        return\n",
    "    \n",
    "    if l<r:\n",
    "        pvt_idx = partition(a,l,r)\n",
    "        quicksort(a,l,pvt_idx-1)\n",
    "        quicksort(a,pvt_idx,r)\n",
    "    print(a)\n",
    "quicksort(a,0,5)"
   ]
  },
  {
   "cell_type": "markdown",
   "metadata": {},
   "source": [
    "### Count Sort algo ( stable algorithm) for maximum number of values having low range"
   ]
  },
  {
   "cell_type": "code",
   "execution_count": 145,
   "metadata": {},
   "outputs": [],
   "source": [
    "import sys\n",
    "a = [9,6,3,5,3,4,3,9,6,4,6,5,8,9,9]\n",
    "\n",
    "def max_min(a):\n",
    "    min_value = sys.maxsize\n",
    "    max_value = -sys.maxsize\n",
    "    for i in a:\n",
    "        max_value = max(i, max_value)\n",
    "        min_value = min(i, min_value)\n",
    "    return max_value, min_value\n",
    "\n",
    "max_value, min_value = max_min(a)\n",
    "\n",
    "def countsort(a, min_value,max_value):\n",
    "    record  = [0]*(max_value-min_value+1)\n",
    "    ans =[0]*len(a)\n",
    "    \n",
    "    for i in a:\n",
    "        record[i-min_value]+=1\n",
    "        \n",
    "    ### build the prefix sum\n",
    "    for i in range(1,len(record)):\n",
    "        record[i] = record[i]+record[i-1]\n",
    "    for i in range(len(record)):\n",
    "        record[i] -= 1\n",
    "        \n",
    "    print(record)\n",
    "    \n",
    "    for i in reversed(a):\n",
    "        idx = record[i-min_value]\n",
    "        ans[idx] = i\n",
    "        record[i-min_value] -=1\n",
    "    \n",
    "    return ans\n",
    "\n"
   ]
  },
  {
   "cell_type": "code",
   "execution_count": 146,
   "metadata": {},
   "outputs": [
    {
     "name": "stdout",
     "output_type": "stream",
     "text": [
      "[-1, -1, -1, -1, 0, 0, 0, 0, 0, 0, 0, 1, 1, 1, 1, 1, 1, 1, 1, 2, 2, 2, 2, 2, 2, 2, 2, 2, 2, 2, 2]\n"
     ]
    },
    {
     "data": {
      "text/plain": [
       "[5, 12, 20]"
      ]
     },
     "execution_count": 146,
     "metadata": {},
     "output_type": "execute_result"
    }
   ],
   "source": [
    "countsort([12,20,5], 1,31)"
   ]
  },
  {
   "cell_type": "markdown",
   "metadata": {},
   "source": [
    "#### Sorting dates \n",
    "\n",
    "All dates are between year 0 to year 2500"
   ]
  },
  {
   "cell_type": "code",
   "execution_count": 160,
   "metadata": {},
   "outputs": [
    {
     "name": "stdout",
     "output_type": "stream",
     "text": [
      "['3101800', '12041996', '20101996', '16051997', '5061997', '18042000']\n"
     ]
    }
   ],
   "source": [
    "arr=['12041996',\n",
    "       '20101996',\n",
    "       '05061997',\n",
    "    '18042000',\n",
    "    '16051997',\n",
    "    '3101800']\n",
    "\n",
    "def countsort(arr, d, mod, r):\n",
    "    # d means dividing number\n",
    "    # mod modulus number \n",
    "    # r is range\n",
    "    # write your code here\n",
    "    min_value = r[0]\n",
    "    max_value = r[1]\n",
    "\n",
    "    f_size = max_value - min_value +1\n",
    "    freq_array = [0]*f_size\n",
    "    \n",
    "    for i in range(0, len(arr)):\n",
    "        idx = int(arr[i])//d%mod -min_value\n",
    "        freq_array[idx] +=1\n",
    "    \n",
    "    # prefix sum \n",
    "    for i in range(1, len(freq_array)):\n",
    "        freq_array[i] = freq_array[i-1]+freq_array[i]\n",
    "        \n",
    "    for i in range(len(freq_array)):\n",
    "        freq_array[i]-=1\n",
    "        \n",
    "    \n",
    "    ans = [0]*len(arr)\n",
    "    for i in reversed(range(len(arr))):\n",
    "        idx =  freq_array[int(arr[i])//d%mod -min_value]\n",
    "        \n",
    "        ans[idx] = arr[i]\n",
    "        freq_array[int(arr[i])//d%mod -min_value]-=1\n",
    "    return ans\n",
    "    \n",
    "\n",
    "def sortDates(arr):\n",
    "    # write your code here\n",
    "    date_sorted = countsort(arr,10**6,10**2 ,[1,31]) # days\n",
    "    month_sorted = countsort(date_sorted,10**4, 10**2, [1,12]) # months\n",
    "    year_sorted = countsort(month_sorted, 1, 10**4,[1800,2300]) # years \n",
    "    print(year_sorted)\n",
    "\n",
    "sortDates(arr)"
   ]
  },
  {
   "cell_type": "code",
   "execution_count": 110,
   "metadata": {},
   "outputs": [
    {
     "data": {
      "text/plain": [
       "4"
      ]
     },
     "execution_count": 110,
     "metadata": {},
     "output_type": "execute_result"
    }
   ],
   "source": [
    "12041996//10000%100"
   ]
  },
  {
   "cell_type": "code",
   "execution_count": 83,
   "metadata": {},
   "outputs": [
    {
     "data": {
      "text/plain": [
       "12"
      ]
     },
     "execution_count": 83,
     "metadata": {},
     "output_type": "execute_result"
    }
   ],
   "source": [
    "12041996//10**6%10**2"
   ]
  },
  {
   "cell_type": "code",
   "execution_count": 85,
   "metadata": {},
   "outputs": [
    {
     "data": {
      "text/plain": [
       "1996"
      ]
     },
     "execution_count": 85,
     "metadata": {},
     "output_type": "execute_result"
    }
   ],
   "source": [
    "12041996//1%10**4"
   ]
  },
  {
   "cell_type": "code",
   "execution_count": 98,
   "metadata": {},
   "outputs": [
    {
     "data": {
      "text/plain": [
       "6"
      ]
     },
     "execution_count": 98,
     "metadata": {},
     "output_type": "execute_result"
    }
   ],
   "source": [
    "int('05061997')//10**4%10**2"
   ]
  },
  {
   "cell_type": "code",
   "execution_count": 124,
   "metadata": {},
   "outputs": [
    {
     "data": {
      "text/plain": [
       "11"
      ]
     },
     "execution_count": 124,
     "metadata": {},
     "output_type": "execute_result"
    }
   ],
   "source": [
    "int('11081987')//10**6%10**2\n"
   ]
  },
  {
   "cell_type": "markdown",
   "metadata": {},
   "source": [
    "### Target sum pair \n",
    "\n",
    "find the pair of number having sum == s in less than O(n**2) time complexity"
   ]
  },
  {
   "cell_type": "code",
   "execution_count": 167,
   "metadata": {},
   "outputs": [
    {
     "name": "stdout",
     "output_type": "stream",
     "text": [
      "3 12\n",
      "4 11\n",
      "6 9\n"
     ]
    }
   ],
   "source": [
    "a =[7,15,3,18,6,4,19,2,12,11,9]\n",
    "\n",
    "def target_sum_pair(a, target):\n",
    "    a.sort()\n",
    "    l = 0\n",
    "    r = len(a)-1\n",
    "    \n",
    "    while l<=r:\n",
    "        \n",
    "        if a[l]+a[r]>target:\n",
    "            r-=1\n",
    "        if a[l]+a[r]<target:\n",
    "            l+=1\n",
    "        if a[l]+a[r] == target:\n",
    "            print(a[l],a[r])\n",
    "            l+=1\n",
    "            r -=1\n",
    "            \n",
    "target_sum_pair(a,15)"
   ]
  },
  {
   "cell_type": "markdown",
   "metadata": {},
   "source": [
    "### Finding the pivot of rotated sorted array "
   ]
  },
  {
   "cell_type": "code",
   "execution_count": 172,
   "metadata": {},
   "outputs": [
    {
     "data": {
      "text/plain": [
       "10"
      ]
     },
     "execution_count": 172,
     "metadata": {},
     "output_type": "execute_result"
    }
   ],
   "source": [
    "arr = [20,30,40,50,10]\n",
    "\n",
    "def findPivot(arr):\n",
    "    low = 0\n",
    "    high = len(arr)-1\n",
    "    \n",
    "    while low<high:\n",
    "        mid = int((low+high)/2)\n",
    "\n",
    "        if arr[mid]<arr[high]:\n",
    "            high = mid\n",
    "            \n",
    "        if arr[mid]>arr[high]:\n",
    "            low = mid+1\n",
    "        \n",
    "    return arr[high]\n",
    "\n",
    "findPivot(arr)\n",
    "        "
   ]
  },
  {
   "cell_type": "code",
   "execution_count": 179,
   "metadata": {},
   "outputs": [
    {
     "data": {
      "text/plain": [
       "[0, 0, 0, 1, 1, 1, 1, 1]"
      ]
     },
     "execution_count": 179,
     "metadata": {},
     "output_type": "execute_result"
    }
   ],
   "source": [
    "a =[0,1,0,1,0,1,1,1]\n",
    "\n",
    "def sort_01(a):\n",
    "    low = 0\n",
    "    high = len(a)-1\n",
    "    i = 0\n",
    "    while low<high:\n",
    "        if a[i] == 0:\n",
    "            i+=1\n",
    "            low+=1\n",
    "        if a[i] ==1:\n",
    "            a[i],a[high] = a[high] ,a[i]\n",
    "            high-=1\n",
    "            \n",
    "    return a\n",
    "\n",
    "sort_01(a)"
   ]
  },
  {
   "cell_type": "markdown",
   "metadata": {},
   "source": [
    "### Lumotu partitioning of an array\n",
    "\n",
    "here last index is the partition"
   ]
  },
  {
   "cell_type": "code",
   "execution_count": 268,
   "metadata": {},
   "outputs": [
    {
     "name": "stdout",
     "output_type": "stream",
     "text": [
      "[3, 4, 1, 2, 5, 8, 7, 6]\n",
      "4\n"
     ]
    }
   ],
   "source": [
    "a = [3,8,4,7,6,1,2,5]\n",
    "\n",
    "def partition(a, pvt):\n",
    "    i = 0\n",
    "    j = 0\n",
    "### taking 3 region \n",
    "### less than pvt 0 <-> j-1\n",
    "### greter than pvt j <---> i-1\n",
    "###  unknow i <----> end\n",
    "    while i<len(a):\n",
    "\n",
    "        if a[i]>pvt:\n",
    "            i+=1\n",
    "\n",
    "        elif a[i]<=pvt:\n",
    "            a[i], a[j] = a[j],a[i]\n",
    "            i+=1\n",
    "\n",
    "            j+=1\n",
    "    print(a)\n",
    "    print(j-1)\n",
    "partition(a, 5)"
   ]
  },
  {
   "cell_type": "markdown",
   "metadata": {},
   "source": [
    "#### partition at any index"
   ]
  },
  {
   "cell_type": "code",
   "execution_count": 8,
   "metadata": {},
   "outputs": [
    {
     "data": {
      "text/plain": [
       "3"
      ]
     },
     "execution_count": 8,
     "metadata": {},
     "output_type": "execute_result"
    }
   ],
   "source": [
    "a = [3,8,4,7,6,1,2,5]\n",
    "def partition_at_any_index(a, pvt_index):\n",
    "    i = 0\n",
    "    j = 0\n",
    "    a[pvt_index],a[-1] = a[-1],a[pvt_index] # converting back into lumotu partition\n",
    "    pvt_index = len(a)-1\n",
    "    while i<len(a):\n",
    "        \n",
    "        if a[i]>a[pvt_index]:\n",
    "            i+=1\n",
    "        else:\n",
    "            a[i],a[j] = a[j],a[i]\n",
    "            i+=1\n",
    "            j+=1\n",
    "#     print(a)\n",
    "    return j-1\n",
    "\n",
    "partition_at_any_index(a,2)"
   ]
  },
  {
   "cell_type": "code",
   "execution_count": 9,
   "metadata": {},
   "outputs": [
    {
     "name": "stdout",
     "output_type": "stream",
     "text": [
      "[-30, -1, 1, 2, 3, 4, 5, 6, 7, 8]\n"
     ]
    }
   ],
   "source": [
    "a = [-30,3,8,4,7,6,1,2,5,-1]\n",
    "\n",
    "def quicksort(a):\n",
    "    for i in range(len(a)):\n",
    "        partition_at_any_index(a, i)\n",
    "        \n",
    "    print(a)\n",
    "    \n",
    "quicksort(a)"
   ]
  },
  {
   "cell_type": "code",
   "execution_count": 1,
   "metadata": {},
   "outputs": [
    {
     "name": "stdout",
     "output_type": "stream",
     "text": [
      "[2, 8, 4, 5, 7, 3, 3, 3, 3]\n"
     ]
    }
   ],
   "source": [
    "a = [2,3,4,5,8,7,3,3,3]\n",
    "\n",
    "def seggregate(a):\n",
    "    i = 0\n",
    "    j = len(a)-1\n",
    "    while i<=j:\n",
    "        if a[i]%2 !=0:\n",
    "            a[i],a[j] = a[j],a[i]\n",
    "            j-=1\n",
    "        else:\n",
    "            #### means even \n",
    "            i+=1\n",
    "            \n",
    "    print(a)\n",
    "    \n",
    "seggregate(a)\n",
    "            "
   ]
  },
  {
   "cell_type": "markdown",
   "metadata": {},
   "source": [
    "### pivot"
   ]
  },
  {
   "cell_type": "code",
   "execution_count": 62,
   "metadata": {},
   "outputs": [
    {
     "name": "stdout",
     "output_type": "stream",
     "text": [
      "[-1, 2, 3, 4, 6, 8, 7, 9, 12, 32, 16]\n",
      "[-1, 2, 3, 4, 6, 7, 8, 9, 12, 32, 16]\n",
      "[-1, 2, 3, 4, 6, 7, 8, 9, 12, 32, 16]\n",
      "[-1, 2, 3, 4, 6, 7, 8, 9, 12, 32, 16]\n",
      "[-1, 2, 3, 4, 6, 7, 8, 9, 12, 32, 16]\n",
      "[-1, 2, 3, 4, 6, 7, 8, 9, 12, 16, 32]\n",
      "[-1, 2, 3, 4, 6, 7, 8, 9, 12, 16, 32]\n"
     ]
    }
   ],
   "source": [
    "a = [7,9,4,8,-1,3,6,2,16,32,12]\n",
    "\n",
    "def partition(a,left, right):\n",
    "    pivot = right\n",
    "    ### 0-j-1 --> samller or equal to pivot \n",
    "    ### j-i-1 ---> bigger than pivot \n",
    "    #### unknow ( i - end)\n",
    "    i = left\n",
    "    j = left\n",
    "    while i<=right:\n",
    "        if a[i]<=a[pivot]:\n",
    "            a[i],a[j] = a[j],a[i]\n",
    "            i+=1\n",
    "            j+=1\n",
    "        elif a[i]>a[pivot]:\n",
    "            i+=1\n",
    "#     print(a)\n",
    "    return(j-1)\n",
    "\n",
    "\n",
    "# partition(a,0,len(a)-1) \n",
    "# def quicksort(a,left,right):\n",
    "#     for i in range(len(a)):\n",
    "#         a[right],a[i] = a[i],a[right]\n",
    "#         partition(a, left,right)\n",
    "#     print(a)\n",
    "\n",
    "def quicksort(a,left,right):\n",
    "    if left >= right:\n",
    "        return\n",
    "    if left<right:\n",
    "        pvt_index = partition(a,left,right)\n",
    "        quicksort(a,left,pvt_index-1)\n",
    "        quicksort(a,pvt_index+1,right)\n",
    "    print(a)\n",
    "    \n",
    "quicksort(a,0,len(a)-1)"
   ]
  },
  {
   "cell_type": "raw",
   "metadata": {},
   "source": []
  }
 ],
 "metadata": {
  "kernelspec": {
   "display_name": "Python 3",
   "language": "python",
   "name": "python3"
  },
  "language_info": {
   "codemirror_mode": {
    "name": "ipython",
    "version": 3
   },
   "file_extension": ".py",
   "mimetype": "text/x-python",
   "name": "python",
   "nbconvert_exporter": "python",
   "pygments_lexer": "ipython3",
   "version": "3.8.5"
  }
 },
 "nbformat": 4,
 "nbformat_minor": 5
}
