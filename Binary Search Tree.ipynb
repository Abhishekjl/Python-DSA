{
 "cells": [
  {
   "cell_type": "markdown",
   "metadata": {},
   "source": [
    "#### constructing a binary search tree"
   ]
  },
  {
   "cell_type": "code",
   "execution_count": 234,
   "metadata": {},
   "outputs": [],
   "source": [
    "array  = [12,25,37,40,62,75,87]\n",
    "\n",
    "class Node:\n",
    "    def __init__(self, data, left , right):\n",
    "        self.data = data\n",
    "        self.right = right\n",
    "        self.left = left\n",
    "        \n",
    "    def minValueNode(self):\n",
    "        \"\"\"this return the min value node\"\"\"\n",
    "        current = self\n",
    "        while current.left is not None:\n",
    "            current = current.left\n",
    "        return current\n",
    "    \n",
    "    def maxValueNode(self):\n",
    "        \"\"\"return the maximum bst node\"\"\"\n",
    "        current = self\n",
    "        while current.right is not None:\n",
    "            current  = current.right\n",
    "        return current\n",
    "    \n",
    "    def Size_bst(self):\n",
    "        size = 0\n",
    "        if self!=None:\n",
    "            size+=1\n",
    "            if self.left!=None:\n",
    "                size+=self.left.Size_bst()\n",
    "                \n",
    "            if self.right!= None:\n",
    "                size += self.right.Size_bst()\n",
    "        return size \n",
    "    \n",
    "    def sum_bst(self):\n",
    "        sum_var = 0\n",
    "        if self!= None:\n",
    "            sum_var+= self.data\n",
    "            if self.left!=None:\n",
    "                sum_var += self.left.sum_bst()\n",
    "            if self.right!= None:\n",
    "                sum_var += self.right.sum_bst()\n",
    "        return sum_var\n",
    "    \n",
    "    def find(self, key):\n",
    "        if self == None:\n",
    "            print('Not found')\n",
    "            return\n",
    "        if key == self.data:\n",
    "            print('value found ')\n",
    "            return\n",
    "        \n",
    "        elif key > self.data:\n",
    "            self.right.find(key)\n",
    "        else:\n",
    "            self.left.find(key)\n",
    "            \n",
    "    def insert(self,value):\n",
    "        if self == None:\n",
    "            self.data = value\n",
    "        if self.data == value:\n",
    "            return\n",
    "            \n",
    "        elif value> self.data:\n",
    "            ## add in the right \n",
    "            if self.right is None:\n",
    "                self.right = Node(value,None,None)\n",
    "            else:\n",
    "                self.right.insert(value)\n",
    "        else:\n",
    "            if self.left is None:\n",
    "                self.left  = Node(value,None,None)\n",
    "            else:\n",
    "                self.left.insert(value)\n",
    "        return('added succesfully')\n",
    "    \n",
    "    def deepestNode(self):\n",
    "        queue = []\n",
    "        if not self:\n",
    "            return \n",
    "        else:\n",
    "            queue.append(self)\n",
    "            while len(queue) != 0:\n",
    "                root = queue.pop(0)\n",
    "                if root.left is not None:\n",
    "                    queue.append(root.left)\n",
    "                if root.right is not None:\n",
    "                    queue.append(root.right)\n",
    "            return root\n",
    "    \n",
    "    def inordertraversal(self):\n",
    "        if not self:\n",
    "            return\n",
    "        \n",
    "        try:\n",
    "            self.left.inordertraversal()\n",
    "        except:\n",
    "            pass\n",
    "        print(self.data)\n",
    "        try:\n",
    "            self.right.inordertraversal()\n",
    "        except:\n",
    "            pass\n",
    "        \n",
    "        \n",
    "        \n",
    "    \n",
    "    def levelordertraversal(self):\n",
    "        if self is None:\n",
    "            return \n",
    "        else:\n",
    "            queue = []\n",
    "            queue.append(self)\n",
    "            while len(queue)!=0:\n",
    "                node = queue.pop(0)\n",
    "                print(node.data)\n",
    "                if node.left is not None:\n",
    "                    queue.append(node.left)\n",
    "                if node.right is not None:\n",
    "                    queue.append(node.right)\n",
    "def deleteNode(rootNode, nodevalue):\n",
    "    if rootNode is None:\n",
    "        return None\n",
    "    if nodevalue< rootNode.data:\n",
    "        rootNode.left = deleteNode(rootNode.left,nodevalue)\n",
    "    elif nodevalue> rootNode.data:\n",
    "        rootNode.right = deleteNode(rootNode.right,nodevalue)\n",
    "    else:\n",
    "        if rootNode.left != None and rootNode.right != None:\n",
    "            # 2 children\n",
    "            lmax = rootNode.left.maxValueNode().data\n",
    "            rootNode.data  = lmax\n",
    "        \n",
    "            rootNode.left = deleteNode(rootNode.left,lmax)\n",
    "            \n",
    "        elif rootNode.left != None:\n",
    "            # left node\n",
    "            return rootNode.left\n",
    "        elif rootNode.right != None:\n",
    "            return rootNode.right \n",
    "        else:\n",
    "            return None\n",
    "    return rootNode\n",
    "   \n",
    "                \n",
    "        \n",
    "        \n",
    "            \n",
    "sum_v = 0\n",
    "def replacewithsum(root):\n",
    "    if root == None:\n",
    "        return \n",
    "    global sum_v\n",
    "    replacewithsum(root.right)\n",
    "    \n",
    "    ov = root.data\n",
    "    root.data = sum_v\n",
    "    sum_v += ov\n",
    "    \n",
    "    \n",
    "    \n",
    "    replacewithsum(root.left)\n",
    "    \n",
    "\n",
    "   \n",
    "        \n",
    "        \n",
    "    \n",
    "def construct(arr, lo, hi):\n",
    "    if lo>hi:\n",
    "        return None\n",
    "    mid = int((lo+hi)/2)\n",
    "    lchild  = construct(arr, lo, mid-1)\n",
    "    rchild  = construct(arr, mid+1, hi)\n",
    "    root = Node(arr[mid], lchild, rchild)\n",
    "    return root\n",
    "def sum_bst(node):\n",
    "    if node==None:\n",
    "        return 0\n",
    "    rs = sum_bst(node.right)\n",
    "    ls = sum_bst(node.left)\n",
    "    ts = rs+ls+node.data\n",
    "    return ts\n",
    "        \n",
    "def max_bst(node):\n",
    "    if node == None:\n",
    "        return 0\n",
    "    rm = max_bst(node.right)\n",
    "    tm = max(rm,node.data)\n",
    "    return tm\n",
    "\n",
    "\n",
    "bst = construct(array, 0 , len(array)-1)"
   ]
  },
  {
   "cell_type": "markdown",
   "metadata": {},
   "source": [
    "### finding lowest common anciestor "
   ]
  },
  {
   "cell_type": "code",
   "execution_count": 244,
   "metadata": {},
   "outputs": [],
   "source": [
    "def lca(root, n1, n2):\n",
    "#     if root == None:\n",
    "#         return \n",
    "    \n",
    "    if root.data > n1 and root.data > n2:\n",
    "        # go in the left child \n",
    "        return  lca(root.left, n1, n2)\n",
    "    elif root.data < n1 and root.data < n2:\n",
    "        return lca(root.right, n1, n2)\n",
    "        \n",
    "    else:\n",
    "        return root.data"
   ]
  },
  {
   "cell_type": "code",
   "execution_count": 245,
   "metadata": {},
   "outputs": [
    {
     "data": {
      "text/plain": [
       "25"
      ]
     },
     "execution_count": 245,
     "metadata": {},
     "output_type": "execute_result"
    }
   ],
   "source": [
    "bst.left.data"
   ]
  },
  {
   "cell_type": "code",
   "execution_count": 246,
   "metadata": {
    "scrolled": true
   },
   "outputs": [
    {
     "name": "stdout",
     "output_type": "stream",
     "text": [
      "40\n",
      "25\n",
      "75\n",
      "12\n",
      "37\n",
      "62\n",
      "87\n"
     ]
    }
   ],
   "source": [
    "bst.levelordertraversal()"
   ]
  },
  {
   "cell_type": "code",
   "execution_count": 248,
   "metadata": {},
   "outputs": [
    {
     "data": {
      "text/plain": [
       "25"
      ]
     },
     "execution_count": 248,
     "metadata": {},
     "output_type": "execute_result"
    }
   ],
   "source": [
    "lca(bst, 12,37)"
   ]
  },
  {
   "cell_type": "code",
   "execution_count": 229,
   "metadata": {},
   "outputs": [
    {
     "data": {
      "text/plain": [
       "'added succesfully'"
      ]
     },
     "execution_count": 229,
     "metadata": {},
     "output_type": "execute_result"
    }
   ],
   "source": [
    "bst.insert(16)"
   ]
  },
  {
   "cell_type": "code",
   "execution_count": 230,
   "metadata": {},
   "outputs": [
    {
     "data": {
      "text/plain": [
       "8"
      ]
     },
     "execution_count": 230,
     "metadata": {},
     "output_type": "execute_result"
    }
   ],
   "source": [
    "bst.Size_bst()"
   ]
  },
  {
   "cell_type": "code",
   "execution_count": 233,
   "metadata": {
    "scrolled": true
   },
   "outputs": [
    {
     "name": "stdout",
     "output_type": "stream",
     "text": [
      "342\n",
      "326\n",
      "301\n",
      "264\n",
      "224\n",
      "162\n",
      "87\n",
      "0\n"
     ]
    }
   ],
   "source": [
    "bst.inordertraversal()"
   ]
  },
  {
   "cell_type": "code",
   "execution_count": 232,
   "metadata": {},
   "outputs": [],
   "source": [
    "replacewithsum(bst)"
   ]
  },
  {
   "cell_type": "code",
   "execution_count": 217,
   "metadata": {},
   "outputs": [
    {
     "data": {
      "text/plain": [
       "354"
      ]
     },
     "execution_count": 217,
     "metadata": {},
     "output_type": "execute_result"
    }
   ],
   "source": [
    "bst.sum_bst()"
   ]
  },
  {
   "cell_type": "code",
   "execution_count": 218,
   "metadata": {},
   "outputs": [
    {
     "data": {
      "text/plain": [
       "<__main__.Node at 0x2495a800ee0>"
      ]
     },
     "execution_count": 218,
     "metadata": {},
     "output_type": "execute_result"
    }
   ],
   "source": [
    "deleteNode(bst,16)"
   ]
  },
  {
   "cell_type": "code",
   "execution_count": 186,
   "metadata": {},
   "outputs": [
    {
     "data": {
      "text/plain": [
       "16"
      ]
     },
     "execution_count": 186,
     "metadata": {},
     "output_type": "execute_result"
    }
   ],
   "source": [
    "bst.deepestNode().data"
   ]
  },
  {
   "cell_type": "markdown",
   "metadata": {},
   "source": [
    "### print in range"
   ]
  },
  {
   "cell_type": "code",
   "execution_count": 249,
   "metadata": {},
   "outputs": [],
   "source": [
    "#### range will be given and we have to traverse inorder\n",
    "def print_in_range(node, d1, d2):\n",
    "    if node == None:\n",
    "        return \n",
    "    if node.data  < d1 and node.data < d2:\n",
    "        print_in_range(node.right, d1, d2)\n",
    "    elif node.data > d1 and node.data > d2:\n",
    "        print_in_range(node.left, d1, d2)\n",
    "    else:\n",
    "        print_in_range(node.left, d1,d2)\n",
    "        print(node.data)\n",
    "        print_in_range(node.right, d1, d2)"
   ]
  },
  {
   "cell_type": "code",
   "execution_count": 251,
   "metadata": {
    "scrolled": true
   },
   "outputs": [
    {
     "name": "stdout",
     "output_type": "stream",
     "text": [
      "25\n",
      "37\n",
      "40\n",
      "62\n",
      "75\n"
     ]
    }
   ],
   "source": [
    "print_in_range(bst,25,80)"
   ]
  },
  {
   "cell_type": "markdown",
   "metadata": {},
   "source": [
    "### target sum pair in  BST "
   ]
  },
  {
   "cell_type": "code",
   "execution_count": null,
   "metadata": {},
   "outputs": [],
   "source": []
  },
  {
   "cell_type": "code",
   "execution_count": 70,
   "metadata": {},
   "outputs": [],
   "source": [
    "class BSTNode:\n",
    "    def __init__(self, data):\n",
    "        self.data = data\n",
    "        self.right = None\n",
    "        self.left = None\n",
    "    \n",
    "    def insertNode(self, nodevalue):\n",
    "        rootNode = self\n",
    "        if rootNode.data == None:\n",
    "            rootNode.data = nodevalue\n",
    "        elif nodevalue< rootNode.data:\n",
    "            if rootNode.left == None:\n",
    "                rootNode.left = BSTNode(nodevalue)\n",
    "            else:\n",
    "                rootNode.left.insertNode(nodevalue)\n",
    "        else:\n",
    "            if rootNode.right is None:\n",
    "                rootNode.right  = BSTNode(nodevalue)\n",
    "            else:\n",
    "                rootNode.right.insertNode(nodevalue)\n",
    "        return \"element has successfully added\"\n",
    "    \n",
    "    # preorder traversal\n",
    "    def preordertraversal(self):\n",
    "        if not self:\n",
    "            return\n",
    "        print(self.data)\n",
    "        try:\n",
    "            self.left.preordertraversal()\n",
    "        except:\n",
    "            pass\n",
    "        try:\n",
    "            self.right.preordertraversal()\n",
    "        except:\n",
    "            pass\n",
    "        \n",
    "# for level order traversal we need a queue\n",
    "    def levelordertraversal(self):\n",
    "        from collections import deque\n",
    "        if  not self:\n",
    "            return\n",
    "        else:\n",
    "            customqueue = deque(maxlen=4)\n",
    "            customqueue.append(self)\n",
    "            while len(customqueue) != 0:\n",
    "                root = customqueue.popleft()\n",
    "                print(root.data)\n",
    "                if root.left is not None:\n",
    "                    customqueue.append(root.left)\n",
    "                if root.right is not None:\n",
    "                    customqueue.append(root.right)\n",
    "    \n",
    "\n",
    "    def search(self, nodevalue):\n",
    "        if self.data == nodevalue:\n",
    "            print(\"value found\")\n",
    "        elif nodevalue < self.data:\n",
    "            self.left.search(nodevalue)\n",
    "        else:\n",
    "            self.right.search(nodevalue)\n",
    "\n",
    "\n",
    "    def minValueNode(self):\n",
    "        \"\"\"this return the min value node\"\"\"\n",
    "        current = self\n",
    "        while current.left is not None:\n",
    "            current = current.left\n",
    "        return current\n",
    "    \n",
    "def deleteNode(rootNode, nodevalue):\n",
    "    if rootNode is None:\n",
    "        return rootNode\n",
    "    if nodevalue< rootNode.data:\n",
    "        rootNode.left = deleteNode(rootNode.left,nodevalue)\n",
    "    elif nodevalue> rootNode.data:\n",
    "        rootNode.right = deleteNode(rootNode.right,nodevalue)\n",
    "    else:\n",
    "        if rootNode.left is None:\n",
    "            temp = rootNode.right\n",
    "            rootNode = None\n",
    "            return temp\n",
    "            \n",
    "        if rootNode.right is None:\n",
    "            temp = rootNode.left\n",
    "            rootNode = None\n",
    "            return None\n",
    "            \n",
    "    temp = rootNode.right.minValueNode()\n",
    "    rootNode.data = temp.data\n",
    "    rootNode.right = deleteNode(rootNode.right, temp.data)\n",
    "    return rootNode\n",
    "\n",
    "    def delete(self):\n",
    "        self.data =  None\n",
    "        self.left = None\n",
    "        self.right = None    \n",
    "        "
   ]
  },
  {
   "cell_type": "code",
   "execution_count": 173,
   "metadata": {},
   "outputs": [],
   "source": [
    "newBST = BSTNode(None)"
   ]
  },
  {
   "cell_type": "code",
   "execution_count": 174,
   "metadata": {},
   "outputs": [
    {
     "data": {
      "text/plain": [
       "'element has successfully added'"
      ]
     },
     "execution_count": 174,
     "metadata": {},
     "output_type": "execute_result"
    }
   ],
   "source": [
    "newBST.insertNode(67)\n",
    "newBST.insertNode(57)\n",
    "newBST.insertNode(400)\n",
    "newBST.insertNode(500)"
   ]
  },
  {
   "cell_type": "code",
   "execution_count": 175,
   "metadata": {},
   "outputs": [
    {
     "name": "stdout",
     "output_type": "stream",
     "text": [
      "67\n"
     ]
    }
   ],
   "source": [
    "print(newBST.data)"
   ]
  },
  {
   "cell_type": "code",
   "execution_count": 176,
   "metadata": {},
   "outputs": [
    {
     "name": "stdout",
     "output_type": "stream",
     "text": [
      "None\n"
     ]
    }
   ],
   "source": [
    "print(newBST.right.left)"
   ]
  },
  {
   "cell_type": "code",
   "execution_count": 177,
   "metadata": {},
   "outputs": [
    {
     "name": "stdout",
     "output_type": "stream",
     "text": [
      "57\n"
     ]
    }
   ],
   "source": [
    "print(newBST.left.data)"
   ]
  },
  {
   "cell_type": "code",
   "execution_count": 178,
   "metadata": {},
   "outputs": [
    {
     "name": "stdout",
     "output_type": "stream",
     "text": [
      "67\n",
      "57\n",
      "400\n",
      "500\n"
     ]
    }
   ],
   "source": [
    "newBST.preordertraversal()"
   ]
  },
  {
   "cell_type": "code",
   "execution_count": 179,
   "metadata": {},
   "outputs": [
    {
     "name": "stdout",
     "output_type": "stream",
     "text": [
      "67\n",
      "57\n",
      "400\n",
      "500\n"
     ]
    }
   ],
   "source": [
    "newBST.levelordertraversal()"
   ]
  },
  {
   "cell_type": "markdown",
   "metadata": {},
   "source": [
    "## Searching in Binary Search Tree"
   ]
  },
  {
   "cell_type": "code",
   "execution_count": 180,
   "metadata": {},
   "outputs": [
    {
     "name": "stdout",
     "output_type": "stream",
     "text": [
      "value found\n"
     ]
    }
   ],
   "source": [
    "newBST.search(57)"
   ]
  },
  {
   "cell_type": "markdown",
   "metadata": {},
   "source": [
    "## Deleting Node from binary Search Tree"
   ]
  },
  {
   "cell_type": "code",
   "execution_count": 181,
   "metadata": {},
   "outputs": [
    {
     "data": {
      "text/plain": [
       "57"
      ]
     },
     "execution_count": 181,
     "metadata": {},
     "output_type": "execute_result"
    }
   ],
   "source": [
    "newBST.minValueNode().data"
   ]
  },
  {
   "cell_type": "code",
   "execution_count": 169,
   "metadata": {},
   "outputs": [],
   "source": [
    "newBST.delete()"
   ]
  },
  {
   "cell_type": "code",
   "execution_count": 183,
   "metadata": {},
   "outputs": [
    {
     "data": {
      "text/plain": [
       "<__main__.BSTNode at 0x26ef1dd0b48>"
      ]
     },
     "execution_count": 183,
     "metadata": {},
     "output_type": "execute_result"
    }
   ],
   "source": [
    "deleteNode(newBST,400)"
   ]
  },
  {
   "cell_type": "code",
   "execution_count": 184,
   "metadata": {},
   "outputs": [
    {
     "name": "stdout",
     "output_type": "stream",
     "text": [
      "500\n",
      "57\n"
     ]
    }
   ],
   "source": [
    "newBST.levelordertraversal()"
   ]
  },
  {
   "cell_type": "code",
   "execution_count": null,
   "metadata": {},
   "outputs": [],
   "source": []
  },
  {
   "cell_type": "code",
   "execution_count": null,
   "metadata": {},
   "outputs": [],
   "source": []
  },
  {
   "cell_type": "code",
   "execution_count": null,
   "metadata": {},
   "outputs": [],
   "source": []
  },
  {
   "cell_type": "code",
   "execution_count": 109,
   "metadata": {},
   "outputs": [],
   "source": [
    "from collections import deque"
   ]
  },
  {
   "cell_type": "code",
   "execution_count": 110,
   "metadata": {},
   "outputs": [],
   "source": [
    "customq = deque(maxlen=4)"
   ]
  },
  {
   "cell_type": "code",
   "execution_count": 111,
   "metadata": {},
   "outputs": [],
   "source": [
    "\n",
    "customq.append(2)\n",
    "customq.append(3)\n",
    "customq.append(4)\n",
    "customq.append(5)\n"
   ]
  },
  {
   "cell_type": "code",
   "execution_count": 112,
   "metadata": {},
   "outputs": [
    {
     "name": "stdout",
     "output_type": "stream",
     "text": [
      "deque([2, 3, 4, 5], maxlen=4)\n"
     ]
    }
   ],
   "source": [
    "print(customq)"
   ]
  },
  {
   "cell_type": "code",
   "execution_count": 113,
   "metadata": {},
   "outputs": [
    {
     "data": {
      "text/plain": [
       "5"
      ]
     },
     "execution_count": 113,
     "metadata": {},
     "output_type": "execute_result"
    }
   ],
   "source": [
    "customq.pop()"
   ]
  },
  {
   "cell_type": "code",
   "execution_count": 114,
   "metadata": {},
   "outputs": [
    {
     "data": {
      "text/plain": [
       "3"
      ]
     },
     "execution_count": 114,
     "metadata": {},
     "output_type": "execute_result"
    }
   ],
   "source": [
    "len(customq)"
   ]
  },
  {
   "cell_type": "code",
   "execution_count": 131,
   "metadata": {},
   "outputs": [],
   "source": [
    "q = []\n",
    "q.append(8)\n",
    "q.append(5)\n",
    "q.append(7)"
   ]
  },
  {
   "cell_type": "code",
   "execution_count": 132,
   "metadata": {},
   "outputs": [
    {
     "data": {
      "text/plain": [
       "[8, 5, 7]"
      ]
     },
     "execution_count": 132,
     "metadata": {},
     "output_type": "execute_result"
    }
   ],
   "source": [
    "q"
   ]
  },
  {
   "cell_type": "code",
   "execution_count": 133,
   "metadata": {},
   "outputs": [
    {
     "data": {
      "text/plain": [
       "7"
      ]
     },
     "execution_count": 133,
     "metadata": {},
     "output_type": "execute_result"
    }
   ],
   "source": [
    "\n",
    "q[-1]"
   ]
  },
  {
   "cell_type": "code",
   "execution_count": null,
   "metadata": {},
   "outputs": [],
   "source": []
  },
  {
   "cell_type": "code",
   "execution_count": null,
   "metadata": {},
   "outputs": [],
   "source": []
  }
 ],
 "metadata": {
  "interpreter": {
   "hash": "c50941e6b22a71e83a3819febb63007c8233c7d2554b73ee468d75b086d319d6"
  },
  "kernelspec": {
   "display_name": "Python 3",
   "language": "python",
   "name": "python3"
  },
  "language_info": {
   "codemirror_mode": {
    "name": "ipython",
    "version": 3
   },
   "file_extension": ".py",
   "mimetype": "text/x-python",
   "name": "python",
   "nbconvert_exporter": "python",
   "pygments_lexer": "ipython3",
   "version": "3.8.5"
  }
 },
 "nbformat": 4,
 "nbformat_minor": 4
}
