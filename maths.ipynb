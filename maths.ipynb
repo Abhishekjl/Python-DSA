{
 "cells": [
  {
   "cell_type": "markdown",
   "metadata": {},
   "source": [
    "#### counting the digits "
   ]
  },
  {
   "cell_type": "code",
   "execution_count": 5,
   "metadata": {},
   "outputs": [
    {
     "name": "stdout",
     "output_type": "stream",
     "text": [
      "5\n"
     ]
    }
   ],
   "source": [
    "def count_digits(n):\n",
    "    dig = 0\n",
    "    while (n!=0):\n",
    "\n",
    "        \n",
    "        n =n //10\n",
    "        dig +=1\n",
    "\n",
    "    print(dig)\n",
    "    \n",
    "count_digits(14556)"
   ]
  },
  {
   "cell_type": "markdown",
   "metadata": {},
   "source": [
    "### digits of number printing \n"
   ]
  },
  {
   "cell_type": "code",
   "execution_count": 7,
   "metadata": {},
   "outputs": [
    {
     "name": "stdout",
     "output_type": "stream",
     "text": [
      "7\n",
      "6\n",
      "5\n",
      "4\n"
     ]
    }
   ],
   "source": [
    "def digits(n):\n",
    "    \n",
    "    while n!=0:\n",
    "        \n",
    "        remainder = n%10\n",
    "        n = n//10\n",
    "        print(remainder)\n",
    "    \n",
    "digits(4567)"
   ]
  },
  {
   "cell_type": "code",
   "execution_count": 16,
   "metadata": {},
   "outputs": [
    {
     "name": "stdout",
     "output_type": "stream",
     "text": [
      "23451\n"
     ]
    }
   ],
   "source": [
    "# rotating the number \n",
    "def rotate(num, k):\n",
    "\n",
    "        \n",
    "    temp = num\n",
    "    dig = 0\n",
    "    while temp!=0:\n",
    "        temp=temp//10\n",
    "        dig+=1\n",
    "    if k<0:\n",
    "        k = dig+k\n",
    "    div = 1\n",
    "    mult = 1\n",
    "    for i in range(1, dig+1):\n",
    "        if i <=k:\n",
    "            div *=10\n",
    "        else:\n",
    "            mult*=10\n",
    "    remainder = num%div\n",
    "    quotent = num//div\n",
    "    print(remainder*mult+quotent)\n",
    "    \n",
    "rotate(51234,-2)\n",
    "    "
   ]
  },
  {
   "cell_type": "code",
   "execution_count": 1,
   "metadata": {},
   "outputs": [],
   "source": [
    "## Checking the prime numbers\n",
    "# Optimized solution\n",
    "import math\n",
    "def isPrime(n):\n",
    "    if n == 1:\n",
    "        return False\n",
    "    if n == 2 or n == 3:\n",
    "        return True\n",
    "    if (n%2 == 0) or (n%3 == 0):\n",
    "        return False\n",
    "    for i in range(5,int(math.sqrt(n)), 6):\n",
    "        if (n%i == 0) or (n%(i+2) == 0):\n",
    "            return False\n",
    "    else:\n",
    "        return True"
   ]
  },
  {
   "cell_type": "markdown",
   "metadata": {},
   "source": [
    "#### printing fibonacci series "
   ]
  },
  {
   "cell_type": "code",
   "execution_count": 8,
   "metadata": {},
   "outputs": [
    {
     "name": "stdout",
     "output_type": "stream",
     "text": [
      "1\n"
     ]
    }
   ],
   "source": [
    "def fibonacci(n):\n",
    "    a = 0 \n",
    "    b = 1\n",
    "    for i in range(n):\n",
    "        c = a+b\n",
    "        a = b\n",
    "\n",
    "        b = c\n",
    "        print(a)\n",
    "    \n",
    "    \n",
    "fibonacci(1)"
   ]
  },
  {
   "cell_type": "code",
   "execution_count": 2,
   "metadata": {},
   "outputs": [
    {
     "data": {
      "text/plain": [
       "True"
      ]
     },
     "execution_count": 2,
     "metadata": {},
     "output_type": "execute_result"
    }
   ],
   "source": [
    "isPrime(7)"
   ]
  },
  {
   "cell_type": "code",
   "execution_count": 3,
   "metadata": {},
   "outputs": [],
   "source": [
    "## less optimized solution\n",
    "import math\n",
    "def isPrime(n):\n",
    "    if n == 1:\n",
    "        return False\n",
    "    for i in range(2, int(math.sqrt(n))+1,1):\n",
    "        if n%i == 0:\n",
    "            return False\n",
    "    else:\n",
    "        return True"
   ]
  },
  {
   "cell_type": "code",
   "execution_count": 4,
   "metadata": {},
   "outputs": [
    {
     "data": {
      "text/plain": [
       "[2, 3, 5, 7, 11, 13, 17, 19]"
      ]
     },
     "execution_count": 4,
     "metadata": {},
     "output_type": "execute_result"
    }
   ],
   "source": [
    "[x for x in range(1,20) if isPrime(x)]"
   ]
  },
  {
   "cell_type": "code",
   "execution_count": 5,
   "metadata": {},
   "outputs": [
    {
     "data": {
      "text/plain": [
       "True"
      ]
     },
     "execution_count": 5,
     "metadata": {},
     "output_type": "execute_result"
    }
   ],
   "source": [
    "isPrime(2)"
   ]
  },
  {
   "cell_type": "code",
   "execution_count": 6,
   "metadata": {},
   "outputs": [],
   "source": [
    "for i in range(2,2):\n",
    "    print(i)"
   ]
  },
  {
   "cell_type": "code",
   "execution_count": 7,
   "metadata": {},
   "outputs": [
    {
     "data": {
      "text/plain": [
       "12"
      ]
     },
     "execution_count": 7,
     "metadata": {},
     "output_type": "execute_result"
    }
   ],
   "source": [
    "def gcd(a,b):\n",
    "    if a == 0:\n",
    "        return b\n",
    "    else:\n",
    "        return gcd(b%a,a)\n",
    "    \n",
    "gcd(24,12)"
   ]
  },
  {
   "cell_type": "code",
   "execution_count": 8,
   "metadata": {},
   "outputs": [
    {
     "data": {
      "text/plain": [
       "24.0"
      ]
     },
     "execution_count": 8,
     "metadata": {},
     "output_type": "execute_result"
    }
   ],
   "source": [
    "def lcm(a,b):\n",
    "    return (a*b)/gcd(a,b)\n",
    "\n",
    "lcm(12,24)"
   ]
  },
  {
   "cell_type": "markdown",
   "metadata": {},
   "source": [
    "### finding the gcd optimized way"
   ]
  },
  {
   "cell_type": "code",
   "execution_count": 9,
   "metadata": {},
   "outputs": [],
   "source": [
    "def gcd(a,b):\n",
    "    if b == 0:\n",
    "        return a\n",
    "    else:\n",
    "        return gcd(b,a%b)"
   ]
  },
  {
   "cell_type": "code",
   "execution_count": 10,
   "metadata": {},
   "outputs": [
    {
     "data": {
      "text/plain": [
       "1"
      ]
     },
     "execution_count": 10,
     "metadata": {},
     "output_type": "execute_result"
    }
   ],
   "source": [
    "gcd(4,3)"
   ]
  },
  {
   "cell_type": "code",
   "execution_count": 11,
   "metadata": {},
   "outputs": [],
   "source": [
    "def gcd(a,b):\n",
    "    res = min(a,b)\n",
    "    while res> 0: # 1 will be always gcd\n",
    "        if (a % res == 0) and (b%res==0):\n",
    "            break\n",
    "        res -=1\n",
    "    return res    "
   ]
  },
  {
   "cell_type": "code",
   "execution_count": 12,
   "metadata": {},
   "outputs": [
    {
     "data": {
      "text/plain": [
       "1"
      ]
     },
     "execution_count": 12,
     "metadata": {},
     "output_type": "execute_result"
    }
   ],
   "source": [
    "gcd(4,3)"
   ]
  },
  {
   "cell_type": "markdown",
   "metadata": {},
   "source": [
    "#### findign the LCm"
   ]
  },
  {
   "cell_type": "code",
   "execution_count": 13,
   "metadata": {},
   "outputs": [],
   "source": [
    "# a*b = gcd(a,b)*lcm(a,b)\n",
    "\n",
    "def lcm(a,b):\n",
    " \n",
    "    \n",
    "    return (a*b)//(gcd(a,b))"
   ]
  },
  {
   "cell_type": "code",
   "execution_count": 14,
   "metadata": {},
   "outputs": [
    {
     "data": {
      "text/plain": [
       "12"
      ]
     },
     "execution_count": 14,
     "metadata": {},
     "output_type": "execute_result"
    }
   ],
   "source": [
    "\n",
    "lcm(4,3)\n"
   ]
  },
  {
   "cell_type": "code",
   "execution_count": 15,
   "metadata": {},
   "outputs": [
    {
     "data": {
      "text/plain": [
       "1"
      ]
     },
     "execution_count": 15,
     "metadata": {},
     "output_type": "execute_result"
    }
   ],
   "source": [
    "4//3"
   ]
  },
  {
   "cell_type": "markdown",
   "metadata": {},
   "source": [
    "#### Printing Prime Factorisation"
   ]
  },
  {
   "cell_type": "code",
   "execution_count": 18,
   "metadata": {},
   "outputs": [
    {
     "name": "stdout",
     "output_type": "stream",
     "text": [
      "2\n",
      "2\n",
      "3\n",
      "5\n"
     ]
    }
   ],
   "source": [
    "def PrimeFactors_1(n):\n",
    "    for i in range(2,n+1,1):\n",
    "        if isPrime(i):\n",
    "            while n%i == 0:\n",
    "                print(i)\n",
    "                n = n/i\n",
    "        \n",
    "PrimeFactors_1(60)  "
   ]
  },
  {
   "cell_type": "code",
   "execution_count": 17,
   "metadata": {},
   "outputs": [
    {
     "name": "stdout",
     "output_type": "stream",
     "text": [
      "2\n",
      "3.0\n"
     ]
    }
   ],
   "source": [
    "## more optimized\n",
    "import math\n",
    "def PrimeFactors_2(n):\n",
    "    if n == 1:\n",
    "        return\n",
    "    for i in range(2,int(math.sqrt(n))+1,1):\n",
    "        if isPrime(i):\n",
    "            while n%i == 0:\n",
    "                print(i)\n",
    "                n = n/i\n",
    "    if n>1: # if we dont find further divisor then remainder will b last number\n",
    "        print(n)\n",
    "PrimeFactors_2(6)"
   ]
  },
  {
   "cell_type": "code",
   "execution_count": 59,
   "metadata": {},
   "outputs": [],
   "source": [
    "### improving further \n",
    "## more optimized\n",
    "def PrimeFactors_3(n):\n",
    "    if n <= 1:\n",
    "        return\n",
    "    while (n%2 == 0):\n",
    "        print(2)\n",
    "        n = n //2\n",
    "    while (n%3 == 0):\n",
    "        print(3)\n",
    "        n = n//3\n",
    "    \n",
    "    for i in range(5, int(math.sqrt(n))+1,6 ):\n",
    "        while n%i == 0:\n",
    "            print(i)\n",
    "            n = n//i\n",
    "        while n%(i+2) == 0:\n",
    "            print(i+2)\n",
    "            n = n//(i+2)\n",
    "    if n>3:\n",
    "        print(n)"
   ]
  },
  {
   "cell_type": "code",
   "execution_count": 60,
   "metadata": {},
   "outputs": [
    {
     "name": "stdout",
     "output_type": "stream",
     "text": [
      "2\n",
      "3\n",
      "3\n",
      "7\n"
     ]
    }
   ],
   "source": [
    "\n",
    "PrimeFactors_2(126)"
   ]
  },
  {
   "cell_type": "code",
   "execution_count": 61,
   "metadata": {
    "scrolled": true
   },
   "outputs": [
    {
     "name": "stdout",
     "output_type": "stream",
     "text": [
      "2\n",
      "3\n",
      "3\n",
      "7\n"
     ]
    }
   ],
   "source": [
    "PrimeFactors_3(126)"
   ]
  },
  {
   "cell_type": "markdown",
   "metadata": {},
   "source": [
    "### finding the divisors\n"
   ]
  },
  {
   "cell_type": "code",
   "execution_count": 62,
   "metadata": {},
   "outputs": [],
   "source": [
    "# Naive solutions \n",
    "def alldivisors(n):\n",
    "    for i in range(1, n+1):\n",
    "        if n%i == 0:\n",
    "            print(i)\n",
    "        "
   ]
  },
  {
   "cell_type": "code",
   "execution_count": 65,
   "metadata": {},
   "outputs": [
    {
     "name": "stdout",
     "output_type": "stream",
     "text": [
      "1\n",
      "2\n",
      "3\n",
      "5\n",
      "6\n",
      "10\n",
      "15\n",
      "30\n"
     ]
    }
   ],
   "source": [
    "alldivisors(30)"
   ]
  },
  {
   "cell_type": "code",
   "execution_count": 87,
   "metadata": {},
   "outputs": [],
   "source": [
    "### improvign the time complexity \n",
    "def alldivisor_1(n):\n",
    "    for i in range(1, int(math.sqrt(n))+1):\n",
    "        if n%i == 0:\n",
    "            print(i)\n",
    "            if i!=n/i:\n",
    "                print(n//i)"
   ]
  },
  {
   "cell_type": "code",
   "execution_count": 88,
   "metadata": {
    "scrolled": true
   },
   "outputs": [
    {
     "name": "stdout",
     "output_type": "stream",
     "text": [
      "1\n",
      "20\n",
      "2\n",
      "10\n",
      "4\n",
      "5\n"
     ]
    }
   ],
   "source": [
    "\n",
    "alldivisor_1(20)"
   ]
  },
  {
   "cell_type": "code",
   "execution_count": 95,
   "metadata": {},
   "outputs": [],
   "source": [
    "### for sorted output\n",
    "def alldivisor_2(n):\n",
    "    for i in range(1, int(math.sqrt(n))+1):\n",
    "        if n%i == 0:\n",
    "            print(i)\n",
    "            \n",
    "    for j in range(i, 0,-1):  # for (i , i >=1, i--)\n",
    "        if n%j == 0:\n",
    "            print(n//j)\n",
    "            "
   ]
  },
  {
   "cell_type": "code",
   "execution_count": 96,
   "metadata": {},
   "outputs": [
    {
     "name": "stdout",
     "output_type": "stream",
     "text": [
      "1\n",
      "2\n",
      "4\n",
      "5\n",
      "10\n",
      "20\n"
     ]
    }
   ],
   "source": [
    "alldivisor_2(20)"
   ]
  },
  {
   "cell_type": "markdown",
   "metadata": {},
   "source": [
    "### Sieve of erathortheces \n",
    "#### finding the prime number lesser than a given numbber"
   ]
  },
  {
   "cell_type": "code",
   "execution_count": 136,
   "metadata": {},
   "outputs": [],
   "source": [
    "def sieve(n):\n",
    "    arr = [True]*(n+1)\n",
    "    # now its time to put false for the multiple of 2, 3, 5\n",
    "    for i in range(2, int(math.sqrt(n))+1, 1):\n",
    "        if arr[i]:\n",
    "            for j in range(2*i, n+1,i):\n",
    "                arr[(j)] = False\n",
    "    for i in range(2,n+1):\n",
    "        if arr[i] == True:\n",
    "            print(i)"
   ]
  },
  {
   "cell_type": "code",
   "execution_count": 137,
   "metadata": {},
   "outputs": [
    {
     "name": "stdout",
     "output_type": "stream",
     "text": [
      "2\n",
      "3\n",
      "5\n",
      "7\n",
      "11\n"
     ]
    }
   ],
   "source": [
    "sieve(11)"
   ]
  },
  {
   "cell_type": "code",
   "execution_count": 144,
   "metadata": {},
   "outputs": [],
   "source": [
    "### finding the power\n",
    "def power(x,n):\n",
    "    res = 1\n",
    "    for i in range(n):\n",
    "        res = res*x\n",
    "    print(res)\n",
    "    "
   ]
  },
  {
   "cell_type": "code",
   "execution_count": 146,
   "metadata": {},
   "outputs": [
    {
     "name": "stdout",
     "output_type": "stream",
     "text": [
      "1048576\n"
     ]
    }
   ],
   "source": [
    "power(2,20)"
   ]
  },
  {
   "cell_type": "code",
   "execution_count": 159,
   "metadata": {},
   "outputs": [],
   "source": [
    "### optimized solution\n",
    "\n",
    "def power(x, n):\n",
    "    if n == 0:\n",
    "        return 1\n",
    "   \n",
    "    if n%2 == 0:\n",
    "        temp = power(x,n/2)\n",
    "        return temp*temp\n",
    "    else:\n",
    "        return power(x,n-1)*x"
   ]
  },
  {
   "cell_type": "code",
   "execution_count": 160,
   "metadata": {},
   "outputs": [
    {
     "data": {
      "text/plain": [
       "1024"
      ]
     },
     "execution_count": 160,
     "metadata": {},
     "output_type": "execute_result"
    }
   ],
   "source": [
    "power(2,10)"
   ]
  },
  {
   "cell_type": "code",
   "execution_count": 176,
   "metadata": {},
   "outputs": [],
   "source": [
    "### more optimized\n",
    "\n",
    "def power(x, n):\n",
    "    if n == 0:\n",
    "        return 1\n",
    "    temp = power(x, n//2)\n",
    "    temp  = temp*temp\n",
    "    if n%2 == 0:\n",
    "        return temp\n",
    "    else:\n",
    "        return temp*n\n",
    "#     print(temp*temp)"
   ]
  },
  {
   "cell_type": "code",
   "execution_count": 177,
   "metadata": {},
   "outputs": [
    {
     "data": {
      "text/plain": [
       "25"
      ]
     },
     "execution_count": 177,
     "metadata": {},
     "output_type": "execute_result"
    }
   ],
   "source": [
    "power(2,10)"
   ]
  },
  {
   "cell_type": "code",
   "execution_count": 17,
   "metadata": {},
   "outputs": [
    {
     "name": "stdout",
     "output_type": "stream",
     "text": [
      "dict_keys([9, 7, 8, 2, 4])\n"
     ]
    }
   ],
   "source": [
    "def find_distinct(a):\n",
    "    digits = {}\n",
    "    if a<0:\n",
    "        a = -a\n",
    "    while a>0:\n",
    "        rmd = a%10\n",
    "        if rmd not in digits:\n",
    "            digits[rmd] = 1\n",
    "        elif rmd in digits:\n",
    "            digits[rmd] += 1\n",
    "        \n",
    "        a =a //10\n",
    "    print(digits.keys())\n",
    "find_distinct(-48278879)\n",
    "        "
   ]
  },
  {
   "cell_type": "code",
   "execution_count": 15,
   "metadata": {},
   "outputs": [
    {
     "name": "stdout",
     "output_type": "stream",
     "text": [
      "\n",
      "C\n",
      "B\n",
      "BC\n",
      "A\n",
      "AC\n",
      "AB\n",
      "ABC\n"
     ]
    }
   ],
   "source": [
    "#### finding the longest subsequences\n",
    "\n",
    "s = 'ABC'\n",
    "\n",
    "def subsequence(s,sub = \"\",i = 0):\n",
    "    if i == len(s):\n",
    "        print(sub)\n",
    "        return sub\n",
    "    \n",
    "    subsequence(s,sub,i+1)\n",
    "    subsequence(s,sub+s[i],i+1)\n",
    "    \n",
    "subsequence(s)"
   ]
  },
  {
   "cell_type": "code",
   "execution_count": 2,
   "metadata": {},
   "outputs": [
    {
     "name": "stdout",
     "output_type": "stream",
     "text": [
      "\n",
      "C\n",
      "B\n",
      "BC\n",
      "A\n",
      "AC\n",
      "AB\n",
      "ABC\n"
     ]
    }
   ],
   "source": [
    "def subsequence(s,string = \"\", i = 0):\n",
    "    if i == len(s):\n",
    "        print(string)\n",
    "        return\n",
    "    subsequence(s,string,i+1)\n",
    "    subsequence(s, string+s[i],i+1)\n",
    "    \n",
    "subsequence(\"ABC\")"
   ]
  },
  {
   "cell_type": "code",
   "execution_count": 9,
   "metadata": {},
   "outputs": [
    {
     "name": "stdout",
     "output_type": "stream",
     "text": [
      "77\n"
     ]
    }
   ],
   "source": [
    "def convert_base(num, k):\n",
    "    temp = num\n",
    "    ans = 0\n",
    "    div = 1\n",
    "    while num!=0:\n",
    "        remainder = num%k\n",
    "        ans += remainder * div\n",
    "        num = num//k\n",
    "        div *=10\n",
    "    print(ans)\n",
    "    \n",
    "    \n",
    "convert_base(63,8)"
   ]
  },
  {
   "cell_type": "markdown",
   "metadata": {},
   "source": [
    "### any base substraction"
   ]
  },
  {
   "cell_type": "code",
   "execution_count": 23,
   "metadata": {},
   "outputs": [
    {
     "name": "stdout",
     "output_type": "stream",
     "text": [
      "11110\n"
     ]
    }
   ],
   "source": [
    "def substract_base(n1,n2,k):\n",
    "    mult = 1\n",
    "    ans = 0\n",
    "    carry = 0\n",
    "    while n1>0:\n",
    "        d1 = n1%10\n",
    "        n1 = n1//10\n",
    "        d2 = n2%10\n",
    "        n2 = n2//10\n",
    "        d1 =d1+carry\n",
    "        if d1<d2:\n",
    "            carry = -1\n",
    "            d1 = d1+k\n",
    "        ans +=(d1-d2)*mult\n",
    "        mult*=10\n",
    "    print(ans)\n",
    "\n",
    "    \n",
    "    \n",
    "substract_base(100111,1001,2)"
   ]
  },
  {
   "cell_type": "code",
   "execution_count": null,
   "metadata": {},
   "outputs": [],
   "source": []
  }
 ],
 "metadata": {
  "kernelspec": {
   "display_name": "Python 3",
   "language": "python",
   "name": "python3"
  },
  "language_info": {
   "codemirror_mode": {
    "name": "ipython",
    "version": 3
   },
   "file_extension": ".py",
   "mimetype": "text/x-python",
   "name": "python",
   "nbconvert_exporter": "python",
   "pygments_lexer": "ipython3",
   "version": "3.8.5"
  }
 },
 "nbformat": 4,
 "nbformat_minor": 4
}
