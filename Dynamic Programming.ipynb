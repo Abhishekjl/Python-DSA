{
 "cells": [
  {
   "cell_type": "markdown",
   "metadata": {},
   "source": [
    "### fibonacci number"
   ]
  },
  {
   "cell_type": "code",
   "execution_count": 18,
   "metadata": {},
   "outputs": [],
   "source": [
    "\n",
    "def fib(n):\n",
    "    if n == 0:\n",
    "        return\n",
    "    if n == 1 or n == 2:\n",
    "        return 1\n",
    "    answer = fib(n-1)+fib(n-2)\n",
    "    return answer"
   ]
  },
  {
   "cell_type": "code",
   "execution_count": 22,
   "metadata": {},
   "outputs": [
    {
     "data": {
      "text/plain": [
       "[1, 1, 2, 3, 5, 8, 13, 21, 34]"
      ]
     },
     "execution_count": 22,
     "metadata": {},
     "output_type": "execute_result"
    }
   ],
   "source": [
    "[fib(i) for i in range(1,10)]\n",
    "        "
   ]
  },
  {
   "cell_type": "markdown",
   "metadata": {},
   "source": [
    "### now use dynamic programmming for fibonacci for bigger number"
   ]
  },
  {
   "cell_type": "code",
   "execution_count": 1,
   "metadata": {},
   "outputs": [],
   "source": [
    "def dynamic_fib(n):\n",
    "    memo  = [None]*(n+1)\n",
    "    def fibn(n,memo):\n",
    "\n",
    "        if memo[n] is not None:\n",
    "            return memo[n]\n",
    "        if n == 1 or n == 2:\n",
    "            memo[n] = 1\n",
    "            return memo[n]\n",
    "        else:\n",
    "            result = fibn(n-1,memo)+fibn(n-2,memo)\n",
    "            memo[n] = result\n",
    "        return result\n",
    "    return fibn(n,memo)\n"
   ]
  },
  {
   "cell_type": "code",
   "execution_count": 2,
   "metadata": {},
   "outputs": [
    {
     "data": {
      "text/plain": [
       "1"
      ]
     },
     "execution_count": 2,
     "metadata": {},
     "output_type": "execute_result"
    }
   ],
   "source": [
    "dynamic_fib(2)"
   ]
  },
  {
   "cell_type": "code",
   "execution_count": 62,
   "metadata": {},
   "outputs": [
    {
     "data": {
      "text/plain": [
       "[1, 1, 2, 3]"
      ]
     },
     "execution_count": 62,
     "metadata": {},
     "output_type": "execute_result"
    }
   ],
   "source": [
    "[dynamic_fib(i) for i in range(1,5)]"
   ]
  },
  {
   "cell_type": "markdown",
   "metadata": {},
   "source": [
    "#### now using bottom up approach more efficient \n",
    "no recursion approach"
   ]
  },
  {
   "cell_type": "code",
   "execution_count": 77,
   "metadata": {},
   "outputs": [],
   "source": [
    "def fib_bottom_up(n):\n",
    "    if n == 1 or n == 2:\n",
    "        return 1\n",
    "    bottom_up  = [None]*(n+1)\n",
    "    bottom_up[1] = 1\n",
    "    bottom_up[2] = 1\n",
    "    for i in range(3,n+1):\n",
    "        bottom_up[i] = bottom_up[i-1]+bottom_up[i-2]\n",
    "    return bottom_up[n]\n"
   ]
  },
  {
   "cell_type": "code",
   "execution_count": 78,
   "metadata": {},
   "outputs": [
    {
     "data": {
      "text/plain": [
       "[1, 1, 2, 3, 5, 8, 13, 21, 34]"
      ]
     },
     "execution_count": 78,
     "metadata": {},
     "output_type": "execute_result"
    }
   ],
   "source": [
    "[fib_bottom_up(i) for i in range(1, 10)]"
   ]
  },
  {
   "cell_type": "code",
   "execution_count": 82,
   "metadata": {},
   "outputs": [
    {
     "name": "stdout",
     "output_type": "stream",
     "text": [
      "[0, 0, 0, 0, 1, 1, 2, 4, 8, 16]\n"
     ]
    }
   ],
   "source": [
    "#### printing n-bonacci numbers\n",
    "\n",
    "def nbonacci(n,m):\n",
    "    \n",
    "    memo = [0]*(m)\n",
    "    memo[n-1] = 1\n",
    "    sum_last = 1\n",
    "    for i in range(n,m):\n",
    "        memo[i] = sum_last\n",
    "        sum_last = sum_last + memo[i]-memo[i-n]\n",
    "        \n",
    "    print(memo)\n",
    "    \n",
    "nbonacci(5,10)\n",
    "    "
   ]
  },
  {
   "cell_type": "markdown",
   "metadata": {},
   "source": [
    "#### finding the longest common subsequence"
   ]
  },
  {
   "cell_type": "code",
   "execution_count": 106,
   "metadata": {},
   "outputs": [
    {
     "data": {
      "text/plain": [
       "2"
      ]
     },
     "execution_count": 106,
     "metadata": {},
     "output_type": "execute_result"
    }
   ],
   "source": [
    "s1 = 'AAXYZ'\n",
    "s2 = 'BAZ'\n",
    "m = len(s1)\n",
    "n = len(s2)\n",
    "def lcs(s1,s2,m,n):\n",
    "    if m==0 or n==0:\n",
    "        return 0\n",
    "    if s1[m-1] == s2[n-1]:\n",
    "        return (1+lcs(s1,s2,m-1,n-1))\n",
    "    else:\n",
    "        return max(lcs(s1,s2,m-1,n), lcs(s1,s2,m,n-1))\n",
    "    \n",
    "lcs(s1,s2,m,n)"
   ]
  },
  {
   "cell_type": "code",
   "execution_count": 37,
   "metadata": {},
   "outputs": [
    {
     "data": {
      "text/plain": [
       "2"
      ]
     },
     "execution_count": 37,
     "metadata": {},
     "output_type": "execute_result"
    }
   ],
   "source": [
    "#### memoization in the same solution\n",
    "\n",
    "s1 = 'AAXYZ'\n",
    "s2 = 'BAZ'\n",
    "m = len(s1)\n",
    "n = len(s2)\n",
    "memo = [[-1]*(n+1)]*(m+1)\n",
    "def lcs(s1,s2,m,n):\n",
    "    if memo[m][n]!=-1:\n",
    "        return memo[m][n]\n",
    "    \n",
    "    \n",
    "    if m==0 or n==0:\n",
    "        memo[m][n] = 0\n",
    "    elif s1[m-1] == s2[n-1]:\n",
    "        memo[m][n] = (1+lcs(s1,s2,m-1,n-1))\n",
    "    else:\n",
    "        memo[m][n]= max(lcs(s1,s2,m-1,n), lcs(s1,s2,m,n-1))\n",
    "    return memo[m][n]\n",
    "    \n",
    "lcs(s1,s2,m,n)"
   ]
  },
  {
   "cell_type": "markdown",
   "metadata": {},
   "source": [
    "### climb stairs using dp\n"
   ]
  },
  {
   "cell_type": "code",
   "execution_count": 48,
   "metadata": {},
   "outputs": [
    {
     "data": {
      "text/plain": [
       "755476"
      ]
     },
     "execution_count": 48,
     "metadata": {},
     "output_type": "execute_result"
    }
   ],
   "source": [
    "n = 23\n",
    "a = 1\n",
    "b= 2\n",
    "c = 3\n",
    "\n",
    "memo = [-1]*(n+1)\n",
    "\n",
    "def find_stairs(n, a,b,c):\n",
    "    if memo[n]!=-1:\n",
    "        return memo[n]\n",
    "    if n==0:\n",
    "        memo[n] = 1\n",
    "        return memo[n]\n",
    "    if n<0:\n",
    "        memo[n] = 0\n",
    "        return memo[n]\n",
    "    \n",
    "    memo[n] = find_stairs(n-a,a,b,c)+find_stairs(n-b,a,b,c)+find_stairs(n-c,a,b,c)\n",
    "    return memo[n]\n",
    "find_stairs(n,a,b,c)"
   ]
  },
  {
   "cell_type": "code",
   "execution_count": 2,
   "metadata": {},
   "outputs": [
    {
     "data": {
      "text/plain": [
       "7"
      ]
     },
     "execution_count": 2,
     "metadata": {},
     "output_type": "execute_result"
    }
   ],
   "source": [
    "###iterative solution\n",
    "n = 23\n",
    "a = 1\n",
    "b= 2\n",
    "c = 3\n",
    "memo = [-1]*(n+1)\n",
    "def find_stairs(n, a,b,c):\n",
    "    memo[1] = memo[0] = 1\n",
    "    memo[2] = 2\n",
    "    for i in range(3, n+1):\n",
    "        memo[i] = memo[i-1] + memo[i-2] + memo[i-3]\n",
    "    return memo[n]\n",
    "\n",
    "find_stairs(4,a,b,c)\n"
   ]
  },
  {
   "cell_type": "markdown",
   "metadata": {},
   "source": [
    "#### Climb stair with minimum jumps "
   ]
  },
  {
   "cell_type": "code",
   "execution_count": 5,
   "metadata": {},
   "outputs": [
    {
     "name": "stdout",
     "output_type": "stream",
     "text": [
      "[3, 2, 2, 1, 1, 2, 1, 1, 1, 1, 0, -1]\n"
     ]
    },
    {
     "data": {
      "text/plain": [
       "3"
      ]
     },
     "execution_count": 5,
     "metadata": {},
     "output_type": "execute_result"
    }
   ],
   "source": [
    "jumps = [1,3,5,8,10,2,6,7,6,8,9]\n",
    "dp = [-1]*(len(jumps)+1)\n",
    "def minimum_jumps(n, jumps, dp):\n",
    "    \n",
    "    for i in reversed(range(0,n+1)):\n",
    "        if i == n:\n",
    "            dp[n] = 0\n",
    "            continue\n",
    "            \n",
    "        min_value = 30\n",
    "        \n",
    "        j = 1\n",
    "        while j<= jumps[i] and i+j <= n:\n",
    "            min_value = min(min_value ,dp[i+j]+1 )\n",
    "            j+=1\n",
    "        dp[i] = min_value\n",
    "    print(dp)\n",
    "    return dp[0]\n",
    "\n",
    "minimum_jumps(10, jumps,dp)"
   ]
  },
  {
   "cell_type": "code",
   "execution_count": null,
   "metadata": {},
   "outputs": [],
   "source": []
  },
  {
   "cell_type": "code",
   "execution_count": null,
   "metadata": {},
   "outputs": [],
   "source": []
  },
  {
   "cell_type": "markdown",
   "metadata": {},
   "source": [
    "#### climb stairs dynamic programming \n",
    "\n",
    "n = 1,2,3 allowed jumps \n"
   ]
  },
  {
   "cell_type": "code",
   "execution_count": 36,
   "metadata": {},
   "outputs": [
    {
     "data": {
      "text/plain": [
       "4"
      ]
     },
     "execution_count": 36,
     "metadata": {},
     "output_type": "execute_result"
    }
   ],
   "source": [
    "dp = [-1]*(n+1)\n",
    "def func(n, dp):\n",
    "    dp[0] = 1\n",
    "    dp[1] = 1\n",
    "    dp[2] = 2\n",
    "    \n",
    "    for i in range(3, n+1):\n",
    "        dp[i] = dp[i-1]+dp[i-2]+dp[i-3]\n",
    "    return dp[n]\n",
    "\n",
    "func(3 ,dp)"
   ]
  },
  {
   "cell_type": "markdown",
   "metadata": {},
   "source": [
    "#### climbing stairs with variable jumps"
   ]
  },
  {
   "cell_type": "markdown",
   "metadata": {},
   "source": [
    "#### showing with the sum in the form of (1, 3, 4) \n"
   ]
  },
  {
   "cell_type": "code",
   "execution_count": 42,
   "metadata": {},
   "outputs": [
    {
     "data": {
      "text/plain": [
       "64"
      ]
     },
     "execution_count": 42,
     "metadata": {},
     "output_type": "execute_result"
    }
   ],
   "source": [
    "def number_factor(n):\n",
    "    dp = [-1 for i in range(n+1)]\n",
    "    dp[1] = dp[0] = dp[2] = 1\n",
    "    dp[3] = 2\n",
    "    \n",
    "    for i in range(4, n+1):\n",
    "        dp[i] = dp[i-1]+dp[i-3] +dp[i-4]\n",
    "        \n",
    "    return dp[n]\n",
    "    \n",
    "    \n",
    "    \n",
    "number_factor(10)"
   ]
  },
  {
   "cell_type": "markdown",
   "metadata": {},
   "source": [
    "#### Coin change Permutation"
   ]
  },
  {
   "cell_type": "code",
   "execution_count": 11,
   "metadata": {},
   "outputs": [
    {
     "data": {
      "text/plain": [
       "5"
      ]
     },
     "execution_count": 11,
     "metadata": {},
     "output_type": "execute_result"
    }
   ],
   "source": [
    "coins = [2,3,5]\n",
    "amt = 7\n",
    "dp = [0]*(amt+1)\n",
    "\n",
    "def ccp(coins, amt):\n",
    "    dp[0] = 1\n",
    "    for i in range(1,amt+1):\n",
    "        for j in range(0, len(coins)):\n",
    "            if coins[j]<= i:\n",
    "                dp[i] +=dp[i - coins[j]]\n",
    "                \n",
    "    return dp[amt]\n",
    "\n",
    "ccp(coins, amt)"
   ]
  },
  {
   "cell_type": "code",
   "execution_count": 13,
   "metadata": {},
   "outputs": [
    {
     "data": {
      "text/plain": [
       "5"
      ]
     },
     "execution_count": 13,
     "metadata": {},
     "output_type": "execute_result"
    }
   ],
   "source": [
    "coins = [2,3,5]\n",
    "amt = 7\n",
    "\n",
    "def ccp(coins, amt):\n",
    "    if amt == 0:\n",
    "        return 1\n",
    "    if amt<0:\n",
    "        return 0\n",
    "        \n",
    "    \n",
    "    \n",
    "    ways = ccp(coins,amt-coins[0]) + ccp(coins, amt-coins[1]) + ccp(coins, amt-coins[2])\n",
    "    return ways \n",
    "\n",
    "ccp(coins, amt)"
   ]
  },
  {
   "cell_type": "code",
   "execution_count": 22,
   "metadata": {},
   "outputs": [
    {
     "name": "stdout",
     "output_type": "stream",
     "text": [
      "[3, 4, 7, 10]\n"
     ]
    },
    {
     "data": {
      "text/plain": [
       "2"
      ]
     },
     "execution_count": 22,
     "metadata": {},
     "output_type": "execute_result"
    }
   ],
   "source": [
    "a = [3,4,10,7]\n",
    "\n",
    "\n",
    "def func(a, pvt_index):\n",
    "    key = a[pvt_index]\n",
    "    \n",
    "    low = 0\n",
    "    \n",
    "    for i in range(len(a)):\n",
    "        if a[i]<key:\n",
    "            a[i],a[low] = a[low],a[i]\n",
    "            low+=1\n",
    "    a[low],a[pvt_index] = a[pvt_index],a[low]\n",
    "    print(a)\n",
    "\n",
    "    return low\n",
    "    \n",
    "func(a, 3)\n",
    "            \n",
    "        \n",
    "            "
   ]
  },
  {
   "cell_type": "markdown",
   "metadata": {},
   "source": [
    "### min cost maze travel"
   ]
  },
  {
   "cell_type": "code",
   "execution_count": 8,
   "metadata": {},
   "outputs": [
    {
     "data": {
      "text/plain": [
       "13"
      ]
     },
     "execution_count": 8,
     "metadata": {},
     "output_type": "execute_result"
    }
   ],
   "source": [
    "arr = [[3,2,1,5],[2,1,3,4],[5,2,6,2],[2,1,3,1]]\n",
    "n = 4\n",
    "m = 4\n",
    "dp = [[-1]*n]*m\n",
    "\n",
    "def func(n, m, arr):\n",
    "    for r in reversed(range(0, n)):\n",
    "        for c in reversed(range(0,m)):\n",
    "            if (r==n-1 and c == m-1):\n",
    "                dp[r][c] = arr[r][c]\n",
    "            elif (r == n-1):\n",
    "                dp[r][c] = arr[r][c] + dp[r][c+1]\n",
    "            elif (c == m-1):\n",
    "                dp[r][c] = arr[r][c] + dp[r+1][c]\n",
    "            else:\n",
    "                dp[r][c] = arr[r][c] + min(dp[r][c+1], dp[r+1][c])\n",
    "    return dp[0][0]\n",
    "                \n",
    "func(n,m,arr)             "
   ]
  },
  {
   "cell_type": "markdown",
   "metadata": {},
   "source": [
    "#### Goldmines"
   ]
  },
  {
   "cell_type": "code",
   "execution_count": 10,
   "metadata": {},
   "outputs": [
    {
     "name": "stdout",
     "output_type": "stream",
     "text": [
      "[[26, 24, 21, 14, 12, 2], [31, 26, 23, 17, 6, 4], [28, 27, 21, 11, 10, 6], [29, 25, 25, 13, 8, 2], [33, 26, 23, 18, 6, 4], [32, 30, 18, 17, 9, 1]]\n"
     ]
    },
    {
     "data": {
      "text/plain": [
       "33"
      ]
     },
     "execution_count": 10,
     "metadata": {},
     "output_type": "execute_result"
    }
   ],
   "source": [
    "array = [[0,1,4,2,8,2],\n",
    "         [4,3,6,5,0,4],\n",
    "         [1,2,4,1,4,6],\n",
    "         [2,0,7,3,2,2],\n",
    "         [3,1,5,9,2,4],\n",
    "         [2,7,0,8,5,1]]\n",
    "n = len(array)\n",
    "m = len(array[0])\n",
    "\n",
    "def func(n,m,array):\n",
    "    dp = [[0 for c in range(m)] for r in range(n)]\n",
    "    for c in reversed(range(0,m)):\n",
    "        for r in reversed(range(0,n)):\n",
    "            if c == m-1:\n",
    "                dp[r][c] = array[r][c]\n",
    "                \n",
    "            elif r == 0:\n",
    "                dp[r][c] = array[r][c] + max(dp[r+1][c+1], dp[r][c+1])\n",
    "            \n",
    "            elif r == n-1:\n",
    "                dp[r][c] = array[r][c] + max(dp[r-1][c+1], dp[r][c+1])\n",
    "            \n",
    "            else:\n",
    "                dp[r][c] = array[r][c] + max(dp[r][c+1],dp[r+1][c+1],dp[r-1][c+1])\n",
    "     \n",
    "    print(dp)\n",
    "    max_gold = dp[0][0]\n",
    "    for i in range(0, len(dp)):\n",
    "        max_gold = max(max_gold, dp[i][0])\n",
    "    return max_gold\n",
    "        \n",
    "func(n,m,array)"
   ]
  },
  {
   "cell_type": "markdown",
   "metadata": {},
   "source": [
    "#### sum subset dynamic programming"
   ]
  },
  {
   "cell_type": "code",
   "execution_count": 44,
   "metadata": {},
   "outputs": [
    {
     "data": {
      "text/plain": [
       "True"
      ]
     },
     "execution_count": 44,
     "metadata": {},
     "output_type": "execute_result"
    }
   ],
   "source": [
    "array = [2,5,7,1,3] \n",
    "target = 9\n",
    "\n",
    "def func(array, target):\n",
    "    n = len(array)\n",
    "    \n",
    "    \n",
    "    dp = [[False]*(target+1)]*(n+1)\n",
    "    \n",
    "    for i in range(n+1):\n",
    "        for j in range(target+1):\n",
    "            if i == 0 and j == 0:\n",
    "                dp[i][j] = True\n",
    "            \n",
    "            elif i == 0:\n",
    "                dp[i][j] = False\n",
    "            \n",
    "            elif j == 0:\n",
    "                dp[i][j] = True\n",
    "            \n",
    "            else:\n",
    "                if dp[i-1][j]:\n",
    "                    dp[i][j] = True\n",
    "                else:\n",
    "                    value = array[i-1]\n",
    "                    if value<=j and dp[i-1][j-value]:\n",
    "                        dp[i][j] = True\n",
    "                        \n",
    "    return dp[n][target]                \n",
    "\n",
    "func(array, 9)"
   ]
  },
  {
   "cell_type": "code",
   "execution_count": 43,
   "metadata": {},
   "outputs": [],
   "source": [
    "dp = [[False]*(target+1)]*(len(array)+1)"
   ]
  },
  {
   "cell_type": "code",
   "execution_count": 39,
   "metadata": {},
   "outputs": [
    {
     "data": {
      "text/plain": [
       "[[False, False, False, False, False, False, False, False, False, False],\n",
       " [False, False, False, False, False, False, False, False, False, False],\n",
       " [False, False, False, False, False, False, False, False, False, False],\n",
       " [False, False, False, False, False, False, False, False, False, False],\n",
       " [False, False, False, False, False, False, False, False, False, False],\n",
       " [False, False, False, False, False, False, False, False, False, False]]"
      ]
     },
     "execution_count": 39,
     "metadata": {},
     "output_type": "execute_result"
    }
   ],
   "source": [
    "dp"
   ]
  },
  {
   "cell_type": "markdown",
   "metadata": {},
   "source": [
    "#### coin change combination"
   ]
  },
  {
   "cell_type": "code",
   "execution_count": 10,
   "metadata": {},
   "outputs": [
    {
     "data": {
      "text/plain": [
       "2"
      ]
     },
     "execution_count": 10,
     "metadata": {},
     "output_type": "execute_result"
    }
   ],
   "source": [
    "coins = [2,3,5,6,4]\n",
    "amt = 4\n",
    "def ccc(coins,amt):\n",
    "    dp = [0]*(amt+1)\n",
    "    dp[0] = 1\n",
    "    \n",
    "    for j in range(len(coins)):\n",
    "        for i in range(1, amt+1):\n",
    "            if i>=coins[j]:                \n",
    "                dp[i] = dp[i] + dp[i-coins[j]]\n",
    "    return dp[amt]\n",
    "\n",
    "\n",
    "ccc(coins, amt)\n",
    "    "
   ]
  },
  {
   "cell_type": "markdown",
   "metadata": {},
   "source": [
    "#### zero one knapsack"
   ]
  },
  {
   "cell_type": "code",
   "execution_count": 3,
   "metadata": {},
   "outputs": [
    {
     "data": {
      "text/plain": [
       "75"
      ]
     },
     "execution_count": 3,
     "metadata": {},
     "output_type": "execute_result"
    }
   ],
   "source": [
    "wt = [2,5,1,3,4]\n",
    "val = [15,14,10,45,30]\n",
    "cap = 7\n",
    "n = len(wt)\n",
    "def zeroknapsack(cap, wt, val, n):\n",
    "    dp = [[0 for x in range(cap+1)] for y in range(n+1)]\n",
    "    \n",
    "    for row in range(n+1):\n",
    "        for col in range(cap+1):\n",
    "            if (row == 0) or ( col == 0):\n",
    "                dp[row][col]  = 0\n",
    "            elif (wt[row-1]>col):\n",
    "                dp[row][col] = dp[row-1][col]\n",
    "            else:\n",
    "                dp[row][col] = max(dp[row-1][col], val[row-1]+dp[row-1][col-wt[row-1]])\n",
    "    return dp[n][cap]\n",
    "zeroknapsack(cap, wt, val, n)    \n"
   ]
  },
  {
   "cell_type": "markdown",
   "metadata": {},
   "source": [
    "#### unbounded knapsack"
   ]
  },
  {
   "cell_type": "code",
   "execution_count": 8,
   "metadata": {
    "scrolled": true
   },
   "outputs": [
    {
     "data": {
      "text/plain": [
       "100"
      ]
     },
     "execution_count": 8,
     "metadata": {},
     "output_type": "execute_result"
    }
   ],
   "source": [
    "n = 5\n",
    "value = [15,14,10,45,30]\n",
    "wt = [2,5,1,3,4]\n",
    "capacity = 7\n",
    "\n",
    "def unbounded_knapsack(cap, wt, val, n):\n",
    "    dp = [0]*(cap+1)\n",
    "    for bag_c in range(1,cap+1):\n",
    "        max_value  = 0\n",
    "        for j in range(n):\n",
    "            if wt[j] <= bag_c:\n",
    "                rem_c = bag_c - wt[j]\n",
    "                rem_v = dp[rem_c]\n",
    "                total_v = rem_v +val[j]\n",
    "                max_value = max(total_v, max_value)\n",
    "        dp[bag_c] = max_value\n",
    "    return dp[cap]\n",
    "\n",
    "unbounded_knapsack(cap, wt, val, n)\n",
    "        \n",
    "                "
   ]
  },
  {
   "cell_type": "code",
   "execution_count": null,
   "metadata": {},
   "outputs": [],
   "source": []
  }
 ],
 "metadata": {
  "kernelspec": {
   "display_name": "Python 3",
   "language": "python",
   "name": "python3"
  },
  "language_info": {
   "codemirror_mode": {
    "name": "ipython",
    "version": 3
   },
   "file_extension": ".py",
   "mimetype": "text/x-python",
   "name": "python",
   "nbconvert_exporter": "python",
   "pygments_lexer": "ipython3",
   "version": "3.8.5"
  }
 },
 "nbformat": 4,
 "nbformat_minor": 4
}
