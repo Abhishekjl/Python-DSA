{
 "cells": [
  {
   "cell_type": "code",
   "execution_count": 3,
   "metadata": {
    "collapsed": true
   },
   "outputs": [
    {
     "name": "stdout",
     "output_type": "stream",
     "text": [
      "10\n",
      "9\n",
      "8\n",
      "7\n",
      "6\n",
      "5\n",
      "4\n",
      "3\n",
      "2\n",
      "1\n"
     ]
    }
   ],
   "source": [
    "# printing n natural numbers using recursion N-1\n",
    "def PrintN21(n):\n",
    "    if n == 0:\n",
    "        return \n",
    "    print(n)\n",
    "    PrintN21(n-1)   # this is faster  (tail recursion)\n",
    "    \n",
    "PrintN21(10)"
   ]
  },
  {
   "cell_type": "code",
   "execution_count": 4,
   "metadata": {},
   "outputs": [
    {
     "name": "stdout",
     "output_type": "stream",
     "text": [
      "1\n",
      "2\n",
      "3\n",
      "4\n",
      "5\n"
     ]
    }
   ],
   "source": [
    "def Print12N(n):\n",
    "    \n",
    "    if n == 0 :                                                                                                                                                                                                                                                                                                                                                                                                                                                                                                                                                                                                                                                                                                                                                                                                                                                                                                                                                                                                                                                                                                                                                                                                                                                                                                                                                                                                                                                                                                                                                                                                                                                                                                                                                                                                                                                                                                                                                                                                                                                                                                                                                                                                                                                                                                                                                                                                                                                                                                                                                                                                                                                                                                                                                                                                                                                                                                                                                                                                                                                                                                                                                                                                                                                                                                                                                                                                                                                                                                                                                                                                                                                                                                                                                                                                                                                                                                                                                                                                                                                                                                                                                                                                                                                                                                                                                                                                                                                                                                                                                                                                                                                                                                                                                                                                                                                                                                                                                                                                                                                                                                                                                                                                                                                                                                                                                                                                                                                                                                                                                                                                                                                                                                                                                                                                                                                                                                                                                                                                                                                                                                                                                                                                                                                                                                                                                                                                                                                                                                                                                                                                                                                                                                                                                                                                                                                                                                                                                                                                                                                                                                                                                                                                                                                                                                                                                                                                                                                                                                                                                                                                                                                                                                                                                                                                                                                                                                                                                                                                                                                                                                                                                                                                                                                                                                                                                                                                                                                                                                                                                                                                                                                                                                                                                                                                                                                                                                                                                                                                                                                                                                                                                                                                                                                                                                                                        \n",
    "        return \n",
    "    Print12N(n-1)  # this is slower  ( non tail recursive)\n",
    "    print(n)\n",
    "    \n",
    "Print12N(5)"
   ]
  },
  {
   "cell_type": "code",
   "execution_count": 6,
   "metadata": {},
   "outputs": [
    {
     "name": "stdout",
     "output_type": "stream",
     "text": [
      "120\n"
     ]
    }
   ],
   "source": [
    "# creating factorial program\n",
    "\n",
    "def fact(n):\n",
    "    if n == 0: # if we pass n = negative then n will never be zero\n",
    "        return 1\n",
    "    if n<0:\n",
    "        print('factorial of negative number not defined')\n",
    "        return None    \n",
    "    else:\n",
    "        small_answer = n*fact(n-1)\n",
    "        return small_answer\n",
    "\n",
    "print(fact(5))            \n"
   ]
  },
  {
   "cell_type": "markdown",
   "metadata": {},
   "source": [
    "### checking the pellindrome recursively\n",
    "\n",
    "first and last character must be same \n",
    "\n"
   ]
  },
  {
   "cell_type": "code",
   "execution_count": 8,
   "metadata": {},
   "outputs": [
    {
     "data": {
      "text/plain": [
       "False"
      ]
     },
     "execution_count": 8,
     "metadata": {},
     "output_type": "execute_result"
    }
   ],
   "source": [
    "def checkPelindrome(x,start = 0):\n",
    "    end = len(x)-start-1\n",
    "    if start>=end:\n",
    "        return True\n",
    "    return x[start] == x[end] and (checkPelindrome(x,start+1))\n",
    "    \n",
    "    \n",
    "\n",
    "checkPelindrome(\"1212\")"
   ]
  },
  {
   "cell_type": "code",
   "execution_count": 13,
   "metadata": {},
   "outputs": [
    {
     "data": {
      "text/plain": [
       "15"
      ]
     },
     "execution_count": 13,
     "metadata": {},
     "output_type": "execute_result"
    }
   ],
   "source": [
    "### sum of digits using recursion\n",
    "\n",
    "def digit_sum(n):\n",
    "    if n == 0:\n",
    "        return 0\n",
    "    last_digit = n%10\n",
    "    n=n//10\n",
    "    return last_digit+(digit_sum(n))\n",
    "    \n",
    "digit_sum(456)"
   ]
  },
  {
   "cell_type": "code",
   "execution_count": 16,
   "metadata": {},
   "outputs": [
    {
     "data": {
      "text/plain": [
       "861"
      ]
     },
     "execution_count": 16,
     "metadata": {},
     "output_type": "execute_result"
    }
   ],
   "source": [
    "### sum of natural number using recursion\n",
    "def sumN(n):\n",
    "    if n == 1:\n",
    "        return 1\n",
    "    \n",
    "    return n+sumN(n-1)\n",
    "    \n",
    "sumN(41)"
   ]
  },
  {
   "cell_type": "code",
   "execution_count": 24,
   "metadata": {},
   "outputs": [
    {
     "data": {
      "text/plain": [
       "97656250000000000"
      ]
     },
     "execution_count": 24,
     "metadata": {},
     "output_type": "execute_result"
    }
   ],
   "source": [
    "# power \n",
    "#X^n = X*X*X or X*X^n-1\n",
    "\n",
    "def power(x,n):\n",
    "    if n == 0:\n",
    "        return 1\n",
    "    return x*(power(x,n-1))\n",
    "    \n",
    "power(50,10)"
   ]
  },
  {
   "cell_type": "code",
   "execution_count": 29,
   "metadata": {},
   "outputs": [
    {
     "name": "stdout",
     "output_type": "stream",
     "text": [
      "False\n"
     ]
    }
   ],
   "source": [
    "### check sorted using recursion\n",
    "a = [1,-1,2,3,10,5]\n",
    "def isSorted(a,i=0):\n",
    "    if i == len(a)-1:\n",
    "        return True\n",
    "    \n",
    "    return a[i+1]>=a[i] and (isSorted(a,i+1))\n",
    "    \n",
    "print(isSorted(a))"
   ]
  },
  {
   "cell_type": "code",
   "execution_count": 42,
   "metadata": {
    "scrolled": true
   },
   "outputs": [
    {
     "data": {
      "text/plain": [
       "20"
      ]
     },
     "execution_count": 42,
     "metadata": {},
     "output_type": "execute_result"
    }
   ],
   "source": [
    "### sum of array using recursion\n",
    "a = [1,-1,2,3,10,5]\n",
    "def sumarray(a, i = 0):\n",
    "    if i == len(a):\n",
    "        return 0\n",
    "    \n",
    "    return a[i] + sumarray(a,i+1)\n",
    "    \n",
    "def sumarray(a):\n",
    "    if len(a) == 0:\n",
    "        return 0\n",
    "    return a[0]+sumarray(a[0+1:])\n",
    "    \n",
    "sumarray(a)\n",
    "\n",
    "\n"
   ]
  },
  {
   "cell_type": "markdown",
   "metadata": {},
   "source": [
    "### recursively print an array "
   ]
  },
  {
   "cell_type": "code",
   "execution_count": 45,
   "metadata": {},
   "outputs": [
    {
     "name": "stdout",
     "output_type": "stream",
     "text": [
      "5\n",
      "10\n",
      "3\n",
      "2\n",
      "-1\n",
      "1\n"
     ]
    }
   ],
   "source": [
    "a = [1,-1,2,3,10,5]\n",
    "def printrecursive(a):\n",
    "    if len(a) == 0:\n",
    "        return \n",
    "    printrecursive(a[0+1:])\n",
    "    print(a[0])\n",
    "\n",
    "    \n",
    "printrecursive(a)"
   ]
  },
  {
   "cell_type": "code",
   "execution_count": 54,
   "metadata": {},
   "outputs": [
    {
     "name": "stdout",
     "output_type": "stream",
     "text": [
      "0\n",
      "1\n",
      "0\n",
      "0\n",
      "1\n"
     ]
    }
   ],
   "source": [
    "### decimal to binary number \n",
    "def decimal2binary(n):\n",
    "    if n == 0:\n",
    "        return \n",
    "    n = n//2\n",
    "    decimal2binary(n)\n",
    "    print(n%2)\n",
    "\n",
    "def decimal2binary(n):\n",
    "    while n>0:\n",
    "        print(n%2)\n",
    "        n = n//2\n",
    "decimal2binary(18)"
   ]
  },
  {
   "cell_type": "code",
   "execution_count": 17,
   "metadata": {},
   "outputs": [
    {
     "data": {
      "text/plain": [
       "-22"
      ]
     },
     "execution_count": 17,
     "metadata": {},
     "output_type": "execute_result"
    }
   ],
   "source": [
    "#### finding the maximum using recursiion\n",
    "\n",
    "a = [-22,-1]\n",
    "def maxofArray(a, idx = 0):\n",
    "    if idx == len(a)-1:\n",
    "        return a[-1]\n",
    "    return min(a[idx],maxofArray(a,idx+1))\n",
    "    \n",
    "maxofArray(a)"
   ]
  },
  {
   "cell_type": "code",
   "execution_count": 18,
   "metadata": {},
   "outputs": [
    {
     "name": "stdout",
     "output_type": "stream",
     "text": [
      "10\n"
     ]
    }
   ],
   "source": [
    "a = [2,3,4,5,6,7,8,10,11,23,8,7]\n",
    "for i in reversed(range(len(a))):\n",
    "    if a[i] == 8:\n",
    "        print(i)\n",
    "        break"
   ]
  },
  {
   "cell_type": "code",
   "execution_count": 33,
   "metadata": {},
   "outputs": [
    {
     "data": {
      "text/plain": [
       "['abc', 'bc', 'ac', 'c', 'ab', 'b', 'a', '']"
      ]
     },
     "execution_count": 33,
     "metadata": {},
     "output_type": "execute_result"
    }
   ],
   "source": [
    "### finding the subsequence\n",
    "st = 'abc'\n",
    "\n",
    "def get_subsequence(st):\n",
    "    if len(st)==0:\n",
    "        return [\"\"]\n",
    "    ch = st[0]\n",
    "    ros = get_subsequence(st[1:])\n",
    "    result = []\n",
    "    for a in ros:\n",
    "        result.append(ch+a)\n",
    "        result.append(a)\n",
    "    return result\n",
    "        \n",
    "    get_subsequence(st)\n",
    "    \n",
    "    \n",
    "get_subsequence(st)\n"
   ]
  },
  {
   "cell_type": "code",
   "execution_count": 1,
   "metadata": {},
   "outputs": [
    {
     "name": "stdout",
     "output_type": "stream",
     "text": [
      "\n",
      "c\n",
      "b\n",
      "bc\n",
      "a\n",
      "ac\n",
      "ab\n",
      "abc\n"
     ]
    }
   ],
   "source": [
    "st = 'abc'\n",
    "def get_subsequence(st, res = \"\", i = 0):\n",
    "    if i == len(st):\n",
    "        print(res)\n",
    "        return\n",
    "    \n",
    "    get_subsequence(st, res,i+1)\n",
    "    get_subsequence(st, res+st[i],i+1)\n",
    "    \n",
    "    \n",
    "    \n",
    "get_subsequence(st)"
   ]
  },
  {
   "cell_type": "code",
   "execution_count": 7,
   "metadata": {},
   "outputs": [
    {
     "data": {
      "text/plain": [
       "['t', 'u']"
      ]
     },
     "execution_count": 7,
     "metadata": {},
     "output_type": "execute_result"
    }
   ],
   "source": [
    "### keyboard combination\n",
    "keypad = {0:'.;',1:'abc',2:'def',3:'ghi',4:'jkl',5:'mno',6:'pqrs',7:'tu',8:'vwx',9:'yz'}\n",
    "def get_kpc(string, keypad):\n",
    "    if len(string) == 0:\n",
    "        return [\"\"]\n",
    "    ch = string[0]\n",
    "    ros = string[1:]\n",
    "    ros_answer = get_kpc(ros, keypad)\n",
    "    answer = []\n",
    "    for ch in keypad[int(ch)]:\n",
    "        for i in ros_answer:\n",
    "            answer.append(ch+i)\n",
    "    return answer\n",
    "\n",
    "get_kpc('7', keypad)"
   ]
  },
  {
   "cell_type": "code",
   "execution_count": 25,
   "metadata": {},
   "outputs": [
    {
     "data": {
      "text/plain": [
       "['11111',\n",
       " '1112',\n",
       " '1121',\n",
       " '113',\n",
       " '1211',\n",
       " '122',\n",
       " '131',\n",
       " '2111',\n",
       " '212',\n",
       " '221',\n",
       " '23',\n",
       " '311',\n",
       " '32']"
      ]
     },
     "execution_count": 25,
     "metadata": {},
     "output_type": "execute_result"
    }
   ],
   "source": [
    "### get stair Path\n",
    "\n",
    "def get_stair_path(n):\n",
    "    if n<0:\n",
    "        return []\n",
    "    if n==0:\n",
    "        return [\"\"]\n",
    "        \n",
    "    paths1 = get_stair_path(n-1)\n",
    "    paths2 = get_stair_path(n-2)\n",
    "    paths3 = get_stair_path(n-3)\n",
    "    paths = []\n",
    "    for path in paths1:\n",
    "        paths.append('1'+path)\n",
    "    for path in paths2:\n",
    "        paths.append('2'+path)\n",
    "    for path in paths3:\n",
    "        paths.append('3'+path)\n",
    "    return paths\n",
    "    \n",
    "    \n",
    "    \n",
    "get_stair_path(5)"
   ]
  },
  {
   "cell_type": "markdown",
   "metadata": {},
   "source": [
    "#### stair path"
   ]
  },
  {
   "cell_type": "code",
   "execution_count": 28,
   "metadata": {},
   "outputs": [
    {
     "data": {
      "text/plain": [
       "13"
      ]
     },
     "execution_count": 28,
     "metadata": {},
     "output_type": "execute_result"
    }
   ],
   "source": [
    "def get_stair_paths(n):\n",
    "    if n == 0:\n",
    "        return 1\n",
    "    if n <0:\n",
    "        return 0\n",
    "    \n",
    "    return get_stair_paths(n-1)+get_stair_paths(n-2)+get_stair_paths(n-3)\n",
    "    \n",
    "    \n",
    "get_stair_paths(5)"
   ]
  },
  {
   "cell_type": "markdown",
   "metadata": {},
   "source": [
    "#### max product ropecutting problem"
   ]
  },
  {
   "cell_type": "code",
   "execution_count": 36,
   "metadata": {},
   "outputs": [
    {
     "data": {
      "text/plain": [
       "2"
      ]
     },
     "execution_count": 36,
     "metadata": {},
     "output_type": "execute_result"
    }
   ],
   "source": [
    "def ropecuts(n, a, b,c):\n",
    "    if n == 0:\n",
    "        return 0\n",
    "    if n<0:\n",
    "        return -1\n",
    "    \n",
    "    res = max((ropecuts(n-a,a,b,c)),\n",
    "    (ropecuts(n-b,a,b,c)),\n",
    "    (ropecuts(n-c,a,b,c)))\n",
    "    if res == -1:\n",
    "        return -1\n",
    "    if res!=-1:\n",
    "        return res+1\n",
    "    \n",
    "    \n",
    "ropecuts(2,1,2,3)"
   ]
  },
  {
   "cell_type": "markdown",
   "metadata": {},
   "source": [
    "You are given N ropes. A cut operation is performed on ropes such that all of them are reduced by the length of the smallest rope. Display the number of ropes left after every cut operation until the length of each rope is zero.\n"
   ]
  },
  {
   "cell_type": "code",
   "execution_count": 42,
   "metadata": {},
   "outputs": [
    {
     "data": {
      "text/plain": [
       "[5, 4, 3, 2]"
      ]
     },
     "execution_count": 42,
     "metadata": {},
     "output_type": "execute_result"
    }
   ],
   "source": [
    "a = [5, 1, 1, 2, 3, 4,5]\n",
    "def RopeCutting(a,n):\n",
    "    a.sort()\n",
    "    res = []\n",
    "    zero = 0\n",
    "    while zero<n:\n",
    "        count = 0\n",
    "        cut = a[zero]\n",
    "        for i in range(len(a)):\n",
    "            a[i]-=cut\n",
    "            if a[i] == 0:\n",
    "                zero+=1\n",
    "            if a[i]>0:\n",
    "                count+=1\n",
    "        if count>0:\n",
    "            res.append(count)\n",
    "    return res\n",
    "         \n",
    "            \n",
    "        \n",
    "        \n",
    "    \n",
    "RopeCutting(a,7)\n"
   ]
  },
  {
   "cell_type": "markdown",
   "metadata": {},
   "source": [
    "#### minimum number of jumps "
   ]
  },
  {
   "cell_type": "code",
   "execution_count": null,
   "metadata": {},
   "outputs": [],
   "source": [
    "a = [2,3,4,5]\n",
    "\n",
    "def mini_jumps(a):\n",
    "    \n",
    "    \n",
    "    \n",
    "mini_jumps(a)"
   ]
  },
  {
   "cell_type": "markdown",
   "metadata": {},
   "source": [
    "### printing  the permutation "
   ]
  },
  {
   "cell_type": "code",
   "execution_count": 20,
   "metadata": {},
   "outputs": [
    {
     "name": "stdout",
     "output_type": "stream",
     "text": [
      "abc\n",
      "acb\n",
      "bac\n",
      "bca\n",
      "cab\n",
      "cba\n"
     ]
    }
   ],
   "source": [
    "a = ['a','b','c']\n",
    "def permutation(a, asf = \"\"):\n",
    "    if len(a) == 0:\n",
    "        print(asf)\n",
    "        return \n",
    "\n",
    "    for i in range(len(a)):\n",
    "        ### replace and then select the character\n",
    "        ch = a[i]\n",
    "        roq = a[0:i]+a[i+1:]\n",
    "        permutation(roq,asf+ch)\n",
    "\n",
    "    \n",
    "permutation(a)"
   ]
  },
  {
   "cell_type": "markdown",
   "metadata": {},
   "source": [
    "### print encodings "
   ]
  },
  {
   "cell_type": "code",
   "execution_count": 49,
   "metadata": {},
   "outputs": [],
   "source": [
    "a = '303'\n",
    "def print_encodings(a, asf = \"\"):\n",
    "    if len(a) == 0:\n",
    "        print(asf)\n",
    "        return\n",
    "    \n",
    "    if a[0] == '0':\n",
    "        return \n",
    "    \n",
    "    ch0 = a[0]\n",
    "    res = a[1:]\n",
    "    letter = chr(ord('a')+int(ch0)-1)\n",
    "    print_encodings(res,asf+letter)\n",
    "    \n",
    "    if len(a)>2:\n",
    "        ch2 = a[:2]\n",
    "        res = a[2:]\n",
    "        if int(ch2)<=26:\n",
    "            letter = chr(ord('a')+int(ch2)-1)\n",
    "            print_encodings(res,asf+letter)\n",
    "        \n",
    "    \n",
    "            \n",
    "        \n",
    "        \n",
    "            \n",
    "    \n",
    "print_encodings(a)"
   ]
  },
  {
   "cell_type": "code",
   "execution_count": 30,
   "metadata": {},
   "outputs": [
    {
     "data": {
      "text/plain": [
       "'c'"
      ]
     },
     "execution_count": 30,
     "metadata": {},
     "output_type": "execute_result"
    }
   ],
   "source": [
    "chr(3+ord('a')-1)"
   ]
  },
  {
   "cell_type": "markdown",
   "metadata": {},
   "source": [
    "#### Target Sum Subset"
   ]
  },
  {
   "cell_type": "code",
   "execution_count": 1,
   "metadata": {},
   "outputs": [
    {
     "name": "stdout",
     "output_type": "stream",
     "text": [
      "1,2,2,\n",
      "1,4,\n",
      "2,3,\n",
      "3,2,\n"
     ]
    }
   ],
   "source": [
    "a = [1,2,3,4,2]\n",
    "tar = 5\n",
    "def target_sum(a, idx,asf,sos,tar):\n",
    "    if idx == len(a):\n",
    "        if sos == tar:\n",
    "            print(asf)\n",
    "            return\n",
    "        else:\n",
    "            return\n",
    "    \n",
    "    target_sum(a,idx+1, asf+str(a[idx])+',', sos+a[idx],tar)\n",
    "    target_sum(a,idx+1, asf, sos,tar)\n",
    "    \n",
    "    \n",
    "    \n",
    "target_sum(a,0, '',0, tar)"
   ]
  },
  {
   "cell_type": "markdown",
   "metadata": {},
   "source": [
    "#### all possible string of lenght k"
   ]
  },
  {
   "cell_type": "code",
   "execution_count": 13,
   "metadata": {},
   "outputs": [
    {
     "name": "stdout",
     "output_type": "stream",
     "text": [
      "aa\n",
      "ab\n",
      "ac\n",
      "ba\n",
      "bb\n",
      "bc\n",
      "ca\n",
      "cb\n",
      "cc\n"
     ]
    }
   ],
   "source": [
    "a = ['a','b','c']\n",
    "\n",
    "def possible_string(a,ans ,n, k):\n",
    "    if k ==0:\n",
    "        print(ans)\n",
    "        return\n",
    "    \n",
    "    for i in range(n):\n",
    "        ch = a[i]\n",
    "        possible_string(a, ans+ch,n, k-1)\n",
    "        \n",
    "    \n",
    "possible_string(a,\"\",3,2)"
   ]
  },
  {
   "cell_type": "markdown",
   "metadata": {},
   "source": [
    "### print maze path "
   ]
  },
  {
   "cell_type": "markdown",
   "metadata": {},
   "source": [
    " when only horizontal and vertical motion is allowed\n",
    " \n",
    " total number of path available"
   ]
  },
  {
   "cell_type": "code",
   "execution_count": 4,
   "metadata": {},
   "outputs": [
    {
     "data": {
      "text/plain": [
       "6"
      ]
     },
     "execution_count": 4,
     "metadata": {},
     "output_type": "execute_result"
    }
   ],
   "source": [
    "def print_maze(n,i = 0,j=0):\n",
    "    if j>n-1 or i>n-1:\n",
    "        return 0\n",
    "    if i == n-1 and j == n-1:\n",
    "        return 1\n",
    "\n",
    "    \n",
    "    return print_maze(n,i+1,j)+print_maze(n,i,j+1)\n",
    "\n",
    "    \n",
    "print_maze(3)"
   ]
  },
  {
   "cell_type": "markdown",
   "metadata": {},
   "source": [
    "when diagonal movement also allowed"
   ]
  },
  {
   "cell_type": "code",
   "execution_count": 6,
   "metadata": {},
   "outputs": [
    {
     "data": {
      "text/plain": [
       "13"
      ]
     },
     "execution_count": 6,
     "metadata": {},
     "output_type": "execute_result"
    }
   ],
   "source": [
    "def print_maze(n,i = 0,j=0):\n",
    "    if j>n-1 or i>n-1:\n",
    "        return 0\n",
    "    if i == n-1 and j == n-1:\n",
    "        return 1\n",
    "\n",
    "    \n",
    "    return print_maze(n,i+1,j)+print_maze(n,i,j+1)+print_maze(n,i+1,j+1)\n",
    "\n",
    "    \n",
    "print_maze(3)"
   ]
  },
  {
   "cell_type": "markdown",
   "metadata": {},
   "source": [
    "counting the number of path of maze with jumps(get maze paths)"
   ]
  },
  {
   "cell_type": "code",
   "execution_count": 1,
   "metadata": {},
   "outputs": [
    {
     "data": {
      "text/plain": [
       "13"
      ]
     },
     "execution_count": 1,
     "metadata": {},
     "output_type": "execute_result"
    }
   ],
   "source": [
    "def print_maze(n,i = 0,j=0):\n",
    "    if j>n-1 or i>n-1:\n",
    "        return 0\n",
    "    if i == n-1 and j == n-1:\n",
    "        return 1\n",
    "\n",
    "    for jump in range(1, n):\n",
    "        return print_maze(n,i+jump,j)+print_maze(n,i,j+jump)+print_maze(n,i+jump,j+jump)\n",
    "\n",
    "    \n",
    "print_maze(3)"
   ]
  },
  {
   "cell_type": "markdown",
   "metadata": {},
   "source": [
    "#### printing maze path ( lo to hi recursion)"
   ]
  },
  {
   "cell_type": "code",
   "execution_count": 13,
   "metadata": {},
   "outputs": [
    {
     "name": "stdout",
     "output_type": "stream",
     "text": [
      "h1h1v1v1\n",
      "h1h1v2\n",
      "h1v1h1v1\n",
      "h1v1v1h1\n",
      "h1v1d1\n",
      "h1v2h1\n",
      "h1d1v1\n",
      "h2v1v1\n",
      "h2v2\n",
      "v1h1h1v1\n",
      "v1h1v1h1\n",
      "v1h1d1\n",
      "v1h2v1\n",
      "v1v1h1h1\n",
      "v1v1h2\n",
      "v1d1h1\n",
      "v2h1h1\n",
      "v2h2\n",
      "d1h1v1\n",
      "d1v1h1\n",
      "d1d1\n",
      "d2\n"
     ]
    }
   ],
   "source": [
    "def get_maze_path(sr,sc,dr,dc, asf = ''):\n",
    "    if sr>dr or sc>dc:\n",
    "        return\n",
    "    if sc==dc and sr == dr:\n",
    "        print(asf)\n",
    "    \n",
    "    for jump in range(1, dc+1): ### vertical jumps\n",
    "        if sc+jump<=dc:\n",
    "            get_maze_path(sr,sc+jump,dr, dc ,asf+'h'+str(jump))         \n",
    "        \n",
    "    for jump in range(1, dr+1):  # horizontal jumps\n",
    "        if sr+jump <= dr:\n",
    "            get_maze_path(sr+jump,sc,dr,dc, asf+'v'+ str(jump))         \n",
    "    \n",
    "    for jump in range(1, dr+1):\n",
    "        if sr+jump <= dr and sc+jump<= dc:\n",
    "            get_maze_path(sr+jump,sc+jump,dr,dc, asf+'d'+ str(jump))         \n",
    "    \n",
    "        \n",
    "            \n",
    "    \n",
    "    \n",
    "get_maze_path(0,0,2,2)         \n"
   ]
  },
  {
   "cell_type": "code",
   "execution_count": null,
   "metadata": {},
   "outputs": [],
   "source": []
  }
 ],
 "metadata": {
  "kernelspec": {
   "display_name": "Python 3",
   "language": "python",
   "name": "python3"
  },
  "language_info": {
   "codemirror_mode": {
    "name": "ipython",
    "version": 3
   },
   "file_extension": ".py",
   "mimetype": "text/x-python",
   "name": "python",
   "nbconvert_exporter": "python",
   "pygments_lexer": "ipython3",
   "version": "3.8.5"
  }
 },
 "nbformat": 4,
 "nbformat_minor": 4
}
