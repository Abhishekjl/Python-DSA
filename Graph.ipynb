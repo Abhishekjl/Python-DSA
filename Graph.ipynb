{
 "cells": [
  {
   "cell_type": "code",
   "execution_count": 1,
   "metadata": {},
   "outputs": [],
   "source": [
    "class Graph:\n",
    "    def __init__(self, edges):\n",
    "        self.edges = edges\n",
    "        self.graph_dict = {}\n",
    "        for start,end in self.edges:\n",
    "            if start in self.graph_dict:\n",
    "                self.graph_dict[start].append(end)\n",
    "            else:\n",
    "                self.graph_dict[start] = [end]\n",
    "        \n",
    "        \n",
    "    def get_paths(self, start, end, path = []):\n",
    "        path = path + [start]\n",
    "        \n",
    "        if start == end:\n",
    "            return [path]\n",
    "        \n",
    "        if start not in self.graph_dict:\n",
    "            return []\n",
    "        \n",
    "        paths = []\n",
    "        for node in self.graph_dict[start]:\n",
    "            if node not in paths:\n",
    "                new_paths = self.get_paths(node, end, path)\n",
    "                for p in new_paths:\n",
    "                    paths.append(p)\n",
    "        return paths\n",
    "        \n",
    "        \n",
    "        \n",
    "        \n",
    "        \n",
    "routes = [\n",
    "    ('Mumbai','Paris'),\n",
    "    ('Mumbai','Dubai'),\n",
    "    ('Paris','Dubai'),\n",
    "    ('Paris','NewYork'),\n",
    "    ('Dubai','NewYork'),\n",
    "    ('NewYork','Toronto')\n",
    "]"
   ]
  },
  {
   "cell_type": "code",
   "execution_count": 2,
   "metadata": {},
   "outputs": [],
   "source": [
    "graph = Graph(routes)"
   ]
  },
  {
   "cell_type": "code",
   "execution_count": 3,
   "metadata": {},
   "outputs": [
    {
     "data": {
      "text/plain": [
       "[['Paris', 'Dubai', 'NewYork', 'Toronto'], ['Paris', 'NewYork', 'Toronto']]"
      ]
     },
     "execution_count": 3,
     "metadata": {},
     "output_type": "execute_result"
    }
   ],
   "source": [
    "graph.get_paths('Paris','Toronto')"
   ]
  },
  {
   "cell_type": "markdown",
   "metadata": {},
   "source": [
    "#### Graph"
   ]
  },
  {
   "cell_type": "code",
   "execution_count": 4,
   "metadata": {},
   "outputs": [],
   "source": [
    "class Graph:\n",
    "    def __init__(self, gdict = None):\n",
    "        if gdict is None:\n",
    "            gdict = {}\n",
    "        self.gdict = gdict\n",
    "    def addEdge(self, vertex, edge): # it will be used to create new path\n",
    "        self.gdict[vertex].append(edge)\n",
    "        \n",
    "    \n",
    "customDict = {'a':['b','c'],\n",
    "             'b':['a','d','e'],\n",
    "              'c':['a','e'],\n",
    "              'd':['b','e','f'],\n",
    "              'e':['d','f'],\n",
    "              'f':['d','e']\n",
    "            \n",
    "             }\n",
    "\n",
    "graph = Graph(customDict)"
   ]
  },
  {
   "cell_type": "code",
   "execution_count": 5,
   "metadata": {},
   "outputs": [
    {
     "name": "stdout",
     "output_type": "stream",
     "text": [
      "{'a': ['b', 'c'], 'b': ['a', 'd', 'e'], 'c': ['a', 'e'], 'd': ['b', 'e', 'f'], 'e': ['d', 'f'], 'f': ['d', 'e']}\n"
     ]
    }
   ],
   "source": [
    "print(graph.gdict)"
   ]
  },
  {
   "cell_type": "code",
   "execution_count": 6,
   "metadata": {},
   "outputs": [],
   "source": [
    "graph.addEdge('d','a')"
   ]
  },
  {
   "cell_type": "code",
   "execution_count": 7,
   "metadata": {},
   "outputs": [
    {
     "name": "stdout",
     "output_type": "stream",
     "text": [
      "{'a': ['b', 'c'], 'b': ['a', 'd', 'e'], 'c': ['a', 'e'], 'd': ['b', 'e', 'f', 'a'], 'e': ['d', 'f'], 'f': ['d', 'e']}\n"
     ]
    }
   ],
   "source": [
    "\n",
    "print(graph.gdict)"
   ]
  },
  {
   "cell_type": "markdown",
   "metadata": {},
   "source": [
    "### Breadth First Search \n",
    "it uses queue "
   ]
  },
  {
   "cell_type": "code",
   "execution_count": 18,
   "metadata": {},
   "outputs": [],
   "source": [
    "class Graph:\n",
    "    def __init__(self, gdict = None):\n",
    "        if gdict is None:\n",
    "            gdict = {}\n",
    "        self.gdict = gdict\n",
    "    def addEdge(self, vertex, edge): # it will be used to create new path\n",
    "        self.gdict[vertex].append(edge)\n",
    "        \n",
    "    def bfs(self, vertex):\n",
    "        visited = [vertex]\n",
    "        queue = [vertex]\n",
    "        while queue:\n",
    "            deVertex = queue.pop(0)\n",
    "            print(deVertex)\n",
    "            for adjacent_vertex in self.gdict[deVertex]:\n",
    "                if adjacent_vertex not in visited:\n",
    "                    visited.append(adjacent_vertex)\n",
    "                    queue.append(adjacent_vertex)\n",
    "                \n",
    "    def dfs(self, vertex):\n",
    "        visited = [vertex]\n",
    "        stack = [vertex]\n",
    "        while stack:\n",
    "            popVertex = stack.pop() # it will pop from last\n",
    "            print(popVertex)\n",
    "            for adjacent_vertex in self.gdict[popVertex]:\n",
    "                if adjacent_vertex not in visited:\n",
    "                    visited.append(adjacent_vertex)\n",
    "                    stack.append(adjacent_vertex)\n",
    "        \n",
    "    \n",
    "customDict = {'a':['b','c'],\n",
    "             'b':['a','d','e'],\n",
    "              'c':['a','e'],\n",
    "              'd':['b','e','f'],\n",
    "              'e':['d','f','c'],\n",
    "              'f':['d','e']\n",
    "            \n",
    "             }\n",
    "\n",
    "graph = Graph(customDict)"
   ]
  },
  {
   "cell_type": "code",
   "execution_count": 19,
   "metadata": {},
   "outputs": [
    {
     "name": "stdout",
     "output_type": "stream",
     "text": [
      "a\n",
      "b\n",
      "c\n",
      "d\n",
      "e\n",
      "f\n"
     ]
    }
   ],
   "source": [
    "graph.bfs('a')"
   ]
  },
  {
   "cell_type": "code",
   "execution_count": 20,
   "metadata": {},
   "outputs": [
    {
     "name": "stdout",
     "output_type": "stream",
     "text": [
      "a\n",
      "c\n",
      "e\n",
      "f\n",
      "d\n",
      "b\n"
     ]
    }
   ],
   "source": [
    "graph.dfs('a')"
   ]
  },
  {
   "cell_type": "markdown",
   "metadata": {},
   "source": [
    "#### shortest path algorithm\n",
    "breadth first search"
   ]
  },
  {
   "cell_type": "code",
   "execution_count": 31,
   "metadata": {},
   "outputs": [],
   "source": [
    "class Graph:\n",
    "    def __init__(self, gdict = None):\n",
    "        if gdict is None:\n",
    "            gdict = {}\n",
    "        self.gdict = gdict\n",
    "    def addEdge(self, vertex, edge): # it will be used to create new path\n",
    "        self.gdict[vertex].append(edge)\n",
    "        \n",
    "    def bfs_paths(self, start, end):\n",
    "        queue = []\n",
    "        queue.append([start])\n",
    "        while queue:\n",
    "            path = queue.pop(0)\n",
    "            node = path[-1] # were we are matchingthelast element with end\n",
    "            if node == end:\n",
    "                return path\n",
    "            \n",
    "            for adjacent in self.gdict.get(node, []):\n",
    "                new_path = list(path)\n",
    "                new_path.append(adjacent)\n",
    "                queue.append(new_path)\n",
    "            \n",
    "   \n",
    "        \n",
    "    \n",
    "customDict = {'a':['b','c'],\n",
    "             'b':['a','d','e'],\n",
    "              'c':['a','e'],\n",
    "              'd':['b','e','f'],\n",
    "              'e':['d','f','c'],\n",
    "              'f':['d','e']\n",
    "            \n",
    "             }\n",
    "\n",
    "graph = Graph(customDict)"
   ]
  },
  {
   "cell_type": "code",
   "execution_count": 32,
   "metadata": {},
   "outputs": [
    {
     "data": {
      "text/plain": [
       "['a', 'b', 'd', 'f']"
      ]
     },
     "execution_count": 32,
     "metadata": {},
     "output_type": "execute_result"
    }
   ],
   "source": [
    "graph.bfs_paths('a','f')"
   ]
  },
  {
   "cell_type": "markdown",
   "metadata": {},
   "source": [
    "### Dijkstra's Algorithms for SSSP \n",
    "for weighted graph"
   ]
  },
  {
   "cell_type": "code",
   "execution_count": null,
   "metadata": {},
   "outputs": [],
   "source": [
    "from collections import defaultdict\n",
    "clss Graph:\n",
    "    def __init__(self):\n",
    "        self.nodes = set()\n",
    "        self.edges = defaultdict(list)\n",
    "        self.distances = {}\n",
    "        \n",
    "    def addNode(self,value):\n",
    "        self.node.add(value)\n",
    "    def addEdge(self, fromNode, toNode, distance):\n",
    "        self.edges[fromNode].append(toNode)\n",
    "        self.distances[(fromNode,toNode)] = distance\n",
    "    \n",
    "def dijkstra(graph, initial):\n",
    "    visited = {'initial':0}\n",
    "    path = defaultdict(list())\n",
    "    nodes = set(graph.nodes)\n",
    "    while nodes:\n",
    "        minNode = None\n",
    "        for node in nodes:\n",
    "            if node in visited:\n",
    "                if minNode is None:\n",
    "                    minNode = node\n",
    "                elif visited[node] = visited[minNode]"
   ]
  }
 ],
 "metadata": {
  "kernelspec": {
   "display_name": "Python 3",
   "language": "python",
   "name": "python3"
  },
  "language_info": {
   "codemirror_mode": {
    "name": "ipython",
    "version": 3
   },
   "file_extension": ".py",
   "mimetype": "text/x-python",
   "name": "python",
   "nbconvert_exporter": "python",
   "pygments_lexer": "ipython3",
   "version": "3.8.5"
  }
 },
 "nbformat": 4,
 "nbformat_minor": 5
}
