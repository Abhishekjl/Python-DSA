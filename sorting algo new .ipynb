{
 "cells": [
  {
   "cell_type": "markdown",
   "metadata": {},
   "source": [
    "#### Bubble Sort \n",
    "Time complexity O(N^2)\n",
    "Space complexity O(1)\n"
   ]
  },
  {
   "cell_type": "code",
   "execution_count": 4,
   "metadata": {},
   "outputs": [
    {
     "name": "stdout",
     "output_type": "stream",
     "text": [
      "[-1, 1, 1, 2, 3, 19, 45]\n"
     ]
    }
   ],
   "source": [
    "def bubblesort(a):\n",
    "    for i in range(len(a)):\n",
    "        shuffle = False\n",
    "        for i in range(len(a)-1):\n",
    "            if a[i]>a[i+1]:\n",
    "                a[i+1],a[i] = a[i],a[i+1]\n",
    "                shuffle = True\n",
    "        if shuffle == False:\n",
    "            break\n",
    "                \n",
    "    print(a)\n",
    "        \n",
    "bubblesort([1,3,2,19,1,45,-1])"
   ]
  },
  {
   "cell_type": "markdown",
   "metadata": {},
   "source": [
    "### Insertion sort\n",
    "finding minimum and maximum element and move it to sorted path\n",
    "\n",
    "Time complexity O(N^2)\n",
    "\n",
    "Space complexity O(1)"
   ]
  },
  {
   "cell_type": "code",
   "execution_count": 6,
   "metadata": {},
   "outputs": [
    {
     "name": "stdout",
     "output_type": "stream",
     "text": [
      "[-1, -1, 0, 1, 1, 2, 3, 19, 45, 45, 78]\n"
     ]
    }
   ],
   "source": [
    "arr = [0,-1,78,45,1,3,2,19,1,45,-1]\n",
    "def insertionsort(a):\n",
    "    for i in range(1, len(a)):\n",
    "        j = i-1\n",
    "        key = a[i]\n",
    "        \n",
    "        while key <= a[j] and j>=0:\n",
    "\n",
    "            \n",
    "            a[j+1] = a[j]\n",
    "            j-=1\n",
    "        a[j+1] = key\n",
    "    print(a)\n",
    "\n",
    "insertionsort(arr)\n"
   ]
  },
  {
   "cell_type": "markdown",
   "metadata": {},
   "source": [
    "#### Selection sort\n",
    "\n",
    "time complexity O(N^2)\n",
    "\n",
    "spacecomplexity O(1)"
   ]
  },
  {
   "cell_type": "code",
   "execution_count": 7,
   "metadata": {},
   "outputs": [
    {
     "name": "stdout",
     "output_type": "stream",
     "text": [
      "[-45, -1, 2, 45, 435, 2345, 40000]\n"
     ]
    }
   ],
   "source": [
    "a = [-1,45,-45,435,2,2345,40000]\n",
    "def selectionsort(a):\n",
    "    low = 0\n",
    "    high = len(a)-1\n",
    "    for i in range(len(a)):\n",
    "        max_value = 0\n",
    "        for i in range(low,high+1):\n",
    "            if a[i]> a[max_value]:\n",
    "                max_value = i\n",
    "        ###K swapping \n",
    "        a[max_value] , a[high] = a[high], a[max_value]\n",
    "        high -=1\n",
    "    print(a)\n",
    "        \n",
    "        \n",
    "selectionsort(a)\n",
    "        \n",
    "\n",
    "        \n"
   ]
  },
  {
   "cell_type": "code",
   "execution_count": 8,
   "metadata": {
    "scrolled": true
   },
   "outputs": [
    {
     "name": "stdout",
     "output_type": "stream",
     "text": [
      "[-45, -1, 2, 45, 435, 2345, 40000]\n"
     ]
    }
   ],
   "source": [
    "import sys\n",
    "a = [-1,45,-45,435,2,2345,40000]\n",
    "\n",
    "def selectionsort(a):\n",
    "    low = 0\n",
    "    for i in range(len(a)):\n",
    "        min_ = i\n",
    "        for j in range(i,len(a)):\n",
    "            if a[j]<a[min_]:\n",
    "                min_ = j\n",
    "        a[low],a[min_] = a[min_],a[low]\n",
    "        low+=1\n",
    "    print(a)\n",
    "            \n",
    "    \n",
    "selectionsort(a)"
   ]
  },
  {
   "cell_type": "markdown",
   "metadata": {},
   "source": [
    "#### mergesort"
   ]
  },
  {
   "cell_type": "code",
   "execution_count": 9,
   "metadata": {},
   "outputs": [
    {
     "data": {
      "text/plain": [
       "[-1, 1, 2, 3, 3, 4, 5, 6, 7, 9]"
      ]
     },
     "execution_count": 9,
     "metadata": {},
     "output_type": "execute_result"
    }
   ],
   "source": [
    "def mergearray(arr1,arr2):\n",
    "    n = len(arr1)+len(arr2)\n",
    "    arr = [0]*n\n",
    "    i = j= k = 0\n",
    "    while i<len(arr1) and j<len(arr2):\n",
    "        if arr1[i]<arr2[j]:\n",
    "            arr[k] = arr1[i]\n",
    "            i+=1\n",
    "            k+=1\n",
    "            \n",
    "        elif arr1[i] == arr2[j]:\n",
    "            arr[k] = arr1[i]\n",
    "            i+=1\n",
    "            k+=1\n",
    "            arr[k] = arr2[j]\n",
    "            j+=1\n",
    "            k+=1\n",
    "        else:\n",
    "            arr[k] = arr2[j]\n",
    "            j+=1\n",
    "            k+=1\n",
    "    while i<len(arr1):\n",
    "        arr[k] = arr1[i]\n",
    "        i+=1\n",
    "        k+=1\n",
    "    while j<len(arr2):\n",
    "        arr[k] = arr2[j]\n",
    "        j+=1\n",
    "        k+=1\n",
    "        \n",
    "    return arr\n",
    "\n",
    "\n",
    "\n",
    "# mergearray([-1,3,7,9],[1,2,3,4,5,6])\n",
    "\n",
    "def mergesort(a):\n",
    "    if len(a)==1:\n",
    "        return a\n",
    "    mid = len(a)//2\n",
    "    left = a[:mid]\n",
    "    right  = a[mid:]\n",
    "    left_sorted = mergesort(left)\n",
    "    right_sorted = mergesort(right)\n",
    "    fsa = mergearray(left_sorted,right_sorted)\n",
    "    return fsa\n",
    " \n",
    "mergesort([-1,3,7,9,1,2,3,4,5,6])\n"
   ]
  },
  {
   "cell_type": "markdown",
   "metadata": {},
   "source": [
    "#### selection sort "
   ]
  },
  {
   "cell_type": "code",
   "execution_count": 11,
   "metadata": {},
   "outputs": [
    {
     "name": "stdout",
     "output_type": "stream",
     "text": [
      "[3, 4, 1, 2, 5, 8, 7, 6]\n",
      "4\n"
     ]
    }
   ],
   "source": [
    "a = [3,8,4,7,6,1,2,5]\n",
    "\n",
    "def partition(a, pvt):\n",
    "    i = 0\n",
    "    j = 0\n",
    "### taking 3 region \n",
    "### less than pvt 0 <-> j-1\n",
    "### greter than pvt j <---> i-1\n",
    "###  unknow i <----> end\n",
    "    while i<len(a):\n",
    "\n",
    "        if a[i]>pvt:\n",
    "            i+=1\n",
    "\n",
    "        elif a[i]<=pvt:\n",
    "            a[i], a[j] = a[j],a[i]\n",
    "            i+=1\n",
    "\n",
    "            j+=1\n",
    "    print(a)\n",
    "    print(j-1)\n",
    "partition(a, 5)"
   ]
  },
  {
   "cell_type": "code",
   "execution_count": 10,
   "metadata": {},
   "outputs": [
    {
     "name": "stdout",
     "output_type": "stream",
     "text": [
      "[-1, 2, 3, 4, 6, 8, 7, 9, 12, 32, 16]\n",
      "[-1, 2, 3, 4, 6, 7, 8, 9, 12, 32, 16]\n",
      "[-1, 2, 3, 4, 6, 7, 8, 9, 12, 32, 16]\n",
      "[-1, 2, 3, 4, 6, 7, 8, 9, 12, 32, 16]\n",
      "[-1, 2, 3, 4, 6, 7, 8, 9, 12, 32, 16]\n",
      "[-1, 2, 3, 4, 6, 7, 8, 9, 12, 16, 32]\n",
      "[-1, 2, 3, 4, 6, 7, 8, 9, 12, 16, 32]\n"
     ]
    }
   ],
   "source": [
    "\n",
    "a = [7,9,4,8,-1,3,6,2,16,32,12]\n",
    "\n",
    "def partition(a,left, right):\n",
    "    pivot = right\n",
    "    ### 0-j-1 --> samller or equal to pivot \n",
    "    ### j-i-1 ---> bigger than pivot \n",
    "    #### unknow ( i - end)\n",
    "    i = left\n",
    "    j = left\n",
    "    while i<=right:\n",
    "        if a[i]<=a[pivot]:\n",
    "            a[i],a[j] = a[j],a[i]\n",
    "            i+=1\n",
    "            j+=1\n",
    "        elif a[i]>a[pivot]:\n",
    "            i+=1\n",
    "#     print(a)\n",
    "    return(j-1)\n",
    "\n",
    "\n",
    "# partition(a,0,len(a)-1) \n",
    "# def quicksort(a,left,right):\n",
    "#     for i in range(len(a)):\n",
    "#         a[right],a[i] = a[i],a[right]\n",
    "#         partition(a, left,right)\n",
    "#     print(a)\n",
    "\n",
    "def quicksort(a,left,right):\n",
    "    if left >= right:\n",
    "        return\n",
    "    if left<right:\n",
    "        pvt_index = partition(a,left,right)\n",
    "        quicksort(a,left,pvt_index-1)\n",
    "        quicksort(a,pvt_index+1,right)\n",
    "    print(a)\n",
    "    \n",
    "quicksort(a,0,len(a)-1)"
   ]
  },
  {
   "cell_type": "markdown",
   "metadata": {},
   "source": [
    "#### seperate even odd without changing the order "
   ]
  },
  {
   "cell_type": "code",
   "execution_count": 33,
   "metadata": {},
   "outputs": [
    {
     "name": "stdout",
     "output_type": "stream",
     "text": [
      "[2, 4, 8, 5, 3, 7, 3, 3, 3]\n"
     ]
    }
   ],
   "source": [
    "a = [2,3,4,5,8,7,3,3,3]\n",
    "\n",
    "def seperate(a):\n",
    "    j = 0\n",
    "    i = 0\n",
    "    while i<len(a):\n",
    "        if a[i]%2 == 0:\n",
    "            a[i],a[j] = a[j],a[i]\n",
    "            j+=1\n",
    "            i+=1\n",
    "        else:\n",
    "            i+=1\n",
    "    print(a)\n",
    "    \n",
    "    \n",
    "def seperate2(a):\n",
    "    j = len(a)-1\n",
    "    i = 0\n",
    "    while i<j:\n",
    "        if a[i]%2 != 0:\n",
    "            a[i],a[j] = a[j],a[i]\n",
    "            j-=1\n",
    "        else:\n",
    "            i+=1\n",
    "    print(a)\n",
    "seperate(a)"
   ]
  },
  {
   "cell_type": "markdown",
   "metadata": {},
   "source": [
    "#### most swap required in inserstion sort and less swap in selection sort "
   ]
  },
  {
   "cell_type": "markdown",
   "metadata": {},
   "source": [
    "#### partition at any index"
   ]
  },
  {
   "cell_type": "code",
   "execution_count": 34,
   "metadata": {},
   "outputs": [
    {
     "name": "stdout",
     "output_type": "stream",
     "text": [
      "[3, 1, 2, 4, 6, 8, 5, 7]\n"
     ]
    },
    {
     "data": {
      "text/plain": [
       "3"
      ]
     },
     "execution_count": 34,
     "metadata": {},
     "output_type": "execute_result"
    }
   ],
   "source": [
    "a = [3,8,4,7,6,1,2,5]\n",
    "def partition_at_any_index(a, pvt_index):\n",
    "    i = 0\n",
    "    j = 0\n",
    "    a[pvt_index],a[-1] = a[-1],a[pvt_index] # converting back into lumotu partition\n",
    "    pvt_index = len(a)-1\n",
    "    while i<len(a):\n",
    "        \n",
    "        if a[i]>a[pvt_index]:\n",
    "            i+=1\n",
    "        else:\n",
    "            a[i],a[j] = a[j],a[i]\n",
    "            i+=1\n",
    "            j+=1\n",
    "    print(a)\n",
    "    return j-1\n",
    "\n",
    "partition_at_any_index(a,2)"
   ]
  },
  {
   "cell_type": "code",
   "execution_count": 35,
   "metadata": {},
   "outputs": [
    {
     "name": "stdout",
     "output_type": "stream",
     "text": [
      "[0, 0, 0, 1, 1, 1, 1, 1]\n"
     ]
    }
   ],
   "source": [
    "a =[0,1,0,1,0,1,1,1]\n",
    "def sort01(a):\n",
    "    j = 0\n",
    "    i = 0\n",
    "    while i<len(a):\n",
    "        if a[i] == 0:\n",
    "            a[j],a[i] = a[i],a[j]\n",
    "            j+=1\n",
    "            i+=1\n",
    "        else:\n",
    "            i+=1\n",
    "    print(a)\n",
    "\n",
    "def sort01(a):\n",
    "    j = len(a)-1\n",
    "    i  = 0\n",
    "    while i<=j:\n",
    "        if a[i]==1:\n",
    "            a[i],a[j] = a[j],a[i]\n",
    "            j-=1\n",
    "        else:\n",
    "            i+=1\n",
    "    print(a)\n",
    "        \n",
    "    \n",
    "sort01(a)\n",
    "            "
   ]
  },
  {
   "cell_type": "markdown",
   "metadata": {},
   "source": [
    "### Target sum pair \n",
    "\n",
    "find the pair of number having sum == s in less than O(n**2) time complexity"
   ]
  },
  {
   "cell_type": "code",
   "execution_count": 38,
   "metadata": {},
   "outputs": [
    {
     "name": "stdout",
     "output_type": "stream",
     "text": [
      "3 12\n",
      "4 11\n",
      "6 9\n"
     ]
    }
   ],
   "source": [
    "a =[7,15,3,18,6,4,19,2,12,11,9]\n",
    "\n",
    "def sum_target(a,target):\n",
    "    a.sort()\n",
    "    i = 0\n",
    "    j = len(a)-1\n",
    "    while i<=j:\n",
    "        if a[i]+a[j]>target:\n",
    "            j-=1\n",
    "        elif a[i]+a[j]<target:\n",
    "            i+=1\n",
    "        else:\n",
    "            print(a[i],a[j])\n",
    "            i+=1\n",
    "            \n",
    "sum_target(a,15)"
   ]
  },
  {
   "cell_type": "markdown",
   "metadata": {},
   "source": [
    "#### Count Sort algo ( stable algorithm) for maximum number of values having low range"
   ]
  },
  {
   "cell_type": "code",
   "execution_count": 51,
   "metadata": {},
   "outputs": [
    {
     "name": "stdout",
     "output_type": "stream",
     "text": [
      "[1, 3, 3, 3, 4, 4, 5, 5, 6, 6, 6, 8, 9, 9, 9, 9, 11]\n"
     ]
    }
   ],
   "source": [
    "import sys\n",
    "a = [9,6,3,5,3,4,3,9,6,4,6,1,5,8,9,9,11]\n",
    "\n",
    "def find_max_min(a):\n",
    "    max_ = -sys.maxsize\n",
    "    min_ = sys.maxsize\n",
    "    for i in a:\n",
    "        if i>max_:\n",
    "            max_ = i\n",
    "        if i<min_:\n",
    "            min_ = i\n",
    "    return min_,max_\n",
    "min_, max_ = find_max_min(a)\n",
    "\n",
    "def countsort(a,min_,max_):\n",
    "    n = (max_-min_+1)\n",
    "    record = [0]*n\n",
    "    ans = [0]*len(a)\n",
    "    for i in a:\n",
    "        record[i-min_]+=1\n",
    "        \n",
    "    ### building prefix sum \n",
    "    for i in range(1, len(record)):\n",
    "        record[i] = record[i-1]+record[i]\n",
    "    ### decreasing everything by 1\n",
    "    for i in range(len(record)):\n",
    "        record[i] -=1\n",
    "        \n",
    "    ### assigning values \n",
    "    for i in reversed(a):\n",
    "        idx = record[i-min_]\n",
    "        ans[idx] = i\n",
    "        record[i-min_] -=1\n",
    "    print(ans)\n",
    "        \n",
    "countsort(a,min_,max_)\n",
    "            "
   ]
  },
  {
   "cell_type": "markdown",
   "metadata": {},
   "source": [
    "#### count the number of triangle possible \n",
    "\n",
    "sum of two side greater than the third side "
   ]
  },
  {
   "cell_type": "code",
   "execution_count": 61,
   "metadata": {},
   "outputs": [
    {
     "name": "stdout",
     "output_type": "stream",
     "text": [
      "10\n"
     ]
    }
   ],
   "source": [
    "a = [6,4,9,8,6]\n",
    "def count_triangle(a):\n",
    "    count = 0\n",
    "    for i in range(len(a)-2):\n",
    "        for j in range(i+1,len(a)):\n",
    "            k = j+1\n",
    "            while k<len(a) and a[i]+a[j]>a[k]:\n",
    "                    count+=1\n",
    "                    k+=1\n",
    "    print(count)\n",
    "\n",
    "    \n",
    "    \n",
    "#### efficient approach \n",
    "def count_triangle(a):\n",
    "    count = 0\n",
    "    for i in reversed(range(len(a))):\n",
    "        l = 0\n",
    "        r = i-1\n",
    "        while l<r:\n",
    "            if a[l]+a[r]>a[i]:\n",
    "                count +=(r-l)\n",
    "                r-=1\n",
    "            else:\n",
    "                l+=1\n",
    "        \n",
    "    print(count)\n",
    "        \n",
    "        \n",
    "count_triangle(a)\n",
    "    "
   ]
  },
  {
   "cell_type": "markdown",
   "metadata": {},
   "source": [
    "#### split the subarray according to the given sum"
   ]
  },
  {
   "cell_type": "code",
   "execution_count": 2,
   "metadata": {},
   "outputs": [
    {
     "name": "stdout",
     "output_type": "stream",
     "text": [
      "3\n"
     ]
    }
   ],
   "source": [
    "a = [ 1 , 2 , 3 , 4 , 5 , 5  ]\n",
    "### here array must be sorted\n",
    "def split_equilibrium(a):\n",
    "    r_sum = sum(a)\n",
    "    l_sum = 0\n",
    "    i  = 0\n",
    "    while i < len(a):\n",
    "        l_sum+=a[i]\n",
    "        r_sum -= a[i]\n",
    "        if l_sum == r_sum:\n",
    "            print(i)\n",
    "        i+=1\n",
    "            \n",
    "split_equilibrium(a)\n",
    "        "
   ]
  },
  {
   "cell_type": "markdown",
   "metadata": {},
   "source": [
    "### finding the equilibrium point"
   ]
  },
  {
   "cell_type": "code",
   "execution_count": 3,
   "metadata": {},
   "outputs": [
    {
     "name": "stdout",
     "output_type": "stream",
     "text": [
      "5\n"
     ]
    }
   ],
   "source": [
    "a = [3,4,6,5,8,7,-2]\n",
    "def equilibrium_pt(a):\n",
    "    r_sum = sum(a)-a[0]\n",
    "    l_sum =0\n",
    "    i = 1\n",
    "    while i<len(a):\n",
    "        l_sum+=a[i-1]\n",
    "        r_sum -=a[i]\n",
    "        if l_sum == r_sum:\n",
    "            print(a[i])\n",
    "        i+=1\n",
    "        \n",
    "equilibrium_pt(a)"
   ]
  },
  {
   "cell_type": "markdown",
   "metadata": {},
   "source": [
    "### kth smallest largest"
   ]
  },
  {
   "cell_type": "code",
   "execution_count": 30,
   "metadata": {},
   "outputs": [
    {
     "data": {
      "text/plain": [
       "7"
      ]
     },
     "execution_count": 30,
     "metadata": {},
     "output_type": "execute_result"
    }
   ],
   "source": [
    "a =[7 ,10, 4, 3, 20, 15]\n",
    "\n",
    "def partition(a,left, right):\n",
    "    pivot = right\n",
    "    ### 0-j-1 --> samller or equal to pivot \n",
    "    ### j-i-1 ---> bigger than pivot \n",
    "    #### unknow ( i - end)\n",
    "    i = left\n",
    "    j = left\n",
    "    while i<=right:\n",
    "        if a[i]<=a[pivot]:\n",
    "            a[i],a[j] = a[j],a[i]\n",
    "            i+=1\n",
    "            j+=1\n",
    "        elif a[i]>a[pivot]:\n",
    "            i+=1\n",
    "#     print(a)\n",
    "    return(j-1)\n",
    "\n",
    "def kth_smallest(a,k,low = 0,high = len(a)-1):\n",
    "    index = k-1 ### kth smallest means k-1 in index\n",
    "    pvt_index = partition(a,low,high)\n",
    "    if pvt_index>index:\n",
    "        return kth_smallest(a,k,low,pvt_index-1)\n",
    "    elif index>pvt_index:\n",
    "        return kth_smallest(a,k,pvt_index+1,high)\n",
    "    else:\n",
    "        if pvt_index == index:\n",
    "            return a[pvt_index]\n",
    "        \n",
    "kth_smallest(a,3)"
   ]
  },
  {
   "cell_type": "markdown",
   "metadata": {},
   "source": [
    "### for kth biggest \n",
    "\n",
    "kth biggest-->n-kth+1 smallest element  "
   ]
  },
  {
   "cell_type": "code",
   "execution_count": 10,
   "metadata": {},
   "outputs": [
    {
     "data": {
      "text/plain": [
       "5"
      ]
     },
     "execution_count": 10,
     "metadata": {},
     "output_type": "execute_result"
    }
   ],
   "source": [
    "a =[ 1,2,3,4,5,6]\n",
    "def kth_biggest(a,k):\n",
    "    k_small = len(a)-k+1\n",
    "    return kth_smallest(a,k_small, 0, len(a)-1)\n",
    "\n",
    "kth_biggest(a,2)"
   ]
  },
  {
   "cell_type": "code",
   "execution_count": 31,
   "metadata": {},
   "outputs": [],
   "source": [
    "class Solution:\n",
    "    \n",
    "    def partition(self,a,low , high ):\n",
    "        j = low\n",
    "        i = low\n",
    "        pvt_index = high\n",
    "        while i<=high:\n",
    "            if a[i]<=a[pvt_index]:\n",
    "                a[i],a[j] = a[j],a[i]\n",
    "\n",
    "                j+=1\n",
    "                i+=1\n",
    "                \n",
    "            else:\n",
    "                i+=1\n",
    "        return (j-1)\n",
    "            \n",
    "                \n",
    "    \n",
    "    def kthSmallest(self,a, l, r, k):\n",
    "        \n",
    "        index = k-1\n",
    "        low = l\n",
    "        high = r\n",
    "        pvt = self.partition(a,low,high)\n",
    "        if pvt>index:\n",
    "            return self.kthSmallest(a,low,pvt-1,k)\n",
    "            \n",
    "        elif pvt<index:\n",
    "            return self.kthSmallest(a,pvt+1,high,k)\n",
    "            \n",
    "        else: \n",
    "            if pvt==index:\n",
    "                return a[pvt]\n",
    "            "
   ]
  },
  {
   "cell_type": "code",
   "execution_count": 32,
   "metadata": {},
   "outputs": [],
   "source": [
    "ob = Solution()"
   ]
  },
  {
   "cell_type": "code",
   "execution_count": 33,
   "metadata": {},
   "outputs": [
    {
     "data": {
      "text/plain": [
       "7"
      ]
     },
     "execution_count": 33,
     "metadata": {},
     "output_type": "execute_result"
    }
   ],
   "source": [
    "a =[7 ,10, 4, 3, 20, 15]\n",
    "n = len(a)\n",
    "ob.kthSmallest(a,0,n-1,3)\n"
   ]
  },
  {
   "cell_type": "code",
   "execution_count": null,
   "metadata": {},
   "outputs": [],
   "source": []
  }
 ],
 "metadata": {
  "kernelspec": {
   "display_name": "Python 3",
   "language": "python",
   "name": "python3"
  },
  "language_info": {
   "codemirror_mode": {
    "name": "ipython",
    "version": 3
   },
   "file_extension": ".py",
   "mimetype": "text/x-python",
   "name": "python",
   "nbconvert_exporter": "python",
   "pygments_lexer": "ipython3",
   "version": "3.8.5"
  }
 },
 "nbformat": 4,
 "nbformat_minor": 4
}
