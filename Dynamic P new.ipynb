{
 "cells": [
  {
   "cell_type": "code",
   "execution_count": 31,
   "metadata": {},
   "outputs": [
    {
     "data": {
      "text/plain": [
       "387590536170101452996855815507539499597569858809069819313158078810845368780658406640026076108367224032900087776975366491552037390424472796618914955672553972828355492973285925843915745907438623643062047875359706572054538434027829542486694447295055771921537343486886395613783"
      ]
     },
     "execution_count": 31,
     "metadata": {},
     "output_type": "execute_result"
    }
   ],
   "source": [
    "n = 1306\n",
    "dp = [None]*(n+1)\n",
    "def fibnacci_dp(n, dp):\n",
    "    if dp[n] is not None:\n",
    "        return dp[n]\n",
    "    elif n == 0 :\n",
    "        dp[n] = 0\n",
    "        return dp[n]\n",
    "    elif n == 1:\n",
    "        dp[n] = 1\n",
    "        return dp[n]\n",
    "    \n",
    "    else:\n",
    "        dp[n] = fibnacci_dp(n-1,dp)+fibnacci_dp(n-2,dp)\n",
    "        return dp[n]\n",
    "    \n",
    "    \n",
    "    \n",
    "fibnacci_dp(n,dp)"
   ]
  },
  {
   "cell_type": "markdown",
   "metadata": {},
   "source": [
    "### printing n-bonacci usign dp"
   ]
  },
  {
   "cell_type": "code",
   "execution_count": 13,
   "metadata": {},
   "outputs": [
    {
     "name": "stdout",
     "output_type": "stream",
     "text": [
      "[0, 0, 0, 0, 1, 1, 2, 4, 8, 16]\n"
     ]
    }
   ],
   "source": [
    "### bottom up approach is not recursion\n",
    "def nbonacci(n,m):\n",
    "    memo = [0]*(m)\n",
    "    memo[n-1] = 1\n",
    "    last_n_sum = sum(memo)\n",
    "    for i in range(n,m):\n",
    "        memo[i] = last_n_sum\n",
    "        last_n_sum = last_n_sum-memo[i-n]+memo[i]\n",
    "    print(memo)\n",
    "\n",
    "    \n",
    "nbonacci(5,10)\n"
   ]
  },
  {
   "cell_type": "markdown",
   "metadata": {},
   "source": [
    "#### climbing up the stair "
   ]
  },
  {
   "cell_type": "code",
   "execution_count": 104,
   "metadata": {},
   "outputs": [
    {
     "data": {
      "text/plain": [
       "7"
      ]
     },
     "execution_count": 104,
     "metadata": {},
     "output_type": "execute_result"
    }
   ],
   "source": [
    "n = 4\n",
    "memo  = [None]*(n+1)\n",
    "def climb(n, k, memo):\n",
    "    if memo[n] is not None:\n",
    "        return memo[n]\n",
    "    \n",
    "    if n<0:\n",
    "        memo[n] = 0\n",
    "        return memo[n]\n",
    "    if n == 0:\n",
    "        memo[n] = 1\n",
    "        return memo[n]\n",
    "    else:\n",
    "\n",
    "        sum_ = 0\n",
    "        for i in k:\n",
    "            sum_+=climb(n-i,k, memo)\n",
    "        memo[n] = sum_\n",
    "        return memo[n]\n",
    "\n",
    "climb(n,[1,2,3],memo)"
   ]
  },
  {
   "cell_type": "markdown",
   "metadata": {},
   "source": [
    "### climbing stairs with variable jumps with dp"
   ]
  },
  {
   "cell_type": "code",
   "execution_count": 47,
   "metadata": {},
   "outputs": [
    {
     "name": "stdout",
     "output_type": "stream",
     "text": [
      "[8, 5, 0, 3, 2, 1, 1]\n"
     ]
    }
   ],
   "source": [
    "a = [3,3,0,2,2,2]\n",
    "n = len(a)\n",
    "dp = [0]*(n+1)\n",
    "dp[n]=1\n",
    "\n",
    "def climb_stair(a, dp):\n",
    "    for i in reversed(range(len(a))):\n",
    "        for j in range(1,a[i]+1):\n",
    "            if i+j<=len(a):\n",
    "                dp[i]+=dp[i+j]\n",
    "\n",
    "    print(dp)\n",
    "    \n",
    "climb_stair(a,dp)"
   ]
  },
  {
   "cell_type": "code",
   "execution_count": 49,
   "metadata": {
    "scrolled": true
   },
   "outputs": [
    {
     "data": {
      "text/plain": [
       "8"
      ]
     },
     "execution_count": 49,
     "metadata": {},
     "output_type": "execute_result"
    }
   ],
   "source": [
    "a = [3,3,0,2,2,2]\n",
    "def climb_stair(a,i=0):\n",
    "    if i == len(a):\n",
    "        return 1\n",
    "    if i> len(a)-1:\n",
    "        return 0\n",
    "    sum_=0\n",
    "    for j in range(1,a[i]+1):\n",
    "        sum_+=climb_stair(a, i=i+j)\n",
    "        \n",
    "    return sum_\n",
    "        \n",
    "    \n",
    "    \n",
    "climb_stair(a)"
   ]
  },
  {
   "cell_type": "markdown",
   "metadata": {},
   "source": [
    "### minimum number of jumps to reach end "
   ]
  },
  {
   "cell_type": "code",
   "execution_count": 93,
   "metadata": {},
   "outputs": [
    {
     "data": {
      "text/plain": [
       "3"
      ]
     },
     "execution_count": 93,
     "metadata": {},
     "output_type": "execute_result"
    }
   ],
   "source": [
    "a = [2,3,1,1,4]\n",
    "a =[1,3,5,8,10,2,6,7,6,8,9]\n",
    "\n",
    "def climb_stair(a,i=0):\n",
    "    if i == len(a)-1:\n",
    "        return 0\n",
    "    if i> len(a)-1:\n",
    "        return 99999\n",
    "    sum_ = []\n",
    "    for j in range(1,a[i]+1):\n",
    "        sum_.append(climb_stair(a, i=i+j))\n",
    "#     print(sum_)\n",
    "    return min(sum_)+1\n",
    "climb_stair(a)        "
   ]
  },
  {
   "cell_type": "code",
   "execution_count": 103,
   "metadata": {},
   "outputs": [
    {
     "data": {
      "text/plain": [
       "2"
      ]
     },
     "execution_count": 103,
     "metadata": {},
     "output_type": "execute_result"
    }
   ],
   "source": [
    "a = [2,3,1,1,4]\n",
    "def climb_stair(a,i=0):\n",
    "    if i == len(a)-1:\n",
    "        return 0\n",
    "    if i> len(a)-1:\n",
    "        return -1\n",
    "    min_value = 999\n",
    "    for j in range(1,a[i]+1):\n",
    "        if i+j<= len(a)-1:\n",
    "            min_value = min(min_value,climb_stair(a,i+j)+1)\n",
    "    if min_value == 999:\n",
    "        return -1\n",
    "    else:\n",
    "        return min_value\n",
    "climb_stair(a)        "
   ]
  },
  {
   "cell_type": "markdown",
   "metadata": {},
   "source": [
    "### applying dp \n"
   ]
  },
  {
   "cell_type": "code",
   "execution_count": 98,
   "metadata": {},
   "outputs": [
    {
     "name": "stdout",
     "output_type": "stream",
     "text": [
      "4\n"
     ]
    }
   ],
   "source": [
    "memo = [-1]*(len(a)+1)\n",
    "def climb_stair(a,memo):\n",
    "    for i in reversed(range(len(a)+1)):\n",
    "        if i == len(a):\n",
    "            memo[i] = 0\n",
    "            continue\n",
    "        \n",
    "        min_value = 999\n",
    "        for j in range(1,a[i]+1):\n",
    "            if i+j<= len(a):\n",
    "                min_value = min(min_value,memo[i+j]+1)\n",
    "        memo[i] = min_value\n",
    "\n",
    "    \n",
    "    print(memo[0])\n",
    "climb_stair(a, memo)"
   ]
  },
  {
   "cell_type": "markdown",
   "metadata": {},
   "source": [
    "### min cost maze travel"
   ]
  },
  {
   "cell_type": "code",
   "execution_count": 128,
   "metadata": {},
   "outputs": [
    {
     "data": {
      "text/plain": [
       "13"
      ]
     },
     "execution_count": 128,
     "metadata": {},
     "output_type": "execute_result"
    }
   ],
   "source": [
    "maze = [[3,2,1,5],[2,1,3,4],[5,2,6,2],[2,1,3,1]]\n",
    "dp = [([-1]*len(maze[0]))]*len(maze)\n",
    "n,m = (4,4)\n",
    "def func(n, m, arr):\n",
    "    for row in reversed(range(n)):\n",
    "        for col in reversed(range(m)):\n",
    "            if row == (n-1) and col == (m-1):\n",
    "                dp[row][col] = maze[row][col]\n",
    "            elif row == (n-1):\n",
    "                dp[row][col] = maze[row][col]+dp[row][col+1]\n",
    "            elif col == (n-1):\n",
    "                dp[row][col] = maze[row][col]+dp[row+1][col]\n",
    "                \n",
    "            else:\n",
    "                dp[row][col] = maze[row][col]+min(dp[row+1][col], dp[row][col+1])\n",
    "                \n",
    "    return dp[0][0]\n",
    "            \n",
    "                \n",
    "                \n",
    "    \n",
    "    \n",
    "    \n",
    "\n",
    "func(n,m,maze)             \n"
   ]
  },
  {
   "cell_type": "code",
   "execution_count": 127,
   "metadata": {},
   "outputs": [
    {
     "data": {
      "text/plain": [
       "[[13, 10, 11, 12], [13, 10, 11, 12], [13, 10, 11, 12], [13, 10, 11, 12]]"
      ]
     },
     "execution_count": 127,
     "metadata": {},
     "output_type": "execute_result"
    }
   ],
   "source": [
    "dp"
   ]
  },
  {
   "cell_type": "markdown",
   "metadata": {},
   "source": [
    "### GOLDMINE"
   ]
  },
  {
   "cell_type": "code",
   "execution_count": 172,
   "metadata": {},
   "outputs": [
    {
     "data": {
      "text/plain": [
       "33"
      ]
     },
     "execution_count": 172,
     "metadata": {},
     "output_type": "execute_result"
    }
   ],
   "source": [
    "array = [[0,1,4,2,8,2],\n",
    "         [4,3,6,5,0,4],\n",
    "         [1,2,4,1,4,6],\n",
    "         [2,0,7,3,2,2],\n",
    "         [3,1,5,9,2,4],\n",
    "         [2,7,0,8,5,1]]\n",
    "n = len(array)\n",
    "m = len(array[0])\n",
    "dp = [[0 for c in range(m)] for r in range(n)]\n",
    "\n",
    "def func(n,m,array):\n",
    "    for c in reversed(range(0,m)):\n",
    "        for r in reversed(range(0,n)):\n",
    "            if c == m-1:\n",
    "                dp[r][c] = array[r][c]\n",
    "                \n",
    "            elif r == 0:\n",
    "                dp[r][c] = array[r][c]+max(dp[r][c+1],dp[r+1][c+1])\n",
    "            elif r == n-1:\n",
    "                dp[r][c] = array[r][c]+max(dp[r][c+1],dp[r-1][c+1])\n",
    "                \n",
    "            else:\n",
    "                dp[r][c] = array[r][c]+max(dp[r][c+1],dp[r-1][c+1],dp[r+1][c+1])\n",
    "                \n",
    "    max_gold = 0           \n",
    "    for i in range(n):\n",
    "        max_gold = max(max_gold, dp[i][0])\n",
    "        \n",
    "    return max_gold\n",
    "\n",
    "    \n",
    "func(n,m,array)\n",
    "\n"
   ]
  },
  {
   "cell_type": "markdown",
   "metadata": {},
   "source": [
    "#### Target sum subset and "
   ]
  },
  {
   "cell_type": "code",
   "execution_count": 209,
   "metadata": {},
   "outputs": [
    {
     "name": "stdout",
     "output_type": "stream",
     "text": [
      "2,3,\n",
      "5,\n"
     ]
    },
    {
     "data": {
      "text/plain": [
       "2"
      ]
     },
     "execution_count": 209,
     "metadata": {},
     "output_type": "execute_result"
    }
   ],
   "source": [
    "a = [2,3,5]\n",
    "tar = 5\n",
    "def tar_sum(a,i, tar,asf =\"\"):\n",
    "    if tar == 0:\n",
    "        print(asf)\n",
    "        return 1\n",
    "    if i>len(a)-1:\n",
    "        return 0\n",
    "    if tar<0:\n",
    "        return 0\n",
    "    \n",
    "    return tar_sum(a,i+1,tar-a[i],asf+str(a[i])+\",\") + tar_sum(a,i+1, tar,asf)\n",
    "    \n",
    "tar_sum(a,0,tar,\"\")"
   ]
  },
  {
   "cell_type": "markdown",
   "metadata": {},
   "source": [
    "#### Coin exchange question permutation"
   ]
  },
  {
   "cell_type": "code",
   "execution_count": 12,
   "metadata": {
    "scrolled": false
   },
   "outputs": [
    {
     "name": "stdout",
     "output_type": "stream",
     "text": [
      "2,2,2,2,2,\n",
      "2,2,3,3,\n",
      "2,3,2,3,\n",
      "2,3,3,2,\n",
      "2,3,5,\n",
      "2,5,3,\n",
      "3,2,2,3,\n",
      "3,2,3,2,\n",
      "3,2,5,\n",
      "3,3,2,2,\n",
      "3,5,2,\n",
      "3,7,\n",
      "5,2,3,\n",
      "5,3,2,\n",
      "5,5,\n",
      "7,3,\n"
     ]
    },
    {
     "data": {
      "text/plain": [
       "16"
      ]
     },
     "execution_count": 12,
     "metadata": {},
     "output_type": "execute_result"
    }
   ],
   "source": [
    "coins = [2,3,5,7]\n",
    "amt = 10\n",
    "def coin_change(a, tar,asf =\"\"):\n",
    "    if tar == 0:\n",
    "        print(asf)\n",
    "        return 1\n",
    "    if tar<0:\n",
    "        return 0   \n",
    "    sum_ = 0\n",
    "    for i in range(len(coins)):\n",
    "        sum_+=coin_change(a, tar-a[i] , asf+str(a[i])+\",\")\n",
    "    return sum_\n",
    "    \n",
    "coin_change(coins,amt,\"\")    \n"
   ]
  },
  {
   "cell_type": "code",
   "execution_count": 10,
   "metadata": {},
   "outputs": [
    {
     "data": {
      "text/plain": [
       "14"
      ]
     },
     "execution_count": 10,
     "metadata": {},
     "output_type": "execute_result"
    }
   ],
   "source": [
    "coins = [2,3,5]\n",
    "amt = 10\n",
    "def ccc(coins,amt):\n",
    "    dp = [0]*(amt+1)\n",
    "    dp[0] = 1\n",
    "    for j in range(len(dp)):\n",
    "        for i in range(len(coins)):\n",
    "            if j>=coins[i]:\n",
    "                dp[j] += dp[j-coins[i]]\n",
    "    return dp[amt]\n",
    "\n",
    "ccc(coins,amt)"
   ]
  },
  {
   "cell_type": "markdown",
   "metadata": {},
   "source": [
    "#### coin chnage combinations"
   ]
  },
  {
   "cell_type": "code",
   "execution_count": 9,
   "metadata": {},
   "outputs": [
    {
     "data": {
      "text/plain": [
       "2"
      ]
     },
     "execution_count": 9,
     "metadata": {},
     "output_type": "execute_result"
    }
   ],
   "source": [
    "coins = [2,3,5]\n",
    "amt = 7\n",
    "def ccc(coins,amt):\n",
    "    dp = [0]*(amt+1)\n",
    "    dp[0] = 1\n",
    "    for i in range(len(coins)):\n",
    "        for j in range(len(dp)):\n",
    "            if j>=coins[i]:\n",
    "                dp[j] += dp[j-coins[i]]\n",
    "    return dp[amt]\n",
    "\n",
    "ccc(coins,amt)\n",
    "                \n",
    "            "
   ]
  },
  {
   "cell_type": "markdown",
   "metadata": {},
   "source": [
    "#### minimum number of moves to sort an array"
   ]
  },
  {
   "cell_type": "code",
   "execution_count": 13,
   "metadata": {},
   "outputs": [
    {
     "ename": "SyntaxError",
     "evalue": "invalid syntax (<ipython-input-13-59831e01ac83>, line 1)",
     "output_type": "error",
     "traceback": [
      "\u001b[1;36m  File \u001b[1;32m\"<ipython-input-13-59831e01ac83>\"\u001b[1;36m, line \u001b[1;32m1\u001b[0m\n\u001b[1;33m    arr[] = {4, 7, 2, 3, 9}\u001b[0m\n\u001b[1;37m        ^\u001b[0m\n\u001b[1;31mSyntaxError\u001b[0m\u001b[1;31m:\u001b[0m invalid syntax\n"
     ]
    }
   ],
   "source": [
    "arr = [4, 7, 2, 3, 9]\n",
    "\n",
    "def mini_move(arr):\n",
    "    \n",
    "    \n",
    "mini_move(arr)"
   ]
  },
  {
   "cell_type": "code",
   "execution_count": null,
   "metadata": {},
   "outputs": [],
   "source": []
  }
 ],
 "metadata": {
  "kernelspec": {
   "display_name": "Python 3",
   "language": "python",
   "name": "python3"
  },
  "language_info": {
   "codemirror_mode": {
    "name": "ipython",
    "version": 3
   },
   "file_extension": ".py",
   "mimetype": "text/x-python",
   "name": "python",
   "nbconvert_exporter": "python",
   "pygments_lexer": "ipython3",
   "version": "3.8.5"
  }
 },
 "nbformat": 4,
 "nbformat_minor": 4
}
