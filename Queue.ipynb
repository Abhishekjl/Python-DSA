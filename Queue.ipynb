{
 "cells": [
  {
   "cell_type": "code",
   "execution_count": 39,
   "metadata": {},
   "outputs": [],
   "source": [
    "class Queue:\n",
    "    def __init__(self):\n",
    "        self.items = []\n",
    "     \n",
    "    def __str__(self):\n",
    "        values = [str(i) for i in self.items]\n",
    "        return \" \".join(values)\n",
    "    \n",
    "    def isEmpty(self):\n",
    "        if self.items == []:\n",
    "            return True\n",
    "        else:\n",
    "            return False\n",
    "    \n",
    "    def enQueue(self, data):\n",
    "        self.items.append(data)\n",
    "        return 'the element is inserted in the queue'\n",
    "    \n",
    "    def dQueue(self):\n",
    "        if self.isEmpty():\n",
    "            return 'queue is empty'\n",
    "        else:\n",
    "            return self.items.pop(0)\n",
    "        \n",
    "    def peek(self):\n",
    "        if self.isEmpty():\n",
    "            return 'queue is empty'\n",
    "        else:\n",
    "            return self.items[0]\n",
    "        \n",
    "    def delete(self):\n",
    "        self.items = None"
   ]
  },
  {
   "cell_type": "code",
   "execution_count": 40,
   "metadata": {},
   "outputs": [],
   "source": [
    "customq = Queue()"
   ]
  },
  {
   "cell_type": "code",
   "execution_count": 41,
   "metadata": {},
   "outputs": [
    {
     "name": "stdout",
     "output_type": "stream",
     "text": [
      "\n"
     ]
    }
   ],
   "source": [
    "print(customq)"
   ]
  },
  {
   "cell_type": "code",
   "execution_count": 42,
   "metadata": {},
   "outputs": [
    {
     "data": {
      "text/plain": [
       "'the element is inserted in the queue'"
      ]
     },
     "execution_count": 42,
     "metadata": {},
     "output_type": "execute_result"
    }
   ],
   "source": [
    "customq.enQueue(7)\n",
    "customq.enQueue(6)\n",
    "customq.enQueue(8)\n",
    "customq.enQueue(9)"
   ]
  },
  {
   "cell_type": "code",
   "execution_count": 43,
   "metadata": {},
   "outputs": [
    {
     "name": "stdout",
     "output_type": "stream",
     "text": [
      "7 6 8 9\n"
     ]
    }
   ],
   "source": [
    "print(customq)"
   ]
  },
  {
   "cell_type": "code",
   "execution_count": 44,
   "metadata": {},
   "outputs": [
    {
     "data": {
      "text/plain": [
       "7"
      ]
     },
     "execution_count": 44,
     "metadata": {},
     "output_type": "execute_result"
    }
   ],
   "source": [
    "customq.dQueue()"
   ]
  },
  {
   "cell_type": "code",
   "execution_count": 45,
   "metadata": {},
   "outputs": [
    {
     "name": "stdout",
     "output_type": "stream",
     "text": [
      "6 8 9\n"
     ]
    }
   ],
   "source": [
    "print(customq)"
   ]
  },
  {
   "cell_type": "code",
   "execution_count": 46,
   "metadata": {},
   "outputs": [],
   "source": [
    "customq.delete()"
   ]
  },
  {
   "cell_type": "markdown",
   "metadata": {},
   "source": [
    "## Creating circular queue with max_size"
   ]
  },
  {
   "cell_type": "code",
   "execution_count": 110,
   "metadata": {},
   "outputs": [],
   "source": [
    "class Queue:\n",
    "    def __init__( self, maxSize):\n",
    "        self.items = maxSize*[None] #-------------O(1)\n",
    "        self.maxSize = maxSize   #-------------O(1)\n",
    "        self.start = -1         #-------------O(1)\n",
    "        self.top  = -1         #-------------O(1)\n",
    "        \n",
    "    def __str__(self):\n",
    "        values = [str(i) for i in self.items]\n",
    "        return \" \".join(values)\n",
    "    \n",
    "    def isFull(self):\n",
    "        if self.top+1 == self.start: # top comes before start --> full\n",
    "            return True\n",
    "        elif  self.start == 0 and self.top +1 == self.maxSize:\n",
    "            return True\n",
    "        else:\n",
    "            return False\n",
    "        \n",
    "    def isEmpty(self):\n",
    "        if self.top == -1:\n",
    "            return True\n",
    "        else:\n",
    "            return False\n",
    "        \n",
    "    def enqueue(self, value):\n",
    "        if self.isFull():\n",
    "            return 'queue is full'\n",
    "        else:\n",
    "            if self.top + 1 ==  self.maxSize:\n",
    "                self.top = 0\n",
    "            else:\n",
    "                self.top += 1\n",
    "                \n",
    "                if self.start == -1:\n",
    "                    self.start = 0\n",
    "            self.items[self.top] = value\n",
    "            return 'the element has inserted'\n",
    "    \n",
    "    \n",
    "    def dqueue(self):\n",
    "        if self.isEmpty():\n",
    "            return 'queue is empty'\n",
    "        \n",
    "        else:\n",
    "            firstelement = self.items[self.start]\n",
    "            start = self.start\n",
    "            if self.start == self.top:\n",
    "                # only one element \n",
    "                self.start = -1\n",
    "                self.top = -1\n",
    "                \n",
    "            elif self.start + 1 == self.maxSize:\n",
    "                self.start = 0\n",
    "                \n",
    "            else:\n",
    "                self.start += 1\n",
    "            \n",
    "            self.items[start] = None\n",
    "            return firstelement\n",
    "        \n",
    "    def peek(self):\n",
    "        if self.isEmpty():\n",
    "            return 'queue is empty'\n",
    "        else:\n",
    "            return self.items[self.start]\n",
    "    \n",
    "    def delete(self):\n",
    "        self.items = self.maxSize*[None]\n",
    "        self.top = -1\n",
    "        self.start = -1"
   ]
  },
  {
   "cell_type": "code",
   "execution_count": 111,
   "metadata": {},
   "outputs": [],
   "source": [
    "customq = Queue(3)"
   ]
  },
  {
   "cell_type": "code",
   "execution_count": 112,
   "metadata": {
    "scrolled": false
   },
   "outputs": [
    {
     "name": "stdout",
     "output_type": "stream",
     "text": [
      "None None None\n"
     ]
    }
   ],
   "source": [
    "print(customq)"
   ]
  },
  {
   "cell_type": "code",
   "execution_count": 113,
   "metadata": {},
   "outputs": [
    {
     "data": {
      "text/plain": [
       "'the element has inserted'"
      ]
     },
     "execution_count": 113,
     "metadata": {},
     "output_type": "execute_result"
    }
   ],
   "source": [
    "customq.enqueue(5)\n",
    "customq.enqueue(6)\n",
    "customq.enqueue(7)\n",
    "\n"
   ]
  },
  {
   "cell_type": "code",
   "execution_count": 114,
   "metadata": {},
   "outputs": [
    {
     "data": {
      "text/plain": [
       "'queue is full'"
      ]
     },
     "execution_count": 114,
     "metadata": {},
     "output_type": "execute_result"
    }
   ],
   "source": [
    "customq.enqueue(5)\n"
   ]
  },
  {
   "cell_type": "code",
   "execution_count": 115,
   "metadata": {},
   "outputs": [
    {
     "data": {
      "text/plain": [
       "True"
      ]
     },
     "execution_count": 115,
     "metadata": {},
     "output_type": "execute_result"
    }
   ],
   "source": [
    "customq.isFull()"
   ]
  },
  {
   "cell_type": "code",
   "execution_count": 116,
   "metadata": {},
   "outputs": [
    {
     "data": {
      "text/plain": [
       "False"
      ]
     },
     "execution_count": 116,
     "metadata": {},
     "output_type": "execute_result"
    }
   ],
   "source": [
    "customq.isEmpty()"
   ]
  },
  {
   "cell_type": "code",
   "execution_count": 117,
   "metadata": {},
   "outputs": [
    {
     "data": {
      "text/plain": [
       "5"
      ]
     },
     "execution_count": 117,
     "metadata": {},
     "output_type": "execute_result"
    }
   ],
   "source": [
    "customq.peek()"
   ]
  },
  {
   "cell_type": "code",
   "execution_count": 118,
   "metadata": {},
   "outputs": [
    {
     "data": {
      "text/plain": [
       "5"
      ]
     },
     "execution_count": 118,
     "metadata": {},
     "output_type": "execute_result"
    }
   ],
   "source": [
    "customq.dqueue()"
   ]
  },
  {
   "cell_type": "code",
   "execution_count": 119,
   "metadata": {},
   "outputs": [],
   "source": [
    "\n",
    "customq.delete()"
   ]
  },
  {
   "cell_type": "code",
   "execution_count": 122,
   "metadata": {},
   "outputs": [
    {
     "name": "stdout",
     "output_type": "stream",
     "text": [
      "None None None\n"
     ]
    }
   ],
   "source": [
    "print(customq)"
   ]
  },
  {
   "cell_type": "markdown",
   "metadata": {},
   "source": [
    "#### Queue using Linked list "
   ]
  },
  {
   "cell_type": "code",
   "execution_count": 153,
   "metadata": {},
   "outputs": [],
   "source": [
    "class Node:\n",
    "    def __init__(self, data):\n",
    "        self.data = data\n",
    "        self.next = None\n",
    "    \n",
    "    def __str__(self):\n",
    "        return str(self.data)\n",
    "    \n",
    "\n",
    "class LinkedList:\n",
    "    def __init__(self):\n",
    "        self.head = None\n",
    "        self.tail = None\n",
    "        \n",
    "    def __iter__(self):\n",
    "        curNode = self.head\n",
    "        while curNode:\n",
    "            yield curNode\n",
    "            curNode = curNode.next\n",
    "   \n",
    "class CircularQueue:\n",
    "    def __init__(self):\n",
    "        self.LinkedList = LinkedList()\n",
    "        \n",
    "        \n",
    "    def __str__(self):\n",
    "        values = [str(i) for i in self.LinkedList]\n",
    "        return \" \".join(values)\n",
    "    \n",
    "    def enqueue(self, data):\n",
    "        newNode = Node(data)\n",
    "        if self.LinkedList.head == None:\n",
    "            self.LinkedList.head = newNode\n",
    "            self.LinkedList.tail = newNode\n",
    "        else:\n",
    "            self.LinkedList.tail.next = newNode\n",
    "            self.LinkedList.tail = newNode\n",
    "    \n",
    "    def isEmpty(self):\n",
    "        if self.LinkedList.head == None:\n",
    "            return True\n",
    "        else:\n",
    "            return False\n",
    "    \n",
    "    def peek(self):\n",
    "        if self.isEmpty():\n",
    "            return 'Queue is empty'\n",
    "        else:\n",
    "            return self.LinkedList.head.data\n",
    "    \n",
    "    def dequeue(self):\n",
    "        if self.isEmpty():\n",
    "            return 'queue is empty'\n",
    "        else:\n",
    "            tempNode = self.LinkedList.head\n",
    "            if self.LinkedList.head == self.LinkedList.tail:\n",
    "                # only one element\n",
    "                self.LinkedList.head = None\n",
    "                self.LinkedList.tail = None\n",
    "            else:\n",
    "                self.LinkedList.head = tempNode.next\n",
    "            return tempNode.data\n",
    "        "
   ]
  },
  {
   "cell_type": "code",
   "execution_count": 154,
   "metadata": {},
   "outputs": [],
   "source": [
    "custom = CircularQueue()"
   ]
  },
  {
   "cell_type": "code",
   "execution_count": 155,
   "metadata": {},
   "outputs": [],
   "source": [
    "custom.enqueue(1)\n",
    "custom.enqueue(2)\n",
    "custom.enqueue(3)"
   ]
  },
  {
   "cell_type": "code",
   "execution_count": 163,
   "metadata": {},
   "outputs": [
    {
     "name": "stdout",
     "output_type": "stream",
     "text": [
      "\n"
     ]
    }
   ],
   "source": [
    "\n",
    "print(custom)"
   ]
  },
  {
   "cell_type": "code",
   "execution_count": 162,
   "metadata": {},
   "outputs": [
    {
     "data": {
      "text/plain": [
       "3"
      ]
     },
     "execution_count": 162,
     "metadata": {},
     "output_type": "execute_result"
    }
   ],
   "source": [
    "custom.dequeue()"
   ]
  },
  {
   "cell_type": "code",
   "execution_count": null,
   "metadata": {},
   "outputs": [],
   "source": []
  }
 ],
 "metadata": {
  "kernelspec": {
   "display_name": "Python 3",
   "language": "python",
   "name": "python3"
  },
  "language_info": {
   "codemirror_mode": {
    "name": "ipython",
    "version": 3
   },
   "file_extension": ".py",
   "mimetype": "text/x-python",
   "name": "python",
   "nbconvert_exporter": "python",
   "pygments_lexer": "ipython3",
   "version": "3.8.5"
  }
 },
 "nbformat": 4,
 "nbformat_minor": 5
}
