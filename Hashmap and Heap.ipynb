{
 "cells": [
  {
   "cell_type": "code",
   "execution_count": 12,
   "metadata": {},
   "outputs": [
    {
     "data": {
      "text/plain": [
       "'d'"
      ]
     },
     "execution_count": 12,
     "metadata": {},
     "output_type": "execute_result"
    }
   ],
   "source": [
    "string = 'abaacbacccdaaaaa'\n",
    "\n",
    "from collections import Counter\n",
    "res = Counter(string)\n",
    "min(res, key = res.get)"
   ]
  },
  {
   "cell_type": "code",
   "execution_count": 15,
   "metadata": {},
   "outputs": [
    {
     "data": {
      "text/plain": [
       "'a'"
      ]
     },
     "execution_count": 15,
     "metadata": {},
     "output_type": "execute_result"
    }
   ],
   "source": [
    "min(res) ### this sort the key "
   ]
  },
  {
   "cell_type": "code",
   "execution_count": 17,
   "metadata": {},
   "outputs": [],
   "source": [
    "del res['a']"
   ]
  },
  {
   "cell_type": "code",
   "execution_count": 18,
   "metadata": {},
   "outputs": [
    {
     "data": {
      "text/plain": [
       "Counter({'b': 2, 'c': 4, 'd': 1})"
      ]
     },
     "execution_count": 18,
     "metadata": {},
     "output_type": "execute_result"
    }
   ],
   "source": [
    "res"
   ]
  },
  {
   "cell_type": "code",
   "execution_count": 20,
   "metadata": {},
   "outputs": [
    {
     "data": {
      "text/plain": [
       "True"
      ]
     },
     "execution_count": 20,
     "metadata": {},
     "output_type": "execute_result"
    }
   ],
   "source": [
    "'c' in res"
   ]
  },
  {
   "cell_type": "code",
   "execution_count": 28,
   "metadata": {},
   "outputs": [],
   "source": [
    "res['d'] -=1"
   ]
  },
  {
   "cell_type": "code",
   "execution_count": 29,
   "metadata": {},
   "outputs": [
    {
     "data": {
      "text/plain": [
       "-4"
      ]
     },
     "execution_count": 29,
     "metadata": {},
     "output_type": "execute_result"
    }
   ],
   "source": [
    "res['d']"
   ]
  },
  {
   "cell_type": "markdown",
   "metadata": {},
   "source": [
    "#### getting the longest consecutive sequence "
   ]
  },
  {
   "cell_type": "code",
   "execution_count": 81,
   "metadata": {},
   "outputs": [
    {
     "name": "stdout",
     "output_type": "stream",
     "text": [
      "[5, 6, 7, 8, 9, 10, 11, 12, 13]\n"
     ]
    }
   ],
   "source": [
    "array = [17,12,5,1,2,10,2,13,7,11,8,9,11,8,9,5,6,11]\n",
    "freq = {}\n",
    "def longest_sequence(array):\n",
    "    ans = []\n",
    "    for i in array:\n",
    "        freq[i] = 'true'\n",
    "\n",
    "    for i in array:\n",
    "        if (i-1) in freq:\n",
    "            freq[i]  = 'false'\n",
    "    for key, val in freq.items():\n",
    "        if val == 'true':\n",
    "            ml = 1\n",
    "            ans_s = [key]\n",
    "            while (key+ml) in freq:\n",
    "                ans_s.append(key+ml)\n",
    "                ml+=1\n",
    "            if len(ans_s)>len(ans):\n",
    "                ans = ans_s\n",
    "    print(ans)\n",
    "longest_sequence(array)"
   ]
  },
  {
   "cell_type": "code",
   "execution_count": 67,
   "metadata": {},
   "outputs": [
    {
     "name": "stdout",
     "output_type": "stream",
     "text": [
      "10 false\n",
      "5 true\n",
      "1 true\n",
      "11 false\n",
      "8 true\n",
      "6 false\n",
      "9 false\n",
      "3 false\n",
      "12 false\n",
      "2 false\n"
     ]
    }
   ],
   "source": [
    "for key,value in freq.items():\n",
    "    print(key,value)\n",
    "    "
   ]
  },
  {
   "cell_type": "code",
   "execution_count": 57,
   "metadata": {},
   "outputs": [
    {
     "data": {
      "text/plain": [
       "{10: True,\n",
       " 5: True,\n",
       " 1: True,\n",
       " 11: False,\n",
       " 8: True,\n",
       " 6: False,\n",
       " 3: False,\n",
       " 12: True,\n",
       " 2: False}"
      ]
     },
     "execution_count": 57,
     "metadata": {},
     "output_type": "execute_result"
    }
   ],
   "source": [
    "freq.get"
   ]
  },
  {
   "cell_type": "code",
   "execution_count": 83,
   "metadata": {},
   "outputs": [
    {
     "data": {
      "text/plain": [
       "12"
      ]
     },
     "execution_count": 83,
     "metadata": {},
     "output_type": "execute_result"
    }
   ],
   "source": [
    "minHeap = [12,3,4]\n",
    "minHeap.pop(0)"
   ]
  },
  {
   "cell_type": "markdown",
   "metadata": {},
   "source": [
    "## Heap"
   ]
  },
  {
   "cell_type": "code",
   "execution_count": 39,
   "metadata": {},
   "outputs": [],
   "source": [
    "from heapq import heapify,heappop,heappush\n",
    "minHeap = [1,-1,3,5,6,3]"
   ]
  },
  {
   "cell_type": "code",
   "execution_count": 28,
   "metadata": {},
   "outputs": [],
   "source": [
    "heapify(minHeap)"
   ]
  },
  {
   "cell_type": "code",
   "execution_count": 29,
   "metadata": {},
   "outputs": [
    {
     "data": {
      "text/plain": [
       "[-1, 1, 3, 5, 6]"
      ]
     },
     "execution_count": 29,
     "metadata": {},
     "output_type": "execute_result"
    }
   ],
   "source": [
    "minHeap"
   ]
  },
  {
   "cell_type": "code",
   "execution_count": 38,
   "metadata": {},
   "outputs": [
    {
     "ename": "IndexError",
     "evalue": "index out of range",
     "output_type": "error",
     "traceback": [
      "\u001b[1;31m---------------------------------------------------------------------------\u001b[0m",
      "\u001b[1;31mIndexError\u001b[0m                                Traceback (most recent call last)",
      "\u001b[1;32m<ipython-input-38-3a7da93ed492>\u001b[0m in \u001b[0;36m<module>\u001b[1;34m\u001b[0m\n\u001b[1;32m----> 1\u001b[1;33m \u001b[0mheappop\u001b[0m\u001b[1;33m(\u001b[0m\u001b[0mminHeap\u001b[0m\u001b[1;33m)\u001b[0m\u001b[1;33m\u001b[0m\u001b[1;33m\u001b[0m\u001b[0m\n\u001b[0m",
      "\u001b[1;31mIndexError\u001b[0m: index out of range"
     ]
    }
   ],
   "source": [
    "heappop(minHeap)"
   ]
  },
  {
   "cell_type": "code",
   "execution_count": 17,
   "metadata": {},
   "outputs": [
    {
     "ename": "IndexError",
     "evalue": "index out of range",
     "output_type": "error",
     "traceback": [
      "\u001b[1;31m---------------------------------------------------------------------------\u001b[0m",
      "\u001b[1;31mIndexError\u001b[0m                                Traceback (most recent call last)",
      "\u001b[1;32m<ipython-input-17-3a7da93ed492>\u001b[0m in \u001b[0;36m<module>\u001b[1;34m\u001b[0m\n\u001b[1;32m----> 1\u001b[1;33m \u001b[0mheappop\u001b[0m\u001b[1;33m(\u001b[0m\u001b[0mminHeap\u001b[0m\u001b[1;33m)\u001b[0m\u001b[1;33m\u001b[0m\u001b[1;33m\u001b[0m\u001b[0m\n\u001b[0m",
      "\u001b[1;31mIndexError\u001b[0m: index out of range"
     ]
    }
   ],
   "source": [
    "heappop(minHeap)"
   ]
  },
  {
   "cell_type": "markdown",
   "metadata": {},
   "source": [
    "#### Median Priority Queue"
   ]
  },
  {
   "cell_type": "code",
   "execution_count": 58,
   "metadata": {},
   "outputs": [],
   "source": [
    "\n",
    "class PriorityQueue:\n",
    "    def __init__(self,Order):\n",
    "        self.queue = []\n",
    "        if Order.lower() == 'max':\n",
    "            self.reverse = True\n",
    "        else:\n",
    "            self.reverse = False\n",
    "    def __str__(self):\n",
    "        return ' '.join([str(i) for i in self.queue])\n",
    "\n",
    "    def isEmpty(self):\n",
    "        return len(self.queue) == 0\n",
    "\n",
    "    def insert(self, data):\n",
    "        self.queue.append(data)\n",
    "        self.queue.sort(reverse = self.reverse)\n",
    "    def size(self):\n",
    "        return len(self.queue)\n",
    "\n",
    "    def delete(self):\n",
    "        if len(self.queue)!=0:\n",
    "            return self.queue.pop(0)\n",
    "        else:\n",
    "            return 'Underflow'\n",
    "        \n",
    "    def peek(self):\n",
    "        if len(self.queue)!=0:\n",
    "            return self.queue[0]\n",
    "        "
   ]
  },
  {
   "cell_type": "code",
   "execution_count": 59,
   "metadata": {},
   "outputs": [],
   "source": [
    "pk_min = PriorityQueue('min')\n",
    "pk_max = PriorityQueue('max')\n",
    "\n",
    "pk_min.insert(0)\n",
    "pk_min.insert(2)\n",
    "pk_min.insert(-1)\n",
    "pk_max.insert(0)\n",
    "pk_max.insert(2)\n",
    "pk_max.insert(-1)\n"
   ]
  },
  {
   "cell_type": "code",
   "execution_count": 60,
   "metadata": {
    "scrolled": true
   },
   "outputs": [
    {
     "data": {
      "text/plain": [
       "[-1, 0, 2]"
      ]
     },
     "execution_count": 60,
     "metadata": {},
     "output_type": "execute_result"
    }
   ],
   "source": [
    "pk_min.queue"
   ]
  },
  {
   "cell_type": "code",
   "execution_count": 65,
   "metadata": {},
   "outputs": [
    {
     "data": {
      "text/plain": [
       "[0, -1]"
      ]
     },
     "execution_count": 65,
     "metadata": {},
     "output_type": "execute_result"
    }
   ],
   "source": [
    "pk_max.queue"
   ]
  },
  {
   "cell_type": "code",
   "execution_count": 64,
   "metadata": {},
   "outputs": [
    {
     "data": {
      "text/plain": [
       "2"
      ]
     },
     "execution_count": 64,
     "metadata": {},
     "output_type": "execute_result"
    }
   ],
   "source": [
    "# pk_max.size()\n",
    "pk_max.delete()"
   ]
  },
  {
   "cell_type": "code",
   "execution_count": 66,
   "metadata": {},
   "outputs": [
    {
     "data": {
      "text/plain": [
       "-1"
      ]
     },
     "execution_count": 66,
     "metadata": {},
     "output_type": "execute_result"
    }
   ],
   "source": [
    "pk_min.peek()"
   ]
  },
  {
   "cell_type": "code",
   "execution_count": 111,
   "metadata": {},
   "outputs": [],
   "source": [
    "import heapq\n",
    "class medianPriorityQueue:\n",
    "    def __init__(self):\n",
    "        self.left = PriorityQueue('max')\n",
    "        self.right = PriorityQueue('min')\n",
    "    \n",
    "    def insert(self, value):\n",
    "        if self.right.size()>0 and value> self.right.peek():\n",
    "            self.right.insert(value)\n",
    "        else:\n",
    "            self.left.insert(value)\n",
    "            \n",
    "            \n",
    "        if self.left.size() - self.right.size() == 2: # means left has more elements \n",
    "            self.right.insert(self.left.delete())\n",
    "        \n",
    "        if self.right.size()- self.left.size() == 2:\n",
    "            self.left.insert(self.right.delete())\n",
    "     \n",
    "        \n",
    "        \n",
    "    def size(self):\n",
    "        return self.left.size()+self.right.size()\n",
    "    \n",
    "    def top(self):# returning the median\n",
    "        if self.size() == 0:\n",
    "            print('Underflow')\n",
    "            return\n",
    "        elif self.left.size()>= self.right.size():\n",
    "            return self.left.peek() ### left is maxheap sorted reversibly\n",
    "        else:\n",
    "            return self.right.peek()\n",
    "        \n",
    "    def remove(self):  # removing the peek\n",
    "        if self.size() == 0:\n",
    "            print('Underflow')\n",
    "            return\n",
    "        elif self.left.size()>= self.right.size():\n",
    "            return self.left.delete() ### left is maxheap sorted reversibly\n",
    "        else:\n",
    "            return self.right.delete()\n",
    "        \n",
    "        \n",
    "        "
   ]
  },
  {
   "cell_type": "code",
   "execution_count": 112,
   "metadata": {},
   "outputs": [],
   "source": [
    "median = medianPriorityQueue()"
   ]
  },
  {
   "cell_type": "code",
   "execution_count": 114,
   "metadata": {},
   "outputs": [],
   "source": [
    "median.insert(20)\n",
    "median.insert(10)\n",
    "median.insert(30)\n",
    "median.insert(40)\n",
    "median.insert(50)"
   ]
  },
  {
   "cell_type": "code",
   "execution_count": 128,
   "metadata": {},
   "outputs": [],
   "source": [
    "median.insert(60)"
   ]
  },
  {
   "cell_type": "code",
   "execution_count": 132,
   "metadata": {},
   "outputs": [
    {
     "name": "stdout",
     "output_type": "stream",
     "text": [
      "[]\n",
      "[60]\n"
     ]
    }
   ],
   "source": [
    "print(median.left.queue)\n",
    "print(median.right.queue)"
   ]
  },
  {
   "cell_type": "code",
   "execution_count": 130,
   "metadata": {},
   "outputs": [
    {
     "data": {
      "text/plain": [
       "50"
      ]
     },
     "execution_count": 130,
     "metadata": {},
     "output_type": "execute_result"
    }
   ],
   "source": [
    "median.top()"
   ]
  },
  {
   "cell_type": "code",
   "execution_count": 131,
   "metadata": {},
   "outputs": [
    {
     "data": {
      "text/plain": [
       "50"
      ]
     },
     "execution_count": 131,
     "metadata": {},
     "output_type": "execute_result"
    }
   ],
   "source": [
    "median.remove()"
   ]
  },
  {
   "cell_type": "code",
   "execution_count": null,
   "metadata": {},
   "outputs": [],
   "source": []
  },
  {
   "cell_type": "code",
   "execution_count": null,
   "metadata": {},
   "outputs": [],
   "source": []
  }
 ],
 "metadata": {
  "kernelspec": {
   "display_name": "Python 3",
   "language": "python",
   "name": "python3"
  },
  "language_info": {
   "codemirror_mode": {
    "name": "ipython",
    "version": 3
   },
   "file_extension": ".py",
   "mimetype": "text/x-python",
   "name": "python",
   "nbconvert_exporter": "python",
   "pygments_lexer": "ipython3",
   "version": "3.8.5"
  }
 },
 "nbformat": 4,
 "nbformat_minor": 4
}
