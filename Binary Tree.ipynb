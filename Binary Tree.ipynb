{
 "cells": [
  {
   "cell_type": "code",
   "execution_count": 108,
   "metadata": {},
   "outputs": [],
   "source": [
    "# The Node Class defines the structure of a Node\n",
    "class TreeNode:\n",
    "    # Initialize the attributes of Node\n",
    "    def __init__(self, data):\n",
    "        self.left = None # Left Child\n",
    "        self.right = None # Right Child\n",
    "        self.data = data # Node Data\n",
    "        \n",
    "\n",
    "newBT = TreeNode(\"Drinks\")\n",
    "newBT.left = TreeNode('Hot')\n",
    "newBT.right = TreeNode('Cold')\n",
    "newBT.left.left = TreeNode('Tea')\n",
    "newBT.left.right = TreeNode('Cofee')\n",
    "\n",
    "        \n",
    "        \n",
    "        \n",
    "#     def insert(self, data):\n",
    "# # Compare the new value with the parent node\n",
    "#       if self.data:\n",
    "#          if data < self.data:\n",
    "#             if self.left is None:\n",
    "#                 self.left = Node(data)\n",
    "#             else:\n",
    "#                 self.left.insert(data)\n",
    "#             elif data > self.data:\n",
    "#                 if self.right is None:\n",
    "#                     self.right = Node(data)\n",
    "#                 else:\n",
    "#                     self.right.insert(data)\n",
    "#     else:\n",
    "#         self.data = data"
   ]
  },
  {
   "cell_type": "code",
   "execution_count": 109,
   "metadata": {},
   "outputs": [
    {
     "name": "stdout",
     "output_type": "stream",
     "text": [
      "Drinks\n",
      "Hot\n",
      "Tea\n",
      "Cofee\n",
      "Cold\n"
     ]
    }
   ],
   "source": [
    "def preorderTraversal(rootNode):\n",
    "    if not rootNode:  #----------------------> O(1)\n",
    "        return \n",
    "    print(rootNode.data)  # ----------------------> O(1)\n",
    "    preorderTraversal(rootNode.left) #---------------------------->O(n/2)\n",
    "    preorderTraversal(rootNode.right) #--------------------------->O(n/2)\n",
    "                        # time complexity O(n)\n",
    "preorderTraversal(newBT)\n"
   ]
  },
  {
   "cell_type": "code",
   "execution_count": 110,
   "metadata": {},
   "outputs": [
    {
     "name": "stdout",
     "output_type": "stream",
     "text": [
      "Tea\n",
      "Hot\n",
      "Cofee\n",
      "Drinks\n",
      "Cold\n"
     ]
    }
   ],
   "source": [
    "def inorderTraversal(rootNode):\n",
    "    if not rootNode:\n",
    "        return \n",
    "    inorderTraversal(rootNode.left)\n",
    "    print(rootNode.data)   # printing data means accessing value of root node\n",
    "    inorderTraversal(rootNode.right)\n",
    "    \n",
    "inorderTraversal(newBT)    "
   ]
  },
  {
   "cell_type": "code",
   "execution_count": 111,
   "metadata": {
    "scrolled": true
   },
   "outputs": [
    {
     "name": "stdout",
     "output_type": "stream",
     "text": [
      "Tea\n",
      "Cofee\n",
      "Hot\n",
      "Cold\n",
      "Drinks\n"
     ]
    }
   ],
   "source": [
    "def postorderTraversal(rootNode):\n",
    "    if not rootNode:\n",
    "        return \n",
    "    postorderTraversal(rootNode.left)\n",
    "    postorderTraversal(rootNode.right)\n",
    "    print(rootNode.data)   # printing data means accessing value of root node\n",
    "\n",
    "postorderTraversal(newBT)"
   ]
  },
  {
   "cell_type": "markdown",
   "metadata": {},
   "source": [
    "#### For Level order Traversal we need a queue using linked list"
   ]
  },
  {
   "cell_type": "code",
   "execution_count": 112,
   "metadata": {},
   "outputs": [],
   "source": [
    "class Node:\n",
    "    def __init__(self, data):\n",
    "        self.data = data\n",
    "        self.next = None\n",
    "    \n",
    "    def __str__(self):\n",
    "        return str(self.data)\n",
    "    \n",
    "\n",
    "class LinkedList:\n",
    "    def __init__(self):\n",
    "        self.head = None\n",
    "        self.tail = None\n",
    "        \n",
    "    def __iter__(self):\n",
    "        curNode = self.head\n",
    "        while curNode:\n",
    "            yield curNode\n",
    "            curNode = curNode.next\n",
    "   \n",
    "class CircularQueue:\n",
    "    def __init__(self):\n",
    "        self.LinkedList = LinkedList()\n",
    "        \n",
    "        \n",
    "    def __str__(self):\n",
    "        values = [str(i) for i in self.LinkedList]\n",
    "        return \" \".join(values)\n",
    "    \n",
    "    def enqueue(self, data):\n",
    "        newNode = Node(data)\n",
    "        if self.LinkedList.head == None:\n",
    "            self.LinkedList.head = newNode\n",
    "            self.LinkedList.tail = newNode\n",
    "        else:\n",
    "            self.LinkedList.tail.next = newNode\n",
    "            self.LinkedList.tail = newNode\n",
    "    \n",
    "    def isEmpty(self):\n",
    "        if self.LinkedList.head == None:\n",
    "            return True\n",
    "        else:\n",
    "            return False\n",
    "    \n",
    "    def peek(self):\n",
    "        if self.isEmpty():\n",
    "            return 'Queue is empty'\n",
    "        else:\n",
    "            return self.LinkedList.head.data\n",
    "    \n",
    "    def dequeue(self):\n",
    "        if self.isEmpty():\n",
    "            return 'queue is empty'\n",
    "        else:\n",
    "            tempNode = self.LinkedList.head\n",
    "            if self.LinkedList.head == self.LinkedList.tail:\n",
    "                # only one element\n",
    "                self.LinkedList.head = None\n",
    "                self.LinkedList.tail = None\n",
    "            else:\n",
    "                self.LinkedList.head = tempNode.next\n",
    "            return tempNode.data\n",
    "        "
   ]
  },
  {
   "cell_type": "code",
   "execution_count": 113,
   "metadata": {},
   "outputs": [
    {
     "name": "stdout",
     "output_type": "stream",
     "text": [
      "Drinks\n",
      "Hot\n",
      "Cold\n",
      "Tea\n",
      "Cofee\n"
     ]
    }
   ],
   "source": [
    "def levelorderTraversal(rootNode):\n",
    "    if not rootNode:\n",
    "        return \n",
    "    else:\n",
    "        queue  = CircularQueue()\n",
    "        queue.enqueue(rootNode)\n",
    "        while not(queue.isEmpty()):\n",
    "            root = queue.dequeue()\n",
    "            print(root.data)\n",
    "            if (root.left is not None):\n",
    "                queue.enqueue(root.left)\n",
    "            if (root.left is not None):\n",
    "                queue.enqueue(root.right)\n",
    "                \n",
    "levelorderTraversal(newBT)                "
   ]
  },
  {
   "cell_type": "code",
   "execution_count": 114,
   "metadata": {},
   "outputs": [],
   "source": [
    "def search(rootNode, nodeValue):\n",
    "    if not rootNode:\n",
    "        return \"the binary tree doesn't exist\"\n",
    "    else:\n",
    "        queue = CircularQueue()\n",
    "        queue.enqueue(rootNode)\n",
    "        while not queue.isEmpty():\n",
    "            root = queue.dequeue()\n",
    "                        \n",
    "            if root.data == nodeValue:\n",
    "                return \"found\"\n",
    "            \n",
    "            if root.left is not None:\n",
    "                queue.enqueue(root.left)\n",
    "            if root.right is not None:\n",
    "                queue.enqueue(root.right)\n",
    "                \n",
    "            \n",
    "    \n",
    "        return \"not found\"     \n",
    "        "
   ]
  },
  {
   "cell_type": "code",
   "execution_count": 115,
   "metadata": {},
   "outputs": [
    {
     "data": {
      "text/plain": [
       "'found'"
      ]
     },
     "execution_count": 115,
     "metadata": {},
     "output_type": "execute_result"
    }
   ],
   "source": [
    "search(newBT, 'Tea')"
   ]
  },
  {
   "cell_type": "markdown",
   "metadata": {},
   "source": [
    "#### Inserting node in treee (using level order traversal)"
   ]
  },
  {
   "cell_type": "code",
   "execution_count": 116,
   "metadata": {},
   "outputs": [],
   "source": [
    "def insertNodeBT(rootNode, newNode):\n",
    "    if not rootNode:\n",
    "        rootNode = newNode\n",
    "    else:\n",
    "        queue = CircularQueue()\n",
    "        queue.enqueue(rootNode)\n",
    "        while not queue.isEmpty():\n",
    "            root  = queue.dequeue()\n",
    "            if root.left is not None:\n",
    "                queue.enqueue(root.left)\n",
    "            \n",
    "            else:\n",
    "                root.left = newNode\n",
    "                return \"successfully inserted\"\n",
    "            if root.right is not None:\n",
    "                queue.enqueue(root.right)\n",
    "            \n",
    "            else:\n",
    "                root.right = newNode\n",
    "                return \"successfully inserted\"\n",
    "                "
   ]
  },
  {
   "cell_type": "code",
   "execution_count": 117,
   "metadata": {
    "scrolled": true
   },
   "outputs": [
    {
     "data": {
      "text/plain": [
       "'successfully inserted'"
      ]
     },
     "execution_count": 117,
     "metadata": {},
     "output_type": "execute_result"
    }
   ],
   "source": [
    "newNode  = TreeNode('Cola')\n",
    "insertNodeBT(newBT, newNode)"
   ]
  },
  {
   "cell_type": "code",
   "execution_count": 118,
   "metadata": {},
   "outputs": [
    {
     "data": {
      "text/plain": [
       "'successfully inserted'"
      ]
     },
     "execution_count": 118,
     "metadata": {},
     "output_type": "execute_result"
    }
   ],
   "source": [
    "newNode = TreeNode('Pepsi')\n",
    "insertNodeBT(newBT, newNode)"
   ]
  },
  {
   "cell_type": "code",
   "execution_count": 119,
   "metadata": {},
   "outputs": [
    {
     "name": "stdout",
     "output_type": "stream",
     "text": [
      "Drinks\n",
      "Hot\n",
      "Cold\n",
      "Tea\n",
      "Cofee\n",
      "Cola\n",
      "Pepsi\n"
     ]
    }
   ],
   "source": [
    "levelorderTraversal(newBT)"
   ]
  },
  {
   "cell_type": "markdown",
   "metadata": {},
   "source": [
    "#### Deleting Node from Binary Tree\n",
    "1. get deepest node\n",
    "2. delete deepest node\n",
    "3. replace the node with deepest node which you want to delete"
   ]
  },
  {
   "cell_type": "code",
   "execution_count": 120,
   "metadata": {},
   "outputs": [],
   "source": [
    "def getDeepestNode(rootNode):\n",
    "    if not rootNode:\n",
    "        return \n",
    "    else:\n",
    "        queue = CircularQueue()\n",
    "        queue.enqueue(rootNode)\n",
    "        while not queue.isEmpty():\n",
    "            root = queue.dequeue()\n",
    "            if root.left is not None:\n",
    "                queue.enqueue(root.left)\n",
    "            if root.right  is not None:\n",
    "                queue.enqueue(root.right)\n",
    "        deepestNode = root\n",
    "        return deepestNode.data"
   ]
  },
  {
   "cell_type": "code",
   "execution_count": 121,
   "metadata": {},
   "outputs": [
    {
     "data": {
      "text/plain": [
       "'Pepsi'"
      ]
     },
     "execution_count": 121,
     "metadata": {},
     "output_type": "execute_result"
    }
   ],
   "source": [
    "getDeepestNode(newBT)"
   ]
  },
  {
   "cell_type": "code",
   "execution_count": 122,
   "metadata": {},
   "outputs": [],
   "source": [
    "deepestNode = getDeepestNode(newBT)\n"
   ]
  },
  {
   "cell_type": "code",
   "execution_count": 123,
   "metadata": {},
   "outputs": [
    {
     "data": {
      "text/plain": [
       "'Pepsi'"
      ]
     },
     "execution_count": 123,
     "metadata": {},
     "output_type": "execute_result"
    }
   ],
   "source": [
    "deepestNode"
   ]
  },
  {
   "cell_type": "code",
   "execution_count": 124,
   "metadata": {},
   "outputs": [],
   "source": [
    "def deletedeepestNode(rootNode, deepestNode):\n",
    "    if not rootNode:\n",
    "        return \n",
    "    else:\n",
    "        queue = CircularQueue()\n",
    "        queue.enqueue(rootNode)\n",
    "        while not (queue.isEmpty()):\n",
    "            root = queue.dequeue()\n",
    "            if root.data == deepestNode:\n",
    "                root.data = None\n",
    "                return \n",
    "            if root.left is not None:\n",
    "                if root.left.data == deepestNode:\n",
    "                    root.left = None\n",
    "                    return\n",
    "                else:\n",
    "                    queue.enqueue(root.left)\n",
    "            if root.right is not None:\n",
    "                if root.right.data == deepestNode:\n",
    "                    root.right = None\n",
    "                    return \n",
    "                else:\n",
    "                    queue.enqueue(root.right)"
   ]
  },
  {
   "cell_type": "code",
   "execution_count": 81,
   "metadata": {},
   "outputs": [],
   "source": [
    "newNode = getDeepestNode(newBT)\n",
    "deletedeepestNode(newBT, newNode)"
   ]
  },
  {
   "cell_type": "code",
   "execution_count": 125,
   "metadata": {},
   "outputs": [],
   "source": [
    "def deleteNodeBT(rootNode, node):\n",
    "    if not rootNode:\n",
    "        return \"binary tree doesn't exist\"\n",
    "    else:\n",
    "        queue = CircularQueue()\n",
    "        queue.enqueue(rootNode)\n",
    "        while not (queue.isEmpty()):\n",
    "            root = queue.dequeue()\n",
    "            if root.data == node:\n",
    "                dNode = getDeepestNode(rootNode)\n",
    "                root.data = dNode\n",
    "                deletedeepestNode(rootNode, dNode)\n",
    "                return 'the node has deleted'\n",
    "            if (root.left) is not None:\n",
    "                queue.enqueue(root.left)\n",
    "            if (root.right) is not None:\n",
    "                queue.enqueue(root.right)\n",
    "                \n",
    "        return \"Failed to delete\"        "
   ]
  },
  {
   "cell_type": "code",
   "execution_count": 126,
   "metadata": {},
   "outputs": [
    {
     "data": {
      "text/plain": [
       "'the node has deleted'"
      ]
     },
     "execution_count": 126,
     "metadata": {},
     "output_type": "execute_result"
    }
   ],
   "source": [
    "deleteNodeBT(newBT,\"Hot\")"
   ]
  },
  {
   "cell_type": "code",
   "execution_count": 127,
   "metadata": {},
   "outputs": [
    {
     "name": "stdout",
     "output_type": "stream",
     "text": [
      "Drinks\n"
     ]
    }
   ],
   "source": [
    "levelorderTraversal(newBT)"
   ]
  },
  {
   "cell_type": "markdown",
   "metadata": {},
   "source": [
    "### Delete the entire Binary Tree"
   ]
  },
  {
   "cell_type": "code",
   "execution_count": 130,
   "metadata": {},
   "outputs": [],
   "source": [
    "def deleteBT(rootNode):\n",
    "    rootNode.data = None\n",
    "    rootNode.left = None\n",
    "    rootNode.right = None\n",
    "    return\"The BT has deleted \""
   ]
  },
  {
   "cell_type": "code",
   "execution_count": null,
   "metadata": {},
   "outputs": [],
   "source": []
  },
  {
   "cell_type": "markdown",
   "metadata": {},
   "source": [
    "# Creating Binary Tree Using List"
   ]
  },
  {
   "cell_type": "code",
   "execution_count": 75,
   "metadata": {},
   "outputs": [],
   "source": [
    "\n",
    "class BinaryTree:\n",
    "    def __init__(self, size):\n",
    "        self.customList = size*[None] # here maxsize - 1 space only can be utilised \n",
    "        # we dont use 0th index item\n",
    "        self.lastUsedIndex = 0\n",
    "        self.maxSize = size\n",
    "    def insertNode(self, value):\n",
    "        if self.lastUsedIndex == self.maxSize-1: # check if the binary tree is full or not \n",
    "            return \"binary tree is full\"\n",
    "        self.customList[self.lastUsedIndex+1] = value\n",
    "        self.lastUsedIndex += 1\n",
    "        return f'value has inserted at {self.lastUsedIndex}'\n",
    "    \n",
    "    def search(self,value):\n",
    "        for i in range(len(self.customList)):\n",
    "            if self.customList[i] == value:\n",
    "                return \"success\"\n",
    "        else:\n",
    "            return \"not found\"\n",
    "        \n",
    "    def preOrderTraversal(self, index):\n",
    "        if index > self.lastUsedIndex:\n",
    "            return \n",
    "        print(self.customList[index])\n",
    "        self.preOrderTraversal(index*2)\n",
    "        self.preOrderTraversal(index*2 + 1)\n",
    "    \n",
    "    def inOrderTraversal(self, index):\n",
    "        if index > self.lastUsedIndex:\n",
    "            return \n",
    "        self.inOrderTraversal(index*2)\n",
    "        print(self.customList[index])\n",
    "        self.inOrderTraversal(index*2+1)\n",
    "        \n",
    "    def postOrderTraversal(self, index): # left right, root\n",
    "        if index > self.lastUsedIndex:\n",
    "            return \n",
    "        self.postOrderTraversal(index*2)\n",
    "        self.postOrderTraversal(index*2+1)\n",
    "        print(self.customList[index])\n",
    "    \n",
    "    def levelOrderTraversal(self, index):\n",
    "        for i in range(index,self.lastUsedIndex+1):\n",
    "            print(self.customList[i])\n",
    "            \n",
    "    def deleteNode(self,value ): \n",
    "    # find the deepest node and then replace the node you wish to delete and delete the deepest node\n",
    "        if self.lastUsedIndex == 0:\n",
    "            return \"No node to delete\"\n",
    "        for i in range(1, self.lastUsedIndex+1):\n",
    "            if self.customList[i] == value:\n",
    "                self.customList[i] = self.customList[self.lastUsedIndex]\n",
    "                self.lastUsedIndex -= 1\n",
    "    \n",
    "    def delete(self):\n",
    "        self.customList = None\n",
    "        return 'binary tree has succesfully deleted'"
   ]
  },
  {
   "cell_type": "code",
   "execution_count": 76,
   "metadata": {},
   "outputs": [
    {
     "data": {
      "text/plain": [
       "'value has inserted at 1'"
      ]
     },
     "execution_count": 76,
     "metadata": {},
     "output_type": "execute_result"
    }
   ],
   "source": [
    "newBt = BinaryTree(10)\n",
    "newBt.insertNode(\"Drinks\")"
   ]
  },
  {
   "cell_type": "code",
   "execution_count": 77,
   "metadata": {},
   "outputs": [
    {
     "data": {
      "text/plain": [
       "'value has inserted at 5'"
      ]
     },
     "execution_count": 77,
     "metadata": {},
     "output_type": "execute_result"
    }
   ],
   "source": [
    "newBt.insertNode(\"Hot\")\n",
    "newBt.insertNode(\"Cold\")\n",
    "newBt.insertNode('Tea')\n",
    "newBt.insertNode('Coffee')"
   ]
  },
  {
   "cell_type": "code",
   "execution_count": 78,
   "metadata": {},
   "outputs": [
    {
     "name": "stdout",
     "output_type": "stream",
     "text": [
      "[None, 'Drinks', 'Hot', 'Cold', 'Tea', 'Coffee', None, None, None, None]\n"
     ]
    }
   ],
   "source": [
    "print(newBt.customList)"
   ]
  },
  {
   "cell_type": "markdown",
   "metadata": {},
   "source": [
    "### searching a node in the binary tree"
   ]
  },
  {
   "cell_type": "code",
   "execution_count": 79,
   "metadata": {},
   "outputs": [
    {
     "data": {
      "text/plain": [
       "'success'"
      ]
     },
     "execution_count": 79,
     "metadata": {},
     "output_type": "execute_result"
    }
   ],
   "source": [
    "newBt.search('Cold')"
   ]
  },
  {
   "cell_type": "code",
   "execution_count": 80,
   "metadata": {},
   "outputs": [
    {
     "name": "stdout",
     "output_type": "stream",
     "text": [
      "Drinks\n",
      "Hot\n",
      "Tea\n",
      "Coffee\n",
      "Cold\n"
     ]
    }
   ],
   "source": [
    "newBt.preOrderTraversal(1)"
   ]
  },
  {
   "cell_type": "code",
   "execution_count": 81,
   "metadata": {},
   "outputs": [
    {
     "name": "stdout",
     "output_type": "stream",
     "text": [
      "Tea\n",
      "Hot\n",
      "Coffee\n",
      "Drinks\n",
      "Cold\n"
     ]
    }
   ],
   "source": [
    "newBt.inOrderTraversal(1)"
   ]
  },
  {
   "cell_type": "code",
   "execution_count": 82,
   "metadata": {},
   "outputs": [
    {
     "name": "stdout",
     "output_type": "stream",
     "text": [
      "Tea\n",
      "Coffee\n",
      "Hot\n",
      "Cold\n",
      "Drinks\n"
     ]
    }
   ],
   "source": [
    "newBt.postOrderTraversal(1)"
   ]
  },
  {
   "cell_type": "markdown",
   "metadata": {},
   "source": [
    "### level order traversal"
   ]
  },
  {
   "cell_type": "code",
   "execution_count": 83,
   "metadata": {},
   "outputs": [
    {
     "name": "stdout",
     "output_type": "stream",
     "text": [
      "Drinks\n",
      "Hot\n",
      "Cold\n",
      "Tea\n",
      "Coffee\n"
     ]
    }
   ],
   "source": [
    "newBt.levelOrderTraversal(1)\n",
    "# time complexity O(n)\n",
    "# space complexity O(1)"
   ]
  },
  {
   "cell_type": "code",
   "execution_count": 84,
   "metadata": {},
   "outputs": [],
   "source": [
    "newBt.deleteNode('Hot')"
   ]
  },
  {
   "cell_type": "code",
   "execution_count": 85,
   "metadata": {},
   "outputs": [
    {
     "name": "stdout",
     "output_type": "stream",
     "text": [
      "Drinks\n",
      "Coffee\n",
      "Cold\n",
      "Tea\n"
     ]
    }
   ],
   "source": [
    "newBt.levelOrderTraversal(1)"
   ]
  },
  {
   "cell_type": "code",
   "execution_count": 86,
   "metadata": {},
   "outputs": [
    {
     "data": {
      "text/plain": [
       "'binary tree has succesfully deleted'"
      ]
     },
     "execution_count": 86,
     "metadata": {},
     "output_type": "execute_result"
    }
   ],
   "source": [
    "\n",
    "newBt.delete()"
   ]
  },
  {
   "cell_type": "code",
   "execution_count": 89,
   "metadata": {},
   "outputs": [
    {
     "ename": "TypeError",
     "evalue": "'NoneType' object is not subscriptable",
     "output_type": "error",
     "traceback": [
      "\u001b[1;31m---------------------------------------------------------------------------\u001b[0m",
      "\u001b[1;31mTypeError\u001b[0m                                 Traceback (most recent call last)",
      "\u001b[1;32m<ipython-input-89-f4d46c156c0a>\u001b[0m in \u001b[0;36m<module>\u001b[1;34m\u001b[0m\n\u001b[1;32m----> 1\u001b[1;33m \u001b[0mnewBt\u001b[0m\u001b[1;33m.\u001b[0m\u001b[0mlevelOrderTraversal\u001b[0m\u001b[1;33m(\u001b[0m\u001b[1;36m1\u001b[0m\u001b[1;33m)\u001b[0m\u001b[1;33m\u001b[0m\u001b[1;33m\u001b[0m\u001b[0m\n\u001b[0m",
      "\u001b[1;32m<ipython-input-75-9eaef533d24d>\u001b[0m in \u001b[0;36mlevelOrderTraversal\u001b[1;34m(self, index)\u001b[0m\n\u001b[0;32m     42\u001b[0m     \u001b[1;32mdef\u001b[0m \u001b[0mlevelOrderTraversal\u001b[0m\u001b[1;33m(\u001b[0m\u001b[0mself\u001b[0m\u001b[1;33m,\u001b[0m \u001b[0mindex\u001b[0m\u001b[1;33m)\u001b[0m\u001b[1;33m:\u001b[0m\u001b[1;33m\u001b[0m\u001b[1;33m\u001b[0m\u001b[0m\n\u001b[0;32m     43\u001b[0m         \u001b[1;32mfor\u001b[0m \u001b[0mi\u001b[0m \u001b[1;32min\u001b[0m \u001b[0mrange\u001b[0m\u001b[1;33m(\u001b[0m\u001b[0mindex\u001b[0m\u001b[1;33m,\u001b[0m\u001b[0mself\u001b[0m\u001b[1;33m.\u001b[0m\u001b[0mlastUsedIndex\u001b[0m\u001b[1;33m+\u001b[0m\u001b[1;36m1\u001b[0m\u001b[1;33m)\u001b[0m\u001b[1;33m:\u001b[0m\u001b[1;33m\u001b[0m\u001b[1;33m\u001b[0m\u001b[0m\n\u001b[1;32m---> 44\u001b[1;33m             \u001b[0mprint\u001b[0m\u001b[1;33m(\u001b[0m\u001b[0mself\u001b[0m\u001b[1;33m.\u001b[0m\u001b[0mcustomList\u001b[0m\u001b[1;33m[\u001b[0m\u001b[0mi\u001b[0m\u001b[1;33m]\u001b[0m\u001b[1;33m)\u001b[0m\u001b[1;33m\u001b[0m\u001b[1;33m\u001b[0m\u001b[0m\n\u001b[0m\u001b[0;32m     45\u001b[0m \u001b[1;33m\u001b[0m\u001b[0m\n\u001b[0;32m     46\u001b[0m     \u001b[1;32mdef\u001b[0m \u001b[0mdeleteNode\u001b[0m\u001b[1;33m(\u001b[0m\u001b[0mself\u001b[0m\u001b[1;33m,\u001b[0m\u001b[0mvalue\u001b[0m \u001b[1;33m)\u001b[0m\u001b[1;33m:\u001b[0m\u001b[1;33m\u001b[0m\u001b[1;33m\u001b[0m\u001b[0m\n",
      "\u001b[1;31mTypeError\u001b[0m: 'NoneType' object is not subscriptable"
     ]
    }
   ],
   "source": [
    "newBt.levelOrderTraversal(1)"
   ]
  },
  {
   "cell_type": "code",
   "execution_count": null,
   "metadata": {},
   "outputs": [],
   "source": []
  },
  {
   "cell_type": "code",
   "execution_count": null,
   "metadata": {},
   "outputs": [],
   "source": []
  }
 ],
 "metadata": {
  "kernelspec": {
   "display_name": "Python 3",
   "language": "python",
   "name": "python3"
  },
  "language_info": {
   "codemirror_mode": {
    "name": "ipython",
    "version": 3
   },
   "file_extension": ".py",
   "mimetype": "text/x-python",
   "name": "python",
   "nbconvert_exporter": "python",
   "pygments_lexer": "ipython3",
   "version": "3.8.5"
  }
 },
 "nbformat": 4,
 "nbformat_minor": 4
}
